{
 "metadata": {
  "name": "",
  "signature": "sha256:892c8b6b780d985d051b0498a0be73e6c4c7e849a2b6f15af9a991a3dd09c682"
 },
 "nbformat": 3,
 "nbformat_minor": 0,
 "worksheets": [
  {
   "cells": [
    {
     "cell_type": "markdown",
     "metadata": {},
     "source": [
      "Demonstrate effects of ionic strengths on binding free energies "
     ]
    },
    {
     "cell_type": "code",
     "collapsed": false,
     "input": [
      "%load_ext autoreload\n",
      "%autoreload 2"
     ],
     "language": "python",
     "metadata": {},
     "outputs": [],
     "prompt_number": 1
    },
    {
     "cell_type": "markdown",
     "metadata": {},
     "source": [
      "## Nonner parameters"
     ]
    },
    {
     "cell_type": "code",
     "collapsed": false,
     "input": [
      "import MSAtools as msa\n",
      "msa.idxOxy = 0\n",
      "msa.idxCl = 1\n",
      "msa.idxNa = 2\n",
      "msa.idxCa = 3\n",
      "msa.nOxy = 8.0\n",
      "msa.idxOxy = 0\n",
      "msa.cacl2 = 1e-6\n",
      "msa.indices=[\"O\",\"Cl\",\"Na\",\"Ca\"]  # ALWAYS put oxygen first\n",
      "msa.ref_conc_M = np.array([1e-200, 0 + msa.cacl2*2, 0, msa.cacl2])  # [M] order is  O, Cl, Na, Ca (bath) \n",
      "msa.nIons = np.shape(msa.ref_conc_M)[0]\n",
      "msa.zs = np.array([-0.5, -1.0, 1.0, 2.00]) #input charges here\n",
      "\n",
      "#FF RADII (Nonner)#\n",
      "msa.sigmas = np.array([0.278, 0.362, 0.204, 0.200])\n",
      "msa.V_i = 0.375 # nm^3\n",
      "msa.filter_dielectric= 63.5\n",
      "\n",
      "\n",
      "msa.Ns = np.array([msa.nOxy, 1., 1., 1.]) # Number of ions in filter (first number is fixed, others are determined by MSA)\n"
     ],
     "language": "python",
     "metadata": {},
     "outputs": [],
     "prompt_number": 9
    },
    {
     "cell_type": "markdown",
     "metadata": {},
     "source": [
      "### Run single iter"
     ]
    },
    {
     "cell_type": "code",
     "collapsed": false,
     "input": [
      "muiexsPrev = np.zeros(msa.nIons)\n",
      "psiPrev = -10 * np.random.rand(1) # Can we come up with a better first-principles est? \n",
      "muiexsPrev = np.random.rand(msa.nIons)\n",
      "psiPrev = 0\n",
      "muiexsPrev = 0\n",
      "alpha = 0.0010\n",
      "\n",
      "results = {}\n",
      "results[\"muFilter\"]=[]\n",
      "results[\"donnanPotential\"]=[]\n",
      "results[\"muFilterStd\"]=[]\n",
      "results[\"donnanPotentialStd\"]=[]\n",
      "results[\"mu_ES\"]=[]\n",
      "results[\"mu_HS\"]=[]\n",
      "results[\"rhoFilter\"]=[]\n",
      "results[\"muBath\"] = []\n",
      "results[\"deltaG\"] = []\n",
      "\n",
      "from timeit import default_timer as timer\n",
      "\n",
      "#cacl2s = np.linspace(-10,-6,3) # Coarse\n",
      "nacls = np.linspace(-10,1,25) # Fine\n",
      "\n",
      "nacls = 10**nacls\n",
      "results[\"nacl\"] = nacls\n",
      "\n",
      "\n",
      "\n",
      "for i, nacli  in enumerate(nacls):\n",
      "    # start timer\n",
      "    start = timer()\n",
      "    \n",
      "    # update concs\n",
      "    msa.nacl = nacli\n",
      "    #msa.cacl2 = 1e-6\n",
      "    msa.conc_M = np.copy(msa.ref_conc_M)\n",
      "    msa.conc_M[msa.idxCl] = msa.ref_conc_M[msa.idxCl] + msa.nacl\n",
      "    msa.conc_M[msa.idxNa] = msa.nacl\n",
      "    \n",
      "    \n",
      "    print msa.conc_M\n",
      "    print msa.cacl2\n",
      "    #continue\n",
      "    numDraws = 5\n",
      "    filterIters=[]\n",
      "    psiIters = []\n",
      "    for i in np.arange(numDraws):\n",
      "      psiPrevRand = psiPrev + np.random.rand(1)\n",
      "      muiexsPrevRand = muiexsPrev + np.random.rand(msa.nIons)\n",
      "      print \"psiPrev\", psiPrev\n",
      "      print \"muiexsPrev\", muiexsPrev\n",
      "    \n",
      "      # run MSA \n",
      "      mufilteri,donnanPotentiali,mu_ESi,mu_HSi,rhoFilteri = msa.SolveMSAEquations(\n",
      "        msa.filter_dielectric,\n",
      "        msa.conc_M,\n",
      "        msa.zs,\n",
      "        msa.Ns,\n",
      "        msa.V_i,\n",
      "        msa.sigmas,                                                 \n",
      "        psiPrev=psiPrevRand,\n",
      "        muiexsPrev=muiexsPrevRand,\n",
      "        alpha=alpha, \n",
      "        verbose=False)\n",
      "        #verbose=True)\n",
      "      filterIters.append(mufilteri)\n",
      "      psiIters.append(donnanPotentiali)\n",
      "        \n",
      "      psiPrev = donnanPotentiali        \n",
      "      muiexsPrev = mufilteri  \n",
      "    # end loop \n",
      "    \n",
      "    # mean/dev\n",
      "    filterIters = np.array(filterIters)    \n",
      "    psiIters = np.array(psiIters)    \n",
      "    mufilteri = np.mean(filterIters,axis=0)         \n",
      "    mufilteriStd = np.std(filterIters,axis=0)         \n",
      "    donnanPotentiali = np.mean(psiIters,axis=0)\n",
      "    donnanPotentialiStd = np.std(psiIters,axis=0)         \n",
      "    print mufilteri, mufilteriStd\n",
      "    print donnanPotentiali, donnanPotentialiStd\n",
      "        \n",
      "    ## store results     \n",
      "    # from msa \n",
      "    results[\"muBath\"].append( msa.results[\"muBath\"] )\n",
      "    results[\"deltaG\"].append( msa.results[\"deltaG\"] )\n",
      "    \n",
      "    # returned\n",
      "    results[\"muFilter\"].append(mufilteri)\n",
      "    results[\"muFilterStd\"].append(mufilteriStd)\n",
      "    results[\"donnanPotential\"].append(donnanPotentiali)\n",
      "    results[\"donnanPotentialStd\"].append(donnanPotentialiStd)\n",
      "    results[\"mu_ES\"].append(mu_ESi)\n",
      "    results[\"mu_HS\"].append(mu_HSi)\n",
      "    results[\"rhoFilter\"].append(rhoFilteri)\n",
      "    \n",
      "    # update previous psi/muiexs so code has better initial guess \n",
      "    psiPrev = donnanPotentiali\n",
      "    muiexsPrev = mufilteri\n",
      "    \n",
      "    # report information \n",
      "    print \"nacl\", msa.nacl    \n",
      "    print \"conc_M\", msa.conc_M\n",
      "    print \"mufilteri\",mufilteri\n",
      "    print \"rhoFilteri\",rhoFilteri\n",
      "    print \"donnanPotentiali\",donnanPotentiali    \n",
      "    end = timer()\n",
      "    print(end - start), \" elapsed seconds \"\n",
      "\n",
      "    "
     ],
     "language": "python",
     "metadata": {},
     "outputs": [
      {
       "output_type": "stream",
       "stream": "stdout",
       "text": [
        "[  1.00000000e-200   2.00010000e-006   1.00000000e-010   1.00000000e-006]\n",
        "1e-06\n",
        "psiPrev 0\n",
        "muiexsPrev 0\n",
        "itersgamma 0, iterspsi 10598"
       ]
      },
      {
       "output_type": "stream",
       "stream": "stdout",
       "text": [
        "\n",
        "4.11726877709\n",
        "psiPrev [-125.41498169]\n",
        "muiexsPrev [ 3.60812785  4.73879724  0.30288857 -6.20437064]\n",
        "itersgamma 0, iterspsi 8228"
       ]
      },
      {
       "output_type": "stream",
       "stream": "stdout",
       "text": [
        "\n",
        "4.11726877758\n",
        "psiPrev [-125.41498184]\n",
        "muiexsPrev [ 3.60843745  4.73913372  0.30307457 -6.20437062]\n",
        "itersgamma 0, iterspsi 7699"
       ]
      },
      {
       "output_type": "stream",
       "stream": "stdout",
       "text": [
        "\n",
        "4.11726877691\n",
        "psiPrev [-125.41498164]\n",
        "muiexsPrev [ 3.6085684   4.73920266  0.30322259 -6.20437064]\n",
        "itersgamma 0, iterspsi 8216"
       ]
      },
      {
       "output_type": "stream",
       "stream": "stdout",
       "text": [
        "\n",
        "4.11726877794\n",
        "psiPrev [-125.41498194]\n",
        "muiexsPrev [ 3.60824694  4.73894759  0.30296571 -6.20437062]\n",
        "itersgamma 0, iterspsi 8123"
       ]
      },
      {
       "output_type": "stream",
       "stream": "stdout",
       "text": [
        "\n",
        "4.11726877934\n",
        "[ 3.60831769  4.73903883  0.30304034 -6.20437062] [  1.61439755e-04   1.46987537e-04   1.12328340e-04   1.95383943e-08]\n",
        "[-125.41498189] [  2.58996660e-07]\n",
        "nacl 1e-10\n",
        "conc_M [  1.00000000e-200   2.00010000e-006   1.00000000e-010   1.00000000e-006]\n",
        "mufilteri [ 3.60831769  4.73903883  0.30304034 -6.20437062]\n",
        "rhoFilteri [  2.13333333e+01   7.84111600e-11   5.95827896e-09   5.33335005e+00]\n",
        "donnanPotentiali [-125.41498189]\n",
        "7.65063691139  elapsed seconds \n",
        "[  1.00000000e-200   2.00028730e-006   2.87298483e-010   1.00000000e-006]\n",
        "1e-06\n",
        "psiPrev [-125.41498189]\n",
        "muiexsPrev [ 3.60831769  4.73903883  0.30304034 -6.20437062]\n",
        "itersgamma 0, iterspsi 8013"
       ]
      },
      {
       "output_type": "stream",
       "stream": "stdout",
       "text": [
        "\n",
        "4.11726877678\n",
        "psiPrev [-125.4149864]\n",
        "muiexsPrev [ 3.60851822  4.73920607  0.30303643 -6.20437063]\n",
        "itersgamma 0, iterspsi 8406"
       ]
      },
      {
       "output_type": "stream",
       "stream": "stdout",
       "text": [
        "\n",
        "4.11726877879\n",
        "psiPrev [-125.414987]\n",
        "muiexsPrev [ 3.60819886  4.73890969  0.30304439 -6.20437058]\n",
        "itersgamma 0, iterspsi 8553"
       ]
      },
      {
       "output_type": "stream",
       "stream": "stdout",
       "text": [
        "\n",
        "4.11726877689\n",
        "psiPrev [-125.41498643]\n",
        "muiexsPrev [ 3.60834666  4.73889386  0.30306913 -6.20437062]\n",
        "itersgamma 0, iterspsi 5633"
       ]
      },
      {
       "output_type": "stream",
       "stream": "stdout",
       "text": [
        "\n",
        "4.11726877702\n",
        "psiPrev [-125.41498647]\n",
        "muiexsPrev [ 3.61108097  4.74074211  0.30356347 -6.20437062]\n",
        "itersgamma 0, iterspsi 7922"
       ]
      },
      {
       "output_type": "stream",
       "stream": "stdout",
       "text": [
        "\n",
        "4.11726877587\n",
        "[ 3.60889382  4.73939355  0.30312485 -6.20437062] [  1.09830096e-03   6.88347499e-04   2.26099357e-04   2.15468607e-08]\n",
        "[-125.41498649] [  2.85621201e-07]\n",
        "nacl 2.87298483335e-10\n",
        "conc_M [  1.00000000e-200   2.00028730e-006   2.87298483e-010   1.00000000e-006]\n",
        "mufilteri [ 3.60889382  4.73939355  0.30312485 -6.20437062]\n",
        "rhoFilteri [  2.13333333e+01   7.84103968e-11   1.71204357e-08   5.33335003e+00]\n",
        "donnanPotentiali [-125.41498649]\n",
        "6.67991495132  elapsed seconds \n",
        "[  1.00000000e-200   2.00082540e-006   8.25404185e-010   1.00000000e-006]\n",
        "1e-06\n",
        "psiPrev [-125.41498649]\n",
        "muiexsPrev [ 3.60889382  4.73939355  0.30312485 -6.20437062]\n",
        "itersgamma 0, iterspsi 8601"
       ]
      },
      {
       "output_type": "stream",
       "stream": "stdout",
       "text": [
        "\n",
        "4.11726877662\n",
        "psiPrev [-125.41500015]\n",
        "muiexsPrev [ 3.60836156  4.73902262  0.3029929  -6.20437058]\n",
        "itersgamma 0, iterspsi 193\n",
        "4.11726265932\n",
        "psiPrev [-125.43397227]\n",
        "muiexsPrev [ 3.90595341  4.80613793  0.32625182 -6.20288507]\n",
        "itersgamma 0, iterspsi 7751"
       ]
      },
      {
       "output_type": "stream",
       "stream": "stdout",
       "text": [
        "\n",
        "4.11726877617\n",
        "psiPrev [-125.41500002]\n",
        "muiexsPrev [ 3.60862957  4.73899526  0.30296032 -6.20437059]\n",
        "itersgamma 0, iterspsi 7364"
       ]
      },
      {
       "output_type": "stream",
       "stream": "stdout",
       "text": [
        "\n",
        "4.11726877615\n",
        "psiPrev [-125.41500001]\n",
        "muiexsPrev [ 3.60868268  4.73907416  0.30310351 -6.20437059]\n",
        "itersgamma 0, iterspsi 8416"
       ]
      },
      {
       "output_type": "stream",
       "stream": "stdout",
       "text": [
        "\n",
        "4.11726877673\n",
        "[ 3.66796825  4.75245988  0.30765494 -6.20407349] [ 0.11899271  0.02683904  0.00929858  0.00059421]\n",
        "[-125.41879453] [ 0.00758887]\n",
        "nacl 8.25404185268e-10\n",
        "conc_M [  1.00000000e-200   2.00082540e-006   8.25404185e-010   1.00000000e-006]\n",
        "mufilteri [ 3.66796825  4.75245988  0.30765494 -6.20407349]\n",
        "rhoFilteri [  2.13333333e+01   7.84429312e-11   4.91840420e-08   5.33335003e+00]\n",
        "donnanPotentiali [-125.41879453]\n",
        "5.54951095581  elapsed seconds \n",
        "[  1.00000000e-200   2.00237137e-006   2.37137371e-009   1.00000000e-006]\n",
        "1e-06\n",
        "psiPrev [-125.41879453]\n",
        "muiexsPrev [ 3.66796825  4.75245988  0.30765494 -6.20407349]\n",
        "itersgamma 0, iterspsi 8195"
       ]
      },
      {
       "output_type": "stream",
       "stream": "stdout",
       "text": [
        "\n",
        "4.11726876909\n",
        "psiPrev [-125.41503753]\n",
        "muiexsPrev [ 3.60843907  4.73901047  0.30301865 -6.20437062]\n",
        "itersgamma 0, iterspsi 6946"
       ]
      },
      {
       "output_type": "stream",
       "stream": "stdout",
       "text": [
        "\n",
        "4.1172687723\n",
        "psiPrev [-125.41503849]\n",
        "muiexsPrev [ 3.60891203  4.73914657  0.30375498 -6.20437055]\n",
        "itersgamma 0, iterspsi 8341"
       ]
      },
      {
       "output_type": "stream",
       "stream": "stdout",
       "text": [
        "\n",
        "4.11726877016\n",
        "psiPrev [-125.41503785]\n",
        "muiexsPrev [ 3.60835705  4.73905659  0.3029347  -6.2043706 ]\n",
        "itersgamma 0, iterspsi 6402"
       ]
      },
      {
       "output_type": "stream",
       "stream": "stdout",
       "text": [
        "\n",
        "4.11726877075\n",
        "psiPrev [-125.41503803]\n",
        "muiexsPrev [ 3.60860105  4.739833    0.3033635  -6.20437058]\n",
        "itersgamma 0, iterspsi 7384"
       ]
      },
      {
       "output_type": "stream",
       "stream": "stdout",
       "text": [
        "\n",
        "4.11726877047\n",
        "[ 3.60861622  4.73928463  0.30321229 -6.20437059] [  2.05190426e-04   3.01788687e-04   3.10325084e-04   2.34837265e-08]\n",
        "[-125.41503797] [  3.11345074e-07]\n",
        "nacl 2.37137370566e-09\n",
        "conc_M [  1.00000000e-200   2.00237137e-006   2.37137371e-009   1.00000000e-006]\n",
        "mufilteri [ 3.60861622  4.73928463  0.30321229 -6.20437059]\n",
        "rhoFilteri [  2.13333333e+01   7.84792420e-11   1.41301786e-07   5.33334998e+00]\n",
        "donnanPotentiali [-125.41503797]\n",
        "6.58295607567  elapsed seconds \n",
        "[  1.00000000e-200   2.00681292e-006   6.81292069e-009   1.00000000e-006]\n",
        "1e-06\n",
        "psiPrev [-125.41503797]\n",
        "muiexsPrev [ 3.60861622  4.73928463  0.30321229 -6.20437059]\n",
        "itersgamma 0, iterspsi 8434"
       ]
      },
      {
       "output_type": "stream",
       "stream": "stdout",
       "text": [
        "\n",
        "4.11726875653\n",
        "psiPrev [-125.41514752]\n",
        "muiexsPrev [ 3.60827171  4.7390315   0.3030325  -6.20437052]\n",
        "itersgamma 0, iterspsi 118\n",
        "4.117264365\n",
        "psiPrev [-126.33150502]\n",
        "muiexsPrev [ 4.22500497  5.416044    1.14575408 -6.13284818]\n",
        "itersgamma 0, iterspsi 8048"
       ]
      },
      {
       "output_type": "stream",
       "stream": "stdout",
       "text": [
        "\n",
        "4.11726875582\n",
        "psiPrev [-125.4151473]\n",
        "muiexsPrev [ 3.60850584  4.73922318  0.30319494 -6.20437054]\n",
        "itersgamma 0, iterspsi 7838"
       ]
      },
      {
       "output_type": "stream",
       "stream": "stdout",
       "text": [
        "\n",
        "4.11726875611\n",
        "psiPrev [-125.41514739]\n",
        "muiexsPrev [ 3.60829524  4.73921414  0.30309461 -6.20437053]\n",
        "itersgamma 0, iterspsi 8596"
       ]
      },
      {
       "output_type": "stream",
       "stream": "stdout",
       "text": [
        "\n",
        "4.11726875518\n",
        "[ 3.73168864  4.87449556  0.47162045 -6.19006606] [ 0.24665818  0.27077424  0.33706682  0.02860894]\n",
        "[-125.59841887] [ 0.36654308]\n",
        "nacl 6.81292069058e-09\n",
        "conc_M [  1.00000000e-200   2.00681292e-006   6.81292069e-009   1.00000000e-006]\n",
        "mufilteri [ 3.73168864  4.87449556  0.47162045 -6.19006606]\n",
        "rhoFilteri [  2.13333333e+01   7.86852264e-11   4.05943923e-07   5.33334984e+00]\n",
        "donnanPotentiali [-125.59841887]\n",
        "5.72159194946  elapsed seconds \n",
        "[  1.00000000e-200   2.01957342e-006   1.95734178e-008   1.00000000e-006]\n",
        "1e-06\n",
        "psiPrev [-125.59841887]\n",
        "muiexsPrev [ 3.73168864  4.87449556  0.47162045 -6.19006606]\n",
        "itersgamma 0, iterspsi 8031"
       ]
      },
      {
       "output_type": "stream",
       "stream": "stdout",
       "text": [
        "\n",
        "4.1172687126\n",
        "psiPrev [-125.41546027]\n",
        "muiexsPrev [ 3.60835773  4.73923287  0.30316712 -6.20437041]\n",
        "itersgamma 0, iterspsi 143\n",
        "4.11726273347\n",
        "psiPrev [-126.00886743]\n",
        "muiexsPrev [ 4.02580765  5.17142959  0.87416695 -6.15805212]\n",
        "itersgamma 0, iterspsi 8053"
       ]
      },
      {
       "output_type": "stream",
       "stream": "stdout",
       "text": [
        "\n",
        "4.11726871025\n",
        "psiPrev [-125.41545956]\n",
        "muiexsPrev [ 3.60835167  4.73909928  0.30338442 -6.20437046]\n",
        "itersgamma 0, iterspsi 7502"
       ]
      },
      {
       "output_type": "stream",
       "stream": "stdout",
       "text": [
        "\n",
        "4.11726871324\n",
        "psiPrev [-125.41546047]\n",
        "muiexsPrev [ 3.60827916  4.73909801  0.30295916 -6.20437039]\n",
        "itersgamma 0, iterspsi 8376"
       ]
      },
      {
       "output_type": "stream",
       "stream": "stdout",
       "text": [
        "\n",
        "4.11726871026\n",
        "[ 3.69179903  4.82559493  0.41736073 -6.19510677] [ 0.16700432  0.17291734  0.22840315  0.01852732]\n",
        "[-125.53414146] [ 0.23736299]\n",
        "nacl 1.95734178149e-08\n",
        "conc_M [  1.00000000e-200   2.01957342e-006   1.95734178e-008   1.00000000e-006]\n",
        "mufilteri [ 3.69179903  4.82559493  0.41736073 -6.19510677]\n",
        "rhoFilteri [  2.13333333e+01   7.91722207e-11   1.16616129e-06   5.33334946e+00]\n",
        "donnanPotentiali [-125.53414146]\n",
        "5.51303911209  elapsed seconds \n",
        "[  1.00000000e-200   2.05623413e-006   5.62341325e-008   1.00000000e-006]\n",
        "1e-06\n",
        "psiPrev [-125.53414146]\n",
        "muiexsPrev [ 3.69179903  4.82559493  0.41736073 -6.19510677]\n",
        "itersgamma 0, iterspsi 8299"
       ]
      },
      {
       "output_type": "stream",
       "stream": "stdout",
       "text": [
        "\n",
        "4.11726858862\n",
        "psiPrev [-125.41635228]\n",
        "muiexsPrev [ 3.6082833   4.73902278  0.30296967 -6.20437003]\n",
        "itersgamma 0, iterspsi 7011"
       ]
      },
      {
       "output_type": "stream",
       "stream": "stdout",
       "text": [
        "\n",
        "4.11726858902\n",
        "psiPrev [-125.41635235]\n",
        "muiexsPrev [ 3.60901309  4.73978733  0.30371153 -6.20437003]\n",
        "itersgamma 0, iterspsi 7961"
       ]
      },
      {
       "output_type": "stream",
       "stream": "stdout",
       "text": [
        "\n",
        "4.11726858912\n",
        "psiPrev [-125.41635243]\n",
        "muiexsPrev [ 3.60841011  4.73909921  0.3030207  -6.20437002]\n",
        "itersgamma 0, iterspsi 8692"
       ]
      },
      {
       "output_type": "stream",
       "stream": "stdout",
       "text": [
        "\n",
        "4.11726858593\n",
        "psiPrev [-125.41635147]\n",
        "muiexsPrev [ 3.60833762  4.73906253  0.30300805 -6.20437009]\n",
        "itersgamma 0, iterspsi 5311"
       ]
      },
      {
       "output_type": "stream",
       "stream": "stdout",
       "text": [
        "\n",
        "4.11726858759\n",
        "[ 3.60930256  4.73970167  0.30393137 -6.20437005] [  1.60465862e-03   9.59815194e-04   1.53287884e-03   2.91485538e-08]\n",
        "[-125.41635205] [  3.83785856e-07]\n",
        "nacl 5.6234132519e-08\n",
        "conc_M [  1.00000000e-200   2.05623413e-006   5.62341325e-008   1.00000000e-006]\n",
        "mufilteri [ 3.60930256  4.73970167  0.30393137 -6.20437005]\n",
        "rhoFilteri [  2.13333333e+01   8.04100506e-11   3.33763217e-06   5.33334837e+00]\n",
        "donnanPotentiali [-125.41635205]\n",
        "6.39361405373  elapsed seconds \n",
        "[  1.00000000e-200   2.16155981e-006   1.61559810e-007   1.00000000e-006]\n",
        "1e-06\n",
        "psiPrev [-125.41635205]\n",
        "muiexsPrev [ 3.60930256  4.73970167  0.30393137 -6.20437005]\n",
        "itersgamma 0, iterspsi 8310"
       ]
      },
      {
       "output_type": "stream",
       "stream": "stdout",
       "text": [
        "\n",
        "4.11726822785\n",
        "psiPrev [-125.41885686]\n",
        "muiexsPrev [ 3.60836312  4.73901838  0.30303099 -6.20436906]\n",
        "itersgamma 0, iterspsi 6789"
       ]
      },
      {
       "output_type": "stream",
       "stream": "stdout",
       "text": [
        "\n",
        "4.11726822971\n",
        "psiPrev [-125.41885726]\n",
        "muiexsPrev [ 3.60874713  4.73891233  0.3038712  -6.20436903]\n",
        "itersgamma 0, iterspsi 8698"
       ]
      },
      {
       "output_type": "stream",
       "stream": "stdout",
       "text": [
        "\n",
        "4.11726823148\n",
        "psiPrev [-125.41885795]\n",
        "muiexsPrev [ 3.60831113  4.73892461  0.30305081 -6.20436898]\n",
        "itersgamma 0, iterspsi 8558"
       ]
      },
      {
       "output_type": "stream",
       "stream": "stdout",
       "text": [
        "\n",
        "4.11726822981\n",
        "psiPrev [-125.41885744]\n",
        "muiexsPrev [ 3.60827064  4.73897527  0.30305328 -6.20436901]\n",
        "itersgamma 0, iterspsi 7265"
       ]
      },
      {
       "output_type": "stream",
       "stream": "stdout",
       "text": [
        "\n",
        "4.11726822869\n",
        "[ 3.60841195  4.73904647  0.3032308  -6.20436902] [  1.71355549e-04   1.81613435e-04   3.22752214e-04   2.77541904e-08]\n",
        "[-125.41885732] [  3.67453677e-07]\n",
        "nacl 1.61559809844e-07\n",
        "conc_M [  1.00000000e-200   2.16155981e-006   1.61559810e-007   1.00000000e-006]\n",
        "mufilteri [ 3.60841195  4.73904647  0.3032308  -6.20436902]\n",
        "rhoFilteri [  2.13333333e+01   8.46972606e-11   9.62597488e-06   5.33334523e+00]\n",
        "donnanPotentiali [-125.41885732]\n",
        "6.81365203857  elapsed seconds \n",
        "[  1.00000000e-200   2.46415888e-006   4.64158883e-007   1.00000000e-006]\n",
        "1e-06\n",
        "psiPrev [-125.41885732]\n",
        "muiexsPrev [ 3.60841195  4.73904647  0.3032308  -6.20436902]\n",
        "itersgamma 0, iterspsi 8528"
       ]
      },
      {
       "output_type": "stream",
       "stream": "stdout",
       "text": [
        "\n",
        "4.11726720063\n",
        "psiPrev [-125.42564427]\n",
        "muiexsPrev [ 3.60835002  4.7390701   0.30303293 -6.20436605]\n",
        "itersgamma 0, iterspsi 7840"
       ]
      },
      {
       "output_type": "stream",
       "stream": "stdout",
       "text": [
        "\n",
        "4.11726720097\n",
        "psiPrev [-125.42564438]\n",
        "muiexsPrev [ 3.60842385  4.73912727  0.3030037  -6.20436604]\n",
        "itersgamma 0, iterspsi 7752"
       ]
      },
      {
       "output_type": "stream",
       "stream": "stdout",
       "text": [
        "\n",
        "4.11726720308\n",
        "psiPrev [-125.42564488]\n",
        "muiexsPrev [ 3.60820497  4.73925461  0.3032605  -6.204366  ]\n",
        "itersgamma 0, iterspsi 8215"
       ]
      },
      {
       "output_type": "stream",
       "stream": "stdout",
       "text": [
        "\n",
        "4.11726720279\n",
        "psiPrev [-125.42564487]\n",
        "muiexsPrev [ 3.60819655  4.73907244  0.303124   -6.204366  ]\n",
        "itersgamma 0, iterspsi 8399"
       ]
      },
      {
       "output_type": "stream",
       "stream": "stdout",
       "text": [
        "\n",
        "4.1172671994\n",
        "[ 3.60831361  4.73910378  0.30310513 -6.20436603] [  9.51171027e-05   8.64448172e-05   8.94389344e-05   2.90142720e-08]\n",
        "[-125.42564445] [  3.86391777e-07]\n",
        "nacl 4.64158883361e-07\n",
        "conc_M [  1.00000000e-200   2.46415888e-006   4.64158883e-007   1.00000000e-006]\n",
        "mufilteri [ 3.60831361  4.73910378  0.30310513 -6.20436603]\n",
        "rhoFilteri [  2.13333333e+01   9.65551218e-11   2.76601523e-05   5.33333621e+00]\n",
        "donnanPotentiali [-125.42564445]\n",
        "7.0013999939  elapsed seconds \n",
        "[  1.00000000e-200   3.33352143e-006   1.33352143e-006   1.00000000e-006]\n",
        "1e-06\n",
        "psiPrev [-125.42564445]\n",
        "muiexsPrev [ 3.60831361  4.73910378  0.30310513 -6.20436603]\n",
        "itersgamma 0, iterspsi 8080"
       ]
      },
      {
       "output_type": "stream",
       "stream": "stdout",
       "text": [
        "\n",
        "4.11726424293\n",
        "psiPrev [-125.44265648]\n",
        "muiexsPrev [ 3.60845064  4.7390897   0.30303054 -6.20435751]\n",
        "itersgamma 0, iterspsi 8159"
       ]
      },
      {
       "output_type": "stream",
       "stream": "stdout",
       "text": [
        "\n",
        "4.11726424571\n",
        "psiPrev [-125.44265732]\n",
        "muiexsPrev [ 3.60820962  4.73910457  0.30303025 -6.20435745]\n",
        "itersgamma 0, iterspsi 7781"
       ]
      },
      {
       "output_type": "stream",
       "stream": "stdout",
       "text": [
        "\n",
        "4.11726424403\n",
        "psiPrev [-125.44265647]\n",
        "muiexsPrev [ 3.60847919  4.73902429  0.30325527 -6.20435751]\n",
        "itersgamma 0, iterspsi 124\n",
        "4.11726224996\n",
        "psiPrev [-125.92486105]\n",
        "muiexsPrev [ 4.42776724  5.60740911  0.94366365 -6.16672316]\n",
        "itersgamma 0, iterspsi 5795"
       ]
      },
      {
       "output_type": "stream",
       "stream": "stdout",
       "text": [
        "\n",
        "4.11726425861\n",
        "[ 3.77286088  4.91346487  0.43192788 -6.19683065] [ 0.32745528  0.34697496  0.2558716   0.01505374]\n",
        "[-125.53909739] [ 0.19288183]\n",
        "nacl 1.33352143216e-06\n",
        "conc_M [  1.00000000e-200   3.33352143e-006   1.33352143e-006   1.00000000e-006]\n",
        "mufilteri [ 3.77286088  4.91346487  0.43192788 -6.19683065]\n",
        "rhoFilteri [  2.13333333e+01   1.30007366e-10   7.92112893e-05   5.33331044e+00]\n",
        "donnanPotentiali [-125.53909739]\n",
        "5.17528104782  elapsed seconds \n",
        "[  1.00000000e-200   5.83118685e-006   3.83118685e-006   1.00000000e-006]\n",
        "1e-06\n",
        "psiPrev [-125.53909739]\n",
        "muiexsPrev [ 3.77286088  4.91346487  0.43192788 -6.19683065]\n",
        "itersgamma 0, iterspsi 8578"
       ]
      },
      {
       "output_type": "stream",
       "stream": "stdout",
       "text": [
        "\n",
        "4.11725574082\n",
        "psiPrev [-125.48045417]\n",
        "muiexsPrev [ 3.60836434  4.73905394  0.30299362 -6.20433287]\n",
        "itersgamma 0, iterspsi 7827"
       ]
      },
      {
       "output_type": "stream",
       "stream": "stdout",
       "text": [
        "\n",
        "4.11725573914\n",
        "psiPrev [-125.48045362]\n",
        "muiexsPrev [ 3.60827656  4.7391587   0.30300326 -6.20433291]\n",
        "itersgamma 0, iterspsi 8119"
       ]
      },
      {
       "output_type": "stream",
       "stream": "stdout",
       "text": [
        "\n",
        "4.11725574375\n",
        "psiPrev [-125.48045415]\n",
        "muiexsPrev [ 3.60823542  4.73911206  0.30319769 -6.20433288]\n",
        "itersgamma 0, iterspsi 8551"
       ]
      },
      {
       "output_type": "stream",
       "stream": "stdout",
       "text": [
        "\n",
        "4.11725574036\n",
        "psiPrev [-125.48045396]\n",
        "muiexsPrev [ 3.60823872  4.73911878  0.3030097  -6.20433289]\n",
        "itersgamma 0, iterspsi 8628"
       ]
      },
      {
       "output_type": "stream",
       "stream": "stdout",
       "text": [
        "\n",
        "4.11725574224\n",
        "[ 3.60828587  4.739091    0.30305426 -6.20433288] [  4.86263682e-05   5.19474858e-05   7.61569834e-05   1.67003552e-08]\n",
        "[-125.48045404] [  2.29705280e-07]\n",
        "nacl 3.83118684956e-06\n",
        "conc_M [  1.00000000e-200   5.83118685e-006   3.83118685e-006   1.00000000e-006]\n",
        "mufilteri [ 3.60828587  4.739091    0.30305426 -6.20433288]\n",
        "rhoFilteri [  2.13333333e+01   2.27752536e-10   2.28562032e-04   5.33323578e+00]\n",
        "donnanPotentiali [-125.48045404]\n",
        "7.18941092491  elapsed seconds \n",
        "[  1.00000000e-200   1.30069417e-005   1.10069417e-005   1.00000000e-006]\n",
        "1e-06\n",
        "psiPrev [-125.48045404]\n",
        "muiexsPrev [ 3.60828587  4.739091    0.30305426 -6.20433288]\n",
        "itersgamma 0, iterspsi 8340"
       ]
      },
      {
       "output_type": "stream",
       "stream": "stdout",
       "text": [
        "\n",
        "4.11723126843\n",
        "psiPrev [-125.55473917]\n",
        "muiexsPrev [ 3.60835043  4.73920829  0.30316759 -6.20426216]\n",
        "itersgamma 0, iterspsi 8425"
       ]
      },
      {
       "output_type": "stream",
       "stream": "stdout",
       "text": [
        "\n",
        "4.1172312614\n",
        "psiPrev [-125.55473905]\n",
        "muiexsPrev [ 3.60828126  4.73906528  0.30301112 -6.20426216]\n",
        "itersgamma 0, iterspsi 8342"
       ]
      },
      {
       "output_type": "stream",
       "stream": "stdout",
       "text": [
        "\n",
        "4.1172312684\n",
        "psiPrev [-125.55473913]\n",
        "muiexsPrev [ 3.60840252  4.73910281  0.30317048 -6.20426216]\n",
        "itersgamma 0, iterspsi 8574"
       ]
      },
      {
       "output_type": "stream",
       "stream": "stdout",
       "text": [
        "\n",
        "4.11723126519\n",
        "psiPrev [-125.55473912]\n",
        "muiexsPrev [ 3.60841923  4.73906943  0.30309492 -6.20426216]\n",
        "itersgamma 0, iterspsi 8364"
       ]
      },
      {
       "output_type": "stream",
       "stream": "stdout",
       "text": [
        "\n",
        "4.11723126234\n",
        "[ 3.60838486  4.7390949   0.30309444 -6.20426216] [  6.45076810e-05   6.13613077e-05   6.70461629e-05   2.71384288e-09]\n",
        "[-125.55473912] [  3.92850688e-08]\n",
        "nacl 1.10069417125e-05\n",
        "conc_M [  1.00000000e-200   1.30069417e-005   1.10069417e-005   1.00000000e-006]\n",
        "mufilteri [ 3.60838486  4.7390949   0.30309444 -6.20426216]\n",
        "rhoFilteri [  2.13333333e+01   5.05810091e-10   6.57639620e-04   5.33302124e+00]\n",
        "donnanPotentiali [-125.55473912]\n",
        "7.23392415047  elapsed seconds \n",
        "[  1.00000000e-200   3.36227766e-005   3.16227766e-005   1.00000000e-006]\n",
        "1e-06\n",
        "psiPrev [-125.55473912]\n",
        "muiexsPrev [ 3.60838486  4.7390949   0.30309444 -6.20426216]\n",
        "itersgamma 0, iterspsi 8206"
       ]
      },
      {
       "output_type": "stream",
       "stream": "stdout",
       "text": [
        "\n",
        "4.11716073179\n",
        "psiPrev [-125.68941389]\n",
        "muiexsPrev [ 3.60839112  4.73930803  0.30327634 -6.20405832]\n",
        "itersgamma 0, iterspsi 7739"
       ]
      },
      {
       "output_type": "stream",
       "stream": "stdout",
       "text": [
        "\n",
        "4.11716074646\n",
        "psiPrev [-125.68941347]\n",
        "muiexsPrev [ 3.60841188  4.73930171  0.30340788 -6.20405838]\n",
        "itersgamma 0, iterspsi 7910"
       ]
      },
      {
       "output_type": "stream",
       "stream": "stdout",
       "text": [
        "\n",
        "4.11716072655\n",
        "psiPrev [-125.68941404]\n",
        "muiexsPrev [ 3.60839786  4.73958111  0.30322921 -6.2040583 ]\n",
        "itersgamma 0, iterspsi 5936"
       ]
      },
      {
       "output_type": "stream",
       "stream": "stdout",
       "text": [
        "\n",
        "4.11716086847\n",
        "psiPrev [-125.68940802]\n",
        "muiexsPrev [ 3.61036566  4.74047823  0.30455787 -6.20405901]\n",
        "itersgamma 0, iterspsi 7926"
       ]
      },
      {
       "output_type": "stream",
       "stream": "stdout",
       "text": [
        "\n",
        "4.11716072029\n",
        "[ 3.60881311  4.73962436  0.30353058 -6.20405846] [  7.77246067e-04   4.39223144e-04   5.19158396e-04   2.73412019e-07]\n",
        "[-125.68941267] [  2.32912510e-06]\n",
        "nacl 3.16227766017e-05\n",
        "conc_M [  1.00000000e-200   3.36227766e-005   3.16227766e-005   1.00000000e-006]\n",
        "mufilteri [ 3.60881311  4.73962436  0.30353058 -6.20405846]\n",
        "rhoFilteri [  2.13333333e+01   1.29671797e-09   1.89411803e-03   5.33240302e+00]\n",
        "donnanPotentiali [-125.68941267]\n",
        "6.69681096077  elapsed seconds \n",
        "[  1.00000000e-200   9.28517576e-005   9.08517576e-005   1.00000000e-006]\n",
        "1e-06\n",
        "psiPrev [-125.68941267]\n",
        "muiexsPrev [ 3.60881311  4.73962436  0.30353058 -6.20405846]\n",
        "itersgamma 0, iterspsi 8603"
       ]
      },
      {
       "output_type": "stream",
       "stream": "stdout",
       "text": [
        "\n",
        "4.11695693174\n",
        "psiPrev [-125.92466456]\n",
        "muiexsPrev [ 3.60876159  4.74008298  0.30343058 -6.20346953]\n",
        "itersgamma 0, iterspsi 7890"
       ]
      },
      {
       "output_type": "stream",
       "stream": "stdout",
       "text": [
        "\n",
        "4.1169569163\n",
        "psiPrev [-125.92466528]\n",
        "muiexsPrev [ 3.60874256  4.74009767  0.30337987 -6.20346944]\n",
        "itersgamma 0, iterspsi 8302"
       ]
      },
      {
       "output_type": "stream",
       "stream": "stdout",
       "text": [
        "\n",
        "4.11695691481\n",
        "psiPrev [-125.9246652]\n",
        "muiexsPrev [ 3.60890261  4.73992319  0.30337643 -6.20346945]\n",
        "itersgamma 0, iterspsi 7819"
       ]
      },
      {
       "output_type": "stream",
       "stream": "stdout",
       "text": [
        "\n",
        "4.11695701274\n",
        "psiPrev [-125.92466067]\n",
        "muiexsPrev [ 3.60905355  4.73997903  0.30369735 -6.20346996]\n",
        "itersgamma 0, iterspsi 8176"
       ]
      },
      {
       "output_type": "stream",
       "stream": "stdout",
       "text": [
        "\n",
        "4.11695692894\n",
        "[ 3.6088435   4.73999711  0.30346091 -6.20346958] [  1.19971584e-04   8.02449692e-05   1.20147255e-04   1.96449134e-07]\n",
        "[-125.9246641] [  1.73664892e-06]\n",
        "nacl 9.08517575652e-05\n",
        "conc_M [  1.00000000e-200   9.28517576e-005   9.08517576e-005   1.00000000e-006]\n",
        "mufilteri [ 3.6088435   4.73999711  0.30346091 -6.20346958]\n",
        "rhoFilteri [  2.13333333e+01   3.53062804e-09   5.46589497e-03   5.33061717e+00]\n",
        "donnanPotentiali [-125.9246641]\n",
        "7.00266981125  elapsed seconds \n",
        "[  1.00000000e-200   2.63015722e-004   2.61015722e-004   1.00000000e-006]\n",
        "1e-06\n",
        "psiPrev [-125.9246641]\n",
        "muiexsPrev [ 3.6088435   4.73999711  0.30346091 -6.20346958]\n",
        "itersgamma 0, iterspsi 8133"
       ]
      },
      {
       "output_type": "stream",
       "stream": "stdout",
       "text": [
        "\n",
        "4.11636606653\n",
        "psiPrev [-126.33077556]\n",
        "muiexsPrev [ 3.60986611  4.74201825  0.30418356 -6.20176269]\n",
        "itersgamma 0, iterspsi 7697"
       ]
      },
      {
       "output_type": "stream",
       "stream": "stdout",
       "text": [
        "\n",
        "4.11636637918\n",
        "psiPrev [-126.33076306]\n",
        "muiexsPrev [ 3.60981069  4.7421844   0.30453077 -6.20176418]\n",
        "itersgamma 0, iterspsi 8582"
       ]
      },
      {
       "output_type": "stream",
       "stream": "stdout",
       "text": [
        "\n",
        "4.11636616235\n",
        "psiPrev [-126.3307709]\n",
        "muiexsPrev [ 3.60971809  4.74182437  0.30429261 -6.20176321]\n",
        "itersgamma 0, iterspsi 8602"
       ]
      },
      {
       "output_type": "stream",
       "stream": "stdout",
       "text": [
        "\n",
        "4.1163660245\n",
        "psiPrev [-126.3307766]\n",
        "muiexsPrev [ 3.60970642  4.74192211  0.30413895 -6.20176254]\n",
        "itersgamma 0, iterspsi 8014"
       ]
      },
      {
       "output_type": "stream",
       "stream": "stdout",
       "text": [
        "\n",
        "4.1163661399\n",
        "[ 3.60978903  4.74201256  0.30428203 -6.20176313] [  6.52276551e-05   1.29134790e-04   1.35990297e-04   5.77049063e-07]\n",
        "[-126.33077179] [  4.80562017e-06]\n",
        "nacl 0.000261015721568\n",
        "conc_M [  1.00000000e-200   2.63015722e-004   2.61015722e-004   1.00000000e-006]\n",
        "mufilteri [ 3.60978903  4.74201256  0.30428203 -6.20176313]\n",
        "rhoFilteri [  2.13333333e+01   9.74631500e-09   1.58181977e-02   5.32544107e+00]\n",
        "donnanPotentiali [-126.33077179]\n",
        "7.03591299057  elapsed seconds \n",
        "[  1.00000000e-200   7.51894209e-004   7.49894209e-004   1.00000000e-006]\n",
        "1e-06\n",
        "psiPrev [-126.33077179]\n",
        "muiexsPrev [ 3.60978903  4.74201256  0.30428203 -6.20176313]\n",
        "itersgamma 0, iterspsi 8505"
       ]
      },
      {
       "output_type": "stream",
       "stream": "stdout",
       "text": [
        "\n",
        "4.11464287635\n",
        "psiPrev [-127.03249267]\n",
        "muiexsPrev [ 3.61261727  4.74745903  0.30646705 -6.19678558]\n",
        "itersgamma 0, iterspsi 7840"
       ]
      },
      {
       "output_type": "stream",
       "stream": "stdout",
       "text": [
        "\n",
        "4.11464287565\n",
        "psiPrev [-127.03249153]\n",
        "muiexsPrev [ 3.61266042  4.74743967  0.30646805 -6.19678567]\n",
        "itersgamma 0, iterspsi 7912"
       ]
      },
      {
       "output_type": "stream",
       "stream": "stdout",
       "text": [
        "\n",
        "4.11464289931\n",
        "psiPrev [-127.03249081]\n",
        "muiexsPrev [ 3.61288127  4.7476806   0.30647681 -6.19678577]\n",
        "itersgamma 0, iterspsi 8201"
       ]
      },
      {
       "output_type": "stream",
       "stream": "stdout",
       "text": [
        "\n",
        "4.11464352812\n",
        "psiPrev [-127.03246675]\n",
        "muiexsPrev [ 3.61275308  4.74760819  0.30671496 -6.19678868]\n",
        "itersgamma 0, iterspsi 170\n",
        "4.11551640688\n",
        "[ 3.73084672  4.83975676  0.38860969 -6.19544414] [ 0.23623744  0.18441981  0.16415597  0.00268458]\n",
        "[-127.05338349] [ 0.0417961]\n",
        "nacl 0.000749894209332\n",
        "conc_M [  1.00000000e-200   7.51894209e-004   7.49894209e-004   1.00000000e-006]\n",
        "mufilteri [ 3.73084672  4.83975676  0.38860969 -6.19544414]\n",
        "rhoFilteri [  2.13333333e+01   1.67055170e-08   3.06243218e-02   5.31801883e+00]\n",
        "donnanPotentiali [-127.05338349]\n",
        "5.63640999794  elapsed seconds \n",
        "[  1.00000000e-200   2.15643469e-003   2.15443469e-003   1.00000000e-006]\n",
        "1e-06\n",
        "psiPrev [-127.05338349]\n",
        "muiexsPrev [ 3.73084672  4.83975676  0.38860969 -6.19544414]\n",
        "itersgamma 0, iterspsi 7134"
       ]
      },
      {
       "output_type": "stream",
       "stream": "stdout",
       "text": [
        "\n",
        "4.10957528398\n",
        "psiPrev [-128.25617322]\n",
        "muiexsPrev [ 3.62127097  4.76388364  0.31367209 -6.1821581 ]\n",
        "itersgamma 0, iterspsi 8495"
       ]
      },
      {
       "output_type": "stream",
       "stream": "stdout",
       "text": [
        "\n",
        "4.10957323454\n",
        "psiPrev [-128.2562505]\n",
        "muiexsPrev [ 3.6211651   4.76391526  0.31340995 -6.18214867]\n",
        "itersgamma 0, iterspsi 7035"
       ]
      },
      {
       "output_type": "stream",
       "stream": "stdout",
       "text": [
        "\n",
        "4.10957357192\n",
        "psiPrev [-128.25623752]\n",
        "muiexsPrev [ 3.62171995  4.76435566  0.31345319 -6.18215024]\n",
        "itersgamma 0, iterspsi 8372"
       ]
      },
      {
       "output_type": "stream",
       "stream": "stdout",
       "text": [
        "\n",
        "4.10957410585\n",
        "psiPrev [-128.25621706]\n",
        "muiexsPrev [ 3.62100639  4.76378805  0.31352159 -6.18215272]\n",
        "itersgamma 0, iterspsi 8386"
       ]
      },
      {
       "output_type": "stream",
       "stream": "stdout",
       "text": [
        "\n",
        "4.10957388297\n",
        "[ 3.62124471  4.76398849  0.31350993 -6.18215227] [  2.54306688e-04   1.95691524e-04   8.93765108e-05   3.21438822e-06]\n",
        "[-128.25622092] [  2.63436025e-05]\n",
        "nacl 0.00215443469003\n",
        "conc_M [  1.00000000e-200   2.15643469e-003   2.15443469e-003   1.00000000e-006]\n",
        "mufilteri [ 3.62124471  4.76398849  0.31350993 -6.18215227]\n",
        "rhoFilteri [  2.13333333e+01   7.00058300e-08   1.34619613e-01   5.26604057e+00]\n",
        "donnanPotentiali [-128.25622092]\n",
        "6.93704485893  elapsed seconds \n",
        "[  1.00000000e-200   6.19165819e-003   6.18965819e-003   1.00000000e-006]\n",
        "1e-06\n",
        "psiPrev [-128.25622092]\n",
        "muiexsPrev [ 3.62124471  4.76398849  0.31350993 -6.18215227]\n",
        "itersgamma 0, iterspsi 7606"
       ]
      },
      {
       "output_type": "stream",
       "stream": "stdout",
       "text": [
        "\n",
        "4.09447711266\n",
        "psiPrev [-130.4280559]\n",
        "muiexsPrev [ 3.64643151  4.81267632  0.3339696  -6.13860292]\n",
        "itersgamma 0, iterspsi 8024"
       ]
      },
      {
       "output_type": "stream",
       "stream": "stdout",
       "text": [
        "\n",
        "4.09447407195\n",
        "psiPrev [-130.42817192]\n",
        "muiexsPrev [ 3.64614266  4.8126068   0.33384162 -6.13858873]\n",
        "itersgamma 0, iterspsi 8875"
       ]
      },
      {
       "output_type": "stream",
       "stream": "stdout",
       "text": [
        "\n",
        "4.09447230529\n",
        "psiPrev [-130.42824041]\n",
        "muiexsPrev [ 3.64618181  4.81272918  0.33376717 -6.1385804 ]\n",
        "itersgamma 0, iterspsi 8343"
       ]
      },
      {
       "output_type": "stream",
       "stream": "stdout",
       "text": [
        "\n",
        "4.09447283438\n",
        "psiPrev [-130.4282201]\n",
        "muiexsPrev [ 3.64628574  4.81268912  0.33378945 -6.13858288]\n",
        "itersgamma 0, iterspsi 8491"
       ]
      },
      {
       "output_type": "stream",
       "stream": "stdout",
       "text": [
        "\n",
        "4.09447349902\n",
        "[ 3.64624568  4.81267946  0.33383707 -6.13858819] [  1.04223064e-04   4.03108487e-05   7.08833108e-05   7.88467107e-06]\n",
        "[-130.42817647] [  6.45867507e-05]\n",
        "nacl 0.00618965818891\n",
        "conc_M [  1.00000000e-200   6.19165819e-003   6.18965819e-003   1.00000000e-006]\n",
        "mufilteri [ 3.64624568  4.81267946  0.33383707 -6.13858819]\n",
        "rhoFilteri [  2.13333333e+01   1.69453517e-07   3.97310405e-01   5.13469533e+00]\n",
        "donnanPotentiali [-130.42817647]\n",
        "7.24689388275  elapsed seconds \n",
        "[  1.00000000e-200   1.77847941e-002   1.77827941e-002   1.00000000e-006]\n",
        "1e-06\n",
        "psiPrev [-130.42817647]\n",
        "muiexsPrev [ 3.64624568  4.81267946  0.33383707 -6.13858819]\n",
        "itersgamma 0, iterspsi 5757"
       ]
      },
      {
       "output_type": "stream",
       "stream": "stdout",
       "text": [
        "\n",
        "4.04903910966\n",
        "psiPrev [-134.37026373]\n",
        "muiexsPrev [ 3.72366154  4.95832775  0.39480169 -6.00802365]\n",
        "itersgamma 0, iterspsi 4609"
       ]
      },
      {
       "output_type": "stream",
       "stream": "stdout",
       "text": [
        "\n",
        "4.04957998464\n",
        "psiPrev [-134.35260291]\n",
        "muiexsPrev [ 3.71801005  4.95473043  0.40181162 -6.01036029]\n",
        "itersgamma 0, iterspsi 2916"
       ]
      },
      {
       "output_type": "stream",
       "stream": "stdout",
       "text": [
        "\n",
        "4.05098910332\n",
        "psiPrev [-134.29978869]\n",
        "muiexsPrev [ 3.72743302  4.95563215  0.42041866 -6.01699564]\n",
        "itersgamma 0, iterspsi 2380"
       ]
      },
      {
       "output_type": "stream",
       "stream": "stdout",
       "text": [
        "\n",
        "4.0517439307\n",
        "psiPrev [-134.27182764]\n",
        "muiexsPrev [ 3.76971247  4.99443755  0.43058302 -6.02052236]\n",
        "itersgamma 0, iterspsi 6898"
       ]
      },
      {
       "output_type": "stream",
       "stream": "stdout",
       "text": [
        "\n",
        "4.04908958598\n",
        "[ 3.7320177   4.96434806  0.40861212 -6.01278749] [ 0.01909679  0.01511942  0.01436974  0.00507353]\n",
        "[-134.33313029] [ 0.0401862]\n",
        "nacl 0.0177827941004\n",
        "conc_M [  1.00000000e-200   1.77847941e-002   1.77827941e-002   1.00000000e-006]\n",
        "mufilteri [ 3.7320177   4.96434806  0.40861212 -6.01278749]\n",
        "rhoFilteri [  2.13333333e+01   3.38846242e-07   1.17507710e+00   4.74581206e+00]\n",
        "donnanPotentiali [-134.33313029]\n",
        "3.90503907204  elapsed seconds \n",
        "[  1.00000000e-200   5.10916977e-002   5.10896977e-002   1.00000000e-006]\n",
        "1e-06\n",
        "psiPrev [-134.33313029]\n",
        "muiexsPrev [ 3.7320177   4.96434806  0.40861212 -6.01278749]\n",
        "itersgamma 0, iterspsi 6987"
       ]
      },
      {
       "output_type": "stream",
       "stream": "stdout",
       "text": [
        "\n",
        "3.91599833839\n",
        "psiPrev [-141.44446566]\n",
        "muiexsPrev [ 3.93554096  5.3776994   0.57121829 -5.62762278]\n",
        "itersgamma 0, iterspsi 1972"
       ]
      },
      {
       "output_type": "stream",
       "stream": "stdout",
       "text": [
        "\n",
        "3.93634478817\n",
        "psiPrev [-140.72282969]\n",
        "muiexsPrev [ 3.9798169   5.31848339  0.64445819 -5.72733003]\n",
        "itersgamma 0, iterspsi 9003"
       ]
      },
      {
       "output_type": "stream",
       "stream": "stdout",
       "text": [
        "\n",
        "3.91598700596\n",
        "psiPrev [-141.44488691]\n",
        "muiexsPrev [ 3.93594952  5.3780521   0.5711813  -5.62756533]\n",
        "itersgamma 0, iterspsi 9150"
       ]
      },
      {
       "output_type": "stream",
       "stream": "stdout",
       "text": [
        "\n",
        "3.91598642683\n",
        "psiPrev [-141.44490899]\n",
        "muiexsPrev [ 3.93592478  5.37806142  0.57117943 -5.62756235]\n",
        "itersgamma 0, iterspsi 3028"
       ]
      },
      {
       "output_type": "stream",
       "stream": "stdout",
       "text": [
        "\n",
        "3.91828887205\n",
        "[ 3.94501226  5.37015145  0.58736352 -5.64985237] [ 0.01742057  0.02702951  0.02869819  0.03899838]\n",
        "[-141.28339237] [ 0.28220281]\n",
        "nacl 0.0510896977451\n",
        "conc_M [  1.00000000e-200   5.10916977e-002   5.10896977e-002   1.00000000e-006]\n",
        "mufilteri [ 3.94501226  5.37015145  0.58736352 -5.64985237]\n",
        "rhoFilteri [  2.13333333e+01   4.30474371e-07   3.32008445e+00   3.67330763e+00]\n",
        "donnanPotentiali [-141.28339237]\n",
        "5.18984103203  elapsed seconds \n",
        "[  1.00000000e-200   1.46781927e-001   1.46779927e-001   1.00000000e-006]\n",
        "1e-06\n",
        "psiPrev [-141.28339237]\n",
        "muiexsPrev [ 3.94501226  5.37015145  0.58736352 -5.64985237]\n",
        "itersgamma 0, iterspsi 5429"
       ]
      },
      {
       "output_type": "stream",
       "stream": "stdout",
       "text": [
        "\n",
        "3.61966714662\n",
        "psiPrev [-149.88205362]\n",
        "muiexsPrev [ 4.38607456  6.26503179  0.94777916 -4.79570809]\n",
        "itersgamma 0, iterspsi 6631"
       ]
      },
      {
       "output_type": "stream",
       "stream": "stdout",
       "text": [
        "\n",
        "3.61987053077\n",
        "psiPrev [-149.87822192]\n",
        "muiexsPrev [ 4.38690186  6.26660246  0.94797204 -4.79691794]\n",
        "itersgamma 0, iterspsi 7947"
       ]
      },
      {
       "output_type": "stream",
       "stream": "stdout",
       "text": [
        "\n",
        "3.61977962506\n",
        "psiPrev [-149.88135435]\n",
        "muiexsPrev [ 4.38704547  6.26651909  0.94793456 -4.79625746]\n",
        "itersgamma 0, iterspsi 9716"
       ]
      },
      {
       "output_type": "stream",
       "stream": "stdout",
       "text": [
        "\n",
        "3.61976464106\n",
        "psiPrev [-149.88187163]\n",
        "muiexsPrev [ 4.38704434  6.26675435  0.94792842 -4.79614849]\n",
        "itersgamma 0, iterspsi 4085"
       ]
      },
      {
       "output_type": "stream",
       "stream": "stdout",
       "text": [
        "\n",
        "3.62168909426\n",
        "[ 4.38590511  6.26464403  0.94807023 -4.79902308] [ 0.00176034  0.00322626  0.00033983  0.00554371]\n",
        "[-149.86785261] [ 0.02608256]\n",
        "nacl 0.146779926762\n",
        "conc_M [  1.00000000e-200   1.46781927e-001   1.46779927e-001   1.00000000e-006]\n",
        "mufilteri [ 4.38590511  6.26464403  0.94807023 -4.79902308]\n",
        "rhoFilteri [  2.13333333e+01   3.18116674e-07   7.67951239e+00   1.49359093e+00]\n",
        "donnanPotentiali [-149.86785261]\n",
        "5.85635900497  elapsed seconds \n",
        "[  1.00000000e-200   4.21698503e-001   4.21696503e-001   1.00000000e-006]\n",
        "1e-06\n",
        "psiPrev [-149.86785261]\n",
        "muiexsPrev [ 4.38590511  6.26464403  0.94807023 -4.79902308]\n",
        "itersgamma 0, iterspsi 7964"
       ]
      },
      {
       "output_type": "stream",
       "stream": "stdout",
       "text": [
        "\n",
        "3.41348492442\n",
        "psiPrev [-144.24697881]\n",
        "muiexsPrev [ 4.67759278  6.84535927  1.19693821 -4.23032692]\n",
        "itersgamma 0, iterspsi 8583"
       ]
      },
      {
       "output_type": "stream",
       "stream": "stdout",
       "text": [
        "\n",
        "3.41347743254\n",
        "psiPrev [-144.24721481]\n",
        "muiexsPrev [ 4.67779252  6.84564827  1.19693868 -4.23002204]\n",
        "itersgamma 0, iterspsi 9536"
       ]
      },
      {
       "output_type": "stream",
       "stream": "stdout",
       "text": [
        "\n",
        "3.41348179351\n",
        "psiPrev [-144.2470765]\n",
        "muiexsPrev [ 4.67770812  6.84559395  1.19693837 -4.23019964]\n",
        "itersgamma 0, iterspsi 7596"
       ]
      },
      {
       "output_type": "stream",
       "stream": "stdout",
       "text": [
        "\n",
        "3.41348295187\n",
        "psiPrev [-144.24704025]\n",
        "muiexsPrev [ 4.6777835   6.84552024  1.19693831 -4.23024674]\n",
        "itersgamma 0, iterspsi 8543"
       ]
      },
      {
       "output_type": "stream",
       "stream": "stdout",
       "text": [
        "\n",
        "3.41347632809\n",
        "[ 4.67775444  6.84556799  1.19693846 -4.23015448] [  1.00411172e-04   1.22908296e-04   2.14720235e-07   1.33648829e-04]\n",
        "[-144.24711204] [ 0.00010365]\n",
        "nacl 0.421696503429\n",
        "conc_M [  1.00000000e-200   4.21698503e-001   4.21696503e-001   1.00000000e-006]\n",
        "mufilteri [ 4.67775444  6.84556799  1.19693846 -4.23015448]\n",
        "rhoFilteri [  2.13333333e+01   4.85112393e-07   1.03505914e+01   1.58049634e-01]\n",
        "donnanPotentiali [-144.24711204]\n",
        "7.31240701675  elapsed seconds \n",
        "[  1.00000000e-200   1.21152966e+000   1.21152766e+000   1.00000000e-006]\n",
        "1e-06\n",
        "psiPrev [-144.24711204]\n",
        "muiexsPrev [ 4.67775444  6.84556799  1.19693846 -4.23015448]\n",
        "itersgamma 0, iterspsi 7507"
       ]
      },
      {
       "output_type": "stream",
       "stream": "stdout",
       "text": [
        "\n",
        "3.38825465316\n",
        "psiPrev [-130.65490283]\n",
        "muiexsPrev [ 4.71198274  6.91443099  1.22661108 -4.16162834]\n",
        "itersgamma 0, iterspsi 10030"
       ]
      },
      {
       "output_type": "stream",
       "stream": "stdout",
       "text": [
        "\n",
        "3.38825475574\n",
        "psiPrev [-130.65489912]\n",
        "muiexsPrev [ 4.71193001  6.91404594  1.22661105 -4.16172309]\n",
        "itersgamma 0, iterspsi 9748"
       ]
      },
      {
       "output_type": "stream",
       "stream": "stdout",
       "text": [
        "\n",
        "3.3882547567\n",
        "psiPrev [-130.65489917]\n",
        "muiexsPrev [ 4.71191654  6.91405206  1.22661105 -4.16172387]\n",
        "itersgamma 0, iterspsi 8492"
       ]
      },
      {
       "output_type": "stream",
       "stream": "stdout",
       "text": [
        "\n",
        "3.38825472123\n",
        "psiPrev [-130.65490086]\n",
        "muiexsPrev [ 4.71209743  6.91419056  1.22661108 -4.1616906 ]\n",
        "itersgamma 0, iterspsi 9291"
       ]
      },
      {
       "output_type": "stream",
       "stream": "stdout",
       "text": [
        "\n",
        "3.38825474336\n",
        "[ 4.71197199  6.9141557   1.22661107 -4.16169541] [  6.66223969e-05   1.47749462e-04   1.21320251e-08   3.56245342e-05]\n",
        "[-130.65490039] [  1.37625571e-06]\n",
        "nacl 1.21152765863\n",
        "conc_M [  1.00000000e-200   1.21152966e+000   1.21152766e+000   1.00000000e-006]\n",
        "mufilteri [ 4.71197199  6.9141557   1.22661107 -4.16169541]\n",
        "rhoFilteri [  2.13333333e+01   1.50951023e-06   1.06536686e+01   6.51023805e-03]\n",
        "donnanPotentiali [-130.65490039]\n",
        "7.8641910553  elapsed seconds \n",
        "[  1.00000000e-200   3.48070259e+000   3.48070059e+000   1.00000000e-006]\n",
        "1e-06\n",
        "psiPrev [-130.65490039]\n",
        "muiexsPrev [ 4.71197199  6.9141557   1.22661107 -4.16169541]\n",
        "itersgamma 0, iterspsi 9876"
       ]
      },
      {
       "output_type": "stream",
       "stream": "stdout",
       "text": [
        "\n",
        "3.38718114632\n",
        "psiPrev [-121.54714783]\n",
        "muiexsPrev [ 4.7133958   6.9169233   1.22786805 -4.15880857]\n",
        "itersgamma 0, iterspsi 8993"
       ]
      },
      {
       "output_type": "stream",
       "stream": "stdout",
       "text": [
        "\n",
        "3.38718114373\n",
        "psiPrev [-121.54714732]\n",
        "muiexsPrev [ 4.71338838  6.9169339   1.22786803 -4.15870663]\n",
        "itersgamma 0, iterspsi 8744"
       ]
      },
      {
       "output_type": "stream",
       "stream": "stdout",
       "text": [
        "\n",
        "3.38718114437\n",
        "psiPrev [-121.54714794]\n",
        "muiexsPrev [ 4.71343952  6.91696175  1.22786805 -4.15869652]\n",
        "itersgamma 0, iterspsi 7204"
       ]
      },
      {
       "output_type": "stream",
       "stream": "stdout",
       "text": [
        "\n",
        "3.38718114529\n",
        "psiPrev [-121.54714777]\n",
        "muiexsPrev [ 4.71351198  6.917232    1.22786805 -4.15876445]\n",
        "itersgamma 0, iterspsi 9862"
       ]
      },
      {
       "output_type": "stream",
       "stream": "stdout",
       "text": [
        "\n",
        "3.3871811463\n",
        "[ 4.71342312  6.91699447  1.22786804 -4.15875563] [  4.89647898e-05   1.19638433e-04   8.81747504e-09   4.67445145e-05]\n",
        "[-121.54714775] [  2.23707959e-07]\n",
        "nacl 3.48070058843\n",
        "conc_M [  1.00000000e-200   3.48070259e+000   3.48070059e+000   1.00000000e-006]\n",
        "mufilteri [ 4.71342312  6.91699447  1.22786804 -4.15875563]\n",
        "rhoFilteri [  2.13333333e+01   4.03496665e-06   1.06664776e+01   1.06296672e-04]\n",
        "donnanPotentiali [-121.54714775]\n",
        "7.79043316841  elapsed seconds \n",
        "[  1.00000000e-200   1.00000020e+001   1.00000000e+001   1.00000000e-006]\n",
        "1e-06\n",
        "psiPrev [-121.54714775]\n",
        "muiexsPrev [ 4.71342312  6.91699447  1.22786804 -4.15875563]\n",
        "itersgamma 0, iterspsi 9506"
       ]
      },
      {
       "output_type": "stream",
       "stream": "stdout",
       "text": [
        "\n",
        "3.38716566988\n",
        "psiPrev [-114.12818144]\n",
        "muiexsPrev [ 4.71340981  6.9170295   1.22789359 -4.15870015]\n",
        "itersgamma 0, iterspsi 10159"
       ]
      },
      {
       "output_type": "stream",
       "stream": "stdout",
       "text": [
        "\n",
        "3.38716567131\n",
        "psiPrev [-114.12818241]\n",
        "muiexsPrev [ 4.71342038  6.91698863  1.22789363 -4.15873947]\n",
        "itersgamma 0, iterspsi 188\n",
        "3.38716241137\n",
        "psiPrev [-114.30983584]\n",
        "muiexsPrev [ 5.35290878  7.68699692  1.23498528 -3.92914132]\n",
        "itersgamma 0, iterspsi 9878"
       ]
      },
      {
       "output_type": "stream",
       "stream": "stdout",
       "text": [
        "\n",
        "3.38716567084\n",
        "psiPrev [-114.12818218]\n",
        "muiexsPrev [ 4.71347145  6.91704534  1.22789362 -4.15872567]\n",
        "itersgamma 0, iterspsi 6870"
       ]
      },
      {
       "output_type": "stream",
       "stream": "stdout",
       "text": [
        "\n",
        "3.38716566836\n",
        "[ 4.84152599  7.07120411  1.22931195 -4.11281196] [ 0.25569168  0.30789662  0.00283667  0.09183532]\n",
        "[-114.16451279] [ 0.07266153]\n",
        "nacl 10.0\n",
        "conc_M [  1.00000000e-200   1.00000020e+001   1.00000000e+001   1.00000000e-006]\n",
        "mufilteri [ 4.84152599  7.07120411  1.22931195 -4.11281196]\n",
        "rhoFilteri [  2.13333333e+01   2.32433954e-05   1.06667076e+01   2.79928322e-07]\n",
        "donnanPotentiali [-114.16451279]\n",
        "6.3549079895  elapsed seconds \n"
       ]
      }
     ],
     "prompt_number": 27
    },
    {
     "cell_type": "code",
     "collapsed": false,
     "input": [
      "# change in to np.arrays\n",
      "for key, value in results.iteritems():\n",
      "  print key  \n",
      "  results[key] = np.array( results[key] )"
     ],
     "language": "python",
     "metadata": {},
     "outputs": [
      {
       "output_type": "stream",
       "stream": "stdout",
       "text": [
        "muBath\n",
        "muFilter\n",
        "rhoFilter\n",
        "mu_ES\n",
        "nacl\n",
        "mu_HS\n",
        "muFilterStd\n",
        "deltaG\n",
        "donnanPotential\n",
        "donnanPotentialStd\n"
       ]
      }
     ],
     "prompt_number": 34
    },
    {
     "cell_type": "markdown",
     "metadata": {},
     "source": [
      "### Write results to pickle file (so we can manipulate later) "
     ]
    },
    {
     "cell_type": "code",
     "collapsed": false,
     "input": [
      "import cPickle as pickle\n",
      "pklFile = \"ionic.pkl\""
     ],
     "language": "python",
     "metadata": {},
     "outputs": [],
     "prompt_number": 35
    },
    {
     "cell_type": "code",
     "collapsed": false,
     "input": [
      "\n",
      "\n",
      "output = open(pklFile, 'wb')\n",
      "pickle.dump(results, output)\n",
      "output.close()\n"
     ],
     "language": "python",
     "metadata": {},
     "outputs": [],
     "prompt_number": 36
    },
    {
     "cell_type": "markdown",
     "metadata": {},
     "source": [
      "### Read pickle (unnecessary, but done for illustration)"
     ]
    },
    {
     "cell_type": "code",
     "collapsed": false,
     "input": [
      "pkl_file = open(pklFile, 'rb')\n",
      "results = pickle.load(pkl_file)\n",
      "pkl_file.close()\n",
      "\n"
     ],
     "language": "python",
     "metadata": {},
     "outputs": [],
     "prompt_number": 37
    },
    {
     "cell_type": "markdown",
     "metadata": {},
     "source": [
      "### Plotting \n",
      "Results should compare well with Fig 2 of [1]\tW. Nonner, L. Catacuzzeno, and B. Eisenberg, \u201cBinding and selectivity in L-type calcium channels: a mean spherical approximation.,\u201d Biophys J, vol. 79, no. 4, pp. 1976\u20131992, Oct. 2000.\n",
      "\n",
      "Results below are close, but not exact with Nonner paper. Namely, Na s.b. at 15 M in the pocket, but is only ten here. All else looks pretty reasonable \n"
     ]
    },
    {
     "cell_type": "code",
     "collapsed": false,
     "input": [
      "def doPlot(results,key,ylabel=\"\",legend=True):\n",
      "  keyed = results[key]\n",
      "  if key==\"donnanPotential\":  \n",
      "    plt.plot(results[\"nacl\"],keyed,label=\"All ions\") \n",
      "    plt.errorbar(results[\"nacl\"],keyed, yerr=results['donnanPotentialStd'])                \n",
      "    legend=False\n",
      "    \n",
      "  else:      \n",
      "    plt.plot(results[\"nacl\"],keyed[:,msa.idxNa], 'r',label=\"Na\")\n",
      "    plt.plot(results[\"nacl\"],keyed[:,msa.idxCa], 'g',label=\"Ca\")\n",
      "    plt.plot(results[\"nacl\"],keyed[:,msa.idxCl], 'b',label=\"Cl\")\n",
      "    \n",
      "    if key==\"muFilter\":  \n",
      "      keyedStd = results['muFilterStd']  \n",
      "      plt.errorbar(results[\"nacl\"],keyed[:,msa.idxNa], yerr = keyedStd[:,msa.idxNa],fmt='r')\n",
      "      plt.errorbar(results[\"nacl\"],keyed[:,msa.idxCa], yerr = keyedStd[:,msa.idxCa],fmt='g')\n",
      "      plt.errorbar(results[\"nacl\"],keyed[:,msa.idxCl], yerr = keyedStd[:,msa.idxCl],fmt='b')\n",
      "\n",
      "\n",
      "  plt.ylabel(ylabel)\n",
      "  plt.xlabel(\"log(NaCl)\")  \n",
      "  plt.xscale('log')\n",
      "  if legend:\n",
      "        plt.legend(loc=0)"
     ],
     "language": "python",
     "metadata": {},
     "outputs": [],
     "prompt_number": 38
    },
    {
     "cell_type": "code",
     "collapsed": false,
     "input": [
      "import matplotlib.pylab as plt\n",
      "matplotlib.rcParams['figure.figsize'] = (9.0, 6.0)\n",
      "\n",
      "plt.subplot(2,2,1)\n",
      "doPlot(results,\"rhoFilter\",ylabel=\"Pore Conc [M]\")\n",
      "\n",
      "plt.subplot(2,2,2)\n",
      "doPlot(results,\"muFilter\",ylabel=\"Excess chemical potential\\n [kT]\",legend=False)\n",
      "\n",
      "plt.subplot(2,2,3)\n",
      "doPlot(results,\"deltaG\",ylabel=\"'Free energy'\",legend=False)\n",
      "\n",
      "plt.subplot(2,2,4)\n",
      "doPlot(results,\"donnanPotential\",ylabel=\"Donnan potential [mV]\")\n",
      "\n",
      "plt.tight_layout()\n",
      "plt.gcf().savefig(\"valid2.png\",dpi=300)"
     ],
     "language": "python",
     "metadata": {},
     "outputs": [
      {
       "metadata": {},
       "output_type": "display_data",
       "png": "[encoded data removed]",
       "text": [
        "<matplotlib.figure.Figure at 0x7f521cf88b10>"
       ]
      }
     ],
     "prompt_number": 39
    },
    {
     "cell_type": "code",
     "collapsed": false,
     "input": [],
     "language": "python",
     "metadata": {},
     "outputs": [],
     "prompt_number": 33
    },
    {
     "cell_type": "code",
     "collapsed": false,
     "input": [],
     "language": "python",
     "metadata": {},
     "outputs": [],
     "prompt_number": 33
    },
    {
     "cell_type": "code",
     "collapsed": false,
     "input": [],
     "language": "python",
     "metadata": {},
     "outputs": [],
     "prompt_number": 33
    },
    {
     "cell_type": "code",
     "collapsed": false,
     "input": [],
     "language": "python",
     "metadata": {},
     "outputs": []
    }
   ],
   "metadata": {}
  }
 ]
}