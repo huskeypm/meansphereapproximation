{
 "metadata": {
  "name": "",
  "signature": "sha256:ead8db61c3baf124d23c0c2da7f42dcb2d2f714eb2106dfc5878ba64287e1f7f"
 },
 "nbformat": 3,
 "nbformat_minor": 0,
 "worksheets": [
  {
   "cells": [
    {
     "cell_type": "markdown",
     "metadata": {},
     "source": [
      "# Test to verify all is well in MSA land\n",
      "\n",
      "PKH Verified once more on 160830"
     ]
    },
    {
     "cell_type": "code",
     "collapsed": false,
     "input": [
      "%load_ext autoreload\n",
      "%autoreload 2"
     ],
     "language": "python",
     "metadata": {},
     "outputs": [
      {
       "output_type": "stream",
       "stream": "stdout",
       "text": [
        "The autoreload extension is already loaded. To reload it, use:\n",
        "  %reload_ext autoreload\n"
       ]
      }
     ],
     "prompt_number": 31
    },
    {
     "cell_type": "markdown",
     "metadata": {},
     "source": [
      "## Nonner parameters"
     ]
    },
    {
     "cell_type": "code",
     "collapsed": false,
     "input": [
      "import MSAtools as msa\n",
      "msa.idxOxy = 0\n",
      "msa.idxCl = 1\n",
      "msa.idxNa = 2\n",
      "msa.idxCa = 3\n",
      "msa.nOxy = 8.0\n",
      "msa.idxOxy = 0\n",
      "msa.cacl2 = 1e-10\n",
      "msa.indices=[\"O\",\"Cl\",\"Na\",\"Ca\"]  # ALWAYS put oxygen first\n",
      "msa.ref_conc_M = np.array([1e-200, (100.0e-3), 100.0e-3, 0])  # [M] order is  O, Cl, Na, Ca (bath) \n",
      "msa.nIons = np.shape(msa.ref_conc_M)[0]\n",
      "msa.zs = np.array([-0.5, -1.0, 1.0, 2.00]) #input charges here\n",
      "\n",
      "#FF RADII (Nonner)#\n",
      "msa.sigmas = np.array([0.278, 0.362, 0.204, 0.200])\n",
      "msa.V_i = 0.375 # nm^3\n",
      "msa.filter_dielectric= 63.5\n"
     ],
     "language": "python",
     "metadata": {},
     "outputs": [],
     "prompt_number": 32
    },
    {
     "cell_type": "code",
     "collapsed": false,
     "input": [
      "\n"
     ],
     "language": "python",
     "metadata": {},
     "outputs": [],
     "prompt_number": 32
    },
    {
     "cell_type": "code",
     "collapsed": false,
     "input": [
      "print msa.results"
     ],
     "language": "python",
     "metadata": {},
     "outputs": [
      {
       "output_type": "stream",
       "stream": "stdout",
       "text": [
        "{'e0': 0.0390625}\n"
       ]
      }
     ],
     "prompt_number": 33
    },
    {
     "cell_type": "markdown",
     "metadata": {},
     "source": [
      "### Run single iter"
     ]
    },
    {
     "cell_type": "code",
     "collapsed": false,
     "input": [
      "muiexsPrev = np.zeros(msa.nIons)\n",
      "psiPrev = 0.\n",
      "muiexsPrev = 0\n",
      "alpha = 0.0010\n",
      "msa.Ns = np.array([msa.nOxy, 1., 1., 1.]) # Number of ions in filter (first number is fixed, others are determined by MSA)\n",
      "\n",
      "\n",
      "from timeit import default_timer as timer\n",
      "\n",
      "start = timer()\n",
      "msa.conc_M = np.copy(msa.ref_conc_M)\n",
      "msa.conc_M[msa.idxCl] = msa.ref_conc_M[msa.idxCl] + 2 * msa.cacl2\n",
      "msa.conc_M[msa.idxCa] = msa.cacl2\n",
      "print msa.nOxy\n",
      "mufilteri,donnanPotentiali,mu_ESi,mu_HSi,rhoFilteri = msa.SolveMSAEquations(\n",
      "    msa.filter_dielectric,\n",
      "    msa.conc_M,\n",
      "    msa.zs,\n",
      "    msa.Ns,\n",
      "    msa.V_i,\n",
      "    msa.sigmas,                                                 \n",
      "    msa.nOxy,\n",
      "    psiPrev=psiPrev,\n",
      "    muiexsPrev=muiexsPrev,\n",
      "    alpha=alpha, \n",
      "    verbose=False)\n",
      "    #verbose=True)\n",
      "    \n",
      "print \"cacl2\", msa.cacl2    \n",
      "print \"conc_M\", msa.conc_M\n",
      "print \"mufilteri\",mufilteri\n",
      "print \"rhoFilteri\",rhoFilteri\n",
      "print \"donnanPotentiali\",donnanPotentiali    \n",
      "end = timer()\n",
      "print(end - start), \" elapsed seconds \"\n"
     ],
     "language": "python",
     "metadata": {},
     "outputs": [
      {
       "output_type": "stream",
       "stream": "stdout",
       "text": [
        "8.0\n",
        "itersgamma 13, iters 10128"
       ]
      },
      {
       "output_type": "stream",
       "stream": "stdout",
       "text": [
        "\n",
        "cacl2 1e-10\n",
        "conc_M [  1.00000000e-200   1.00000000e-001   1.00000000e-001   1.00000000e-010]\n",
        "mufilteri [ 4.71131328  6.90968172  1.22109351 -4.18507168]\n",
        "rhoFilteri [  2.13333333e+01   4.88119384e-08   1.06652933e+01   6.72860178e-04]\n",
        "donnanPotentiali -173.101611326\n",
        "2.85330200195  elapsed seconds \n"
       ]
      }
     ],
     "prompt_number": 34
    },
    {
     "cell_type": "code",
     "collapsed": false,
     "input": [
      "muiexsPrev = np.zeros(msa.nIons)\n",
      "psiPrev = 0.\n",
      "muiexsPrev = 0\n",
      "alpha = 0.0010\n",
      "\n",
      "results = {}\n",
      "results[\"muFilter\"]=[]\n",
      "results[\"donnanPotential\"]=[]\n",
      "results[\"mu_ES\"]=[]\n",
      "results[\"mu_HS\"]=[]\n",
      "results[\"rhoFilter\"]=[]\n",
      "results[\"muBath\"] = []\n",
      "results[\"deltaG\"] = []\n",
      "\n",
      "from timeit import default_timer as timer\n",
      "\n",
      "#cacl2s = np.linspace(-10,-6,3) # Coarse\n",
      "cacl2s = np.linspace(-10,-1,22) # Fine\n",
      "\n",
      "cacl2s = 10**cacl2s\n",
      "results[\"cacl2\"] = cacl2s\n",
      "\n",
      "\n",
      "\n",
      "for i, cacl2i  in enumerate(cacl2s):\n",
      "    # start timer\n",
      "    start = timer()\n",
      "    \n",
      "    # update concs\n",
      "    msa.cacl2 = cacl2i\n",
      "    msa.conc_M = np.copy(msa.ref_conc_M)\n",
      "    msa.conc_M[msa.idxCl] = msa.ref_conc_M[msa.idxCl] + 2 * msa.cacl2\n",
      "    msa.conc_M[msa.idxCa] = msa.cacl2\n",
      "    \n",
      "    # run MSA \n",
      "    mufilteri,donnanPotentiali,mu_ESi,mu_HSi,rhoFilteri = msa.SolveMSAEquations(\n",
      "        msa.filter_dielectric,\n",
      "        msa.conc_M,\n",
      "        msa.zs,\n",
      "        msa.Ns,\n",
      "        msa.V_i,\n",
      "        msa.sigmas,                                                 \n",
      "        psiPrev=psiPrev,\n",
      "        muiexsPrev=muiexsPrev,\n",
      "        alpha=alpha, \n",
      "        verbose=False)\n",
      "        #verbose=True)\n",
      "        \n",
      "    ## store results     \n",
      "    # from msa \n",
      "    results[\"muBath\"].append( msa.results[\"muBath\"] )\n",
      "    results[\"deltaG\"].append( msa.results[\"deltaG\"] )\n",
      "    \n",
      "    # returned\n",
      "    results[\"muFilter\"].append(mufilteri)\n",
      "    results[\"donnanPotential\"].append(donnanPotentiali)\n",
      "    results[\"mu_ES\"].append(mu_ESi)\n",
      "    results[\"mu_HS\"].append(mu_HSi)\n",
      "    results[\"rhoFilter\"].append(rhoFilteri)\n",
      "    \n",
      "    # update previous psi/muiexs so code has better initial guess \n",
      "    psiPrev = donnanPotentiali\n",
      "    muiexsPrev = mufilteri\n",
      "    \n",
      "    # report information \n",
      "    print \"cacl2\", msa.cacl2    \n",
      "    print \"conc_M\", msa.conc_M\n",
      "    print \"mufilteri\",mufilteri\n",
      "    print \"rhoFilteri\",rhoFilteri\n",
      "    print \"donnanPotentiali\",donnanPotentiali    \n",
      "    end = timer()\n",
      "    print(end - start), \" elapsed seconds \"\n",
      "\n",
      "    "
     ],
     "language": "python",
     "metadata": {},
     "outputs": [
      {
       "output_type": "stream",
       "stream": "stdout",
       "text": [
        "WARNING: oxy always must be first entry\n"
       ]
      },
      {
       "ename": "AttributeError",
       "evalue": "'module' object has no attribute 'nIons'",
       "output_type": "pyerr",
       "traceback": [
        "\u001b[0;31m---------------------------------------------------------------------------\u001b[0m\n\u001b[0;31mAttributeError\u001b[0m                            Traceback (most recent call last)",
        "\u001b[0;32m<ipython-input-35-8539fcdab3fc>\u001b[0m in \u001b[0;36m<module>\u001b[0;34m()\u001b[0m\n\u001b[0;32m----> 1\u001b[0;31m \u001b[0mmuiexsPrev\u001b[0m \u001b[0;34m=\u001b[0m \u001b[0mnp\u001b[0m\u001b[0;34m.\u001b[0m\u001b[0mzeros\u001b[0m\u001b[0;34m(\u001b[0m\u001b[0mmsa\u001b[0m\u001b[0;34m.\u001b[0m\u001b[0mnIons\u001b[0m\u001b[0;34m)\u001b[0m\u001b[0;34m\u001b[0m\u001b[0m\n\u001b[0m\u001b[1;32m      2\u001b[0m \u001b[0mpsiPrev\u001b[0m \u001b[0;34m=\u001b[0m \u001b[0;36m0.\u001b[0m\u001b[0;34m\u001b[0m\u001b[0m\n\u001b[1;32m      3\u001b[0m \u001b[0mmuiexsPrev\u001b[0m \u001b[0;34m=\u001b[0m \u001b[0;36m0\u001b[0m\u001b[0;34m\u001b[0m\u001b[0m\n\u001b[1;32m      4\u001b[0m \u001b[0malpha\u001b[0m \u001b[0;34m=\u001b[0m \u001b[0;36m0.0010\u001b[0m\u001b[0;34m\u001b[0m\u001b[0m\n\u001b[1;32m      5\u001b[0m \u001b[0;34m\u001b[0m\u001b[0m\n",
        "\u001b[0;31mAttributeError\u001b[0m: 'module' object has no attribute 'nIons'"
       ]
      }
     ],
     "prompt_number": 35
    },
    {
     "cell_type": "code",
     "collapsed": false,
     "input": [
      "# change in to np.arrays\n",
      "for key, value in results.iteritems():\n",
      "  print key  \n",
      "  results[key] = np.array( results[key] )"
     ],
     "language": "python",
     "metadata": {},
     "outputs": [
      {
       "output_type": "stream",
       "stream": "stdout",
       "text": [
        "cacl2\n",
        "muBath\n",
        "muFilter\n",
        "rhoFilter\n",
        "mu_ES\n",
        "mu_HS\n",
        "deltaG\n",
        "donnanPotential\n"
       ]
      }
     ],
     "prompt_number": 23
    },
    {
     "cell_type": "markdown",
     "metadata": {},
     "source": [
      "### Write results to pickle file (so we can manipulate later) "
     ]
    },
    {
     "cell_type": "code",
     "collapsed": false,
     "input": [
      "import cPickle as pickle\n",
      "pklFile = \"nonner.pkl\""
     ],
     "language": "python",
     "metadata": {},
     "outputs": [],
     "prompt_number": 24
    },
    {
     "cell_type": "code",
     "collapsed": false,
     "input": [
      "\n",
      "\n",
      "output = open(pklFile, 'wb')\n",
      "pickle.dump(results, output)\n",
      "output.close()\n"
     ],
     "language": "python",
     "metadata": {},
     "outputs": [],
     "prompt_number": 25
    },
    {
     "cell_type": "markdown",
     "metadata": {},
     "source": [
      "### Read pickle (unnecessary, but done for illustration)"
     ]
    },
    {
     "cell_type": "code",
     "collapsed": false,
     "input": [
      "pkl_file = open(pklFile, 'rb')\n",
      "results = pickle.load(pkl_file)\n",
      "pkl_file.close()\n",
      "\n"
     ],
     "language": "python",
     "metadata": {},
     "outputs": [],
     "prompt_number": 26
    },
    {
     "cell_type": "markdown",
     "metadata": {},
     "source": [
      "### Plotting \n",
      "Results should compare well with Fig 2 of [1]\tW. Nonner, L. Catacuzzeno, and B. Eisenberg, \u201cBinding and selectivity in L-type calcium channels: a mean spherical approximation.,\u201d Biophys J, vol. 79, no. 4, pp. 1976\u20131992, Oct. 2000.\n",
      "\n",
      "Results below are close, but not exact with Nonner paper. Namely, Na s.b. at 15 M in the pocket, but is only ten here. All else looks pretty reasonable \n"
     ]
    },
    {
     "cell_type": "code",
     "collapsed": false,
     "input": [
      "def doPlot(results,key,ylabel=\"\",legend=True):\n",
      "  keyed = results[key]\n",
      "  if key==\"donnanPotential\":  \n",
      "    plt.plot(results[\"cacl2\"],keyed,label=\"All ions\") \n",
      "    legend=False\n",
      "    \n",
      "  else:      \n",
      "    plt.plot(results[\"cacl2\"],keyed[:,msa.idxNa], label=\"Na\")\n",
      "    plt.plot(results[\"cacl2\"],keyed[:,msa.idxCa], label=\"Ca\")\n",
      "    plt.plot(results[\"cacl2\"],keyed[:,msa.idxCl], label=\"Cl\")\n",
      "\n",
      "  plt.ylabel(ylabel)\n",
      "  plt.xlabel(\"log(CaCl2)\")  \n",
      "  plt.xscale('log')\n",
      "  if legend:\n",
      "        plt.legend(loc=0)"
     ],
     "language": "python",
     "metadata": {},
     "outputs": [],
     "prompt_number": 27
    },
    {
     "cell_type": "code",
     "collapsed": false,
     "input": [
      "import matplotlib.pylab as plt\n",
      "matplotlib.rcParams['figure.figsize'] = (9.0, 6.0)\n",
      "\n",
      "plt.subplot(2,2,1)\n",
      "doPlot(results,\"rhoFilter\",ylabel=\"Pore Conc [M]\")\n",
      "\n",
      "plt.subplot(2,2,2)\n",
      "doPlot(results,\"muFilter\",ylabel=\"Excess chemical potential\\n [kT]\",legend=False)\n",
      "\n",
      "plt.subplot(2,2,3)\n",
      "doPlot(results,\"deltaG\",ylabel=\"'Free energy'\",legend=False)\n",
      "\n",
      "plt.subplot(2,2,4)\n",
      "doPlot(results,\"donnanPotential\",ylabel=\"Donnan potential [mV]\")\n",
      "\n",
      "plt.tight_layout()\n",
      "plt.gcf().savefig(\"valid.png\",dpi=300)"
     ],
     "language": "python",
     "metadata": {},
     "outputs": [
      {
       "metadata": {},
       "output_type": "display_data",
       "png": "[encoded data removed]",
       "text": [
        "<matplotlib.figure.Figure at 0x7f929ac2b350>"
       ]
      }
     ],
     "prompt_number": 29
    },
    {
     "cell_type": "code",
     "collapsed": false,
     "input": [],
     "language": "python",
     "metadata": {},
     "outputs": [
      {
       "output_type": "stream",
       "stream": "stdout",
       "text": [
        "[6.0, 4.0]\n"
       ]
      }
     ],
     "prompt_number": 12
    },
    {
     "cell_type": "code",
     "collapsed": false,
     "input": [],
     "language": "python",
     "metadata": {},
     "outputs": []
    }
   ],
   "metadata": {}
  }
 ]
}