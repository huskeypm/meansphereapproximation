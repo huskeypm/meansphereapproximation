{
 "metadata": {
  "name": "",
  "signature": "sha256:8b135a8bb7d82ea637330db3a8b51dcc2bfb199ae21fb606bfd638ec994696db"
 },
 "nbformat": 3,
 "nbformat_minor": 0,
 "worksheets": [
  {
   "cells": [
    {
     "cell_type": "markdown",
     "metadata": {},
     "source": [
      "# Test to verify all is well in MSA land\n",
      "\n",
      "PKH Verified once more on 160830"
     ]
    },
    {
     "cell_type": "code",
     "collapsed": false,
     "input": [
      "%load_ext autoreload\n",
      "%autoreload 2"
     ],
     "language": "python",
     "metadata": {},
     "outputs": [],
     "prompt_number": 1
    },
    {
     "cell_type": "markdown",
     "metadata": {},
     "source": [
      "## Nonner parameters"
     ]
    },
    {
     "cell_type": "code",
     "collapsed": false,
     "input": [
      "import MSAtools as msa\n",
      "msa.idxOxy = 0\n",
      "msa.idxCl = 1\n",
      "msa.idxNa = 2\n",
      "msa.idxCa = 3\n",
      "msa.nOxy = 8.0\n",
      "msa.idxOxy = 0\n",
      "msa.cacl2 = 1e-10\n",
      "msa.indices=[\"O\",\"Cl\",\"Na\",\"Ca\"]  # ALWAYS put oxygen first\n",
      "msa.ref_conc_M = np.array([1e-200, (100.0e-3), 100.0e-3, 0])  # [M] order is  O, Cl, Na, Ca (bath) \n",
      "msa.nIons = np.shape(msa.ref_conc_M)[0]\n",
      "msa.zs = np.array([-0.5, -1.0, 1.0, 2.00]) #input charges here\n",
      "\n",
      "#FF RADII (Nonner)#\n",
      "msa.sigmas = np.array([0.278, 0.362, 0.204, 0.200])\n",
      "msa.V_i = 0.375 # nm^3\n",
      "msa.filter_dielectric= 63.5\n"
     ],
     "language": "python",
     "metadata": {},
     "outputs": [],
     "prompt_number": 7
    },
    {
     "cell_type": "code",
     "collapsed": false,
     "input": [
      "\n"
     ],
     "language": "python",
     "metadata": {},
     "outputs": [],
     "prompt_number": 7
    },
    {
     "cell_type": "code",
     "collapsed": false,
     "input": [
      "print msa.results"
     ],
     "language": "python",
     "metadata": {},
     "outputs": [
      {
       "output_type": "stream",
       "stream": "stdout",
       "text": [
        "{'e0': 0.0390625}\n"
       ]
      }
     ],
     "prompt_number": 8
    },
    {
     "cell_type": "markdown",
     "metadata": {},
     "source": [
      "### Run single iter"
     ]
    },
    {
     "cell_type": "code",
     "collapsed": false,
     "input": [
      "muiexsPrev = np.zeros(msa.nIons)\n",
      "psiPrev = 0.\n",
      "muiexsPrev = 0\n",
      "alpha = 0.0010\n",
      "msa.Ns = np.array([msa.nOxy, 1., 1., 1.]) # Number of ions in filter (first number is fixed, others are determined by MSA)\n",
      "\n",
      "\n",
      "from timeit import default_timer as timer\n",
      "msa.cacl2 = 1e-6\n",
      "start = timer()\n",
      "msa.conc_M = np.copy(msa.ref_conc_M)\n",
      "msa.conc_M[msa.idxCl] = msa.ref_conc_M[msa.idxCl] + 2 * msa.cacl2\n",
      "msa.conc_M[msa.idxCa] = msa.cacl2\n",
      "print msa.nOxy\n",
      "mufilteri,donnanPotentiali,mu_ESi,mu_HSi,rhoFilteri = msa.SolveMSAEquations(\n",
      "    msa.filter_dielectric,\n",
      "    msa.conc_M,\n",
      "    msa.zs,\n",
      "    msa.Ns,\n",
      "    msa.V_i,\n",
      "    msa.sigmas,                                                 \n",
      "    msa.nOxy,\n",
      "    psiPrev=psiPrev,\n",
      "    muiexsPrev=muiexsPrev,\n",
      "    alpha=alpha, \n",
      "    verbose=False)\n",
      "    #verbose=True)\n",
      "    \n",
      "print \"cacl2\", msa.cacl2    \n",
      "print \"conc_M\", msa.conc_M\n",
      "print \"mufilteri\",mufilteri\n",
      "print \"rhoFilteri\",rhoFilteri\n",
      "print \"donnanPotentiali\",donnanPotentiali    \n",
      "end = timer()\n",
      "print(end - start), \" elapsed seconds \"\n"
     ],
     "language": "python",
     "metadata": {},
     "outputs": [
      {
       "output_type": "stream",
       "stream": "stdout",
       "text": [
        "8.0\n",
        "itersgamma 12, iterspsi 1364"
       ]
      },
      {
       "output_type": "stream",
       "stream": "stdout",
       "text": [
        "\n",
        "cacl2 1e-06\n",
        "conc_M [  1.00000000e-200   1.00002000e-001   1.00000000e-001   1.00000000e-006]\n",
        "mufilteri [ 3.38333021  4.92733561  0.84962857 -3.14735565]\n",
        "rhoFilteri [  2.13333333e+01   6.07264550e-07   9.04018657e+00   8.13241132e-01]\n",
        "donnanPotentiali -159.354435968\n",
        "1.47946500778  elapsed seconds \n"
       ]
      }
     ],
     "prompt_number": 9
    },
    {
     "cell_type": "code",
     "collapsed": false,
     "input": [
      "muiexsPrev = np.zeros(msa.nIons)\n",
      "psiPrev = -10 * np.random.rand(1) # Can we come up with a better first-principles est? \n",
      "muiexsPrev = np.random.rand(msa.nIons)\n",
      "psiPrev = 0\n",
      "muiexsPrev = 0\n",
      "alpha = 0.0010\n",
      "\n",
      "results = {}\n",
      "results[\"muFilter\"]=[]\n",
      "results[\"donnanPotential\"]=[]\n",
      "results[\"muFilterStd\"]=[]\n",
      "results[\"donnanPotentialStd\"]=[]\n",
      "results[\"mu_ES\"]=[]\n",
      "results[\"mu_HS\"]=[]\n",
      "results[\"rhoFilter\"]=[]\n",
      "results[\"muBath\"] = []\n",
      "results[\"deltaG\"] = []\n",
      "\n",
      "from timeit import default_timer as timer\n",
      "\n",
      "#cacl2s = np.linspace(-10,-6,3) # Coarse\n",
      "cacl2s = np.linspace(-10,-1,22) # Fine\n",
      "\n",
      "cacl2s = 10**cacl2s\n",
      "results[\"cacl2\"] = cacl2s\n",
      "\n",
      "\n",
      "\n",
      "for i, cacl2i  in enumerate(cacl2s):\n",
      "    # start timer\n",
      "    start = timer()\n",
      "    \n",
      "    # update concs\n",
      "    msa.cacl2 = cacl2i\n",
      "    #msa.cacl2 = 1e-6\n",
      "    msa.conc_M = np.copy(msa.ref_conc_M)\n",
      "    msa.conc_M[msa.idxCl] = msa.ref_conc_M[msa.idxCl] + 2 * msa.cacl2\n",
      "    msa.conc_M[msa.idxCa] = msa.cacl2\n",
      "    \n",
      "    numDraws = 5\n",
      "    filterIters=[]\n",
      "    psiIters = []\n",
      "    for i in np.arange(numDraws):\n",
      "      psiPrevRand = psiPrev + np.random.rand(1)\n",
      "      muiexsPrevRand = muiexsPrev + np.random.rand(msa.nIons)\n",
      "      print \"psiPrev\", psiPrev\n",
      "      print \"muiexsPrev\", muiexsPrev\n",
      "    \n",
      "      # run MSA \n",
      "      mufilteri,donnanPotentiali,mu_ESi,mu_HSi,rhoFilteri = msa.SolveMSAEquations(\n",
      "        msa.filter_dielectric,\n",
      "        msa.conc_M,\n",
      "        msa.zs,\n",
      "        msa.Ns,\n",
      "        msa.V_i,\n",
      "        msa.sigmas,                                                 \n",
      "        psiPrev=psiPrevRand,\n",
      "        muiexsPrev=muiexsPrevRand,\n",
      "        alpha=alpha, \n",
      "        verbose=False)\n",
      "        #verbose=True)\n",
      "      filterIters.append(mufilteri)\n",
      "      psiIters.append(donnanPotentiali)\n",
      "        \n",
      "      psiPrev = donnanPotentiali        \n",
      "      muiexsPrev = mufilteri  \n",
      "    # end loop \n",
      "    \n",
      "    # mean/dev\n",
      "    filterIters = np.array(filterIters)    \n",
      "    psiIters = np.array(psiIters)    \n",
      "    mufilteri = np.mean(filterIters,axis=0)         \n",
      "    mufilteriStd = np.std(filterIters,axis=0)         \n",
      "    donnanPotentiali = np.mean(psiIters,axis=0)\n",
      "    donnanPotentialiStd = np.std(psiIters,axis=0)         \n",
      "    print mufilteri, mufilteriStd\n",
      "    print donnanPotentiali, donnanPotentialiStd\n",
      "        \n",
      "    ## store results     \n",
      "    # from msa \n",
      "    results[\"muBath\"].append( msa.results[\"muBath\"] )\n",
      "    results[\"deltaG\"].append( msa.results[\"deltaG\"] )\n",
      "    \n",
      "    # returned\n",
      "    results[\"muFilter\"].append(mufilteri)\n",
      "    results[\"muFilterStd\"].append(mufilteriStd)\n",
      "    results[\"donnanPotential\"].append(donnanPotentiali)\n",
      "    results[\"donnanPotentialStd\"].append(donnanPotentialiStd)\n",
      "    results[\"mu_ES\"].append(mu_ESi)\n",
      "    results[\"mu_HS\"].append(mu_HSi)\n",
      "    results[\"rhoFilter\"].append(rhoFilteri)\n",
      "    \n",
      "    # update previous psi/muiexs so code has better initial guess \n",
      "    psiPrev = donnanPotentiali\n",
      "    muiexsPrev = mufilteri\n",
      "    \n",
      "    # report information \n",
      "    print \"cacl2\", msa.cacl2    \n",
      "    print \"conc_M\", msa.conc_M\n",
      "    print \"mufilteri\",mufilteri\n",
      "    print \"rhoFilteri\",rhoFilteri\n",
      "    print \"donnanPotentiali\",donnanPotentiali    \n",
      "    end = timer()\n",
      "    print(end - start), \" elapsed seconds \"\n",
      "\n",
      "    "
     ],
     "language": "python",
     "metadata": {},
     "outputs": [
      {
       "output_type": "stream",
       "stream": "stdout",
       "text": [
        "psiPrev 0\n",
        "muiexsPrev 0\n",
        "itersgamma 12, iterspsi 9215"
       ]
      },
      {
       "output_type": "stream",
       "stream": "stdout",
       "text": [
        "\n",
        "psiPrev [-173.26815435]\n",
        "muiexsPrev [ 4.71274221  6.91583821  1.22759743 -4.15874164]\n",
        "itersgamma 12, iterspsi 8290"
       ]
      },
      {
       "output_type": "stream",
       "stream": "stdout",
       "text": [
        "\n",
        "psiPrev [-173.27170484]\n",
        "muiexsPrev [ 4.71331717  6.91670236  1.22773102 -4.15913952]\n",
        "itersgamma 12, iterspsi 9448"
       ]
      },
      {
       "output_type": "stream",
       "stream": "stdout",
       "text": [
        "\n",
        "psiPrev [-173.27170486]\n",
        "muiexsPrev [ 4.71324176  6.91669048  1.22773103 -4.15924954]\n",
        "itersgamma 12, iterspsi 9521"
       ]
      },
      {
       "output_type": "stream",
       "stream": "stdout",
       "text": [
        "\n",
        "psiPrev [-173.27170381]\n",
        "muiexsPrev [ 4.7132917   6.91668333  1.22773099 -4.15925689]\n",
        "itersgamma 12, iterspsi 9455"
       ]
      },
      {
       "output_type": "stream",
       "stream": "stdout",
       "text": [
        "\n",
        "[ 4.71316498  6.91651464  1.2277043  -4.15912522] [  2.13703944e-04   3.38514641e-04   5.34335202e-05   1.96449289e-04]\n",
        "[-173.27099457] [ 0.00142011]\n",
        "cacl2 1e-10\n",
        "conc_M [  1.00000000e-200   1.00000000e-001   1.00000000e-001   1.00000000e-010]\n",
        "mufilteri [ 4.71316498  6.91651464  1.2277043  -4.15912522]\n",
        "rhoFilteri [  2.13333333e+01   4.81515318e-08   1.06653655e+01   6.64472427e-04]\n",
        "donnanPotentiali [-173.27099457]\n",
        "8.62556791306  elapsed seconds \n",
        "psiPrev [-173.27099457]\n",
        "muiexsPrev [ 4.71316498  6.91651464  1.2277043  -4.15912522]\n",
        "itersgamma 12, iterspsi 9322"
       ]
      },
      {
       "output_type": "stream",
       "stream": "stdout",
       "text": [
        "\n",
        "psiPrev [-173.26071187]\n",
        "muiexsPrev [ 4.71297153  6.91612258  1.22751117 -4.15969667]\n",
        "itersgamma 12, iterspsi 6904"
       ]
      },
      {
       "output_type": "stream",
       "stream": "stdout",
       "text": [
        "\n",
        "psiPrev [-173.26071386]\n",
        "muiexsPrev [ 4.71318401  6.91690091  1.22751121 -4.15956729]\n",
        "itersgamma 12, iterspsi 9406"
       ]
      },
      {
       "output_type": "stream",
       "stream": "stdout",
       "text": [
        "\n",
        "psiPrev [-173.26071282]\n",
        "muiexsPrev [ 4.71299857  6.91619411  1.22751121 -4.1596959 ]\n",
        "itersgamma 12, iterspsi 9512"
       ]
      },
      {
       "output_type": "stream",
       "stream": "stdout",
       "text": [
        "\n",
        "psiPrev [-173.26071115]\n",
        "muiexsPrev [ 4.71297564  6.91617878  1.22751117 -4.15976569]\n",
        "itersgamma 12, iterspsi 9547"
       ]
      },
      {
       "output_type": "stream",
       "stream": "stdout",
       "text": [
        "\n",
        "[ 4.71302498  6.91630575  1.2275112  -4.15969051] [  8.02086921e-05   2.98804051e-04   2.04548058e-08   6.66824838e-05]\n",
        "[-173.2607125] [  9.27028758e-07]\n",
        "cacl2 2.68269579528e-10\n",
        "conc_M [  1.00000000e-200   1.00000001e-001   1.00000000e-001   2.68269580e-010]\n",
        "mufilteri [ 4.71302498  6.91630575  1.2275112  -4.15969051]\n",
        "rhoFilteri [  2.13333333e+01   4.81975804e-08   1.06631306e+01   1.78191742e-03]\n",
        "donnanPotentiali [-173.2607125]\n",
        "7.46729683876  elapsed seconds \n",
        "psiPrev [-173.2607125]\n",
        "muiexsPrev [ 4.71302498  6.91630575  1.2275112  -4.15969051]\n",
        "itersgamma 12, iterspsi 8390"
       ]
      },
      {
       "output_type": "stream",
       "stream": "stdout",
       "text": [
        "\n",
        "psiPrev [-173.2312579]\n",
        "muiexsPrev [ 4.7123851   6.91484496  1.22692231 -4.1610455 ]\n",
        "itersgamma 12, iterspsi 9054"
       ]
      },
      {
       "output_type": "stream",
       "stream": "stdout",
       "text": [
        "\n",
        "psiPrev [-173.23125751]\n",
        "muiexsPrev [ 4.71231096  6.91477381  1.22692234 -4.16110381]\n",
        "itersgamma 12, iterspsi 8168"
       ]
      },
      {
       "output_type": "stream",
       "stream": "stdout",
       "text": [
        "\n",
        "psiPrev [-173.23126183]\n",
        "muiexsPrev [ 4.7122925   6.91484495  1.22692233 -4.16090534]\n",
        "itersgamma 12, iterspsi 8986"
       ]
      },
      {
       "output_type": "stream",
       "stream": "stdout",
       "text": [
        "\n",
        "psiPrev [-173.23125909]\n",
        "muiexsPrev [ 4.71237742  6.9148644   1.22692234 -4.16103587]\n",
        "itersgamma 12, iterspsi 7115"
       ]
      },
      {
       "output_type": "stream",
       "stream": "stdout",
       "text": [
        "\n",
        "[ 4.71237946  6.91493205  1.22692233 -4.16095966] [  8.40898206e-05   2.02405698e-04   1.49629165e-08   1.41677418e-04]\n",
        "[-173.23126061] [  3.41319945e-06]\n",
        "cacl2 7.19685673001e-10\n",
        "conc_M [  1.00000000e-200   1.00000001e-001   1.00000000e-001   7.19685673e-010]\n",
        "mufilteri [ 4.71237946  6.91493205  1.22692233 -4.16095966]\n",
        "rhoFilteri [  2.13333333e+01   4.82916540e-08   1.06571464e+01   4.77403605e-03]\n",
        "donnanPotentiali [-173.23126061]\n",
        "7.02882909775  elapsed seconds \n",
        "psiPrev [-173.23126061]\n",
        "muiexsPrev [ 4.71237946  6.91493205  1.22692233 -4.16095966]\n",
        "itersgamma 12, iterspsi 9556"
       ]
      },
      {
       "output_type": "stream",
       "stream": "stdout",
       "text": [
        "\n",
        "psiPrev [-173.15248673]\n",
        "muiexsPrev [ 4.71053184  6.91114608  1.22534855 -4.16471443]\n",
        "itersgamma 12, iterspsi 9612"
       ]
      },
      {
       "output_type": "stream",
       "stream": "stdout",
       "text": [
        "\n",
        "psiPrev [-173.15248589]\n",
        "muiexsPrev [ 4.71052243  6.91118106  1.22534855 -4.16472857]\n",
        "itersgamma 12, iterspsi 9804"
       ]
      },
      {
       "output_type": "stream",
       "stream": "stdout",
       "text": [
        "\n",
        "psiPrev [-173.15248477]\n",
        "muiexsPrev [ 4.71052939  6.91117819  1.22534853 -4.16473756]\n",
        "itersgamma 12, iterspsi 9448"
       ]
      },
      {
       "output_type": "stream",
       "stream": "stdout",
       "text": [
        "\n",
        "psiPrev [-173.15248322]\n",
        "muiexsPrev [ 4.71050931  6.91114086  1.22534852 -4.16476038]\n",
        "itersgamma 12, iterspsi 8715"
       ]
      },
      {
       "output_type": "stream",
       "stream": "stdout",
       "text": [
        "\n",
        "[ 4.71054248  6.91118045  1.22534854 -4.16473285] [  3.92565453e-05   4.11658633e-05   1.15139641e-08   1.56769915e-05]\n",
        "[-173.15248534] [  1.23684963e-06]\n",
        "cacl2 1.93069772888e-09\n",
        "conc_M [  1.00000000e-200   1.00000004e-001   1.00000000e-001   1.93069773e-009]\n",
        "mufilteri [ 4.71054248  6.91118045  1.22534854 -4.16473285]\n",
        "rhoFilteri [  2.13333333e+01   4.86383653e-08   1.06411346e+01   1.27799232e-02]\n",
        "donnanPotentiali [-173.15248534]\n",
        "7.65986800194  elapsed seconds \n",
        "psiPrev [-173.15248534]\n",
        "muiexsPrev [ 4.71054248  6.91118045  1.22534854 -4.16473285]\n",
        "itersgamma 12, iterspsi 126\n",
        "psiPrev [-181.73338122]\n",
        "muiexsPrev [ 4.92380726  7.06843344  1.56540865 -3.6598103 ]\n",
        "itersgamma 12, iterspsi 9126"
       ]
      },
      {
       "output_type": "stream",
       "stream": "stdout",
       "text": [
        "\n",
        "psiPrev [-172.94292184]\n",
        "muiexsPrev [ 4.70572345  6.90153257  1.22116882 -4.17433213]\n",
        "itersgamma 12, iterspsi 9237"
       ]
      },
      {
       "output_type": "stream",
       "stream": "stdout",
       "text": [
        "\n",
        "psiPrev [-172.94290798]\n",
        "muiexsPrev [ 4.70570538  6.90154292  1.22116878 -4.17441073]\n",
        "itersgamma 12, iterspsi 8048"
       ]
      },
      {
       "output_type": "stream",
       "stream": "stdout",
       "text": [
        "\n",
        "psiPrev [-172.94291823]\n",
        "muiexsPrev [ 4.70589486  6.90171411  1.22116883 -4.17435559]\n",
        "itersgamma 12, iterspsi 9596"
       ]
      },
      {
       "output_type": "stream",
       "stream": "stdout",
       "text": [
        "\n",
        "[ 4.74936445  6.93494585  1.29001677 -4.07147136] [ 0.08722144  0.06674383  0.13769594  0.20583053]\n",
        "[-174.70100606] [ 3.51618758]\n",
        "cacl2 5.17947467923e-09\n",
        "conc_M [  1.00000000e-200   1.00000010e-001   1.00000000e-001   5.17947468e-009]\n",
        "mufilteri [ 4.74936445  6.93494585  1.29001677 -4.07147136]\n",
        "rhoFilteri [  2.13333333e+01   4.95186608e-08   1.05985796e+01   3.40574414e-02]\n",
        "donnanPotentiali [-174.70100606]\n",
        "5.88682603836  elapsed seconds \n",
        "psiPrev [-174.70100606]\n",
        "muiexsPrev [ 4.74936445  6.93494585  1.29001677 -4.07147136]\n",
        "itersgamma 12, iterspsi 8979"
       ]
      },
      {
       "output_type": "stream",
       "stream": "stdout",
       "text": [
        "\n",
        "psiPrev [-172.39294657]\n",
        "muiexsPrev [ 4.69312279  6.87639439  1.21025059 -4.19953704]\n",
        "itersgamma 12, iterspsi 8682"
       ]
      },
      {
       "output_type": "stream",
       "stream": "stdout",
       "text": [
        "\n",
        "psiPrev [-172.39295868]\n",
        "muiexsPrev [ 4.69315097  6.87640337  1.2102506  -4.19950878]\n",
        "itersgamma 12, iterspsi 9330"
       ]
      },
      {
       "output_type": "stream",
       "stream": "stdout",
       "text": [
        "\n",
        "psiPrev [-172.39290466]\n",
        "muiexsPrev [ 4.693097    6.87637529  1.21025043 -4.19962667]\n",
        "itersgamma 12, iterspsi 8833"
       ]
      },
      {
       "output_type": "stream",
       "stream": "stdout",
       "text": [
        "\n",
        "psiPrev [-172.39289293]\n",
        "muiexsPrev [ 4.69312933  6.87629648  1.21025044 -4.19965492]\n",
        "itersgamma 12, iterspsi 9548"
       ]
      },
      {
       "output_type": "stream",
       "stream": "stdout",
       "text": [
        "\n",
        "[ 4.69311983  6.87635813  1.2102505  -4.1995905 ] [  2.01052813e-05   4.20122691e-05   7.80392920e-08   5.69045833e-05]\n",
        "[-172.39292161] [  2.59844277e-05]\n",
        "cacl2 1.38949549437e-08\n",
        "conc_M [  1.00000000e-200   1.00000028e-001   1.00000000e-001   1.38949549e-008]\n",
        "mufilteri [ 4.69311983  6.87635813  1.2102505  -4.1995905 ]\n",
        "rhoFilteri [  2.13333333e+01   5.18844449e-08   1.04871854e+01   8.97545972e-02]\n",
        "donnanPotentiali [-172.39292161]\n",
        "7.83904695511  elapsed seconds \n",
        "psiPrev [-172.39292161]\n",
        "muiexsPrev [ 4.69311983  6.87635813  1.2102505  -4.1995905 ]\n",
        "itersgamma 12, iterspsi 8158"
       ]
      },
      {
       "output_type": "stream",
       "stream": "stdout",
       "text": [
        "\n",
        "psiPrev [-170.99878009]\n",
        "muiexsPrev [ 4.6614627   6.81318269  1.18291226 -4.26293436]\n",
        "itersgamma 12, iterspsi 8998"
       ]
      },
      {
       "output_type": "stream",
       "stream": "stdout",
       "text": [
        "\n",
        "psiPrev [-170.99912785]\n",
        "muiexsPrev [ 4.66158672  6.81325682  1.18291282 -4.26261845]\n",
        "itersgamma 12, iterspsi 8174"
       ]
      },
      {
       "output_type": "stream",
       "stream": "stdout",
       "text": [
        "\n",
        "psiPrev [-170.99882993]\n",
        "muiexsPrev [ 4.66156372  6.81317663  1.18291238 -4.26289009]\n",
        "itersgamma 12, iterspsi 8327"
       ]
      },
      {
       "output_type": "stream",
       "stream": "stdout",
       "text": [
        "\n",
        "psiPrev [-170.99919787]\n",
        "muiexsPrev [ 4.66162956  6.81331343  1.18291292 -4.26255448]\n",
        "itersgamma 12, iterspsi 8127"
       ]
      },
      {
       "output_type": "stream",
       "stream": "stdout",
       "text": [
        "\n",
        "[ 4.66157087  6.81327038  1.18291275 -4.26266579] [  5.85005862e-05   9.12117601e-05   3.96785084e-07   2.23057705e-04]\n",
        "[-170.99907595] [ 0.00024539]\n",
        "cacl2 3.72759372031e-08\n",
        "conc_M [  1.00000000e-200   1.00000075e-001   1.00000000e-001   3.72759372e-008]\n",
        "mufilteri [ 4.66157087  6.81327038  1.18291275 -4.26266579]\n",
        "rhoFilteri [  2.13333333e+01   5.83436301e-08   1.02068494e+01   2.29922717e-01]\n",
        "donnanPotentiali [-170.99907595]\n",
        "6.86750912666  elapsed seconds \n",
        "psiPrev [-170.99907595]\n",
        "muiexsPrev [ 4.66157087  6.81327038  1.18291275 -4.26266579]\n",
        "itersgamma 12, iterspsi 8720"
       ]
      },
      {
       "output_type": "stream",
       "stream": "stdout",
       "text": [
        "\n",
        "psiPrev [-167.74862792]\n",
        "muiexsPrev [ 4.58989126  6.67020684  1.12100826 -4.4043376 ]\n",
        "itersgamma 12, iterspsi 8041"
       ]
      },
      {
       "output_type": "stream",
       "stream": "stdout",
       "text": [
        "\n",
        "psiPrev [-167.74793443]\n",
        "muiexsPrev [ 4.58985073  6.66974002  1.12100902 -4.40463317]\n",
        "itersgamma 12, iterspsi 8067"
       ]
      },
      {
       "output_type": "stream",
       "stream": "stdout",
       "text": [
        "\n",
        "psiPrev [-167.74781483]\n",
        "muiexsPrev [ 4.58968584  6.66964286  1.12100911 -4.40468378]\n",
        "itersgamma 12, iterspsi 128\n",
        "psiPrev [-172.926713]\n",
        "muiexsPrev [ 4.96270625  7.41587882  1.32325407 -4.00174656]\n",
        "itersgamma 12, iterspsi 9180"
       ]
      },
      {
       "output_type": "stream",
       "stream": "stdout",
       "text": [
        "\n",
        "[ 4.66442214  6.81911685  1.16145777 -4.32395882] [ 0.14914209  0.29838106  0.08089815  0.16110618]\n",
        "[-168.78391747] [ 2.07139779]\n",
        "cacl2 1e-07\n",
        "conc_M [  1.00000000e-200   1.00000200e-001   1.00000000e-001   1.00000000e-007]\n",
        "mufilteri [ 4.66442214  6.81911685  1.16145777 -4.32395882]\n",
        "rhoFilteri [  2.13333333e+01   7.64508463e-08   9.56369076e+00   5.51502322e-01]\n",
        "donnanPotentiali [-168.78391747]\n",
        "5.97353482246  elapsed seconds \n",
        "psiPrev [-168.78391747]\n",
        "muiexsPrev [ 4.66442214  6.81911685  1.16145777 -4.32395882]\n",
        "itersgamma 12, iterspsi 8464"
       ]
      },
      {
       "output_type": "stream",
       "stream": "stdout",
       "text": [
        "\n",
        "psiPrev [-161.32030831]\n",
        "muiexsPrev [ 4.45599307  6.40341593  1.00640478 -4.6647063 ]\n",
        "itersgamma 12, iterspsi 5609"
       ]
      },
      {
       "output_type": "stream",
       "stream": "stdout",
       "text": [
        "\n",
        "psiPrev [-161.30908361]\n",
        "muiexsPrev [ 4.45545189  6.40263655  1.00649069 -4.66746403]\n",
        "itersgamma 12, iterspsi 4018"
       ]
      },
      {
       "output_type": "stream",
       "stream": "stdout",
       "text": [
        "\n",
        "psiPrev [-161.20612922]\n",
        "muiexsPrev [ 4.44425528  6.38429086  1.00734075 -4.69276786]\n",
        "itersgamma 12, iterspsi 4731"
       ]
      },
      {
       "output_type": "stream",
       "stream": "stdout",
       "text": [
        "\n",
        "psiPrev [-161.26625218]\n",
        "muiexsPrev [ 4.44705321  6.39313215  1.00683035 -4.67798777]\n",
        "itersgamma 12, iterspsi 8873"
       ]
      },
      {
       "output_type": "stream",
       "stream": "stdout",
       "text": [
        "\n",
        "[ 4.45174906  6.39739376  1.00669386 -4.67351281] [ 0.00505829  0.00762634  0.00035964  0.01080449]\n",
        "[-161.28447198] [ 0.04396314]\n",
        "cacl2 2.68269579528e-07\n",
        "conc_M [  1.00000000e-200   1.00000537e-001   1.00000000e-001   2.68269580e-007]\n",
        "mufilteri [ 4.45174906  6.39739376  1.00669386 -4.67351281]\n",
        "rhoFilteri [  2.13333333e+01   1.28299023e-07   8.34354906e+00   1.16157364e+00]\n",
        "donnanPotentiali [-161.28447198]\n",
        "5.2699341774  elapsed seconds \n",
        "psiPrev [-161.28447198]\n",
        "muiexsPrev [ 4.45174906  6.39739376  1.00669386 -4.67351281]\n",
        "itersgamma 13, iterspsi 6767"
       ]
      },
      {
       "output_type": "stream",
       "stream": "stdout",
       "text": [
        "\n",
        "psiPrev [-151.32469309]\n",
        "muiexsPrev [ 4.26957283  6.03501213  0.84944226 -5.01717373]\n",
        "itersgamma 13, iterspsi 3734"
       ]
      },
      {
       "output_type": "stream",
       "stream": "stdout",
       "text": [
        "\n",
        "psiPrev [-151.23345589]\n",
        "muiexsPrev [ 4.28092657  6.01352229  0.85145395 -5.03330574]\n",
        "itersgamma 13, iterspsi 2446"
       ]
      },
      {
       "output_type": "stream",
       "stream": "stdout",
       "text": [
        "\n",
        "psiPrev [-150.55562269]\n",
        "muiexsPrev [ 4.24582775  5.89620135  0.86961289 -5.15390967]\n",
        "itersgamma 13, iterspsi 128\n",
        "psiPrev [-159.0148374]\n",
        "muiexsPrev [ 4.95051723  6.48100057  1.10126101 -4.33296427]\n",
        "itersgamma 13, iterspsi 7281"
       ]
      },
      {
       "output_type": "stream",
       "stream": "stdout",
       "text": [
        "\n",
        "[ 4.40350397  6.09205713  0.90423558 -4.91084884] [ 0.2737486   0.20117927  0.09880491  0.29345348]\n",
        "[-152.69098065] [ 3.17504038]\n",
        "cacl2 7.19685673001e-07\n",
        "conc_M [  1.00000000e-200   1.00001439e-001   1.00000000e-001   7.19685673e-007]\n",
        "mufilteri [ 4.40350397  6.09205713  0.90423558 -4.91084884]\n",
        "rhoFilteri [  2.13333333e+01   2.74161749e-07   6.60667294e+00   2.03001216e+00]\n",
        "donnanPotentiali [-152.69098065]\n",
        "3.42425012589  elapsed seconds \n",
        "psiPrev [-152.69098065]\n",
        "muiexsPrev [ 4.40350397  6.09205713  0.90423558 -4.91084884]\n",
        "itersgamma 13, iterspsi 9745"
       ]
      },
      {
       "output_type": "stream",
       "stream": "stdout",
       "text": [
        "\n",
        "psiPrev [-138.96909374]\n",
        "muiexsPrev [ 4.08001841  5.66080287  0.69050232 -5.36712553]\n",
        "itersgamma 13, iterspsi 2509"
       ]
      },
      {
       "output_type": "stream",
       "stream": "stdout",
       "text": [
        "\n",
        "psiPrev [-138.45627541]\n",
        "muiexsPrev [ 4.10760085  5.63761648  0.71737529 -5.443708  ]\n",
        "itersgamma 13, iterspsi 1855"
       ]
      },
      {
       "output_type": "stream",
       "stream": "stdout",
       "text": [
        "\n",
        "psiPrev [-138.56482428]\n",
        "muiexsPrev [ 4.17561939  5.74407619  0.7112668  -5.42743006]\n",
        "itersgamma 13, iterspsi 1836"
       ]
      },
      {
       "output_type": "stream",
       "stream": "stdout",
       "text": [
        "\n",
        "psiPrev [-138.26598575]\n",
        "muiexsPrev [ 4.14783979  5.66233462  0.72877101 -5.47240837]\n",
        "itersgamma 13, iterspsi 2908"
       ]
      },
      {
       "output_type": "stream",
       "stream": "stdout",
       "text": [
        "\n",
        "[ 4.1212674   5.6646259   0.71101812 -5.42537515] [ 0.0352844   0.04291357  0.0125802   0.03472628]\n",
        "[-138.57919041] [ 0.23199417]\n",
        "cacl2 1.93069772888e-06\n",
        "conc_M [  1.00000000e-200   1.00003861e-001   1.00000000e-001   1.93069773e-006]\n",
        "mufilteri [ 4.1212674   5.6646259   0.71101812 -5.42537515]\n",
        "rhoFilteri [  2.13333333e+01   6.82368984e-07   4.63999832e+00   3.01334858e+00]\n",
        "donnanPotentiali [-138.57919041]\n",
        "3.45723080635  elapsed seconds \n",
        "psiPrev [-138.57919041]\n",
        "muiexsPrev [ 4.1212674   5.6646259   0.71101812 -5.42537515]\n",
        "itersgamma 13, iterspsi 4656"
       ]
      },
      {
       "output_type": "stream",
       "stream": "stdout",
       "text": [
        "\n",
        "psiPrev [-125.69456168]\n",
        "muiexsPrev [ 3.92834547  5.35323967  0.56309549 -5.65072642]\n",
        "itersgamma 13, iterspsi 8904"
       ]
      },
      {
       "output_type": "stream",
       "stream": "stdout",
       "text": [
        "\n",
        "psiPrev [-125.71122885]\n",
        "muiexsPrev [ 3.92419146  5.35508284  0.56154199 -5.64846442]\n",
        "itersgamma 13, iterspsi 7753"
       ]
      },
      {
       "output_type": "stream",
       "stream": "stdout",
       "text": [
        "\n",
        "psiPrev [-125.71061846]\n",
        "muiexsPrev [ 3.92404826  5.35479461  0.56159859 -5.64854718]\n",
        "itersgamma 13, iterspsi 1997"
       ]
      },
      {
       "output_type": "stream",
       "stream": "stdout",
       "text": [
        "\n",
        "psiPrev [-125.34183748]\n",
        "muiexsPrev [ 3.97430566  5.35487157  0.59840701 -5.69889371]\n",
        "itersgamma 13, iterspsi 2830"
       ]
      },
      {
       "output_type": "stream",
       "stream": "stdout",
       "text": [
        "\n",
        "[ 3.93909493  5.3562593   0.57300649 -5.66434149] [ 0.01915197  0.00358483  0.01455676  0.01997994]\n",
        "[-125.59478518] [ 0.14640498]\n",
        "cacl2 5.17947467923e-06\n",
        "conc_M [  1.00000000e-200   1.00010359e-001   1.00000000e-001   5.17947468e-006]\n",
        "mufilteri [ 3.93909493  5.3562593   0.57300649 -5.66434149]\n",
        "rhoFilteri [  2.13333333e+01   1.47032622e-06   3.15451250e+00   3.75609104e+00]\n",
        "donnanPotentiali [-125.59478518]\n",
        "4.67476010323  elapsed seconds \n",
        "psiPrev [-125.59478518]\n",
        "muiexsPrev [ 3.93909493  5.3562593   0.57300649 -5.66434149]\n",
        "itersgamma 13, iterspsi 7317"
       ]
      },
      {
       "output_type": "stream",
       "stream": "stdout",
       "text": [
        "\n",
        "psiPrev [-112.34363415]\n",
        "muiexsPrev [ 3.81196142  5.13575845  0.46935932 -5.84794905]\n",
        "itersgamma 13, iterspsi 8545"
       ]
      },
      {
       "output_type": "stream",
       "stream": "stdout",
       "text": [
        "\n",
        "psiPrev [-112.34380323]\n",
        "muiexsPrev [ 3.812004    5.13581681  0.46933089 -5.84792722]\n",
        "itersgamma 13, iterspsi 5861"
       ]
      },
      {
       "output_type": "stream",
       "stream": "stdout",
       "text": [
        "\n",
        "psiPrev [-112.33623763]\n",
        "muiexsPrev [ 3.81205943  5.13371418  0.47060912 -5.84890532]\n",
        "itersgamma 13, iterspsi 8637"
       ]
      },
      {
       "output_type": "stream",
       "stream": "stdout",
       "text": [
        "\n",
        "psiPrev [-112.3439865]\n",
        "muiexsPrev [ 3.81203746  5.13576555  0.46929997 -5.84790352]\n",
        "itersgamma 13, iterspsi 8619"
       ]
      },
      {
       "output_type": "stream",
       "stream": "stdout",
       "text": [
        "\n",
        "[ 3.81200842  5.13536872  0.46958564 -5.84812216] [  3.60322779e-05   8.27516812e-04   5.12084650e-04   3.91844095e-04]\n",
        "[-112.34229532] [ 0.0030309]\n",
        "cacl2 1.38949549437e-05\n",
        "conc_M [  1.00000000e-200   1.00027790e-001   1.00000000e-001   1.38949549e-005]\n",
        "mufilteri [ 3.81200842  5.13536872  0.46958564 -5.84812216]\n",
        "rhoFilteri [  2.13333333e+01   3.08856569e-06   2.10722343e+00   4.27973695e+00]\n",
        "donnanPotentiali [-112.34229532]\n",
        "7.67251181602  elapsed seconds \n",
        "psiPrev [-112.34229532]\n",
        "muiexsPrev [ 3.81200842  5.13536872  0.46958564 -5.84812216]\n",
        "itersgamma 13, iterspsi 9441"
       ]
      },
      {
       "output_type": "stream",
       "stream": "stdout",
       "text": [
        "\n",
        "psiPrev [-99.12400234]\n",
        "muiexsPrev [ 3.73671473  4.9890824   0.40772519 -5.98031065]\n",
        "itersgamma 13, iterspsi 6511"
       ]
      },
      {
       "output_type": "stream",
       "stream": "stdout",
       "text": [
        "\n",
        "psiPrev [-99.12325504]\n",
        "muiexsPrev [ 3.73751859  4.98879884  0.40794447 -5.98040463]\n",
        "itersgamma 13, iterspsi 4278"
       ]
      },
      {
       "output_type": "stream",
       "stream": "stdout",
       "text": [
        "\n",
        "psiPrev [-99.10010858]\n",
        "muiexsPrev [ 3.73646057  4.98765756  0.41478895 -5.98331815]\n",
        "itersgamma 13, iterspsi 6835"
       ]
      },
      {
       "output_type": "stream",
       "stream": "stdout",
       "text": [
        "\n",
        "psiPrev [-99.12279849]\n",
        "muiexsPrev [ 3.73695258  4.98858798  0.40807897 -5.98046213]\n",
        "itersgamma 13, iterspsi 3248"
       ]
      },
      {
       "output_type": "stream",
       "stream": "stdout",
       "text": [
        "\n",
        "[ 3.73687823  4.98603738  0.41484458 -5.98329289] [ 0.00035626  0.00501147  0.01075557  0.0044838 ]\n",
        "[-99.10036329] [ 0.03551755]\n",
        "cacl2 3.72759372031e-05\n",
        "conc_M [  1.00000000e-200   1.00074552e-001   1.00000000e-001   3.72759372e-005]\n",
        "mufilteri [ 3.73687823  4.98603738  0.41484458 -5.98329289]\n",
        "rhoFilteri [  2.13333333e+01   6.09736047e-06   1.29552385e+00   4.68558652e+00]\n",
        "donnanPotentiali [-99.10036329]\n",
        "5.1129860878  elapsed seconds \n",
        "psiPrev [-99.10036329]\n",
        "muiexsPrev [ 3.73687823  4.98603738  0.41484458 -5.98329289]\n",
        "itersgamma 13, iterspsi 6999"
       ]
      },
      {
       "output_type": "stream",
       "stream": "stdout",
       "text": [
        "\n",
        "psiPrev [-86.08512989]\n",
        "muiexsPrev [ 3.68867559  4.89501079  0.36843659 -6.06520943]\n",
        "itersgamma 13, iterspsi 121\n",
        "psiPrev [-86.79635963]\n",
        "muiexsPrev [ 4.35411091  5.17226958  0.69407293 -6.0313872 ]\n",
        "itersgamma 13, iterspsi 6931"
       ]
      },
      {
       "output_type": "stream",
       "stream": "stdout",
       "text": [
        "\n",
        "psiPrev [-86.08409744]\n",
        "muiexsPrev [ 3.6892298   4.89457541  0.36895152 -6.06533726]\n",
        "itersgamma 13, iterspsi 7314"
       ]
      },
      {
       "output_type": "stream",
       "stream": "stdout",
       "text": [
        "\n",
        "psiPrev [-86.08529621]\n",
        "muiexsPrev [ 3.68854625  4.89441942  0.36835401 -6.06518886]\n",
        "itersgamma 13, iterspsi 5451"
       ]
      },
      {
       "output_type": "stream",
       "stream": "stdout",
       "text": [
        "\n",
        "[ 3.82180339  4.95074033  0.43366856 -6.05847096] [ 0.2661539   0.11076995  0.13020235  0.01354198]\n",
        "[-86.22716609] [ 0.28459707]\n",
        "cacl2 0.0001\n",
        "conc_M [  1.00000000e-200   1.00200000e-001   1.00000000e-001   1.00000000e-004]\n",
        "mufilteri [ 3.82180339  4.95074033  0.43366856 -6.05847096]\n",
        "rhoFilteri [  2.13333333e+01   1.09496657e-05   8.35442812e-01   4.91562851e+00]\n",
        "donnanPotentiali [-86.22716609]\n",
        "4.72084403038  elapsed seconds \n",
        "psiPrev [-86.22716609]\n",
        "muiexsPrev [ 3.82180339  4.95074033  0.43366856 -6.05847096]\n",
        "itersgamma 13, iterspsi 4708"
       ]
      },
      {
       "output_type": "stream",
       "stream": "stdout",
       "text": [
        "\n",
        "psiPrev [-73.19819313]\n",
        "muiexsPrev [ 3.66139283  4.84235822  0.34790288 -6.11908473]\n",
        "itersgamma 13, iterspsi 7304"
       ]
      },
      {
       "output_type": "stream",
       "stream": "stdout",
       "text": [
        "\n",
        "psiPrev [-73.20323078]\n",
        "muiexsPrev [ 3.65816406  4.83500019  0.34368343 -6.11846651]\n",
        "itersgamma 13, iterspsi 3017"
       ]
      },
      {
       "output_type": "stream",
       "stream": "stdout",
       "text": [
        "\n",
        "psiPrev [-73.15564841]\n",
        "muiexsPrev [ 3.65245696  4.85669192  0.38495169 -6.12433402]\n",
        "itersgamma 13, iterspsi 7883"
       ]
      },
      {
       "output_type": "stream",
       "stream": "stdout",
       "text": [
        "\n",
        "psiPrev [-73.20353584]\n",
        "muiexsPrev [ 3.65774994  4.83509466  0.34342896 -6.11842909]\n",
        "itersgamma 13, iterspsi 8413"
       ]
      },
      {
       "output_type": "stream",
       "stream": "stdout",
       "text": [
        "\n",
        "[ 3.65749658  4.8408593   0.35265077 -6.11974451] [ 0.00286837  0.00840307  0.0162421   0.0023086 ]\n",
        "[-73.19286284] [ 0.01872062]\n",
        "cacl2 0.000268269579528\n",
        "conc_M [  1.00000000e-200   1.00536539e-001   1.00000000e-001   2.68269580e-004]\n",
        "mufilteri [ 3.65749658  4.8408593   0.35265077 -6.11974451]\n",
        "rhoFilteri [  2.13333333e+01   1.93307035e-05   5.17797295e-01   5.07445392e+00]\n",
        "donnanPotentiali [-73.19286284]\n",
        "5.59263300896  elapsed seconds \n",
        "psiPrev [-73.19286284]\n",
        "muiexsPrev [ 3.65749658  4.8408593   0.35265077 -6.11974451]\n",
        "itersgamma 13, iterspsi 9235"
       ]
      },
      {
       "output_type": "stream",
       "stream": "stdout",
       "text": [
        "\n",
        "psiPrev [-60.46084526]\n",
        "muiexsPrev [ 3.63869506  4.79823245  0.32773233 -6.1514482 ]\n",
        "itersgamma 13, iterspsi 5300"
       ]
      },
      {
       "output_type": "stream",
       "stream": "stdout",
       "text": [
        "\n",
        "psiPrev [-60.45798612]\n",
        "muiexsPrev [ 3.63822399  4.79913929  0.33169798 -6.15179711]\n",
        "itersgamma 13, iterspsi 9440"
       ]
      },
      {
       "output_type": "stream",
       "stream": "stdout",
       "text": [
        "\n",
        "psiPrev [-60.46083473]\n",
        "muiexsPrev [ 3.63867056  4.79816892  0.32774681 -6.15144948]\n",
        "itersgamma 13, iterspsi 5872"
       ]
      },
      {
       "output_type": "stream",
       "stream": "stdout",
       "text": [
        "\n",
        "psiPrev [-60.45918778]\n",
        "muiexsPrev [ 3.63959045  4.80022041  0.33002945 -6.15165047]\n",
        "itersgamma 13, iterspsi 4851"
       ]
      },
      {
       "output_type": "stream",
       "stream": "stdout",
       "text": [
        "\n",
        "[ 3.63895913  4.79993408  0.33033345 -6.15167683] [ 0.0005519   0.00212261  0.00254736  0.00022369]\n",
        "[-60.45897214] [ 0.00183248]\n",
        "cacl2 0.000719685673001\n",
        "conc_M [  1.00000000e-200   1.01439371e-001   1.00000000e-001   7.19685673e-004]\n",
        "mufilteri [ 3.63895913  4.79993408  0.33033345 -6.15167683]\n",
        "rhoFilteri [  2.13333333e+01   3.30726917e-05   3.17111464e-01   5.17480204e+00]\n",
        "donnanPotentiali [-60.45897214]\n",
        "5.89805793762  elapsed seconds \n",
        "psiPrev [-60.45897214]\n",
        "muiexsPrev [ 3.63895913  4.79993408  0.33033345 -6.15167683]\n",
        "itersgamma 13, iterspsi 9114"
       ]
      },
      {
       "output_type": "stream",
       "stream": "stdout",
       "text": [
        "\n",
        "psiPrev [-47.88912625]\n",
        "muiexsPrev [ 3.62699434  4.77548207  0.31820883 -6.17179359]\n",
        "itersgamma 13, iterspsi 9021"
       ]
      },
      {
       "output_type": "stream",
       "stream": "stdout",
       "text": [
        "\n",
        "psiPrev [-47.88911659]\n",
        "muiexsPrev [ 3.62697436  4.77548931  0.31823094 -6.17179477]\n",
        "itersgamma 13, iterspsi 9147"
       ]
      },
      {
       "output_type": "stream",
       "stream": "stdout",
       "text": [
        "\n",
        "psiPrev [-47.88911915]\n",
        "muiexsPrev [ 3.62697287  4.77542437  0.31822473 -6.17179445]\n",
        "itersgamma 13, iterspsi 8261"
       ]
      },
      {
       "output_type": "stream",
       "stream": "stdout",
       "text": [
        "\n",
        "psiPrev [-47.88908372]\n",
        "muiexsPrev [ 3.62707578  4.77545338  0.31830556 -6.17179876]\n",
        "itersgamma 13, iterspsi 7985"
       ]
      },
      {
       "output_type": "stream",
       "stream": "stdout",
       "text": [
        "\n",
        "[ 3.62701795  4.77544119  0.31826951 -6.17179683] [  4.64706442e-05   4.80344479e-05   6.34695997e-05   3.38641533e-06]\n",
        "[-47.8890996] [  2.78239626e-05]\n",
        "cacl2 0.00193069772888\n",
        "conc_M [  1.00000000e-200   1.03861395e-001   1.00000000e-001   1.93069773e-003]\n",
        "mufilteri [ 3.62701795  4.77544119  0.31826951 -6.17179683]\n",
        "rhoFilteri [  2.13333333e+01   5.67567977e-05   1.96618844e-01   5.23505863e+00]\n",
        "donnanPotentiali [-47.8890996]\n",
        "7.35734701157  elapsed seconds \n",
        "psiPrev [-47.8890996]\n",
        "muiexsPrev [ 3.62701795  4.77544119  0.31826951 -6.17179683]\n",
        "itersgamma 13, iterspsi 6918"
       ]
      },
      {
       "output_type": "stream",
       "stream": "stdout",
       "text": [
        "\n",
        "psiPrev [-35.63654325]\n",
        "muiexsPrev [ 3.62037969  4.76186494  0.31298555 -6.18424368]\n",
        "itersgamma 13, iterspsi 9517"
       ]
      },
      {
       "output_type": "stream",
       "stream": "stdout",
       "text": [
        "\n",
        "psiPrev [-35.63670526]\n",
        "muiexsPrev [ 3.61984866  4.76150614  0.31238322 -6.18422401]\n",
        "itersgamma 13, iterspsi 8835"
       ]
      },
      {
       "output_type": "stream",
       "stream": "stdout",
       "text": [
        "\n",
        "psiPrev [-35.63668196]\n",
        "muiexsPrev [ 3.61988124  4.76148573  0.31246945 -6.18422683]\n",
        "itersgamma 13, iterspsi 3079"
       ]
      },
      {
       "output_type": "stream",
       "stream": "stdout",
       "text": [
        "\n",
        "psiPrev [-35.62604612]\n",
        "muiexsPrev [ 3.66435994  4.78685494  0.35334509 -6.18552358]\n",
        "itersgamma 13, iterspsi 2768"
       ]
      },
      {
       "output_type": "stream",
       "stream": "stdout",
       "text": [
        "\n",
        "[ 3.6370595   4.76971281  0.32993971 -6.18478017] [ 0.02087954  0.01040623  0.021285    0.00067389]\n",
        "[-35.63214459] [ 0.00552559]\n",
        "cacl2 0.00517947467923\n",
        "conc_M [  1.00000000e-200   1.10358949e-001   1.00000000e-001   5.17947468e-003]\n",
        "mufilteri [ 3.6370595   4.76971281  0.32993971 -6.18478017]\n",
        "rhoFilteri [  2.13333333e+01   9.64628156e-05   1.16003689e-01   5.27538435e+00]\n",
        "donnanPotentiali [-35.63214459]\n",
        "5.28320193291  elapsed seconds \n",
        "psiPrev [-35.63214459]\n",
        "muiexsPrev [ 3.6370595   4.76971281  0.32993971 -6.18478017]\n",
        "itersgamma 13, iterspsi 9181"
       ]
      },
      {
       "output_type": "stream",
       "stream": "stdout",
       "text": [
        "\n",
        "psiPrev [-24.1139327]\n",
        "muiexsPrev [ 3.61556685  4.75317214  0.30896785 -6.19173574]\n",
        "itersgamma 13, iterspsi 9194"
       ]
      },
      {
       "output_type": "stream",
       "stream": "stdout",
       "text": [
        "\n",
        "psiPrev [-24.11394038]\n",
        "muiexsPrev [ 3.61558323  4.75322878  0.30892299 -6.19173481]\n",
        "itersgamma 13, iterspsi 8937"
       ]
      },
      {
       "output_type": "stream",
       "stream": "stdout",
       "text": [
        "\n",
        "psiPrev [-24.11392759]\n",
        "muiexsPrev [ 3.61554665  4.75321429  0.30899814 -6.19173635]\n",
        "itersgamma 13, iterspsi 9728"
       ]
      },
      {
       "output_type": "stream",
       "stream": "stdout",
       "text": [
        "\n",
        "psiPrev [-24.11394315]\n",
        "muiexsPrev [ 3.61553238  4.75317087  0.30890653 -6.19173448]\n",
        "itersgamma 13, iterspsi 9834"
       ]
      },
      {
       "output_type": "stream",
       "stream": "stdout",
       "text": [
        "\n",
        "[ 3.61555718  4.75319206  0.30893944 -6.19173515] [  1.73093375e-05   2.45244468e-05   3.75032504e-05   7.68298027e-07]\n",
        "[-24.11393755] [  6.36649468e-06]\n",
        "cacl2 0.0138949549437\n",
        "conc_M [  1.00000000e-200   1.27789910e-001   1.00000000e-001   1.38949549e-002]\n",
        "mufilteri [ 3.61555718  4.75319206  0.30893944 -6.19173515]\n",
        "rhoFilteri [  2.13333333e+01   1.75738179e-04   7.61027434e-02   5.29537304e+00]\n",
        "donnanPotentiali [-24.11393755]\n",
        "8.03363800049  elapsed seconds \n",
        "psiPrev [-24.11393755]\n",
        "muiexsPrev [ 3.61555718  4.75319206  0.30893944 -6.19173515]\n",
        "itersgamma 13, iterspsi 8906"
       ]
      },
      {
       "output_type": "stream",
       "stream": "stdout",
       "text": [
        "\n",
        "psiPrev [-14.26227818]\n",
        "muiexsPrev [ 3.61319956  4.74839224  0.30690423 -6.19616641]\n",
        "itersgamma 13, iterspsi 10578"
       ]
      },
      {
       "output_type": "stream",
       "stream": "stdout",
       "text": [
        "\n",
        "psiPrev [-14.26228413]\n",
        "muiexsPrev [ 3.61306996  4.74835299  0.30684949 -6.19616569]\n",
        "itersgamma 13, iterspsi 7657"
       ]
      },
      {
       "output_type": "stream",
       "stream": "stdout",
       "text": [
        "\n",
        "psiPrev [-14.26228343]\n",
        "muiexsPrev [ 3.61345797  4.74859699  0.30685552 -6.19616576]\n",
        "itersgamma 13, iterspsi 8886"
       ]
      },
      {
       "output_type": "stream",
       "stream": "stdout",
       "text": [
        "\n",
        "psiPrev [-14.26227187]\n",
        "muiexsPrev [ 3.61311435  4.74846816  0.30696284 -6.19616717]\n",
        "itersgamma 13, iterspsi 8238"
       ]
      },
      {
       "output_type": "stream",
       "stream": "stdout",
       "text": [
        "\n",
        "[ 3.61321518  4.7484722   0.30689463 -6.19616628] [  1.34762308e-04   9.20236009e-05   4.08749549e-05   5.35344669e-07]\n",
        "[-14.26227921] [  4.41516970e-06]\n",
        "cacl2 0.0372759372031\n",
        "conc_M [  1.00000000e-200   1.74551874e-001   1.00000000e-001   3.72759372e-002]\n",
        "mufilteri [ 3.61321518  4.7484722   0.30689463 -6.19616628]\n",
        "rhoFilteri [  2.13333333e+01   3.37552274e-04   4.92494716e-02   5.30887927e+00]\n",
        "donnanPotentiali [-14.26227921]\n",
        "7.72367405891  elapsed seconds \n",
        "psiPrev [-14.26227921]\n",
        "muiexsPrev [ 3.61321518  4.7484722   0.30689463 -6.19616628]\n",
        "itersgamma 13, iterspsi 10289"
       ]
      },
      {
       "output_type": "stream",
       "stream": "stdout",
       "text": [
        "\n",
        "psiPrev [-7.84010844]\n",
        "muiexsPrev [ 3.61183332  4.74590481  0.30577819 -6.19864006]\n",
        "itersgamma 13, iterspsi 10937"
       ]
      },
      {
       "output_type": "stream",
       "stream": "stdout",
       "text": [
        "\n",
        "psiPrev [-7.84010806]\n",
        "muiexsPrev [ 3.61183185  4.74588373  0.30578305 -6.19864011]\n",
        "itersgamma 13, iterspsi 11315"
       ]
      },
      {
       "output_type": "stream",
       "stream": "stdout",
       "text": [
        "\n",
        "psiPrev [-7.84010886]\n",
        "muiexsPrev [ 3.61183799  4.74589295  0.30577289 -6.19864001]\n",
        "itersgamma 13, iterspsi 9157"
       ]
      },
      {
       "output_type": "stream",
       "stream": "stdout",
       "text": [
        "\n",
        "psiPrev [-7.84010645]\n",
        "muiexsPrev [ 3.61183714  4.74590046  0.30580407 -6.1986403 ]\n",
        "itersgamma 13, iterspsi 10889"
       ]
      },
      {
       "output_type": "stream",
       "stream": "stdout",
       "text": [
        "\n",
        "[ 3.61183537  4.74589356  0.30578131 -6.19864009] [  2.36449915e-06   8.12919756e-06   1.24016162e-05   1.13870274e-07]\n",
        "[-7.84010819] [  9.48842896e-07]\n",
        "cacl2 0.1\n",
        "conc_M [  1.00000000e-200   3.00000000e-001   1.00000000e-001   1.00000000e-001]\n",
        "mufilteri [ 3.61183537  4.74589356  0.30578131 -6.19864009]\n",
        "rhoFilteri [  2.13333333e+01   6.73173371e-04   3.41962712e-02   5.31657283e+00]\n",
        "donnanPotentiali [-7.84010819]\n",
        "9.42160105705  elapsed seconds \n"
       ]
      }
     ],
     "prompt_number": 38
    },
    {
     "cell_type": "code",
     "collapsed": false,
     "input": [
      "# change in to np.arrays\n",
      "for key, value in results.iteritems():\n",
      "  print key  \n",
      "  results[key] = np.array( results[key] )"
     ],
     "language": "python",
     "metadata": {},
     "outputs": [
      {
       "output_type": "stream",
       "stream": "stdout",
       "text": [
        "cacl2\n",
        "muBath\n",
        "muFilter\n",
        "rhoFilter\n",
        "mu_ES\n",
        "mu_HS\n",
        "muFilterStd\n",
        "deltaG\n",
        "donnanPotential\n",
        "donnanPotentialStd\n"
       ]
      }
     ],
     "prompt_number": 39
    },
    {
     "cell_type": "markdown",
     "metadata": {},
     "source": [
      "### Write results to pickle file (so we can manipulate later) "
     ]
    },
    {
     "cell_type": "code",
     "collapsed": false,
     "input": [
      "import cPickle as pickle\n",
      "pklFile = \"nonner.pkl\""
     ],
     "language": "python",
     "metadata": {},
     "outputs": [],
     "prompt_number": 40
    },
    {
     "cell_type": "code",
     "collapsed": false,
     "input": [
      "\n",
      "\n",
      "output = open(pklFile, 'wb')\n",
      "pickle.dump(results, output)\n",
      "output.close()\n"
     ],
     "language": "python",
     "metadata": {},
     "outputs": [],
     "prompt_number": 41
    },
    {
     "cell_type": "markdown",
     "metadata": {},
     "source": [
      "### Read pickle (unnecessary, but done for illustration)"
     ]
    },
    {
     "cell_type": "code",
     "collapsed": false,
     "input": [
      "pkl_file = open(pklFile, 'rb')\n",
      "results = pickle.load(pkl_file)\n",
      "pkl_file.close()\n",
      "\n"
     ],
     "language": "python",
     "metadata": {},
     "outputs": [],
     "prompt_number": 42
    },
    {
     "cell_type": "markdown",
     "metadata": {},
     "source": [
      "### Plotting \n",
      "Results should compare well with Fig 2 of [1]\tW. Nonner, L. Catacuzzeno, and B. Eisenberg, \u201cBinding and selectivity in L-type calcium channels: a mean spherical approximation.,\u201d Biophys J, vol. 79, no. 4, pp. 1976\u20131992, Oct. 2000.\n",
      "\n",
      "Results below are close, but not exact with Nonner paper. Namely, Na s.b. at 15 M in the pocket, but is only ten here. All else looks pretty reasonable \n"
     ]
    },
    {
     "cell_type": "code",
     "collapsed": false,
     "input": [
      "def doPlot(results,key,ylabel=\"\",legend=True):\n",
      "  keyed = results[key]\n",
      "  if key==\"donnanPotential\":  \n",
      "    plt.plot(results[\"cacl2\"],keyed,label=\"All ions\") \n",
      "    legend=False\n",
      "    \n",
      "  else:      \n",
      "    plt.plot(results[\"cacl2\"],keyed[:,msa.idxNa], label=\"Na\")\n",
      "    plt.plot(results[\"cacl2\"],keyed[:,msa.idxCa], label=\"Ca\")\n",
      "    plt.plot(results[\"cacl2\"],keyed[:,msa.idxCl], label=\"Cl\")\n",
      "\n",
      "  plt.ylabel(ylabel)\n",
      "  plt.xlabel(\"log(CaCl2)\")  \n",
      "  plt.xscale('log')\n",
      "  if legend:\n",
      "        plt.legend(loc=0)"
     ],
     "language": "python",
     "metadata": {},
     "outputs": [],
     "prompt_number": 43
    },
    {
     "cell_type": "code",
     "collapsed": false,
     "input": [
      "import matplotlib.pylab as plt\n",
      "matplotlib.rcParams['figure.figsize'] = (9.0, 6.0)\n",
      "\n",
      "plt.subplot(2,2,1)\n",
      "doPlot(results,\"rhoFilter\",ylabel=\"Pore Conc [M]\")\n",
      "\n",
      "plt.subplot(2,2,2)\n",
      "doPlot(results,\"muFilter\",ylabel=\"Excess chemical potential\\n [kT]\",legend=False)\n",
      "\n",
      "plt.subplot(2,2,3)\n",
      "doPlot(results,\"deltaG\",ylabel=\"'Free energy'\",legend=False)\n",
      "\n",
      "plt.subplot(2,2,4)\n",
      "doPlot(results,\"donnanPotential\",ylabel=\"Donnan potential [mV]\")\n",
      "\n",
      "plt.tight_layout()\n",
      "plt.gcf().savefig(\"valid2.png\",dpi=300)"
     ],
     "language": "python",
     "metadata": {},
     "outputs": [
      {
       "metadata": {},
       "output_type": "display_data",
       "png": "[encoded data removed]",
       "text": [
        "<matplotlib.figure.Figure at 0x7fea98495b50>"
       ]
      }
     ],
     "prompt_number": 44
    },
    {
     "cell_type": "code",
     "collapsed": false,
     "input": [],
     "language": "python",
     "metadata": {},
     "outputs": [
      {
       "output_type": "stream",
       "stream": "stdout",
       "text": [
        "[6.0, 4.0]\n"
       ]
      }
     ],
     "prompt_number": 12
    },
    {
     "cell_type": "code",
     "collapsed": false,
     "input": [],
     "language": "python",
     "metadata": {},
     "outputs": []
    }
   ],
   "metadata": {}
  }
 ]
}