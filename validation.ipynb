{
 "metadata": {
  "name": "",
  "signature": "sha256:1f414f27a1440f58298603592412564a1dc90b7e3aa2d14e8feecdcebc893f15"
 },
 "nbformat": 3,
 "nbformat_minor": 0,
 "worksheets": [
  {
   "cells": [
    {
     "cell_type": "markdown",
     "metadata": {},
     "source": [
      "# Test to verify all is well in MSA land\n",
      "\n",
      "PKH Verified once more on 160830"
     ]
    },
    {
     "cell_type": "code",
     "collapsed": false,
     "input": [
      "%load_ext autoreload\n",
      "%autoreload 2"
     ],
     "language": "python",
     "metadata": {},
     "outputs": [],
     "prompt_number": 1
    },
    {
     "cell_type": "markdown",
     "metadata": {},
     "source": [
      "## Nonner parameters"
     ]
    },
    {
     "cell_type": "code",
     "collapsed": false,
     "input": [
      "import MSAtools as msa\n",
      "msa.idxOxy = 0\n",
      "msa.idxCl = 1\n",
      "msa.idxNa = 2\n",
      "msa.idxCa = 3\n",
      "msa.nOxy = 8.0\n",
      "msa.idxOxy = 0\n",
      "msa.cacl2 = 1e-10\n",
      "msa.indices=[\"O\",\"Cl\",\"Na\",\"Ca\"]  # ALWAYS put oxygen first\n",
      "msa.ref_conc_M = np.array([1e-200, (100.0e-3), 100.0e-3, 0])  # [M] order is  O, Cl, Na, Ca (bath) \n",
      "msa.nIons = np.shape(msa.ref_conc_M)[0]\n",
      "msa.zs = np.array([-0.5, -1.0, 1.0, 2.00]) #input charges here\n",
      "\n",
      "#FF RADII (Nonner)#\n",
      "msa.sigmas = np.array([0.278, 0.362, 0.204, 0.200])\n",
      "msa.V_i = 0.375 # nm^3\n",
      "msa.filter_dielectric= 63.5\n",
      "\n",
      "msa.Ns = np.array([msa.nOxy, 1., 1., 1.]) # Number of ions in filter (first number is fixed, others are determined by MSA)\n"
     ],
     "language": "python",
     "metadata": {},
     "outputs": [
      {
       "output_type": "stream",
       "stream": "stdout",
       "text": [
        "WARNING: oxy always must be first entry\n"
       ]
      }
     ],
     "prompt_number": 2
    },
    {
     "cell_type": "markdown",
     "metadata": {},
     "source": [
      "## PV Parameters (ANK)"
     ]
    },
    {
     "cell_type": "code",
     "collapsed": false,
     "input": [
      "import MSAtools as msa\n",
      "msa.idxOxy = 0\n",
      "msa.idxCl = 1\n",
      "msa.idxNa = 2\n",
      "msa.idxCa = 3\n",
      "msa.idxMg = 4\n",
      "msa.nOxy = 7.0\n",
      "msa.idxOxy = 0\n",
      "msa.cacl2 = 1e-10\n",
      "msa.indices=[\"O\",\"Cl\",\"K\",\"Ca\", \"Mg\"]  # ALWAYS put oxygen first\n",
      "msa.ref_conc_M = np.array([1e-200, (150.0e-3 + 1.0e-3), 150.0e-3, 1.0e-6, 1.0e-3])  # [M] order is  O, Cl, K, Ca, Mg (bath) \n",
      "msa.nIons = np.shape(msa.ref_conc_M)[0]\n",
      "#msa.zs = np.array([-0.5, -1.0, 1.0, 2.00, 2.00]) #input charges here\n",
      "msa.zs = np.array([-0.5, -1.0, 1.0, 1.77, 1.69]) #input charges here, polarizability\n",
      "#FF RADII (Li Merz)#\n",
      "msa.sigmas = np.array([0.354, 0.454, 0.353, 0.32, 0.28])\n",
      "#msa.V_i = 0.6 # nm^3\n",
      "msa.V_i = 0.309 #from 4PAL xtal struc\n",
      "msa.filter_dielectric= 10.0\n",
      "\n",
      "msa.Ns = np.array([msa.nOxy, 1., 1., 1., 1.]) # Number of ions in filter (first number is fixed, others are determined by MSA)"
     ],
     "language": "python",
     "metadata": {},
     "outputs": [],
     "prompt_number": 44
    },
    {
     "cell_type": "markdown",
     "metadata": {},
     "source": [
      "### Run single iter"
     ]
    },
    {
     "cell_type": "code",
     "collapsed": false,
     "input": [
      "muiexsPrev = np.zeros(msa.nIons)\n",
      "psiPrev = 0.\n",
      "muiexsPrev = 0\n",
      "alpha = 0.0010\n",
      "\n",
      "\n",
      "from timeit import default_timer as timer\n",
      "msa.cacl2 = 1e-6\n",
      "start = timer()\n",
      "msa.conc_M = np.copy(msa.ref_conc_M)\n",
      "msa.conc_M[msa.idxCl] = msa.ref_conc_M[msa.idxCl] + 2 * msa.cacl2\n",
      "msa.conc_M[msa.idxCa] = msa.cacl2\n",
      "print msa.nOxy\n",
      "mufilteri,donnanPotentiali,mu_ESi,mu_HSi,rhoFilteri = msa.SolveMSAEquations(\n",
      "    msa.filter_dielectric,\n",
      "    msa.conc_M,\n",
      "    msa.zs,\n",
      "    msa.Ns,\n",
      "    msa.V_i,\n",
      "    msa.sigmas,                                                 \n",
      "    msa.nOxy,\n",
      "    psiPrev=psiPrev,\n",
      "    muiexsPrev=muiexsPrev,\n",
      "    alpha=alpha, \n",
      "    verbose=False)\n",
      "    #verbose=True)\n",
      "    \n",
      "print \"cacl2\", msa.cacl2    \n",
      "print \"conc_M\", msa.conc_M\n",
      "print \"mufilteri\",mufilteri\n",
      "print \"rhoFilteri\",rhoFilteri\n",
      "print \"donnanPotentiali\",donnanPotentiali    \n",
      "end = timer()\n",
      "print(end - start), \" elapsed seconds \"\n"
     ],
     "language": "python",
     "metadata": {},
     "outputs": [
      {
       "output_type": "stream",
       "stream": "stdout",
       "text": [
        "7.0\n",
        "itersgamma 0, iterspsi 10780"
       ]
      },
      {
       "output_type": "stream",
       "stream": "stdout",
       "text": [
        "\n",
        "cacl2 1e-06\n",
        "conc_M [  1.00000000e-200   1.51002000e-001   1.50000000e-001   1.00000000e-006\n",
        "   1.00000000e-003]\n",
        "mufilteri [  4.48721409   4.95640595   1.46382112 -11.41338422 -12.36065062]\n",
        "rhoFilteri [  1.16666667e+01   3.50497341e-08   1.14095377e-01   1.48922338e-02\n",
        "   2.84473793e+00]\n",
        "donnanPotentiali -154.38920694\n",
        "10.7935578823  elapsed seconds \n"
       ]
      }
     ],
     "prompt_number": 6
    },
    {
     "cell_type": "code",
     "collapsed": false,
     "input": [
      "muiexsPrev = np.zeros(msa.nIons)\n",
      "psiPrev = -10 * np.random.rand(1) # Can we come up with a better first-principles est? \n",
      "muiexsPrev = np.random.rand(msa.nIons)\n",
      "psiPrev = 0\n",
      "muiexsPrev = 0\n",
      "alpha = 0.0010\n",
      "\n",
      "results = {}\n",
      "results[\"muFilter\"]=[]\n",
      "results[\"donnanPotential\"]=[]\n",
      "results[\"muFilterStd\"]=[]\n",
      "results[\"donnanPotentialStd\"]=[]\n",
      "results[\"mu_ES\"]=[]\n",
      "results[\"mu_HS\"]=[]\n",
      "results[\"rhoFilter\"]=[]\n",
      "results[\"muBath\"] = []\n",
      "results[\"deltaG\"] = []\n",
      "\n",
      "from timeit import default_timer as timer\n",
      "\n",
      "#cacl2s = np.linspace(-10,-6,3) # Coarse\n",
      "cacl2s = np.linspace(-10,-1,22) # Fine\n",
      "\n",
      "cacl2s = 10**cacl2s\n",
      "results[\"cacl2\"] = cacl2s\n",
      "\n",
      "\n",
      "\n",
      "for i, cacl2i  in enumerate(cacl2s):\n",
      "    # start timer\n",
      "    start = timer()\n",
      "    \n",
      "    # update concs\n",
      "    msa.cacl2 = cacl2i\n",
      "    #msa.cacl2 = 1e-6\n",
      "    msa.conc_M = np.copy(msa.ref_conc_M)\n",
      "    msa.conc_M[msa.idxCl] = msa.ref_conc_M[msa.idxCl] + 2 * msa.cacl2\n",
      "    msa.conc_M[msa.idxCa] = msa.cacl2\n",
      "    \n",
      "    numDraws = 1\n",
      "    filterIters=[]\n",
      "    psiIters = []\n",
      "    for i in np.arange(numDraws):\n",
      "      psiPrevRand = psiPrev + np.random.rand(1)\n",
      "      muiexsPrevRand = muiexsPrev + np.random.rand(msa.nIons)\n",
      "      print \"psiPrev\", psiPrev\n",
      "      print \"muiexsPrev\", muiexsPrev\n",
      "    \n",
      "      # run MSA \n",
      "      mufilteri,donnanPotentiali,mu_ESi,mu_HSi,rhoFilteri = msa.SolveMSAEquations(\n",
      "        msa.filter_dielectric,\n",
      "        msa.conc_M,\n",
      "        msa.zs,\n",
      "        msa.Ns,\n",
      "        msa.V_i,\n",
      "        msa.sigmas,                                                 \n",
      "        psiPrev=psiPrevRand,\n",
      "        muiexsPrev=muiexsPrevRand,\n",
      "        alpha=alpha, \n",
      "        verbose=False)\n",
      "        #verbose=True)\n",
      "      filterIters.append(mufilteri)\n",
      "      psiIters.append(donnanPotentiali)\n",
      "        \n",
      "      psiPrev = donnanPotentiali        \n",
      "      muiexsPrev = mufilteri  \n",
      "    # end loop \n",
      "    \n",
      "    # mean/dev\n",
      "    filterIters = np.array(filterIters)    \n",
      "    psiIters = np.array(psiIters)    \n",
      "    mufilteri = np.mean(filterIters,axis=0)         \n",
      "    mufilteriStd = np.std(filterIters,axis=0)         \n",
      "    donnanPotentiali = np.mean(psiIters,axis=0)\n",
      "    donnanPotentialiStd = np.std(psiIters,axis=0)         \n",
      "    print mufilteri, mufilteriStd\n",
      "    print donnanPotentiali, donnanPotentialiStd\n",
      "        \n",
      "    ## store results     \n",
      "    # from msa \n",
      "    results[\"muBath\"].append( msa.results[\"muBath\"] )\n",
      "    results[\"deltaG\"].append( msa.results[\"deltaG\"] )\n",
      "    \n",
      "    # returned\n",
      "    results[\"muFilter\"].append(mufilteri)\n",
      "    results[\"muFilterStd\"].append(mufilteriStd)\n",
      "    results[\"donnanPotential\"].append(donnanPotentiali)\n",
      "    results[\"donnanPotentialStd\"].append(donnanPotentialiStd)\n",
      "    results[\"mu_ES\"].append(mu_ESi)\n",
      "    results[\"mu_HS\"].append(mu_HSi)\n",
      "    results[\"rhoFilter\"].append(rhoFilteri)\n",
      "    \n",
      "    # update previous psi/muiexs so code has better initial guess \n",
      "    psiPrev = donnanPotentiali\n",
      "    muiexsPrev = mufilteri\n",
      "    \n",
      "    # report information \n",
      "    print \"cacl2\", msa.cacl2    \n",
      "    print \"conc_M\", msa.conc_M\n",
      "    print \"mufilteri\",mufilteri\n",
      "    print \"rhoFilteri\",rhoFilteri\n",
      "    print \"donnanPotentiali\",donnanPotentiali    \n",
      "    end = timer()\n",
      "    print(end - start), \" elapsed seconds \"\n",
      "\n",
      "    "
     ],
     "language": "python",
     "metadata": {},
     "outputs": [
      {
       "output_type": "stream",
       "stream": "stdout",
       "text": [
        "psiPrev 0\n",
        "muiexsPrev 0\n",
        "Your function broke!"
       ]
      },
      {
       "output_type": "stream",
       "stream": "stdout",
       "text": [
        "\n",
        "itersgamma 0, iterspsi 20001\n",
        "[  90.99034381  164.71082698   80.97414002   34.29652191   17.60402044] [ 0.  0.  0.  0.  0.]\n",
        "[-1116.25170046] [ 0.]\n",
        "cacl2 1e-10\n",
        "conc_M [  1.00000000e-200   1.51000000e-001   1.50000000e-001   1.00000000e-010\n",
        "   1.00000000e-003]\n",
        "mufilteri [  90.99034381  164.71082698   80.97414002   34.29652191   17.60402044]\n",
        "rhoFilteri [  2.58899676e+01   4.05503183e-97   1.24744466e-23   5.11416994e-09\n",
        "   7.65951701e+00]\n",
        "donnanPotentiali [-1116.25170046]\n",
        "20.0418658257  elapsed seconds \n",
        "psiPrev [-1116.25170046]\n",
        "muiexsPrev [  90.99034381  164.71082698   80.97414002   34.29652191   17.60402044]\n",
        "itersgamma 0, iterspsi 12878"
       ]
      },
      {
       "output_type": "stream",
       "stream": "stdout",
       "text": [
        "\n",
        "[  90.99914487  164.7278634    80.98261891   34.30225501   17.60784944] [ 0.  0.  0.  0.  0.]\n",
        "[-1116.31053994] [ 0.]\n",
        "cacl2 2.68269579528e-10\n",
        "conc_M [  1.00000000e-200   1.51000001e-001   1.50000000e-001   2.68269580e-010\n",
        "   1.00000000e-003]\n",
        "mufilteri [  90.99914487  164.7278634    80.98261891   34.30225501   17.60784944]\n",
        "rhoFilteri [  2.58899676e+01   3.97734855e-97   1.23975536e-23   1.36969293e-08\n",
        "   7.65994094e+00]\n",
        "donnanPotentiali [-1116.31053994]\n",
        "11.8609910011  elapsed seconds \n",
        "psiPrev [-1116.31053994]\n",
        "muiexsPrev [  90.99914487  164.7278634    80.98261891   34.30225501   17.60784944]\n",
        "itersgamma 0, iterspsi 74"
       ]
      },
      {
       "output_type": "stream",
       "stream": "stdout",
       "text": [
        "\n",
        "[  90.34527905  163.97136547   80.88905716   33.83753637   18.05986273] [ 0.  0.  0.  0.  0.]\n",
        "[-1123.16404106] [ 0.]\n",
        "cacl2 7.19685673001e-10\n",
        "conc_M [  1.00000000e-200   1.51000001e-001   1.50000000e-001   7.19685673e-010\n",
        "   1.00000000e-003]\n",
        "mufilteri [  90.34527905  163.97136547   80.88905716   33.83753637   18.05986273]\n",
        "rhoFilteri [  2.58899676e+01   6.48927194e-97   1.77940884e-23   9.39751060e-08\n",
        "   7.65971748e+00]\n",
        "donnanPotentiali [-1123.16404106]\n",
        "0.0700368881226  elapsed seconds \n",
        "psiPrev [-1123.16404106]\n",
        "muiexsPrev [  90.34527905  163.97136547   80.88905716   33.83753637   18.05986273]\n",
        "itersgamma 0, iterspsi 13383"
       ]
      },
      {
       "output_type": "stream",
       "stream": "stdout",
       "text": [
        "\n",
        "[  90.99914601  164.72786929   80.98262085   34.30225527   17.60784972] [ 0.  0.  0.  0.  0.]\n",
        "[-1116.31054412] [ 0.]\n",
        "cacl2 1.93069772888e-09\n",
        "conc_M [  1.00000000e-200   1.51000004e-001   1.50000000e-001   1.93069773e-009\n",
        "   1.00000000e-003]\n",
        "mufilteri [  90.99914601  164.72786929   80.98262085   34.30225527   17.60784972]\n",
        "rhoFilteri [  2.58899676e+01   3.97732451e-97   1.23975315e-23   9.85748396e-08\n",
        "   7.65994086e+00]\n",
        "donnanPotentiali [-1116.31054412]\n",
        "12.4590570927  elapsed seconds \n",
        "psiPrev [-1116.31054412]\n",
        "muiexsPrev [  90.99914601  164.72786929   80.98262085   34.30225527   17.60784972]\n",
        "itersgamma 0, iterspsi 73"
       ]
      },
      {
       "output_type": "stream",
       "stream": "stdout",
       "text": [
        "\n",
        "[  91.38247552  164.2886769    80.85261032   34.14427789   17.79910094] [ 0.  0.  0.  0.  0.]\n",
        "[-1119.21015686] [ 0.]\n",
        "cacl2 5.17947467923e-09\n",
        "conc_M [  1.00000000e-200   1.51000010e-001   1.50000000e-001   5.17947468e-009\n",
        "   1.00000000e-003]\n",
        "mufilteri [  91.38247552  164.2886769    80.85261032   34.14427789   17.79910094]\n",
        "rhoFilteri [  2.58899676e+01   5.51223960e-97   1.58140924e-23   3.78513748e-07\n",
        "   7.65975363e+00]\n",
        "donnanPotentiali [-1119.21015686]\n",
        "0.0851500034332  elapsed seconds \n",
        "psiPrev [-1119.21015686]\n",
        "muiexsPrev [  91.38247552  164.2886769    80.85261032   34.14427789   17.79910094]\n",
        "itersgamma 0, iterspsi 11543"
       ]
      },
      {
       "output_type": "stream",
       "stream": "stdout",
       "text": [
        "\n",
        "[  90.99915232  164.7278637    80.98262374   34.30225979   17.60785092] [ 0.  0.  0.  0.  0.]\n",
        "[-1116.31056212] [ 0.]\n",
        "cacl2 1.38949549437e-08\n",
        "conc_M [  1.00000000e-200   1.51000028e-001   1.50000000e-001   1.38949549e-008\n",
        "   1.00000000e-003]\n",
        "mufilteri [  90.99915232  164.7278637    80.98262374   34.30225979   17.60785092]\n",
        "rhoFilteri [  2.58899676e+01   3.97734455e-97   1.23975041e-23   7.09426620e-07\n",
        "   7.65994018e+00]\n",
        "donnanPotentiali [-1116.31056212]\n",
        "11.7926609516  elapsed seconds \n",
        "psiPrev [-1116.31056212]\n",
        "muiexsPrev [  90.99915232  164.7278637    80.98262374   34.30225979   17.60785092]\n",
        "itersgamma 0, iterspsi 12616"
       ]
      },
      {
       "output_type": "stream",
       "stream": "stdout",
       "text": [
        "\n",
        "[  90.99915265  164.72788147   80.98262558   34.30226169   17.60785449] [ 0.  0.  0.  0.  0.]\n",
        "[-1116.31061596] [ 0.]\n",
        "cacl2 3.72759372031e-08\n",
        "conc_M [  1.00000000e-200   1.51000075e-001   1.50000000e-001   3.72759372e-008\n",
        "   1.00000000e-003]\n",
        "mufilteri [  90.99915265  164.72788147   80.98262558   34.30226169   17.60785449]\n",
        "rhoFilteri [  2.58899676e+01   3.97726653e-97   1.23975069e-23   1.90317897e-06\n",
        "   7.65993900e+00]\n",
        "donnanPotentiali [-1116.31061596]\n",
        "13.8494620323  elapsed seconds \n",
        "psiPrev [-1116.31061596]\n",
        "muiexsPrev [  90.99915265  164.72788147   80.98262558   34.30226169   17.60785449]\n",
        "itersgamma 0, iterspsi 79"
       ]
      },
      {
       "output_type": "stream",
       "stream": "stdout",
       "text": [
        "\n",
        "[  90.89897743  164.24619034   81.15629907   34.43868802   17.70025738] [ 0.  0.  0.  0.  0.]\n",
        "[-1117.71172621] [ 0.]\n",
        "cacl2 1e-07\n",
        "conc_M [  1.00000000e-200   1.51000200e-001   1.50000000e-001   1.00000000e-007\n",
        "   1.00000000e-003]\n",
        "mufilteri [  90.89897743  164.24619034   81.15629907   34.43868802   17.70025738]\n",
        "rhoFilteri [  2.58899676e+01   6.09846728e-97   1.10053222e-23   4.90697801e-06\n",
        "   7.65993506e+00]\n",
        "donnanPotentiali [-1117.71172621]\n",
        "0.0913190841675  elapsed seconds \n",
        "psiPrev [-1117.71172621]\n",
        "muiexsPrev [  90.89897743  164.24619034   81.15629907   34.43868802   17.70025738]\n",
        "itersgamma 0, iterspsi 13904"
       ]
      },
      {
       "output_type": "stream",
       "stream": "stdout",
       "text": [
        "\n",
        "[  90.9992071   164.72798739   80.98268068   34.30230339   17.60788384] [ 0.  0.  0.  0.  0.]\n",
        "[-1116.3110577] [ 0.]\n",
        "cacl2 2.68269579528e-07\n",
        "conc_M [  1.00000000e-200   1.51000537e-001   1.50000000e-001   2.68269580e-007\n",
        "   1.00000000e-003]\n",
        "mufilteri [  90.9992071   164.72798739   80.98268068   34.30230339   17.60788384]\n",
        "rhoFilteri [  2.58899676e+01   3.97678733e-97   1.23970324e-23   1.36967323e-05\n",
        "   7.65992664e+00]\n",
        "donnanPotentiali [-1116.3110577]\n",
        "15.2151360512  elapsed seconds \n",
        "psiPrev [-1116.3110577]\n",
        "muiexsPrev [  90.9992071   164.72798739   80.98268068   34.30230339   17.60788384]\n",
        "itersgamma 0, iterspsi 77"
       ]
      },
      {
       "output_type": "stream",
       "stream": "stdout",
       "text": [
        "\n",
        "[  90.75753061  164.26636029   80.9118556    34.64687547   17.74586411] [ 0.  0.  0.  0.  0.]\n",
        "[-1118.40308499] [ 0.]\n",
        "cacl2 7.19685673001e-07\n",
        "conc_M [  1.00000000e-200   1.51001439e-001   1.50000000e-001   7.19685673e-007\n",
        "   1.00000000e-003]\n",
        "mufilteri [  90.75753061  164.26636029   80.9118556    34.64687547   17.74586411]\n",
        "rhoFilteri [  2.58899676e+01   5.81735975e-97   1.44409901e-23   3.00752544e-05\n",
        "   7.65980853e+00]\n",
        "donnanPotentiali [-1118.40308499]\n",
        "0.0894229412079  elapsed seconds \n",
        "psiPrev [-1118.40308499]\n",
        "muiexsPrev [  90.75753061  164.26636029   80.9118556    34.64687547   17.74586411]\n",
        "itersgamma 0, iterspsi 67"
       ]
      },
      {
       "output_type": "stream",
       "stream": "stdout",
       "text": [
        "\n",
        "[  90.83114042  163.96057027   81.09156863   34.91639679   17.86970781] [ 0.  0.  0.  0.  0.]\n",
        "[-1120.28103458] [ 0.]\n",
        "cacl2 1.93069772888e-06\n",
        "conc_M [  1.00000000e-200   1.51003861e-001   1.50000000e-001   1.93069773e-006\n",
        "   1.00000000e-003]\n",
        "mufilteri [  90.83114042  163.96057027   81.09156863   34.91639679   17.86970781]\n",
        "rhoFilteri [  2.58899676e+01   7.34191784e-97   1.29816114e-23   7.01453211e-05\n",
        "   7.65980438e+00]\n",
        "donnanPotentiali [-1120.28103458]\n",
        "0.078155040741  elapsed seconds \n",
        "psiPrev [-1120.28103458]\n",
        "muiexsPrev [  90.83114042  163.96057027   81.09156863   34.91639679   17.86970781]\n",
        "itersgamma 0, iterspsi 11592"
       ]
      },
      {
       "output_type": "stream",
       "stream": "stdout",
       "text": [
        "\n",
        "[  91.00031072  164.73014542   80.98378537   34.30318504   17.60850954] [ 0.  0.  0.  0.  0.]\n",
        "[-1116.32047471] [ 0.]\n",
        "cacl2 5.17947467923e-06\n",
        "conc_M [  1.00000000e-200   1.51010359e-001   1.50000000e-001   5.17947468e-006\n",
        "   1.00000000e-003]\n",
        "mufilteri [  91.00031072  164.73014542   80.98378537   34.30318504   17.60850954]\n",
        "rhoFilteri [  2.58899676e+01   3.96698131e-97   1.23877898e-23   2.64372804e-04\n",
        "   7.65966409e+00]\n",
        "donnanPotentiali [-1116.32047471]\n",
        "10.4320230484  elapsed seconds \n",
        "psiPrev [-1116.32047471]\n",
        "muiexsPrev [  91.00031072  164.73014542   80.98378537   34.30318504   17.60850954]\n",
        "itersgamma 0, iterspsi 86"
       ]
      },
      {
       "output_type": "stream",
       "stream": "stdout",
       "text": [
        "\n",
        "[  91.45407914  164.77073123   81.42869031   34.41951217   17.63211876] [ 0.  0.  0.  0.  0.]\n",
        "[-1116.67813558] [ 0.]\n",
        "cacl2 1.38949549437e-05\n",
        "conc_M [  1.00000000e-200   1.51027790e-001   1.50000000e-001   1.38949549e-005\n",
        "   1.00000000e-003]\n",
        "mufilteri [  91.45407914  164.77073123   81.42869031   34.41951217   17.63211876]\n",
        "rhoFilteri [  2.58899676e+01   3.75657883e-97   8.04713239e-24   6.47040204e-04\n",
        "   7.65908217e+00]\n",
        "donnanPotentiali [-1116.67813558]\n",
        "0.0827829837799  elapsed seconds \n",
        "psiPrev [-1116.67813558]\n",
        "muiexsPrev [  91.45407914  164.77073123   81.42869031   34.41951217   17.63211876]\n",
        "itersgamma 0, iterspsi 75"
       ]
      },
      {
       "output_type": "stream",
       "stream": "stdout",
       "text": [
        "\n",
        "[  91.14059607  164.56596757   81.12287453   34.81950008   17.7893667 ] [ 0.  0.  0.  0.  0.]\n",
        "[-1119.06309836] [ 0.]\n",
        "cacl2 3.72759372031e-05\n",
        "conc_M [  1.00000000e-200   1.51074552e-001   1.50000000e-001   3.72759372e-005\n",
        "   1.00000000e-003]\n",
        "mufilteri [  91.14059607  164.56596757   81.12287453   34.81950008   17.7893667 ]\n",
        "rhoFilteri [  2.58899676e+01   4.20212986e-97   1.19958407e-23   1.37139738e-03\n",
        "   7.65829497e+00]\n",
        "donnanPotentiali [-1119.06309836]\n",
        "0.122598171234  elapsed seconds \n",
        "psiPrev [-1119.06309836]\n",
        "muiexsPrev [  91.14059607  164.56596757   81.12287453   34.81950008   17.7893667 ]\n",
        "itersgamma 0, iterspsi 13949"
       ]
      },
      {
       "output_type": "stream",
       "stream": "stdout",
       "text": [
        "\n",
        "[  91.02157217  164.77179209   81.00502631   34.32001769   17.62053097] [ 0.  0.  0.  0.  0.]\n",
        "[-1116.50144099] [ 0.]\n",
        "cacl2 0.0001\n",
        "conc_M [  1.00000000e-200   1.51200000e-001   1.50000000e-001   1.00000000e-004\n",
        "   1.00000000e-003]\n",
        "mufilteri [  91.02157217  164.77179209   81.00502631   34.32001769   17.62053097]\n",
        "rhoFilteri [  2.58899676e+01   3.78251762e-97   1.22113480e-23   5.07899476e-03\n",
        "   7.65462159e+00]\n",
        "donnanPotentiali [-1116.50144099]\n",
        "15.3448369503  elapsed seconds \n",
        "psiPrev [-1116.50144099]\n",
        "muiexsPrev [  91.02157217  164.77179209   81.00502631   34.32001769   17.62053097]\n",
        "itersgamma 0, iterspsi 10987"
       ]
      },
      {
       "output_type": "stream",
       "stream": "stdout",
       "text": [
        "\n",
        "[  91.05880289  164.84469947   81.04221989   34.34951036   17.64158368] [ 0.  0.  0.  0.  0.]\n",
        "[-1116.81854737] [ 0.]\n",
        "cacl2 0.000268269579528\n",
        "conc_M [  1.00000000e-200   1.51536539e-001   1.50000000e-001   2.68269580e-004\n",
        "   1.00000000e-003]\n",
        "mufilteri [  91.05880289  164.84469947   81.04221989   34.34951036   17.64158368]\n",
        "rhoFilteri [  2.58899676e+01   3.48004093e-97   1.19084850e-23   1.35073912e-02\n",
        "   7.64579426e+00]\n",
        "donnanPotentiali [-1116.81854737]\n",
        "11.1282279491  elapsed seconds \n",
        "psiPrev [-1116.81854737]\n",
        "muiexsPrev [  91.05880289  164.84469947   81.04221989   34.34951036   17.64158368]\n",
        "itersgamma 0, iterspsi 78"
       ]
      },
      {
       "output_type": "stream",
       "stream": "stdout",
       "text": [
        "\n",
        "[  90.63371749  163.7126629    80.75257964   34.22867926   18.10190978] [ 0.  0.  0.  0.  0.]\n",
        "[-1123.72935879] [ 0.]\n",
        "cacl2 0.000719685673001\n",
        "conc_M [  1.00000000e-200   1.52439371e-001   1.50000000e-001   7.19685673e-004\n",
        "   1.00000000e-003]\n",
        "mufilteri [  90.63371749  163.7126629    80.75257964   34.22867926   18.10190978]\n",
        "rhoFilteri [  2.58899676e+01   8.29715551e-97   2.08330062e-23   6.57579961e-02\n",
        "   7.59087871e+00]\n",
        "donnanPotentiali [-1123.72935879]\n",
        "0.0725538730621  elapsed seconds \n",
        "psiPrev [-1123.72935879]\n",
        "muiexsPrev [  90.63371749  163.7126629    80.75257964   34.22867926   18.10190978]\n",
        "itersgamma 0, iterspsi 13197"
       ]
      },
      {
       "output_type": "stream",
       "stream": "stdout",
       "text": [
        "\n",
        "[  91.39684175  165.50684187   81.37997698   34.61721572   17.83270685] [ 0.  0.  0.  0.  0.]\n",
        "[-1119.7086517] [ 0.]\n",
        "cacl2 0.00193069772888\n",
        "conc_M [  1.00000000e-200   1.54861395e-001   1.50000000e-001   1.93069773e-003\n",
        "   1.00000000e-003]\n",
        "mufilteri [  91.39684175  165.50684187   81.37997698   34.61721572   17.83270685]\n",
        "rhoFilteri [  2.58899676e+01   1.63397144e-97   9.48170203e-24   8.98266325e-02\n",
        "   7.56586285e+00]\n",
        "donnanPotentiali [-1119.7086517]\n",
        "12.9552900791  elapsed seconds \n",
        "psiPrev [-1119.7086517]\n",
        "muiexsPrev [  91.39684175  165.50684187   81.37997698   34.61721572   17.83270685]\n",
        "itersgamma 0, iterspsi 2136"
       ]
      },
      {
       "output_type": "stream",
       "stream": "stdout",
       "text": [
        "\n",
        "[  91.92370588  166.48454805   81.89379548   35.02684392   18.16390509] [ 0.  0.  0.  0.  0.]\n",
        "[-1124.74313691] [ 0.]\n",
        "cacl2 0.00517947467923\n",
        "conc_M [  1.00000000e-200   1.61358949e-001   1.50000000e-001   5.17947468e-003\n",
        "   1.00000000e-003]\n",
        "mufilteri [  91.92370588  166.48454805   81.89379548   35.02684392   18.16390509]\n",
        "rhoFilteri [  2.58899676e+01   5.23474549e-98   6.86509546e-24   2.21796359e-01\n",
        "   7.42727067e+00]\n",
        "donnanPotentiali [-1124.74313691]\n",
        "2.33552694321  elapsed seconds \n",
        "psiPrev [-1124.74313691]\n",
        "muiexsPrev [  91.92370588  166.48454805   81.89379548   35.02684392   18.16390509]\n",
        "itersgamma 0, iterspsi 9822"
       ]
      },
      {
       "output_type": "stream",
       "stream": "stdout",
       "text": [
        "\n",
        "[  92.98372388  168.61612254   82.96579068   35.87487065   18.73061342] [ 0.  0.  0.  0.  0.]\n",
        "[-1133.61810673] [ 0.]\n",
        "cacl2 0.0138949549437\n",
        "conc_M [  1.00000000e-200   1.78789910e-001   1.50000000e-001   1.38949549e-002\n",
        "   1.00000000e-003]\n",
        "mufilteri [  92.98372388  168.61612254   82.96579068   35.87487065   18.73061342]\n",
        "rhoFilteri [  2.58899676e+01   4.80044742e-99   3.27389674e-24   4.45072968e-01\n",
        "   7.19342174e+00]\n",
        "donnanPotentiali [-1133.61810673]\n",
        "8.99764990807  elapsed seconds \n",
        "psiPrev [-1133.61810673]\n",
        "muiexsPrev [  92.98372388  168.61612254   82.96579068   35.87487065   18.73061342]\n",
        "itersgamma 0, iterspsi 8688"
       ]
      },
      {
       "output_type": "stream",
       "stream": "stdout",
       "text": [
        "\n",
        "[  94.63968999  171.86214448   84.62017025   37.18539322   19.6656173 ] [ 0.  0.  0.  0.  0.]\n",
        "[-1148.90128985] [ 0.]\n",
        "cacl2 0.0372759372031\n",
        "conc_M [  1.00000000e-200   2.25551874e-001   1.50000000e-001   3.72759372e-002\n",
        "   1.00000000e-003]\n",
        "mufilteri [  94.63968999  171.86214448   84.62017025   37.18539322   19.6656173 ]\n",
        "rhoFilteri [  2.58899676e+001   1.25623894e-100   1.09577377e-024   8.05646063e-001\n",
        "   6.81577724e+000]\n",
        "donnanPotentiali [-1148.90128985]\n",
        "7.58713889122  elapsed seconds \n",
        "psiPrev [-1148.90128985]\n",
        "muiexsPrev [  94.63968999  171.86214448   84.62017025   37.18539322   19.6656173 ]\n",
        "itersgamma 0, iterspsi 5479"
       ]
      },
      {
       "output_type": "stream",
       "stream": "stdout",
       "text": [
        "\n",
        "[  96.8293632   176.1612329    86.81262597   38.92687797   20.90985001] [ 0.  0.  0.  0.  0.]\n",
        "[-1171.07666357] [ 0.]\n",
        "cacl2 0.1\n",
        "conc_M [  1.00000000e-200   3.51000000e-001   1.50000000e-001   1.00000000e-001\n",
        "   1.00000000e-003]\n",
        "mufilteri [  96.8293632   176.1612329    86.81262597   38.92687797   20.90985001]\n",
        "rhoFilteri [  2.58899676e+001   1.04138593e-102   2.67909333e-025   1.27315459e+000\n",
        "   6.32613396e+000]\n",
        "donnanPotentiali [-1171.07666357]\n",
        "5.4310438633  elapsed seconds \n"
       ]
      }
     ],
     "prompt_number": 45
    },
    {
     "cell_type": "code",
     "collapsed": false,
     "input": [
      "# change in to np.arrays\n",
      "for key, value in results.iteritems():\n",
      "  print key  \n",
      "  results[key] = np.array( results[key] )"
     ],
     "language": "python",
     "metadata": {},
     "outputs": [
      {
       "output_type": "stream",
       "stream": "stdout",
       "text": [
        "cacl2\n",
        "muBath\n",
        "muFilter\n",
        "rhoFilter\n",
        "mu_ES\n",
        "mu_HS\n",
        "muFilterStd\n",
        "deltaG\n",
        "donnanPotential\n",
        "donnanPotentialStd\n"
       ]
      }
     ],
     "prompt_number": 46
    },
    {
     "cell_type": "markdown",
     "metadata": {},
     "source": [
      "### Write results to pickle file (so we can manipulate later) "
     ]
    },
    {
     "cell_type": "code",
     "collapsed": false,
     "input": [
      "import cPickle as pickle\n",
      "#pklFile = \"nonner.pkl\"\n",
      "pklFile = \"PV_solvs_polarizability_PAL.pkl\""
     ],
     "language": "python",
     "metadata": {},
     "outputs": [],
     "prompt_number": 47
    },
    {
     "cell_type": "code",
     "collapsed": false,
     "input": [
      "\n",
      "\n",
      "output = open(pklFile, 'wb')\n",
      "pickle.dump(results, output)\n",
      "output.close()\n"
     ],
     "language": "python",
     "metadata": {},
     "outputs": [],
     "prompt_number": 48
    },
    {
     "cell_type": "markdown",
     "metadata": {},
     "source": [
      "### Read pickle (unnecessary, but done for illustration)"
     ]
    },
    {
     "cell_type": "code",
     "collapsed": false,
     "input": [
      "pkl_file = open(pklFile, 'rb')\n",
      "results = pickle.load(pkl_file)\n",
      "pkl_file.close()\n",
      "\n"
     ],
     "language": "python",
     "metadata": {},
     "outputs": [],
     "prompt_number": 49
    },
    {
     "cell_type": "markdown",
     "metadata": {},
     "source": [
      "### Plotting \n",
      "Results should compare well with Fig 2 of [1]\tW. Nonner, L. Catacuzzeno, and B. Eisenberg, \u201cBinding and selectivity in L-type calcium channels: a mean spherical approximation.,\u201d Biophys J, vol. 79, no. 4, pp. 1976\u20131992, Oct. 2000.\n",
      "\n",
      "Results below are close, but not exact with Nonner paper. Namely, Na s.b. at 15 M in the pocket, but is only ten here. All else looks pretty reasonable \n"
     ]
    },
    {
     "cell_type": "code",
     "collapsed": false,
     "input": [
      "def doPlot(results,key,ylabel=\"\",legend=True):\n",
      "  keyed = results[key]\n",
      "  if key==\"donnanPotential\":  \n",
      "    plt.plot(results[\"cacl2\"],keyed,label=\"All ions\") \n",
      "    plt.errorbar(results[\"cacl2\"],keyed, yerr=results['donnanPotentialStd'])                \n",
      "    legend=False\n",
      "    \n",
      "  else:      \n",
      "    plt.plot(results[\"cacl2\"],keyed[:,msa.idxNa], 'r',label=\"Na\")\n",
      "    plt.plot(results[\"cacl2\"],keyed[:,msa.idxCa], 'g',label=\"Ca\")\n",
      "    plt.plot(results[\"cacl2\"],keyed[:,msa.idxCl], 'b',label=\"Cl\")\n",
      "    \n",
      "    if key==\"muFilter\":  \n",
      "      keyedStd = results['muFilterStd']  \n",
      "      plt.errorbar(results[\"cacl2\"],keyed[:,msa.idxNa], yerr = keyedStd[:,msa.idxNa],fmt='r')\n",
      "      plt.errorbar(results[\"cacl2\"],keyed[:,msa.idxCa], yerr = keyedStd[:,msa.idxCa],fmt='g')\n",
      "      plt.errorbar(results[\"cacl2\"],keyed[:,msa.idxCl], yerr = keyedStd[:,msa.idxCl],fmt='b')\n",
      "\n",
      "\n",
      "  plt.ylabel(ylabel)\n",
      "  plt.xlabel(\"log(CaCl2)\")  \n",
      "  plt.xscale('log')\n",
      "  if legend:\n",
      "        plt.legend(loc=0)"
     ],
     "language": "python",
     "metadata": {},
     "outputs": [],
     "prompt_number": 41
    },
    {
     "cell_type": "code",
     "collapsed": false,
     "input": [
      "import matplotlib.pylab as plt\n",
      "matplotlib.rcParams['figure.figsize'] = (9.0, 6.0)\n",
      "\n",
      "plt.subplot(2,2,1)\n",
      "doPlot(results,\"rhoFilter\",ylabel=\"Pore Conc [M]\")\n",
      "\n",
      "plt.subplot(2,2,2)\n",
      "doPlot(results,\"muFilter\",ylabel=\"Excess chemical potential\\n [kT]\",legend=False)\n",
      "\n",
      "plt.subplot(2,2,3)\n",
      "doPlot(results,\"deltaG\",ylabel=\"'Free energy'\",legend=False)\n",
      "\n",
      "plt.subplot(2,2,4)\n",
      "doPlot(results,\"donnanPotential\",ylabel=\"Donnan potential [mV]\")\n",
      "\n",
      "plt.tight_layout()\n",
      "plt.gcf().savefig(\"valid2.png\",dpi=300)"
     ],
     "language": "python",
     "metadata": {},
     "outputs": [
      {
       "metadata": {},
       "output_type": "display_data",
       "png": "[encoded data removed]",
       "text": [
        "<matplotlib.figure.Figure at 0x7f2f75d152d0>"
       ]
      }
     ],
     "prompt_number": 9
    },
    {
     "cell_type": "markdown",
     "metadata": {},
     "source": [
      "## Plotting (PV, ANK)"
     ]
    },
    {
     "cell_type": "code",
     "collapsed": false,
     "input": [
      "def doPlot(results,key,ylabel=\"\",legend=True):\n",
      "  keyed = results[key]\n",
      "  if key==\"donnanPotential\":  \n",
      "    plt.plot(results[\"cacl2\"],keyed,label=\"All ions\") \n",
      "    plt.errorbar(results[\"cacl2\"],keyed, yerr=results['donnanPotentialStd'])                \n",
      "    legend=False\n",
      "    \n",
      "  else:      \n",
      "    plt.plot(results[\"cacl2\"],keyed[:,msa.idxNa], 'r',label=\"Na\")\n",
      "    plt.plot(results[\"cacl2\"],keyed[:,msa.idxCa], 'g',label=\"Ca\")\n",
      "    plt.plot(results[\"cacl2\"],keyed[:,msa.idxCl], 'b',label=\"Cl\")\n",
      "    plt.plot(results[\"cacl2\"],keyed[:,msa.idxMg], 'k',label=\"Mg\")\n",
      "    \n",
      "    if key==\"muFilter\":  \n",
      "      keyedStd = results['muFilterStd']  \n",
      "      plt.errorbar(results[\"cacl2\"],keyed[:,msa.idxNa], yerr = keyedStd[:,msa.idxNa],fmt='r')\n",
      "      plt.errorbar(results[\"cacl2\"],keyed[:,msa.idxCa], yerr = keyedStd[:,msa.idxCa],fmt='g')\n",
      "      plt.errorbar(results[\"cacl2\"],keyed[:,msa.idxCl], yerr = keyedStd[:,msa.idxCl],fmt='b')\n",
      "      plt.errorbar(results[\"cacl2\"],keyed[:,msa.idxMg], yerr = keyedStd[:,msa.idxMg],fmt='k')\n",
      "\n",
      "\n",
      "  plt.ylabel(ylabel)\n",
      "  plt.xlabel(\"log(CaCl2)\")  \n",
      "  plt.xscale('log')\n",
      "  if legend:\n",
      "        plt.legend(loc=0)"
     ],
     "language": "python",
     "metadata": {},
     "outputs": [],
     "prompt_number": 50
    },
    {
     "cell_type": "code",
     "collapsed": false,
     "input": [
      "import matplotlib.pylab as plt\n",
      "matplotlib.rcParams['figure.figsize'] = (9.0, 6.0)\n",
      "\n",
      "plt.subplot(2,2,1)\n",
      "doPlot(results,\"rhoFilter\",ylabel=\"Pore Conc [M]\")\n",
      "\n",
      "plt.subplot(2,2,2)\n",
      "doPlot(results,\"muFilter\",ylabel=\"Excess chemical potential\\n [kT]\",legend=False)\n",
      "\n",
      "plt.subplot(2,2,3)\n",
      "doPlot(results,\"deltaG\",ylabel=\"'Free energy'\",legend=False)\n",
      "\n",
      "plt.subplot(2,2,4)\n",
      "doPlot(results,\"donnanPotential\",ylabel=\"Donnan potential [mV]\")\n",
      "\n",
      "plt.tight_layout()\n",
      "plt.gcf().savefig(\"PV_EF_withsolvs_withpolarizability_PAL.png\",dpi=300)"
     ],
     "language": "python",
     "metadata": {},
     "outputs": [
      {
       "metadata": {},
       "output_type": "display_data",
       "png": "[encoded data removed]",
       "text": [
        "<matplotlib.figure.Figure at 0x7fb7541d3b50>"
       ]
      }
     ],
     "prompt_number": 51
    },
    {
     "cell_type": "code",
     "collapsed": false,
     "input": [],
     "language": "python",
     "metadata": {},
     "outputs": []
    }
   ],
   "metadata": {}
  }
 ]
}