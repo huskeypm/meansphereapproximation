{
 "metadata": {
  "name": "",
  "signature": "sha256:ac3b79bdc0a99ec092087a0330c39293ea510ef3f4a701685db05200b881bd0b"
 },
 "nbformat": 3,
 "nbformat_minor": 0,
 "worksheets": [
  {
   "cells": [
    {
     "cell_type": "markdown",
     "metadata": {},
     "source": [
      "# Test to verify all is well in MSA land\n",
      "\n",
      "PKH Verified once more on 160830"
     ]
    },
    {
     "cell_type": "code",
     "collapsed": false,
     "input": [
      "%load_ext autoreload\n",
      "%autoreload 2"
     ],
     "language": "python",
     "metadata": {},
     "outputs": [
      {
       "output_type": "stream",
       "stream": "stdout",
       "text": [
        "WARNING: oxy always must be first entry\n",
        "The autoreload extension is already loaded. To reload it, use:\n",
        "  %reload_ext autoreload\n"
       ]
      }
     ],
     "prompt_number": 42
    },
    {
     "cell_type": "markdown",
     "metadata": {},
     "source": [
      "## Nonner parameters"
     ]
    },
    {
     "cell_type": "code",
     "collapsed": false,
     "input": [
      "import MSAtools as msa\n",
      "msa.idxOxy = 0\n",
      "msa.idxCl = 1\n",
      "msa.idxNa = 2\n",
      "msa.idxCa = 3\n",
      "msa.nOxy = 8.0\n",
      "msa.idxOxy = 0\n",
      "msa.cacl2 = 1e-10\n",
      "msa.indices=[\"O\",\"Cl\",\"Na\",\"Ca\"]  # ALWAYS put oxygen first\n",
      "msa.ref_conc_M = np.array([1e-200, (100.0e-3), 100.0e-3, 0])  # [M] order is  O, Cl, Na, Ca (bath) \n",
      "msa.nIons = np.shape(msa.ref_conc_M)[0]\n",
      "msa.zs = np.array([-0.5, -1.0, 1.0, 2.00]) #input charges here\n",
      "\n",
      "#FF RADII (Nonner)#\n",
      "msa.sigmas = np.array([0.278, 0.362, 0.204, 0.200])\n",
      "msa.V_i = 0.375 # nm^3\n",
      "msa.filter_dielectric= 63.5\n",
      "\n",
      "msa.Ns = np.array([msa.nOxy, 1., 1., 1.]) # Number of ions in filter (first number is fixed, others are determined by MSA)\n"
     ],
     "language": "python",
     "metadata": {},
     "outputs": [],
     "prompt_number": 43
    },
    {
     "cell_type": "markdown",
     "metadata": {},
     "source": [
      "## PV Parameters (ANK)"
     ]
    },
    {
     "cell_type": "code",
     "collapsed": false,
     "input": [
      "import MSAtools as msa\n",
      "msa.idxOxy = 0\n",
      "msa.idxCl = 1\n",
      "msa.idxNa = 2\n",
      "msa.idxCa = 3\n",
      "msa.idxMg = 4\n",
      "msa.nOxy = 6.0\n",
      "msa.idxOxy = 0\n",
      "msa.cacl2 = 1e-10\n",
      "msa.indices=[\"O\",\"Cl\",\"K\",\"Ca\", \"Mg\"]  # ALWAYS put oxygen first\n",
      "msa.ref_conc_M = np.array([1e-200, (150.0e-3 + 1.0e-3), 150.0e-3, 1.0e-6, 1.0e-3])  # [M] order is  O, Cl, K, Ca, Mg (bath) \n",
      "msa.nIons = np.shape(msa.ref_conc_M)[0]\n",
      "#msa.zs = np.array([-0.5, -1.0, 1.0, 2.00, 2.00]) #input charges here\n",
      "msa.zs = np.array([-0.75, -1.0, 1.0, 1.77, 1.69]) #input charges here, polarizability oxys= 0.8*5 + 0.5\n",
      "#FF RADII (Li Merz)#\n",
      "msa.sigmas = np.array([0.354, 0.454, 0.353, 0.32, 0.28])\n",
      "#msa.V_i = 0.6 # nm^3\n",
      "msa.V_i = 0.6 #from 4PAL xtal struc\n",
      "msa.filter_dielectric= 25.0\n",
      "\n",
      "msa.Ns = np.array([msa.nOxy, 1., 1., 1., 1.]) # Number of ions in filter (first number is fixed, others are determined by MSA)"
     ],
     "language": "python",
     "metadata": {},
     "outputs": [],
     "prompt_number": 4
    },
    {
     "cell_type": "markdown",
     "metadata": {},
     "source": [
      "### Run single iter"
     ]
    },
    {
     "cell_type": "code",
     "collapsed": false,
     "input": [
      "muiexsPrev = np.zeros(msa.nIons)\n",
      "psiPrev = 0.\n",
      "muiexsPrev = 0\n",
      "alpha = 0.0010\n",
      "\n",
      "\n",
      "from timeit import default_timer as timer\n",
      "msa.cacl2 = 1e-6\n",
      "start = timer()\n",
      "msa.conc_M = np.copy(msa.ref_conc_M)\n",
      "msa.conc_M[msa.idxCl] = msa.ref_conc_M[msa.idxCl] + 2 * msa.cacl2\n",
      "msa.conc_M[msa.idxCa] = msa.cacl2\n",
      "print msa.nOxy\n",
      "mufilteri,donnanPotentiali,mu_ESi,mu_HSi,rhoFilteri = msa.SolveMSAEquations(\n",
      "    msa.filter_dielectric,\n",
      "    msa.conc_M,\n",
      "    msa.zs,\n",
      "    msa.Ns,\n",
      "    msa.V_i,\n",
      "    msa.sigmas,                                                 \n",
      "    msa.nOxy,\n",
      "    psiPrev=psiPrev,\n",
      "    muiexsPrev=muiexsPrev,\n",
      "    alpha=alpha, \n",
      "    verbose=False)\n",
      "    #verbose=True)\n",
      "    \n",
      "print \"cacl2\", msa.cacl2    \n",
      "print \"conc_M\", msa.conc_M\n",
      "print \"mufilteri\",mufilteri\n",
      "print \"rhoFilteri\",rhoFilteri\n",
      "print \"donnanPotentiali\",donnanPotentiali    \n",
      "end = timer()\n",
      "print(end - start), \" elapsed seconds \"\n"
     ],
     "language": "python",
     "metadata": {},
     "outputs": [
      {
       "output_type": "stream",
       "stream": "stdout",
       "text": [
        "7.0\n",
        "itersgamma 0, iterspsi 10780"
       ]
      },
      {
       "output_type": "stream",
       "stream": "stdout",
       "text": [
        "\n",
        "cacl2 1e-06\n",
        "conc_M [  1.00000000e-200   1.51002000e-001   1.50000000e-001   1.00000000e-006\n",
        "   1.00000000e-003]\n",
        "mufilteri [  4.48721409   4.95640595   1.46382112 -11.41338422 -12.36065062]\n",
        "rhoFilteri [  1.16666667e+01   3.50497341e-08   1.14095377e-01   1.48922338e-02\n",
        "   2.84473793e+00]\n",
        "donnanPotentiali -154.38920694\n",
        "10.7935578823  elapsed seconds \n"
       ]
      }
     ],
     "prompt_number": 6
    },
    {
     "cell_type": "code",
     "collapsed": false,
     "input": [
      "muiexsPrev = np.zeros(msa.nIons)\n",
      "psiPrev = -10 * np.random.rand(1) # Can we come up with a better first-principles est? \n",
      "muiexsPrev = np.random.rand(msa.nIons)\n",
      "psiPrev = 0\n",
      "muiexsPrev = 0\n",
      "alpha = 0.0010\n",
      "\n",
      "results = {}\n",
      "results[\"muFilter\"]=[]\n",
      "results[\"donnanPotential\"]=[]\n",
      "results[\"muFilterStd\"]=[]\n",
      "results[\"donnanPotentialStd\"]=[]\n",
      "results[\"mu_ES\"]=[]\n",
      "results[\"mu_HS\"]=[]\n",
      "results[\"rhoFilter\"]=[]\n",
      "results[\"muBath\"] = []\n",
      "results[\"deltaG\"] = []\n",
      "\n",
      "from timeit import default_timer as timer\n",
      "\n",
      "#cacl2s = np.linspace(-10,-6,3) # Coarse\n",
      "cacl2s = np.linspace(-10,-1,22) # Fine\n",
      "\n",
      "cacl2s = 10**cacl2s\n",
      "results[\"cacl2\"] = cacl2s\n",
      "\n",
      "\n",
      "\n",
      "for i, cacl2i  in enumerate(cacl2s):\n",
      "    # start timer\n",
      "    start = timer()\n",
      "    \n",
      "    # update concs\n",
      "    msa.cacl2 = cacl2i\n",
      "    #msa.cacl2 = 1e-6\n",
      "    msa.conc_M = np.copy(msa.ref_conc_M)\n",
      "    msa.conc_M[msa.idxCl] = msa.ref_conc_M[msa.idxCl] + 2 * msa.cacl2\n",
      "    msa.conc_M[msa.idxCa] = msa.cacl2\n",
      "    \n",
      "    numDraws = 1\n",
      "    filterIters=[]\n",
      "    psiIters = []\n",
      "    for i in np.arange(numDraws):\n",
      "      psiPrevRand = psiPrev + np.random.rand(1)\n",
      "      muiexsPrevRand = muiexsPrev + np.random.rand(msa.nIons)\n",
      "      print \"psiPrev\", psiPrev\n",
      "      print \"muiexsPrev\", muiexsPrev\n",
      "    \n",
      "      # run MSA \n",
      "      mufilteri,donnanPotentiali,mu_ESi,mu_HSi,rhoFilteri = msa.SolveMSAEquations(\n",
      "        msa.filter_dielectric,\n",
      "        msa.conc_M,\n",
      "        msa.zs,\n",
      "        msa.Ns,\n",
      "        msa.V_i,\n",
      "        msa.sigmas,                                                 \n",
      "        psiPrev=psiPrevRand,\n",
      "        muiexsPrev=muiexsPrevRand,\n",
      "        alpha=alpha, \n",
      "        verbose=False) #np.array([0.00,122.7,142.0,419.2,513.3]))\n",
      "        #verbose=True)\n",
      "      filterIters.append(mufilteri)\n",
      "      psiIters.append(donnanPotentiali)\n",
      "        \n",
      "      psiPrev = donnanPotentiali        \n",
      "      muiexsPrev = mufilteri  \n",
      "    # end loop \n",
      "    \n",
      "    # mean/dev\n",
      "    filterIters = np.array(filterIters)    \n",
      "    psiIters = np.array(psiIters)    \n",
      "    mufilteri = np.mean(filterIters,axis=0)         \n",
      "    mufilteriStd = np.std(filterIters,axis=0)         \n",
      "    donnanPotentiali = np.mean(psiIters,axis=0)\n",
      "    donnanPotentialiStd = np.std(psiIters,axis=0)         \n",
      "    print mufilteri, mufilteriStd\n",
      "    print donnanPotentiali, donnanPotentialiStd\n",
      "        \n",
      "    ## store results     \n",
      "    # from msa \n",
      "    results[\"muBath\"].append( msa.results[\"muBath\"] )\n",
      "    results[\"deltaG\"].append( msa.results[\"deltaG\"] )\n",
      "    \n",
      "    # returned\n",
      "    results[\"muFilter\"].append(mufilteri)\n",
      "    results[\"muFilterStd\"].append(mufilteriStd)\n",
      "    results[\"donnanPotential\"].append(donnanPotentiali)\n",
      "    results[\"donnanPotentialStd\"].append(donnanPotentialiStd)\n",
      "    results[\"mu_ES\"].append(mu_ESi)\n",
      "    results[\"mu_HS\"].append(mu_HSi)\n",
      "    results[\"rhoFilter\"].append(rhoFilteri)\n",
      "    \n",
      "    # update previous psi/muiexs so code has better initial guess \n",
      "    psiPrev = donnanPotentiali\n",
      "    muiexsPrev = mufilteri\n",
      "    \n",
      "    # report information \n",
      "    print \"cacl2\", msa.cacl2    \n",
      "    print \"conc_M\", msa.conc_M\n",
      "    print \"mufilteri\",mufilteri\n",
      "    print \"rhoFilteri\",rhoFilteri\n",
      "    print \"donnanPotentiali\",donnanPotentiali    \n",
      "    end = timer()\n",
      "    print(end - start), \" elapsed seconds \"\n",
      "\n",
      "    "
     ],
     "language": "python",
     "metadata": {},
     "outputs": [
      {
       "output_type": "stream",
       "stream": "stdout",
       "text": [
        "psiPrev 0\n",
        "muiexsPrev 0\n",
        "itersgamma 0, iterspsi 8844"
       ]
      },
      {
       "output_type": "stream",
       "stream": "stdout",
       "text": [
        "\n",
        "[-0.08112296 -0.35407717 -0.36394257 -1.47959116] [ 0.  0.  0.  0.]\n",
        "[-173.26932406] [ 0.]\n",
        "cacl2 1e-10\n",
        "conc_M [  1.00000000e-200   1.00000000e-001   1.00000000e-001   1.00000000e-010]\n",
        "mufilteri [-0.08112296 -0.35407717 -0.36394257 -1.47959116]\n",
        "rhoFilteri [  2.13333333e+01   4.82106938e-08   1.06653114e+01   6.63787947e-04]\n",
        "donnanPotentiali [-173.26932406]\n",
        "8.30051088333  elapsed seconds \n",
        "psiPrev [-173.26932406]\n",
        "muiexsPrev [-0.08112296 -0.35407717 -0.36394257 -1.47959116]\n",
        "itersgamma 0, iterspsi 9870"
       ]
      },
      {
       "output_type": "stream",
       "stream": "stdout",
       "text": [
        "\n",
        "[-0.08112296 -0.35407717 -0.36394257 -1.47959117] [ 0.  0.  0.  0.]\n",
        "[-173.25833428] [ 0.]\n",
        "cacl2 2.68269579528e-10\n",
        "conc_M [  1.00000000e-200   1.00000001e-001   1.00000000e-001   2.68269580e-010]\n",
        "mufilteri [-0.08112296 -0.35407717 -0.36394257 -1.47959117]\n",
        "rhoFilteri [  2.13333333e+01   4.82239409e-08   1.06630770e+01   1.78099849e-03]\n",
        "donnanPotentiali [-173.25833428]\n",
        "8.60952615738  elapsed seconds \n",
        "psiPrev [-173.25833428]\n",
        "muiexsPrev [-0.08112296 -0.35407717 -0.36394257 -1.47959117]\n",
        "itersgamma 0, iterspsi 9545"
       ]
      },
      {
       "output_type": "stream",
       "stream": "stdout",
       "text": [
        "\n",
        "[-0.08112296 -0.35407717 -0.36394257 -1.47959117] [ 0.  0.  0.  0.]\n",
        "[-173.22889278] [ 0.]\n",
        "cacl2 7.19685673001e-10\n",
        "conc_M [  1.00000000e-200   1.00000001e-001   1.00000000e-001   7.19685673e-010]\n",
        "mufilteri [-0.08112296 -0.35407717 -0.36394257 -1.47959117]\n",
        "rhoFilteri [  2.13333333e+01   4.83517457e-08   1.06570931e+01   4.77293651e-03]\n",
        "donnanPotentiali [-173.22889278]\n",
        "8.31120991707  elapsed seconds \n",
        "psiPrev [-173.22889278]\n",
        "muiexsPrev [-0.08112296 -0.35407717 -0.36394257 -1.47959117]\n",
        "itersgamma 0, iterspsi 10141"
       ]
      },
      {
       "output_type": "stream",
       "stream": "stdout",
       "text": [
        "\n",
        "[-0.08112296 -0.35407718 -0.36394257 -1.47959118] [ 0.  0.  0.  0.]\n",
        "[-173.15014458] [ 0.]\n",
        "cacl2 1.93069772888e-09\n",
        "conc_M [  1.00000000e-200   1.00000004e-001   1.00000000e-001   1.93069773e-009]\n",
        "mufilteri [-0.08112296 -0.35407718 -0.36394257 -1.47959118]\n",
        "rhoFilteri [  2.13333333e+01   4.86650989e-08   1.06410915e+01   1.27737318e-02]\n",
        "donnanPotentiali [-173.15014458]\n",
        "8.87183403969  elapsed seconds \n",
        "psiPrev [-173.15014458]\n",
        "muiexsPrev [-0.08112296 -0.35407718 -0.36394257 -1.47959118]\n",
        "itersgamma 0, iterspsi 9849"
       ]
      },
      {
       "output_type": "stream",
       "stream": "stdout",
       "text": [
        "\n",
        "[-0.08112296 -0.35407718 -0.36394258 -1.47959122] [ 0.  0.  0.  0.]\n",
        "[-172.94066244] [ 0.]\n",
        "cacl2 5.17947467923e-09\n",
        "conc_M [  1.00000000e-200   1.00000010e-001   1.00000000e-001   5.17947468e-009]\n",
        "mufilteri [-0.08112296 -0.35407718 -0.36394258 -1.47959122]\n",
        "rhoFilteri [  2.13333333e+01   4.95416173e-08   1.05985682e+01   3.40353572e-02]\n",
        "donnanPotentiali [-172.94066244]\n",
        "8.52704691887  elapsed seconds \n",
        "psiPrev [-172.94066244]\n",
        "muiexsPrev [-0.08112296 -0.35407718 -0.36394258 -1.47959122]\n",
        "itersgamma 0, iterspsi 8994"
       ]
      },
      {
       "output_type": "stream",
       "stream": "stdout",
       "text": [
        "\n",
        "[-0.08112297 -0.35407721 -0.3639426  -1.47959132] [ 0.  0.  0.  0.]\n",
        "[-172.39103546] [ 0.]\n",
        "cacl2 1.38949549437e-08\n",
        "conc_M [  1.00000000e-200   1.00000028e-001   1.00000000e-001   1.38949549e-008]\n",
        "mufilteri [-0.08112297 -0.35407721 -0.3639426  -1.47959132]\n",
        "rhoFilteri [  2.13333333e+01   5.19246919e-08   1.04872966e+01   8.96711393e-02]\n",
        "donnanPotentiali [-172.39103546]\n",
        "8.09419512749  elapsed seconds \n",
        "psiPrev [-172.39103546]\n",
        "muiexsPrev [-0.08112297 -0.35407721 -0.3639426  -1.47959132]\n",
        "itersgamma 0, iterspsi 6773"
       ]
      },
      {
       "output_type": "stream",
       "stream": "stdout",
       "text": [
        "\n",
        "[-0.08112298 -0.35407726 -0.36394267 -1.47959157] [ 0.  0.  0.  0.]\n",
        "[-171.00659888] [ 0.]\n",
        "cacl2 3.72759372031e-08\n",
        "conc_M [  1.00000000e-200   1.00000075e-001   1.00000000e-001   3.72759372e-008]\n",
        "mufilteri [-0.08112298 -0.35407726 -0.36394267 -1.47959157]\n",
        "rhoFilteri [  2.13333333e+01   5.85762025e-08   1.02103553e+01   2.28141677e-01]\n",
        "donnanPotentiali [-171.00659888]\n",
        "5.87495398521  elapsed seconds \n",
        "psiPrev [-171.00659888]\n",
        "muiexsPrev [-0.08112298 -0.35407726 -0.36394267 -1.47959157]\n",
        "itersgamma 0, iterspsi 3199"
       ]
      },
      {
       "output_type": "stream",
       "stream": "stdout",
       "text": [
        "\n",
        "[-0.08112301 -0.35407742 -0.36394283 -1.47959226] [ 0.  0.  0.  0.]\n",
        "[-168.23083434] [ 0.]\n",
        "cacl2 1e-07\n",
        "conc_M [  1.00000000e-200   1.00000200e-001   1.00000000e-001   1.00000000e-007]\n",
        "mufilteri [-0.08112301 -0.35407742 -0.36394283 -1.47959226]\n",
        "rhoFilteri [  2.13333333e+01   9.00150824e-08   9.73607801e+00   4.65280299e-01]\n",
        "donnanPotentiali [-168.23083434]\n",
        "2.78457808495  elapsed seconds \n",
        "psiPrev [-168.23083434]\n",
        "muiexsPrev [-0.08112301 -0.35407742 -0.36394283 -1.47959226]\n",
        "itersgamma 0, iterspsi 1815"
       ]
      },
      {
       "output_type": "stream",
       "stream": "stdout",
       "text": [
        "\n",
        "[-0.08112309 -0.35407784 -0.36394328 -1.47959412] [ 0.  0.  0.  0.]\n",
        "[-164.93512203] [ 0.]\n",
        "cacl2 2.68269579528e-07\n",
        "conc_M [  1.00000000e-200   1.00000537e-001   1.00000000e-001   2.68269580e-007]\n",
        "mufilteri [-0.08112309 -0.35407784 -0.36394328 -1.47959412]\n",
        "rhoFilteri [  2.13333333e+01   2.33413452e-07   9.42993601e+00   6.18353400e-01]\n",
        "donnanPotentiali [-164.93512203]\n",
        "1.58148694038  elapsed seconds \n",
        "psiPrev [-164.93512203]\n",
        "muiexsPrev [-0.08112309 -0.35407784 -0.36394328 -1.47959412]\n",
        "itersgamma 0, iterspsi 12078"
       ]
      },
      {
       "output_type": "stream",
       "stream": "stdout",
       "text": [
        "\n",
        "[-0.08112332 -0.35407896 -0.36394448 -1.47959909] [ 0.  0.  0.  0.]\n",
        "[-151.32797757] [ 0.]\n",
        "cacl2 7.19685673001e-07\n",
        "conc_M [  1.00000000e-200   1.00001439e-001   1.00000000e-001   7.19685673e-007]\n",
        "mufilteri [-0.08112332 -0.35407896 -0.36394448 -1.47959909]\n",
        "rhoFilteri [  2.13333333e+01   2.73915821e-07   6.60777512e+00   2.02946108e+00]\n",
        "donnanPotentiali [-151.32797757]\n",
        "10.4180541039  elapsed seconds \n",
        "psiPrev [-151.32797757]\n",
        "muiexsPrev [-0.08112332 -0.35407896 -0.36394448 -1.47959909]\n",
        "itersgamma 0, iterspsi 570"
       ]
      },
      {
       "output_type": "stream",
       "stream": "stdout",
       "text": [
        "\n",
        "[-0.08112392 -0.35408198 -0.36394769 -1.47961244] [ 0.  0.  0.  0.]\n",
        "[-157.13457246] [ 0.]\n",
        "cacl2 1.93069772888e-06\n",
        "conc_M [  1.00000000e-200   1.00003861e-001   1.00000000e-001   1.93069773e-006]\n",
        "mufilteri [-0.08112392 -0.35408198 -0.36394769 -1.47961244]\n",
        "rhoFilteri [  2.13333333e+01   5.74902836e-06   8.99962497e+00   8.33518246e-01]\n",
        "donnanPotentiali [-157.13457246]\n",
        "0.509230136871  elapsed seconds \n",
        "psiPrev [-157.13457246]\n",
        "muiexsPrev [-0.08112392 -0.35408198 -0.36394769 -1.47961244]\n",
        "itersgamma 0, iterspsi 11394"
       ]
      },
      {
       "output_type": "stream",
       "stream": "stdout",
       "text": [
        "\n",
        "[-0.08112553 -0.35409007 -0.36395631 -1.47964825] [ 0.  0.  0.  0.]\n",
        "[-125.70956445] [ 0.]\n",
        "cacl2 5.17947467923e-06\n",
        "conc_M [  1.00000000e-200   1.00010359e-001   1.00000000e-001   5.17947468e-006]\n",
        "mufilteri [-0.08112553 -0.35409007 -0.36395631 -1.47964825]\n",
        "rhoFilteri [  2.13333333e+01   1.47147513e-06   3.23920500e+00   3.71374629e+00]\n",
        "donnanPotentiali [-125.70956445]\n",
        "9.68426895142  elapsed seconds \n",
        "psiPrev [-125.70956445]\n",
        "muiexsPrev [-0.08112553 -0.35409007 -0.36395631 -1.47964825]\n",
        "itersgamma 0, iterspsi 11712"
       ]
      },
      {
       "output_type": "stream",
       "stream": "stdout",
       "text": [
        "\n",
        "[-0.08112985 -0.35411178 -0.36397943 -1.4797443 ] [ 0.  0.  0.  0.]\n",
        "[-112.34215295] [ 0.]\n",
        "cacl2 1.38949549437e-05\n",
        "conc_M [  1.00000000e-200   1.00027790e-001   1.00000000e-001   1.38949549e-005]\n",
        "mufilteri [-0.08112985 -0.35411178 -0.36397943 -1.4797443 ]\n",
        "rhoFilteri [  2.13333333e+01   3.08913439e-06   2.10722728e+00   4.27973502e+00]\n",
        "donnanPotentiali [-112.34215295]\n",
        "10.3274281025  elapsed seconds \n",
        "psiPrev [-112.34215295]\n",
        "muiexsPrev [-0.08112985 -0.35411178 -0.36397943 -1.4797443 ]\n",
        "itersgamma 0, iterspsi 11470"
       ]
      },
      {
       "output_type": "stream",
       "stream": "stdout",
       "text": [
        "\n",
        "[-0.08114145 -0.35417002 -0.36404144 -1.48000195] [ 0.  0.  0.  0.]\n",
        "[-99.12215178] [ 0.]\n",
        "cacl2 3.72759372031e-05\n",
        "conc_M [  1.00000000e-200   1.00074552e-001   1.00000000e-001   3.72759372e-005]\n",
        "mufilteri [-0.08114145 -0.35417002 -0.36404144 -1.48000195]\n",
        "rhoFilteri [  2.13333333e+01   5.99807563e-06   1.33707493e+00   4.66481141e+00]\n",
        "donnanPotentiali [-99.12215178]\n",
        "9.9886739254  elapsed seconds \n",
        "psiPrev [-99.12215178]\n",
        "muiexsPrev [-0.08114145 -0.35417002 -0.36404144 -1.48000195]\n",
        "itersgamma 0, iterspsi 11232"
       ]
      },
      {
       "output_type": "stream",
       "stream": "stdout",
       "text": [
        "\n",
        "[-0.08117255 -0.35432619 -0.36420774 -1.48069293] [ 0.  0.  0.  0.]\n",
        "[-86.08387072] [ 0.]\n",
        "cacl2 0.0001\n",
        "conc_M [  1.00000000e-200   1.00200000e-001   1.00000000e-001   1.00000000e-004]\n",
        "mufilteri [-0.08117255 -0.35432619 -0.36420774 -1.48069293]\n",
        "rhoFilteri [  2.13333333e+01   1.09823419e-05   8.35776236e-01   4.91546181e+00]\n",
        "donnanPotentiali [-86.08387072]\n",
        "9.60107493401  elapsed seconds \n",
        "psiPrev [-86.08387072]\n",
        "muiexsPrev [-0.08117255 -0.35432619 -0.36420774 -1.48069293]\n",
        "itersgamma 0, iterspsi 11197"
       ]
      },
      {
       "output_type": "stream",
       "stream": "stdout",
       "text": [
        "\n",
        "[-0.08125587 -0.35474474 -0.36465348 -1.48254498] [ 0.  0.  0.  0.]\n",
        "[-73.20190669] [ 0.]\n",
        "cacl2 0.000268269579528\n",
        "conc_M [  1.00000000e-200   1.00536539e-001   1.00000000e-001   2.68269580e-004]\n",
        "mufilteri [-0.08125587 -0.35474474 -0.36465348 -1.48254498]\n",
        "rhoFilteri [  2.13333333e+01   1.93346745e-05   5.17821241e-01   5.07444195e+00]\n",
        "donnanPotentiali [-73.20190669]\n",
        "9.54376006126  elapsed seconds \n",
        "psiPrev [-73.20190669]\n",
        "muiexsPrev [-0.08125587 -0.35474474 -0.36465348 -1.48254498]\n",
        "itersgamma 0, iterspsi 11394"
       ]
      },
      {
       "output_type": "stream",
       "stream": "stdout",
       "text": [
        "\n",
        "[-0.08147868 -0.35586469 -0.36584637 -1.48750187] [ 0.  0.  0.  0.]\n",
        "[-60.45895119] [ 0.]\n",
        "cacl2 0.000719685673001\n",
        "conc_M [  1.00000000e-200   1.01439371e-001   1.00000000e-001   7.19685673e-004]\n",
        "mufilteri [-0.08147868 -0.35586469 -0.36584637 -1.48750187]\n",
        "rhoFilteri [  2.13333333e+01   3.32628241e-05   3.19305180e-01   5.17370534e+00]\n",
        "donnanPotentiali [-60.45895119]\n",
        "9.80435991287  elapsed seconds \n",
        "psiPrev [-60.45895119]\n",
        "muiexsPrev [-0.08147868 -0.35586469 -0.36584637 -1.48750187]\n",
        "itersgamma 0, iterspsi 11419"
       ]
      },
      {
       "output_type": "stream",
       "stream": "stdout",
       "text": [
        "\n",
        "[-0.08207124 -0.35884852 -0.36902589 -1.50071728] [ 0.  0.  0.  0.]\n",
        "[-47.88723021] [ 0.]\n",
        "cacl2 0.00193069772888\n",
        "conc_M [  1.00000000e-200   1.03861395e-001   1.00000000e-001   1.93069773e-003]\n",
        "mufilteri [-0.08207124 -0.35884852 -0.36902589 -1.50071728]\n",
        "rhoFilteri [  2.13333333e+01   5.67641400e-05   1.96647767e-01   5.23504417e+00]\n",
        "donnanPotentiali [-47.88723021]\n",
        "9.8525531292  elapsed seconds \n",
        "psiPrev [-47.88723021]\n",
        "muiexsPrev [-0.08207124 -0.35884852 -0.36902589 -1.50071728]\n",
        "itersgamma 0, iterspsi 11499"
       ]
      },
      {
       "output_type": "stream",
       "stream": "stdout",
       "text": [
        "\n",
        "[-0.08362497 -0.36670986 -0.37741241 -1.53559776] [ 0.  0.  0.  0.]\n",
        "[-35.63480328] [ 0.]\n",
        "cacl2 0.00517947467923\n",
        "conc_M [  1.00000000e-200   1.10358949e-001   1.00000000e-001   5.17947468e-003]\n",
        "mufilteri [-0.08362497 -0.36670986 -0.37741241 -1.53559776]\n",
        "rhoFilteri [  2.13333333e+01   9.79264264e-05   1.21538894e-01   5.27261758e+00]\n",
        "donnanPotentiali [-35.63480328]\n",
        "9.9605550766  elapsed seconds \n",
        "psiPrev [-35.63480328]\n",
        "muiexsPrev [-0.08362497 -0.36670986 -0.37741241 -1.53559776]\n",
        "itersgamma 0, iterspsi 11927"
       ]
      },
      {
       "output_type": "stream",
       "stream": "stdout",
       "text": [
        "\n",
        "[-0.08755681 -0.38685675 -0.39896945 -1.6254077 ] [ 0.  0.  0.  0.]\n",
        "[-24.11204403] [ 0.]\n",
        "cacl2 0.0138949549437\n",
        "conc_M [  1.00000000e-200   1.27789910e-001   1.00000000e-001   1.38949549e-002]\n",
        "mufilteri [-0.08755681 -0.38685675 -0.39896945 -1.6254077 ]\n",
        "rhoFilteri [  2.13333333e+01   1.75765565e-04   7.61018159e-02   5.29537351e+00]\n",
        "donnanPotentiali [-24.11204403]\n",
        "10.3181900978  elapsed seconds \n",
        "psiPrev [-24.11204403]\n",
        "muiexsPrev [-0.08755681 -0.38685675 -0.39896945 -1.6254077 ]\n",
        "itersgamma 0, iterspsi 12251"
       ]
      },
      {
       "output_type": "stream",
       "stream": "stdout",
       "text": [
        "\n",
        "[-0.09672878 -0.43542011 -0.451325   -1.84445318] [ 0.  0.  0.  0.]\n",
        "[-14.26038047] [ 0.]\n",
        "cacl2 0.0372759372031\n",
        "conc_M [  1.00000000e-200   1.74551874e-001   1.00000000e-001   3.72759372e-002]\n",
        "mufilteri [-0.09672878 -0.43542011 -0.451325   -1.84445318]\n",
        "rhoFilteri [  2.13333333e+01   3.37667700e-04   4.92506173e-02   5.30887876e+00]\n",
        "donnanPotentiali [-14.26038047]\n",
        "10.5912969112  elapsed seconds \n",
        "psiPrev [-14.26038047]\n",
        "muiexsPrev [-0.09672878 -0.43542011 -0.451325   -1.84445318]\n",
        "itersgamma 0, iterspsi 12785"
       ]
      },
      {
       "output_type": "stream",
       "stream": "stdout",
       "text": [
        "\n",
        "[-0.11493183 -0.54022906 -0.56637381 -2.33056886] [ 0.  0.  0.  0.]\n",
        "[-7.83820423] [ 0.]\n",
        "cacl2 0.1\n",
        "conc_M [  1.00000000e-200   3.00000000e-001   1.00000000e-001   1.00000000e-001]\n",
        "mufilteri [-0.11493183 -0.54022906 -0.56637381 -2.33056886]\n",
        "rhoFilteri [  2.13333333e+01   6.73258062e-04   3.41950280e-02   5.31657349e+00]\n",
        "donnanPotentiali [-7.83820423]\n",
        "11.0834040642  elapsed seconds \n"
       ]
      }
     ],
     "prompt_number": 44
    },
    {
     "cell_type": "code",
     "collapsed": false,
     "input": [
      "if 1:\n",
      " mufilteri,donnanPotentiali,mu_ESi,mu_HSi,rhoFilteri = msa.SolveMSAEquations(\n",
      "        msa.filter_dielectric,\n",
      "        msa.conc_M,\n",
      "        msa.zs,\n",
      "        msa.Ns,\n",
      "        msa.V_i,\n",
      "        msa.sigmas,                                                 \n",
      "        psiPrev=psiPrevRand,\n",
      "        muiexsPrev=muiexsPrevRand,\n",
      "        alpha=alpha, \n",
      "        verbose=False)"
     ],
     "language": "python",
     "metadata": {},
     "outputs": [
      {
       "ename": "NameError",
       "evalue": "name 'msa' is not defined",
       "output_type": "pyerr",
       "traceback": [
        "\u001b[0;31m---------------------------------------------------------------------------\u001b[0m\n\u001b[0;31mNameError\u001b[0m                                 Traceback (most recent call last)",
        "\u001b[0;32m<ipython-input-1-c151a7456178>\u001b[0m in \u001b[0;36m<module>\u001b[0;34m()\u001b[0m\n\u001b[1;32m      1\u001b[0m \u001b[0;32mif\u001b[0m \u001b[0;36m1\u001b[0m\u001b[0;34m:\u001b[0m\u001b[0;34m\u001b[0m\u001b[0m\n\u001b[0;32m----> 2\u001b[0;31m  mufilteri,donnanPotentiali,mu_ESi,mu_HSi,rhoFilteri = msa.SolveMSAEquations(\n\u001b[0m\u001b[1;32m      3\u001b[0m         \u001b[0mmsa\u001b[0m\u001b[0;34m.\u001b[0m\u001b[0mfilter_dielectric\u001b[0m\u001b[0;34m,\u001b[0m\u001b[0;34m\u001b[0m\u001b[0m\n\u001b[1;32m      4\u001b[0m         \u001b[0mmsa\u001b[0m\u001b[0;34m.\u001b[0m\u001b[0mconc_M\u001b[0m\u001b[0;34m,\u001b[0m\u001b[0;34m\u001b[0m\u001b[0m\n\u001b[1;32m      5\u001b[0m         \u001b[0mmsa\u001b[0m\u001b[0;34m.\u001b[0m\u001b[0mzs\u001b[0m\u001b[0;34m,\u001b[0m\u001b[0;34m\u001b[0m\u001b[0m\n",
        "\u001b[0;31mNameError\u001b[0m: name 'msa' is not defined"
       ]
      }
     ],
     "prompt_number": 1
    },
    {
     "cell_type": "code",
     "collapsed": false,
     "input": [
      "# change in to np.arrays\n",
      "for key, value in results.iteritems():\n",
      "  print key  \n",
      "  results[key] = np.array( results[key] )"
     ],
     "language": "python",
     "metadata": {},
     "outputs": [
      {
       "output_type": "stream",
       "stream": "stdout",
       "text": [
        "cacl2\n",
        "muBath\n",
        "muFilter\n",
        "rhoFilter\n",
        "mu_ES\n",
        "mu_HS\n",
        "muFilterStd\n",
        "deltaG\n",
        "donnanPotential\n",
        "donnanPotentialStd\n"
       ]
      }
     ],
     "prompt_number": 45
    },
    {
     "cell_type": "markdown",
     "metadata": {},
     "source": [
      "### Write results to pickle file (so we can manipulate later) "
     ]
    },
    {
     "cell_type": "code",
     "collapsed": false,
     "input": [
      "import cPickle as pickle\n",
      "pklFile = \"nonner.pkl\"\n",
      "#pklFile = \"PV_S55D_E59D.pkl\""
     ],
     "language": "python",
     "metadata": {},
     "outputs": [],
     "prompt_number": 46
    },
    {
     "cell_type": "code",
     "collapsed": false,
     "input": [
      "\n",
      "\n",
      "output = open(pklFile, 'wb')\n",
      "pickle.dump(results, output)\n",
      "output.close()\n"
     ],
     "language": "python",
     "metadata": {},
     "outputs": [],
     "prompt_number": 47
    },
    {
     "cell_type": "code",
     "collapsed": false,
     "input": [],
     "language": "python",
     "metadata": {},
     "outputs": [],
     "prompt_number": 47
    },
    {
     "cell_type": "markdown",
     "metadata": {},
     "source": [
      "### Read pickle (unnecessary, but done for illustration)"
     ]
    },
    {
     "cell_type": "code",
     "collapsed": false,
     "input": [
      "pkl_file = open(pklFile, 'rb')\n",
      "results = pickle.load(pkl_file)\n",
      "pkl_file.close()\n",
      "\n"
     ],
     "language": "python",
     "metadata": {},
     "outputs": [],
     "prompt_number": 48
    },
    {
     "cell_type": "markdown",
     "metadata": {},
     "source": [
      "### Plotting \n",
      "Results should compare well with Fig 2 of [1]\tW. Nonner, L. Catacuzzeno, and B. Eisenberg, \u201cBinding and selectivity in L-type calcium channels: a mean spherical approximation.,\u201d Biophys J, vol. 79, no. 4, pp. 1976\u20131992, Oct. 2000.\n",
      "\n",
      "Results below are close, but not exact with Nonner paper. Namely, Na s.b. at 15 M in the pocket, but is only ten here. All else looks pretty reasonable \n"
     ]
    },
    {
     "cell_type": "code",
     "collapsed": false,
     "input": [
      "def doPlot(results,key,ylabel=\"\",legend=True):\n",
      "  keyed = results[key]\n",
      "  if key==\"donnanPotential\":  \n",
      "    plt.plot(results[\"cacl2\"],keyed,label=\"All ions\") \n",
      "    plt.errorbar(results[\"cacl2\"],keyed, yerr=results['donnanPotentialStd'])                \n",
      "    legend=False\n",
      "    \n",
      "  else:      \n",
      "    plt.plot(results[\"cacl2\"],keyed[:,msa.idxNa], 'r',label=\"Na\")\n",
      "    plt.plot(results[\"cacl2\"],keyed[:,msa.idxCa], 'g',label=\"Ca\")\n",
      "    plt.plot(results[\"cacl2\"],keyed[:,msa.idxCl], 'b',label=\"Cl\")\n",
      "    \n",
      "    if key==\"muFilter\":  \n",
      "      keyedStd = results['muFilterStd']  \n",
      "      plt.errorbar(results[\"cacl2\"],keyed[:,msa.idxNa], yerr = keyedStd[:,msa.idxNa],fmt='r')\n",
      "      plt.errorbar(results[\"cacl2\"],keyed[:,msa.idxCa], yerr = keyedStd[:,msa.idxCa],fmt='g')\n",
      "      plt.errorbar(results[\"cacl2\"],keyed[:,msa.idxCl], yerr = keyedStd[:,msa.idxCl],fmt='b')\n",
      "\n",
      "\n",
      "  plt.ylabel(ylabel)\n",
      "  plt.xlabel(\"log(CaCl2)\")  \n",
      "  plt.xscale('log')\n",
      "  if legend:\n",
      "        plt.legend(loc=0)"
     ],
     "language": "python",
     "metadata": {},
     "outputs": [],
     "prompt_number": 49
    },
    {
     "cell_type": "code",
     "collapsed": false,
     "input": [
      "import matplotlib.pylab as plt\n",
      "matplotlib.rcParams['figure.figsize'] = (9.0, 6.0)\n",
      "\n",
      "plt.subplot(2,2,1)\n",
      "doPlot(results,\"rhoFilter\",ylabel=\"Pore Conc [M]\")\n",
      "\n",
      "plt.subplot(2,2,2)\n",
      "doPlot(results,\"muFilter\",ylabel=\"Excess chemical potential\\n [kT]\",legend=False)\n",
      "\n",
      "plt.subplot(2,2,3)\n",
      "doPlot(results,\"deltaG\",ylabel=\"'Free energy'\",legend=False)\n",
      "\n",
      "plt.subplot(2,2,4)\n",
      "doPlot(results,\"donnanPotential\",ylabel=\"Donnan potential [mV]\")\n",
      "\n",
      "plt.tight_layout()\n",
      "#plt.gcf().savefig(\"valid2.png\",dpi=300)"
     ],
     "language": "python",
     "metadata": {},
     "outputs": [
      {
       "metadata": {},
       "output_type": "display_data",
       "png": "[encoded data removed]",
       "text": [
        "<matplotlib.figure.Figure at 0x7efc8d251a50>"
       ]
      }
     ],
     "prompt_number": 50
    },
    {
     "cell_type": "markdown",
     "metadata": {},
     "source": [
      "## Plotting (PV, ANK)"
     ]
    },
    {
     "cell_type": "code",
     "collapsed": false,
     "input": [
      "def doPlot(results,key,ylabel=\"\",legend=True):\n",
      "  keyed = results[key]\n",
      "  if key==\"donnanPotential\":  \n",
      "    plt.plot(results[\"cacl2\"],keyed,label=\"All ions\") \n",
      "    plt.errorbar(results[\"cacl2\"],keyed, yerr=results['donnanPotentialStd'])                \n",
      "    legend=False\n",
      "    \n",
      "  else:      \n",
      "    plt.plot(results[\"cacl2\"],keyed[:,msa.idxNa], 'r',label=\"Na\")\n",
      "    plt.plot(results[\"cacl2\"],keyed[:,msa.idxCa], 'g',label=\"Ca\")\n",
      "    plt.plot(results[\"cacl2\"],keyed[:,msa.idxCl], 'b',label=\"Cl\")\n",
      "    plt.plot(results[\"cacl2\"],keyed[:,msa.idxMg], 'k',label=\"Mg\")\n",
      "    \n",
      "    if key==\"muFilter\":  \n",
      "      keyedStd = results['muFilterStd']  \n",
      "      plt.errorbar(results[\"cacl2\"],keyed[:,msa.idxNa], yerr = keyedStd[:,msa.idxNa],fmt='r')\n",
      "      plt.errorbar(results[\"cacl2\"],keyed[:,msa.idxCa], yerr = keyedStd[:,msa.idxCa],fmt='g')\n",
      "      plt.errorbar(results[\"cacl2\"],keyed[:,msa.idxCl], yerr = keyedStd[:,msa.idxCl],fmt='b')\n",
      "      plt.errorbar(results[\"cacl2\"],keyed[:,msa.idxMg], yerr = keyedStd[:,msa.idxMg],fmt='k')\n",
      "\n",
      "\n",
      "  plt.ylabel(ylabel)\n",
      "  plt.xlabel(\"log(CaCl2)\")  \n",
      "  plt.xscale('log')\n",
      "  if legend:\n",
      "        plt.legend(loc=0)"
     ],
     "language": "python",
     "metadata": {},
     "outputs": [],
     "prompt_number": 30
    },
    {
     "cell_type": "code",
     "collapsed": false,
     "input": [
      "import matplotlib.pylab as plt\n",
      "matplotlib.rcParams['figure.figsize'] = (9.0, 6.0)\n",
      "\n",
      "plt.subplot(2,2,1)\n",
      "doPlot(results,\"rhoFilter\",ylabel=\"Pore Conc [M]\")\n",
      "\n",
      "plt.subplot(2,2,2)\n",
      "doPlot(results,\"muFilter\",ylabel=\"Excess chemical potential\\n [kT]\",legend=False)\n",
      "\n",
      "plt.subplot(2,2,3)\n",
      "doPlot(results,\"deltaG\",ylabel=\"'Free energy'\",legend=False)\n",
      "\n",
      "plt.subplot(2,2,4)\n",
      "doPlot(results,\"donnanPotential\",ylabel=\"Donnan potential [mV]\")\n",
      "\n",
      "plt.tight_layout()\n",
      "#plt.gcf().savefig(\"PV_EF_withsolvs_withpolarizability_PAL.png\",dpi=300)"
     ],
     "language": "python",
     "metadata": {},
     "outputs": [
      {
       "metadata": {},
       "output_type": "display_data",
       "png": "[encoded data removed]",
       "text": [
        "<matplotlib.figure.Figure at 0x7efc8cdf3d90>"
       ]
      }
     ],
     "prompt_number": 31
    },
    {
     "cell_type": "code",
     "collapsed": false,
     "input": [],
     "language": "python",
     "metadata": {},
     "outputs": []
    }
   ],
   "metadata": {}
  }
 ]
}