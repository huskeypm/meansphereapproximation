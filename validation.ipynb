{
 "metadata": {
  "name": "",
  "signature": "sha256:4cc69dc459afd3201d716427a8894b061873749206277e6445fe4bebd04cbb75"
 },
 "nbformat": 3,
 "nbformat_minor": 0,
 "worksheets": [
  {
   "cells": [
    {
     "cell_type": "markdown",
     "metadata": {},
     "source": [
      "# Test to verify all is well in MSA land\n",
      "\n",
      "PKH Verified once more on 160830"
     ]
    },
    {
     "cell_type": "code",
     "collapsed": false,
     "input": [
      "%load_ext autoreload\n",
      "%autoreload 2"
     ],
     "language": "python",
     "metadata": {},
     "outputs": [
      {
       "output_type": "stream",
       "stream": "stdout",
       "text": [
        "WARNING: oxy always must be first entry\n",
        "The autoreload extension is already loaded. To reload it, use:\n",
        "  %reload_ext autoreload\n"
       ]
      }
     ],
     "prompt_number": 31
    },
    {
     "cell_type": "markdown",
     "metadata": {},
     "source": [
      "## Nonner parameters"
     ]
    },
    {
     "cell_type": "code",
     "collapsed": false,
     "input": [
      "import MSAtools as msa\n",
      "msa.idxOxy = 0\n",
      "msa.idxCl = 1\n",
      "msa.idxNa = 2\n",
      "msa.idxCa = 3\n",
      "msa.nOxy = 8.0\n",
      "msa.idxOxy = 0\n",
      "msa.cacl2 = 1e-10\n",
      "msa.indices=[\"O\",\"Cl\",\"Na\",\"Ca\"]  # ALWAYS put oxygen first\n",
      "msa.ref_conc_M = np.array([1e-200, (100.0e-3), 100.0e-3, 0])  # [M] order is  O, Cl, Na, Ca (bath) \n",
      "msa.nIons = np.shape(msa.ref_conc_M)[0]\n",
      "msa.zs = np.array([-0.5, -1.0, 1.0, 2.00]) #input charges here\n",
      "\n",
      "#FF RADII (Nonner)#\n",
      "msa.sigmas = np.array([0.278, 0.362, 0.204, 0.200])\n",
      "msa.V_i = 0.375 # nm^3\n",
      "msa.filter_dielectric= 63.5\n",
      "\n",
      "msa.Ns = np.array([msa.nOxy, 1., 1., 1.]) # Number of ions in filter (first number is fixed, others are determined by MSA)\n"
     ],
     "language": "python",
     "metadata": {},
     "outputs": [
      {
       "output_type": "stream",
       "stream": "stdout",
       "text": [
        "WARNING: oxy always must be first entry\n"
       ]
      }
     ],
     "prompt_number": 1
    },
    {
     "cell_type": "markdown",
     "metadata": {},
     "source": [
      "### Run single iter"
     ]
    },
    {
     "cell_type": "code",
     "collapsed": false,
     "input": [
      "muiexsPrev = np.zeros(msa.nIons)\n",
      "psiPrev = 0.\n",
      "muiexsPrev = 0\n",
      "alpha = 0.0010\n",
      "\n",
      "\n",
      "from timeit import default_timer as timer\n",
      "msa.cacl2 = 1e-6\n",
      "start = timer()\n",
      "msa.conc_M = np.copy(msa.ref_conc_M)\n",
      "msa.conc_M[msa.idxCl] = msa.ref_conc_M[msa.idxCl] + 2 * msa.cacl2\n",
      "msa.conc_M[msa.idxCa] = msa.cacl2\n",
      "print msa.nOxy\n",
      "mufilteri,donnanPotentiali,mu_ESi,mu_HSi,rhoFilteri = msa.SolveMSAEquations(\n",
      "    msa.filter_dielectric,\n",
      "    msa.conc_M,\n",
      "    msa.zs,\n",
      "    msa.Ns,\n",
      "    msa.V_i,\n",
      "    msa.sigmas,                                                 \n",
      "    msa.nOxy,\n",
      "    psiPrev=psiPrev,\n",
      "    muiexsPrev=muiexsPrev,\n",
      "    alpha=alpha, \n",
      "    verbose=False)\n",
      "    #verbose=True)\n",
      "    \n",
      "print \"cacl2\", msa.cacl2    \n",
      "print \"conc_M\", msa.conc_M\n",
      "print \"mufilteri\",mufilteri\n",
      "print \"rhoFilteri\",rhoFilteri\n",
      "print \"donnanPotentiali\",donnanPotentiali    \n",
      "end = timer()\n",
      "print(end - start), \" elapsed seconds \"\n"
     ],
     "language": "python",
     "metadata": {},
     "outputs": [
      {
       "output_type": "stream",
       "stream": "stdout",
       "text": [
        "8.0\n",
        "itersgamma 0, iterspsi 1364"
       ]
      },
      {
       "output_type": "stream",
       "stream": "stdout",
       "text": [
        "\n",
        "3.5185957039\n",
        "cacl2 1e-06\n",
        "conc_M [  1.00000000e-200   1.00002000e-001   1.00000000e-001   1.00000000e-006]\n",
        "mufilteri [ 3.38333943  4.92737131  0.84966361 -3.14721638]\n",
        "rhoFilteri [  2.13333333e+01   6.07216963e-07   9.04025600e+00   8.13197384e-01]\n",
        "donnanPotentiali -159.355529964\n",
        "2.3288860321  elapsed seconds \n"
       ]
      }
     ],
     "prompt_number": 2
    },
    {
     "cell_type": "code",
     "collapsed": false,
     "input": [
      "muiexsPrev = np.zeros(msa.nIons)\n",
      "psiPrev = -10 * np.random.rand(1) # Can we come up with a better first-principles est? \n",
      "muiexsPrev = np.random.rand(msa.nIons)\n",
      "psiPrev = 0\n",
      "muiexsPrev = 0\n",
      "alpha = 0.0010\n",
      "\n",
      "results = {}\n",
      "results[\"muFilter\"]=[]\n",
      "results[\"donnanPotential\"]=[]\n",
      "results[\"muFilterStd\"]=[]\n",
      "results[\"donnanPotentialStd\"]=[]\n",
      "results[\"mu_ES\"]=[]\n",
      "results[\"mu_HS\"]=[]\n",
      "results[\"rhoFilter\"]=[]\n",
      "results[\"muBath\"] = []\n",
      "results[\"deltaG\"] = []\n",
      "\n",
      "from timeit import default_timer as timer\n",
      "\n",
      "#cacl2s = np.linspace(-10,-6,3) # Coarse\n",
      "cacl2s = np.linspace(-10,-1,22) # Fine\n",
      "\n",
      "cacl2s = 10**cacl2s\n",
      "results[\"cacl2\"] = cacl2s\n",
      "\n",
      "\n",
      "\n",
      "for i, cacl2i  in enumerate(cacl2s):\n",
      "    # start timer\n",
      "    start = timer()\n",
      "    \n",
      "    # update concs\n",
      "    msa.cacl2 = cacl2i\n",
      "    #msa.cacl2 = 1e-6\n",
      "    msa.conc_M = np.copy(msa.ref_conc_M)\n",
      "    msa.conc_M[msa.idxCl] = msa.ref_conc_M[msa.idxCl] + 2 * msa.cacl2\n",
      "    msa.conc_M[msa.idxCa] = msa.cacl2\n",
      "    \n",
      "    numDraws = 5\n",
      "    filterIters=[]\n",
      "    psiIters = []\n",
      "    for i in np.arange(numDraws):\n",
      "      psiPrevRand = psiPrev + np.random.rand(1)\n",
      "      muiexsPrevRand = muiexsPrev + np.random.rand(msa.nIons)\n",
      "      print \"psiPrev\", psiPrev\n",
      "      print \"muiexsPrev\", muiexsPrev\n",
      "    \n",
      "      # run MSA \n",
      "      mufilteri,donnanPotentiali,mu_ESi,mu_HSi,rhoFilteri = msa.SolveMSAEquations(\n",
      "        msa.filter_dielectric,\n",
      "        msa.conc_M,\n",
      "        msa.zs,\n",
      "        msa.Ns,\n",
      "        msa.V_i,\n",
      "        msa.sigmas,                                                 \n",
      "        psiPrev=psiPrevRand,\n",
      "        muiexsPrev=muiexsPrevRand,\n",
      "        alpha=alpha, \n",
      "        verbose=False)\n",
      "        #verbose=True)\n",
      "      filterIters.append(mufilteri)\n",
      "      psiIters.append(donnanPotentiali)\n",
      "        \n",
      "      psiPrev = donnanPotentiali        \n",
      "      muiexsPrev = mufilteri  \n",
      "    # end loop \n",
      "    \n",
      "    # mean/dev\n",
      "    filterIters = np.array(filterIters)    \n",
      "    psiIters = np.array(psiIters)    \n",
      "    mufilteri = np.mean(filterIters,axis=0)         \n",
      "    mufilteriStd = np.std(filterIters,axis=0)         \n",
      "    donnanPotentiali = np.mean(psiIters,axis=0)\n",
      "    donnanPotentialiStd = np.std(psiIters,axis=0)         \n",
      "    print mufilteri, mufilteriStd\n",
      "    print donnanPotentiali, donnanPotentialiStd\n",
      "        \n",
      "    ## store results     \n",
      "    # from msa \n",
      "    results[\"muBath\"].append( msa.results[\"muBath\"] )\n",
      "    results[\"deltaG\"].append( msa.results[\"deltaG\"] )\n",
      "    \n",
      "    # returned\n",
      "    results[\"muFilter\"].append(mufilteri)\n",
      "    results[\"muFilterStd\"].append(mufilteriStd)\n",
      "    results[\"donnanPotential\"].append(donnanPotentiali)\n",
      "    results[\"donnanPotentialStd\"].append(donnanPotentialiStd)\n",
      "    results[\"mu_ES\"].append(mu_ESi)\n",
      "    results[\"mu_HS\"].append(mu_HSi)\n",
      "    results[\"rhoFilter\"].append(rhoFilteri)\n",
      "    \n",
      "    # update previous psi/muiexs so code has better initial guess \n",
      "    psiPrev = donnanPotentiali\n",
      "    muiexsPrev = mufilteri\n",
      "    \n",
      "    # report information \n",
      "    print \"cacl2\", msa.cacl2    \n",
      "    print \"conc_M\", msa.conc_M\n",
      "    print \"mufilteri\",mufilteri\n",
      "    print \"rhoFilteri\",rhoFilteri\n",
      "    print \"donnanPotentiali\",donnanPotentiali    \n",
      "    end = timer()\n",
      "    print(end - start), \" elapsed seconds \"\n",
      "\n",
      "    "
     ],
     "language": "python",
     "metadata": {},
     "outputs": [
      {
       "output_type": "stream",
       "stream": "stdout",
       "text": [
        "psiPrev 0\n",
        "muiexsPrev 0\n",
        "itersgamma 0, iterspsi 9278"
       ]
      },
      {
       "output_type": "stream",
       "stream": "stdout",
       "text": [
        "\n",
        "3.38727004637\n",
        "psiPrev [-173.269323]\n",
        "muiexsPrev [ 4.71270043  6.91591762  1.22764307 -4.1585384 ]\n",
        "itersgamma 0, iterspsi 8243"
       ]
      },
      {
       "output_type": "stream",
       "stream": "stdout",
       "text": [
        "\n",
        "3.38727496909\n",
        "psiPrev [-173.27287249]\n",
        "muiexsPrev [ 4.71334273  6.91674601  1.22777662 -4.15898382]\n",
        "itersgamma 0, iterspsi 7158"
       ]
      },
      {
       "output_type": "stream",
       "stream": "stdout",
       "text": [
        "\n",
        "3.38727495598\n",
        "psiPrev [-173.2728735]\n",
        "muiexsPrev [ 4.71395454  6.9169493   1.22777664 -4.1588591 ]\n",
        "itersgamma 0, iterspsi 7356"
       ]
      },
      {
       "output_type": "stream",
       "stream": "stdout",
       "text": [
        "\n",
        "3.387274934\n",
        "psiPrev [-173.27287331]\n",
        "muiexsPrev [ 4.7132754   6.91684545  1.22777661 -4.15867224]\n",
        "itersgamma 0, iterspsi 9585"
       ]
      },
      {
       "output_type": "stream",
       "stream": "stdout",
       "text": [
        "\n",
        "3.38727497366\n",
        "[ 4.7133127   6.91663373  1.22774992 -4.15881301] [  3.97399903e-04   3.67611274e-04   5.34258746e-05   1.82162221e-04]\n",
        "[-173.27216315] [ 0.00142008]\n",
        "cacl2 1e-10\n",
        "conc_M [  1.00000000e-200   1.00000000e-001   1.00000000e-001   1.00000000e-010]\n",
        "mufilteri [ 4.7133127   6.91663373  1.22774992 -4.15881301]\n",
        "rhoFilteri [  2.13333333e+01   4.81468563e-08   1.06653657e+01   6.64382210e-04]\n",
        "donnanPotentiali [-173.27216315]\n",
        "7.58128786087  elapsed seconds \n",
        "psiPrev [-173.27216315]\n",
        "muiexsPrev [ 4.7133127   6.91663373  1.22774992 -4.15881301]\n",
        "itersgamma 0, iterspsi 9459"
       ]
      },
      {
       "output_type": "stream",
       "stream": "stdout",
       "text": [
        "\n",
        "3.38746236805\n",
        "psiPrev [-173.26188117]\n",
        "muiexsPrev [ 4.71304677  6.91618869  1.22755683 -4.15955334]\n",
        "itersgamma 0, iterspsi 9339"
       ]
      },
      {
       "output_type": "stream",
       "stream": "stdout",
       "text": [
        "\n",
        "3.38746236813\n",
        "psiPrev [-173.2618808]\n",
        "muiexsPrev [ 4.71306169  6.91619261  1.22755682 -4.15955524]\n",
        "itersgamma 0, iterspsi 9686"
       ]
      },
      {
       "output_type": "stream",
       "stream": "stdout",
       "text": [
        "\n",
        "3.38746237075\n",
        "psiPrev [-173.26188072]\n",
        "muiexsPrev [ 4.71299858  6.91620136  1.22755682 -4.15956397]\n",
        "itersgamma 0, iterspsi 8446"
       ]
      },
      {
       "output_type": "stream",
       "stream": "stdout",
       "text": [
        "\n",
        "3.38746236082\n",
        "psiPrev [-173.26188144]\n",
        "muiexsPrev [ 4.71300102  6.91625056  1.22755683 -4.15952894]\n",
        "itersgamma 0, iterspsi 9420"
       ]
      },
      {
       "output_type": "stream",
       "stream": "stdout",
       "text": [
        "\n",
        "3.38746236214\n",
        "[ 4.71302107  6.91620841  1.22755682 -4.15954749] [  2.75051389e-05   2.22028298e-05   8.33188028e-09   1.29809835e-05]\n",
        "[-173.26188099] [  2.73311296e-07]\n",
        "cacl2 2.68269579528e-10\n",
        "conc_M [  1.00000000e-200   1.00000001e-001   1.00000000e-001   2.68269580e-010]\n",
        "mufilteri [ 4.71302107  6.91620841  1.22755682 -4.15954749]\n",
        "rhoFilteri [  2.13333333e+01   4.81916954e-08   1.06631309e+01   1.78173963e-03]\n",
        "donnanPotentiali [-173.26188099]\n",
        "7.92999696732  elapsed seconds \n",
        "psiPrev [-173.26188099]\n",
        "muiexsPrev [ 4.71302107  6.91620841  1.22755682 -4.15954749]\n",
        "itersgamma 0, iterspsi 9027"
       ]
      },
      {
       "output_type": "stream",
       "stream": "stdout",
       "text": [
        "\n",
        "3.38796431402\n",
        "psiPrev [-173.23243056]\n",
        "muiexsPrev [ 4.71231747  6.91481274  1.22696805 -4.16088409]\n",
        "itersgamma 0, iterspsi 8784"
       ]
      },
      {
       "output_type": "stream",
       "stream": "stdout",
       "text": [
        "\n",
        "3.38796427993\n",
        "psiPrev [-173.23243137]\n",
        "muiexsPrev [ 4.71237976  6.91483058  1.22696804 -4.1608419 ]\n",
        "itersgamma 0, iterspsi 9779"
       ]
      },
      {
       "output_type": "stream",
       "stream": "stdout",
       "text": [
        "\n",
        "3.3879643522\n",
        "psiPrev [-173.23242936]\n",
        "muiexsPrev [ 4.71230586  6.91485742  1.22696805 -4.16093184]\n",
        "itersgamma 0, iterspsi 9285"
       ]
      },
      {
       "output_type": "stream",
       "stream": "stdout",
       "text": [
        "\n",
        "3.38796436657\n",
        "psiPrev [-173.23242881]\n",
        "muiexsPrev [ 4.71233912  6.91486559  1.22696804 -4.16095   ]\n",
        "itersgamma 0, iterspsi 9170"
       ]
      },
      {
       "output_type": "stream",
       "stream": "stdout",
       "text": [
        "\n",
        "3.38796435652\n",
        "[ 4.71233348  6.91484385  1.22696805 -4.16090875] [  2.55398170e-05   1.94054166e-05   1.19194634e-08   4.01178857e-05]\n",
        "[-173.23243002] [  8.98504979e-07]\n",
        "cacl2 7.19685673001e-10\n",
        "conc_M [  1.00000000e-200   1.00000001e-001   1.00000000e-001   7.19685673e-010]\n",
        "mufilteri [ 4.71233348  6.91484385  1.22696805 -4.16090875]\n",
        "rhoFilteri [  2.13333333e+01   4.83126312e-08   1.06571433e+01   4.77556125e-03]\n",
        "donnanPotentiali [-173.23243002]\n",
        "7.97327399254  elapsed seconds \n",
        "psiPrev [-173.23243002]\n",
        "muiexsPrev [ 4.71233348  6.91484385  1.22696805 -4.16090875]\n",
        "itersgamma 0, iterspsi 9713"
       ]
      },
      {
       "output_type": "stream",
       "stream": "stdout",
       "text": [
        "\n",
        "3.38930563733\n",
        "psiPrev [-173.15366654]\n",
        "muiexsPrev [ 4.71053063  6.91120141  1.22539448 -4.16455577]\n",
        "itersgamma 0, iterspsi 8157"
       ]
      },
      {
       "output_type": "stream",
       "stream": "stdout",
       "text": [
        "\n",
        "3.38930569013\n",
        "psiPrev [-173.15366444]\n",
        "muiexsPrev [ 4.71077356  6.91129652  1.22539446 -4.16458085]\n",
        "itersgamma 0, iterspsi 9657"
       ]
      },
      {
       "output_type": "stream",
       "stream": "stdout",
       "text": [
        "\n",
        "3.38930565567\n",
        "psiPrev [-173.15366586]\n",
        "muiexsPrev [ 4.71050357  6.9112334   1.22539447 -4.16456445]\n",
        "itersgamma 0, iterspsi 9443"
       ]
      },
      {
       "output_type": "stream",
       "stream": "stdout",
       "text": [
        "\n",
        "3.3893055978\n",
        "psiPrev [-173.153668]\n",
        "muiexsPrev [ 4.7105582   6.91121723  1.22539449 -4.16453707]\n",
        "itersgamma 0, iterspsi 8723"
       ]
      },
      {
       "output_type": "stream",
       "stream": "stdout",
       "text": [
        "\n",
        "3.38930544739\n",
        "[ 4.7105876   6.91123736  1.22539447 -4.16454106] [  9.59127883e-05   3.22928210e-05   1.09575384e-08   3.95593548e-05]\n",
        "[-173.15366732] [  2.50043650e-06]\n",
        "cacl2 1.93069772888e-09\n",
        "conc_M [  1.00000000e-200   1.00000004e-001   1.00000000e-001   1.93069773e-009]\n",
        "mufilteri [ 4.7105876   6.91123736  1.22539447 -4.16454106]\n",
        "rhoFilteri [  2.13333333e+01   4.86369832e-08   1.06411388e+01   1.27778326e-02]\n",
        "donnanPotentiali [-173.15366732]\n",
        "8.02785396576  elapsed seconds \n",
        "psiPrev [-173.15366732]\n",
        "muiexsPrev [ 4.7105876   6.91123736  1.22539447 -4.16454106]\n",
        "itersgamma 0, iterspsi 9557"
       ]
      },
      {
       "output_type": "stream",
       "stream": "stdout",
       "text": [
        "\n",
        "3.39286599005\n",
        "psiPrev [-172.9441147]\n",
        "muiexsPrev [ 4.70568867  6.90160579  1.2212153  -4.1742212 ]\n",
        "itersgamma 0, iterspsi 8716"
       ]
      },
      {
       "output_type": "stream",
       "stream": "stdout",
       "text": [
        "\n",
        "3.39286527444\n",
        "psiPrev [-172.94413627]\n",
        "muiexsPrev [ 4.70577313  6.9016899   1.22121534 -4.17409413]\n",
        "itersgamma 0, iterspsi 9656"
       ]
      },
      {
       "output_type": "stream",
       "stream": "stdout",
       "text": [
        "\n",
        "3.3928660742\n",
        "psiPrev [-172.94411134]\n",
        "muiexsPrev [ 4.70571597  6.90153633  1.22121527 -4.1742364 ]\n",
        "itersgamma 0, iterspsi 9206"
       ]
      },
      {
       "output_type": "stream",
       "stream": "stdout",
       "text": [
        "\n",
        "3.39286616978\n",
        "psiPrev [-172.94410882]\n",
        "muiexsPrev [ 4.70570923  6.90159532  1.22121528 -4.17425326]\n",
        "itersgamma 0, iterspsi 9517"
       ]
      },
      {
       "output_type": "stream",
       "stream": "stdout",
       "text": [
        "\n",
        "3.39286599636\n",
        "[ 4.70571537  6.90159595  1.2212153  -4.17420546] [  3.07836393e-05   5.36199188e-05   2.52120929e-08   5.68658567e-05]\n",
        "[-172.94411712] [  9.81628287e-06]\n",
        "cacl2 5.17947467923e-09\n",
        "conc_M [  1.00000000e-200   1.00000010e-001   1.00000000e-001   5.17947468e-009]\n",
        "mufilteri [ 4.70571537  6.90159595  1.2212153  -4.17420546]\n",
        "rhoFilteri [  2.13333333e+01   4.95140264e-08   1.05985885e+01   3.40529820e-02]\n",
        "donnanPotentiali [-172.94411712]\n",
        "7.9101369381  elapsed seconds \n",
        "psiPrev [-172.94411712]\n",
        "muiexsPrev [ 4.70571537  6.90159595  1.2212153  -4.17420546]\n",
        "itersgamma 0, iterspsi 9122"
       ]
      },
      {
       "output_type": "stream",
       "stream": "stdout",
       "text": [
        "\n",
        "3.40215305654\n",
        "psiPrev [-172.39416854]\n",
        "muiexsPrev [ 4.693169    6.87643301  1.21029834 -4.19944234]\n",
        "itersgamma 0, iterspsi 8887"
       ]
      },
      {
       "output_type": "stream",
       "stream": "stdout",
       "text": [
        "\n",
        "3.40215191742\n",
        "psiPrev [-172.39420403]\n",
        "muiexsPrev [ 4.6931679   6.87644889  1.21029842 -4.19936335]\n",
        "itersgamma 0, iterspsi 8348"
       ]
      },
      {
       "output_type": "stream",
       "stream": "stdout",
       "text": [
        "\n",
        "3.40215153183\n",
        "psiPrev [-172.39421734]\n",
        "muiexsPrev [ 4.69327966  6.87658539  1.21029849 -4.1993364 ]\n",
        "itersgamma 0, iterspsi 7681"
       ]
      },
      {
       "output_type": "stream",
       "stream": "stdout",
       "text": [
        "\n",
        "3.40214549703\n",
        "psiPrev [-172.39440739]\n",
        "muiexsPrev [ 4.69339334  6.87662722  1.210299   -4.1989175 ]\n",
        "itersgamma 0, iterspsi 8075"
       ]
      },
      {
       "output_type": "stream",
       "stream": "stdout",
       "text": [
        "\n",
        "3.40214955321\n",
        "[ 4.69326831  6.87650909  1.21029858 -4.19925172] [  8.91307200e-05   8.07101289e-05   2.36848835e-07   1.84631977e-04]\n",
        "[-172.39425545] [  8.40683604e-05]\n",
        "cacl2 1.38949549437e-08\n",
        "conc_M [  1.00000000e-200   1.00000028e-001   1.00000000e-001   1.38949549e-008]\n",
        "mufilteri [ 4.69326831  6.87650909  1.21029858 -4.19925172]\n",
        "rhoFilteri [  2.13333333e+01   5.18749220e-08   1.04872427e+01   8.97259783e-02]\n",
        "donnanPotentiali [-172.39425545]\n",
        "7.13369584084  elapsed seconds \n",
        "psiPrev [-172.39425545]\n",
        "muiexsPrev [ 4.69326831  6.87650909  1.21029858 -4.19925172]\n",
        "itersgamma 0, iterspsi 8794"
       ]
      },
      {
       "output_type": "stream",
       "stream": "stdout",
       "text": [
        "\n",
        "3.42531572619\n",
        "psiPrev [-171.00072666]\n",
        "muiexsPrev [ 4.66167969  6.81335964  1.18296448 -4.26225386]\n",
        "itersgamma 0, iterspsi 7798"
       ]
      },
      {
       "output_type": "stream",
       "stream": "stdout",
       "text": [
        "\n",
        "3.42532639611\n",
        "psiPrev [-171.00038746]\n",
        "muiexsPrev [ 4.66182182  6.81316855  1.18296395 -4.26256271]\n",
        "itersgamma 0, iterspsi 8581"
       ]
      },
      {
       "output_type": "stream",
       "stream": "stdout",
       "text": [
        "\n",
        "3.42532738544\n",
        "psiPrev [-171.00035604]\n",
        "muiexsPrev [ 4.66156184  6.81312961  1.1829639  -4.26259134]\n",
        "itersgamma 0, iterspsi 8069"
       ]
      },
      {
       "output_type": "stream",
       "stream": "stdout",
       "text": [
        "\n",
        "3.42533456517\n",
        "psiPrev [-171.00012716]\n",
        "muiexsPrev [ 4.66146241  6.81305826  1.18296352 -4.26279919]\n",
        "itersgamma 0, iterspsi 8090"
       ]
      },
      {
       "output_type": "stream",
       "stream": "stdout",
       "text": [
        "\n",
        "3.42532755921\n",
        "[ 4.66161908  6.81320319  1.18296395 -4.26256069] [  1.22508029e-04   1.10855912e-04   3.04412382e-07   1.75063738e-04]\n",
        "[-171.00038963] [ 0.00019242]\n",
        "cacl2 3.72759372031e-08\n",
        "conc_M [  1.00000000e-200   1.00000075e-001   1.00000000e-001   3.72759372e-008]\n",
        "mufilteri [ 4.66161908  6.81320319  1.18296395 -4.26256069]\n",
        "rhoFilteri [  2.13333333e+01   5.83487146e-08   1.02066949e+01   2.29999990e-01]\n",
        "donnanPotentiali [-171.00038963]\n",
        "7.24602293968  elapsed seconds \n",
        "psiPrev [-171.00038963]\n",
        "muiexsPrev [ 4.66161908  6.81320319  1.18296395 -4.26256069]\n",
        "itersgamma 0, iterspsi 9045"
       ]
      },
      {
       "output_type": "stream",
       "stream": "stdout",
       "text": [
        "\n",
        "3.47733138449\n",
        "psiPrev [-167.75037801]\n",
        "muiexsPrev [ 4.58994069  6.67011811  1.12106702 -4.4041176 ]\n",
        "itersgamma 0, iterspsi 9290"
       ]
      },
      {
       "output_type": "stream",
       "stream": "stdout",
       "text": [
        "\n",
        "3.47732947433\n",
        "psiPrev [-167.7504406]\n",
        "muiexsPrev [ 4.58993147  6.67019213  1.12106697 -4.40409101]\n",
        "itersgamma 0, iterspsi 247\n",
        "3.44681026657\n",
        "psiPrev [-168.98734054]\n",
        "muiexsPrev [ 5.15673817  6.95596737  1.13049969 -3.88612623]\n",
        "itersgamma 0, iterspsi 9693"
       ]
      },
      {
       "output_type": "stream",
       "stream": "stdout",
       "text": [
        "\n",
        "3.4773279535\n",
        "psiPrev [-167.75049002]\n",
        "muiexsPrev [ 4.5899771   6.67020338  1.1210669  -4.40406987]\n",
        "itersgamma 0, iterspsi 6336"
       ]
      },
      {
       "output_type": "stream",
       "stream": "stdout",
       "text": [
        "\n",
        "3.47755147265\n",
        "[ 4.70300713  6.72672216  1.12295517 -4.30111602] [ 0.22686627  0.11462866  0.00377226  0.20749833]\n",
        "[-167.99637089] [ 0.49549274]\n",
        "cacl2 1e-07\n",
        "conc_M [  1.00000000e-200   1.00000200e-001   1.00000000e-001   1.00000000e-007]\n",
        "mufilteri [ 4.70300713  6.72672216  1.12295517 -4.30111602]\n",
        "rhoFilteri [  2.13333333e+01   7.66955027e-08   9.56107200e+00   5.52811708e-01]\n",
        "donnanPotentiali [-167.99637089]\n",
        "5.83991003036  elapsed seconds \n",
        "psiPrev [-167.99637089]\n",
        "muiexsPrev [ 4.70300713  6.72672216  1.12295517 -4.30111602]\n",
        "itersgamma 0, iterspsi 7619"
       ]
      },
      {
       "output_type": "stream",
       "stream": "stdout",
       "text": [
        "\n",
        "3.57213709796\n",
        "psiPrev [-161.32145792]\n",
        "muiexsPrev [ 4.45615663  6.40328453  1.00648424 -4.66474054]\n",
        "itersgamma 0, iterspsi 5519"
       ]
      },
      {
       "output_type": "stream",
       "stream": "stdout",
       "text": [
        "\n",
        "3.57273041065\n",
        "psiPrev [-161.30135938]\n",
        "muiexsPrev [ 4.45274835  6.397367    1.00663858 -4.66967644]\n",
        "itersgamma 0, iterspsi 7729"
       ]
      },
      {
       "output_type": "stream",
       "stream": "stdout",
       "text": [
        "\n",
        "3.57211593573\n",
        "psiPrev [-161.32217663]\n",
        "muiexsPrev [ 4.45622075  6.4036025   1.00647882 -4.66456415]\n",
        "itersgamma 0, iterspsi 3569"
       ]
      },
      {
       "output_type": "stream",
       "stream": "stdout",
       "text": [
        "\n",
        "3.57659357188\n",
        "psiPrev [-161.17216389]\n",
        "muiexsPrev [ 4.43868386  6.38669809  1.00773732 -4.70143667]\n",
        "itersgamma 0, iterspsi 8486"
       ]
      },
      {
       "output_type": "stream",
       "stream": "stdout",
       "text": [
        "\n",
        "3.5720928687\n",
        "[ 4.45195405  6.39892627  1.00676236 -4.67295797] [ 0.00676237  0.00656372  0.00049141  0.0143771 ]\n",
        "[-161.28802315] [ 0.05849104]\n",
        "cacl2 2.68269579528e-07\n",
        "conc_M [  1.00000000e-200   1.00000537e-001   1.00000000e-001   2.68269580e-007]\n",
        "mufilteri [ 4.45195405  6.39892627  1.00676236 -4.67295797]\n",
        "rhoFilteri [  2.13333333e+01   1.28263279e-07   8.34373671e+00   1.16147981e+00]\n",
        "donnanPotentiali [-161.28802315]\n",
        "5.60652494431  elapsed seconds \n",
        "psiPrev [-161.28802315]\n",
        "muiexsPrev [ 4.45195405  6.39892627  1.00676236 -4.67295797]\n",
        "itersgamma 0, iterspsi 7306"
       ]
      },
      {
       "output_type": "stream",
       "stream": "stdout",
       "text": [
        "\n",
        "3.69904801512\n",
        "psiPrev [-151.32699238]\n",
        "muiexsPrev [ 4.27040773  6.03565836  0.8493281  -5.01666221]\n",
        "itersgamma 0, iterspsi 7872"
       ]
      },
      {
       "output_type": "stream",
       "stream": "stdout",
       "text": [
        "\n",
        "3.69903327955\n",
        "psiPrev [-151.32751175]\n",
        "muiexsPrev [ 4.27021896  6.03548083  0.84931687 -5.01657033]\n",
        "itersgamma 0, iterspsi 4182"
       ]
      },
      {
       "output_type": "stream",
       "stream": "stdout",
       "text": [
        "\n",
        "3.70168840682\n",
        "psiPrev [-151.23415952]\n",
        "muiexsPrev [ 4.26117071  6.01632298  0.85137059 -5.03307293]\n",
        "itersgamma 0, iterspsi 2736"
       ]
      },
      {
       "output_type": "stream",
       "stream": "stdout",
       "text": [
        "\n",
        "3.71171709297\n",
        "psiPrev [-150.88985047]\n",
        "muiexsPrev [ 4.23255031  5.97024404  0.85982452 -5.0941248 ]\n",
        "itersgamma 0, iterspsi 4052"
       ]
      },
      {
       "output_type": "stream",
       "stream": "stdout",
       "text": [
        "\n",
        "3.69969418606\n",
        "[ 4.26276284  6.02018083  0.8519323  -5.03622412] [ 0.01617641  0.02650282  0.00401699  0.02957248]\n",
        "[-151.21654349] [ 0.16687469]\n",
        "cacl2 7.19685673001e-07\n",
        "conc_M [  1.00000000e-200   1.00001439e-001   1.00000000e-001   7.19685673e-007]\n",
        "mufilteri [ 4.26276284  6.02018083  0.8519323  -5.03622412]\n",
        "rhoFilteri [  2.13333333e+01   2.72032659e-07   6.59823671e+00   2.03423026e+00]\n",
        "donnanPotentiali [-151.21654349]\n",
        "4.44069504738  elapsed seconds \n",
        "psiPrev [-151.21654349]\n",
        "muiexsPrev [ 4.26276284  6.02018083  0.8519323  -5.03622412]\n",
        "itersgamma 0, iterspsi 5909"
       ]
      },
      {
       "output_type": "stream",
       "stream": "stdout",
       "text": [
        "\n",
        "3.82438613627\n",
        "psiPrev [-138.95547364]\n",
        "muiexsPrev [ 4.07915752  5.65832839  0.69103719 -5.36905478]\n",
        "itersgamma 0, iterspsi 9737"
       ]
      },
      {
       "output_type": "stream",
       "stream": "stdout",
       "text": [
        "\n",
        "3.824054619\n",
        "psiPrev [-138.96754983]\n",
        "muiexsPrev [ 4.08000322  5.66074522  0.69046113 -5.36726167]\n",
        "itersgamma 0, iterspsi 4796"
       ]
      },
      {
       "output_type": "stream",
       "stream": "stdout",
       "text": [
        "\n",
        "3.82420362765\n",
        "psiPrev [-138.9621231]\n",
        "muiexsPrev [ 4.08173073  5.66551144  0.69071992 -5.3680676 ]\n",
        "itersgamma 0, iterspsi 5346"
       ]
      },
      {
       "output_type": "stream",
       "stream": "stdout",
       "text": [
        "\n",
        "3.82414628771\n",
        "psiPrev [-138.96421102]\n",
        "muiexsPrev [ 4.08354718  5.66136621  0.69062029 -5.36775751]\n",
        "itersgamma 0, iterspsi 5175"
       ]
      },
      {
       "output_type": "stream",
       "stream": "stdout",
       "text": [
        "\n",
        "3.82461061142\n",
        "[ 4.08111804  5.6606314   0.69085333 -5.36848202] [ 0.00150756  0.00287774  0.00034354  0.00106823]\n",
        "[-138.95933109] [ 0.00719494]\n",
        "cacl2 1.93069772888e-06\n",
        "conc_M [  1.00000000e-200   1.00003861e-001   1.00000000e-001   1.93069773e-006]\n",
        "mufilteri [ 4.08111804  5.6606314   0.69085333 -5.36848202]\n",
        "rhoFilteri [  2.13333333e+01   6.48484972e-07   4.77073609e+00   2.94798062e+00]\n",
        "donnanPotentiali [-138.95933109]\n",
        "5.27246594429  elapsed seconds \n",
        "psiPrev [-138.95933109]\n",
        "muiexsPrev [ 4.08111804  5.6606314   0.69085333 -5.36848202]\n",
        "itersgamma 0, iterspsi 5731"
       ]
      },
      {
       "output_type": "stream",
       "stream": "stdout",
       "text": [
        "\n",
        "3.92373324054\n",
        "psiPrev [-125.69648687]\n",
        "muiexsPrev [ 3.92477104  5.35138106  0.56271249 -5.65037676]\n",
        "itersgamma 0, iterspsi 4236"
       ]
      },
      {
       "output_type": "stream",
       "stream": "stdout",
       "text": [
        "\n",
        "3.92480038944\n",
        "psiPrev [-125.65695838]\n",
        "muiexsPrev [ 3.92924737  5.35103223  0.56642801 -5.65574419]\n",
        "itersgamma 0, iterspsi 3000"
       ]
      },
      {
       "output_type": "stream",
       "stream": "stdout",
       "text": [
        "\n",
        "3.92996982821\n",
        "psiPrev [-125.46825347]\n",
        "muiexsPrev [ 3.91578515  5.34543956  0.58497479 -5.68147218]\n",
        "itersgamma 0, iterspsi 5933"
       ]
      },
      {
       "output_type": "stream",
       "stream": "stdout",
       "text": [
        "\n",
        "3.92359191471\n",
        "psiPrev [-125.7017313]\n",
        "muiexsPrev [ 3.92382862  5.35362147  0.56222316 -5.6496649 ]\n",
        "itersgamma 0, iterspsi 3124"
       ]
      },
      {
       "output_type": "stream",
       "stream": "stdout",
       "text": [
        "\n",
        "3.92707834982\n",
        "[ 3.92271019  5.35225863  0.57016522 -5.6608791 ] [ 0.00456028  0.00464302  0.00860922  0.01204713]\n",
        "[-125.61933245] [ 0.08844001]\n",
        "cacl2 5.17947467923e-06\n",
        "conc_M [  1.00000000e-200   1.00010359e-001   1.00000000e-001   5.17947468e-006]\n",
        "mufilteri [ 3.92271019  5.35225863  0.57016522 -5.6608791 ]\n",
        "rhoFilteri [  2.13333333e+01   1.47216427e-06   3.18035185e+00   3.74317214e+00]\n",
        "donnanPotentiali [-125.61933245]\n",
        "3.74306702614  elapsed seconds \n",
        "psiPrev [-125.61933245]\n",
        "muiexsPrev [ 3.92271019  5.35225863  0.57016522 -5.6608791 ]\n",
        "itersgamma 0, iterspsi 9373"
       ]
      },
      {
       "output_type": "stream",
       "stream": "stdout",
       "text": [
        "\n",
        "3.99330640284\n",
        "psiPrev [-112.34211286]\n",
        "muiexsPrev [ 3.81195838  5.13572048  0.46926889 -5.84806027]\n",
        "itersgamma 0, iterspsi 7726"
       ]
      },
      {
       "output_type": "stream",
       "stream": "stdout",
       "text": [
        "\n",
        "3.99330944231\n",
        "psiPrev [-112.34199895]\n",
        "muiexsPrev [ 3.81203506  5.13573753  0.46928818 -5.84807501]\n",
        "itersgamma 0, iterspsi 9332"
       ]
      },
      {
       "output_type": "stream",
       "stream": "stdout",
       "text": [
        "\n",
        "3.99330502745\n",
        "psiPrev [-112.34216538]\n",
        "muiexsPrev [ 3.81194952  5.13570473  0.46926018 -5.84805352]\n",
        "itersgamma 0, iterspsi 8719"
       ]
      },
      {
       "output_type": "stream",
       "stream": "stdout",
       "text": [
        "\n",
        "3.99330850307\n",
        "psiPrev [-112.34203503]\n",
        "muiexsPrev [ 3.81198955  5.13572771  0.46928223 -5.84807039]\n",
        "itersgamma 0, iterspsi 8951"
       ]
      },
      {
       "output_type": "stream",
       "stream": "stdout",
       "text": [
        "\n",
        "3.99330549135\n",
        "[ 3.8119748   5.1357184   0.46927252 -5.84806299] [  3.42537225e-05   1.36213997e-05   1.08916016e-05   8.34740561e-06]\n",
        "[-112.34209203] [  6.45795394e-05]\n",
        "cacl2 1.38949549437e-05\n",
        "conc_M [  1.00000000e-200   1.00027790e-001   1.00000000e-001   1.38949549e-005]\n",
        "mufilteri [ 3.8119748   5.1357184   0.46927252 -5.84806299]\n",
        "rhoFilteri [  2.13333333e+01   3.08903584e-06   2.10722487e+00   4.27973623e+00]\n",
        "donnanPotentiali [-112.34209203]\n",
        "7.64900898933  elapsed seconds \n",
        "psiPrev [-112.34209203]\n",
        "muiexsPrev [ 3.8119748   5.1357184   0.46927252 -5.84806299]\n",
        "itersgamma 0, iterspsi 6792"
       ]
      },
      {
       "output_type": "stream",
       "stream": "stdout",
       "text": [
        "\n",
        "4.03954101783\n",
        "psiPrev [-99.1208246]\n",
        "muiexsPrev [ 3.73693549  4.98858094  0.40807248 -5.98062645]\n",
        "itersgamma 0, iterspsi 7422"
       ]
      },
      {
       "output_type": "stream",
       "stream": "stdout",
       "text": [
        "\n",
        "4.0395179231\n",
        "psiPrev [-99.12169855]\n",
        "muiexsPrev [ 3.73660291  4.98925424  0.40781557 -5.98051648]\n",
        "itersgamma 0, iterspsi 2803"
       ]
      },
      {
       "output_type": "stream",
       "stream": "stdout",
       "text": [
        "\n",
        "4.04091158948\n",
        "psiPrev [-99.06920323]\n",
        "muiexsPrev [ 3.73318469  5.03450792  0.42349218 -5.98713198]\n",
        "itersgamma 0, iterspsi 4483"
       ]
      },
      {
       "output_type": "stream",
       "stream": "stdout",
       "text": [
        "\n",
        "4.04010590219\n",
        "psiPrev [-99.09947702]\n",
        "muiexsPrev [ 3.7383588   4.99180851  0.41438627 -5.98331382]\n",
        "itersgamma 0, iterspsi 8509"
       ]
      },
      {
       "output_type": "stream",
       "stream": "stdout",
       "text": [
        "\n",
        "4.03950599528\n",
        "[ 3.73637493  4.99863472  0.41228988 -5.98240967] [ 0.00171197  0.01797198  0.00614681  0.00259556]\n",
        "[-99.10667087] [ 0.0205979]\n",
        "cacl2 3.72759372031e-05\n",
        "conc_M [  1.00000000e-200   1.00074552e-001   1.00000000e-001   3.72759372e-005]\n",
        "mufilteri [ 3.73637493  4.99863472  0.41228988 -5.98240967]\n",
        "rhoFilteri [  2.13333333e+01   5.99756662e-06   1.33707437e+00   4.66481169e+00]\n",
        "donnanPotentiali [-99.10667087]\n",
        "5.08069300652  elapsed seconds \n",
        "psiPrev [-99.10667087]\n",
        "muiexsPrev [ 3.73637493  4.99863472  0.41228988 -5.98240967]\n",
        "itersgamma 0, iterspsi 8624"
       ]
      },
      {
       "output_type": "stream",
       "stream": "stdout",
       "text": [
        "\n",
        "4.06901896919\n",
        "psiPrev [-86.08370188]\n",
        "muiexsPrev [ 3.68816685  4.89458592  0.36817133 -6.06530319]\n",
        "itersgamma 0, iterspsi 4710"
       ]
      },
      {
       "output_type": "stream",
       "stream": "stdout",
       "text": [
        "\n",
        "4.0691712906\n",
        "psiPrev [-86.07790757]\n",
        "muiexsPrev [ 3.69397001  4.89391439  0.37106652 -6.06602074]\n",
        "itersgamma 0, iterspsi 9193"
       ]
      },
      {
       "output_type": "stream",
       "stream": "stdout",
       "text": [
        "\n",
        "4.06901536896\n",
        "psiPrev [-86.08383919]\n",
        "muiexsPrev [ 3.68821739  4.89453637  0.36810302 -6.0652862 ]\n",
        "itersgamma 0, iterspsi 5408"
       ]
      },
      {
       "output_type": "stream",
       "stream": "stdout",
       "text": [
        "\n",
        "4.06905490614\n",
        "psiPrev [-86.0823348]\n",
        "muiexsPrev [ 3.69219389  4.89530675  0.36885345 -6.06547248]\n",
        "itersgamma 0, iterspsi 7140"
       ]
      },
      {
       "output_type": "stream",
       "stream": "stdout",
       "text": [
        "\n",
        "4.06902463331\n",
        "[ 3.69026355  4.89461734  0.36889463 -6.0654825 ] [ 0.00237818  0.00044561  0.00111784  0.00027705]\n",
        "[-86.08225386] [ 0.00223717]\n",
        "cacl2 0.0001\n",
        "conc_M [  1.00000000e-200   1.00200000e-001   1.00000000e-001   1.00000000e-004]\n",
        "mufilteri [ 3.69026355  4.89461734  0.36889463 -6.0654825 ]\n",
        "rhoFilteri [  2.13333333e+01   1.09797411e-05   8.35603271e-01   4.91554829e+00]\n",
        "donnanPotentiali [-86.08225386]\n",
        "5.94252181053  elapsed seconds \n",
        "psiPrev [-86.08225386]\n",
        "muiexsPrev [ 3.69026355  4.89461734  0.36889463 -6.0654825 ]\n",
        "itersgamma 0, iterspsi 8304"
       ]
      },
      {
       "output_type": "stream",
       "stream": "stdout",
       "text": [
        "\n",
        "4.08751353432\n",
        "psiPrev [-73.20173793]\n",
        "muiexsPrev [ 3.65776803  4.83497712  0.34331156 -6.11856715]\n",
        "itersgamma 0, iterspsi 7047"
       ]
      },
      {
       "output_type": "stream",
       "stream": "stdout",
       "text": [
        "\n",
        "4.08751106185\n",
        "psiPrev [-73.2018316]\n",
        "muiexsPrev [ 3.65786258  4.83537802  0.34323292 -6.11855563]\n",
        "itersgamma 0, iterspsi 8741"
       ]
      },
      {
       "output_type": "stream",
       "stream": "stdout",
       "text": [
        "\n",
        "4.08750987325\n",
        "psiPrev [-73.20187701]\n",
        "muiexsPrev [ 3.65775044  4.83512784  0.34319506 -6.11855006]\n",
        "itersgamma 0, iterspsi 7873"
       ]
      },
      {
       "output_type": "stream",
       "stream": "stdout",
       "text": [
        "\n",
        "4.08751795475\n",
        "psiPrev [-73.20156912]\n",
        "muiexsPrev [ 3.65768376  4.83501697  0.34345232 -6.11858785]\n",
        "itersgamma 0, iterspsi 7866"
       ]
      },
      {
       "output_type": "stream",
       "stream": "stdout",
       "text": [
        "\n",
        "4.08751470949\n",
        "[ 3.65775234  4.83509688  0.34330817 -6.11856668] [  6.35279804e-05   1.50573516e-04   9.04614748e-05   1.32888471e-05]\n",
        "[-73.20174164] [ 0.00010826]\n",
        "cacl2 0.000268269579528\n",
        "conc_M [  1.00000000e-200   1.00536539e-001   1.00000000e-001   2.68269580e-004]\n",
        "mufilteri [ 3.65775234  4.83509688  0.34330817 -6.11856668]\n",
        "rhoFilteri [  2.13333333e+01   1.93354560e-05   5.17724360e-01   5.07449038e+00]\n",
        "donnanPotentiali [-73.20174164]\n",
        "6.78240203857  elapsed seconds \n",
        "psiPrev [-73.20174164]\n",
        "muiexsPrev [ 3.65775234  4.83509688  0.34330817 -6.11856668]\n",
        "itersgamma 0, iterspsi 9219"
       ]
      },
      {
       "output_type": "stream",
       "stream": "stdout",
       "text": [
        "\n",
        "4.09897280648\n",
        "psiPrev [-60.45891524]\n",
        "muiexsPrev [ 3.63872551  4.79810517  0.32773847 -6.1516015 ]\n",
        "itersgamma 0, iterspsi 8822"
       ]
      },
      {
       "output_type": "stream",
       "stream": "stdout",
       "text": [
        "\n",
        "4.09897261263\n",
        "psiPrev [-60.45892213]\n",
        "muiexsPrev [ 3.63867448  4.79812326  0.32772829 -6.15160064]\n",
        "itersgamma 0, iterspsi 8100"
       ]
      },
      {
       "output_type": "stream",
       "stream": "stdout",
       "text": [
        "\n",
        "4.09897191708\n",
        "psiPrev [-60.45894899]\n",
        "muiexsPrev [ 3.63869855  4.79832604  0.32769154 -6.15159737]\n",
        "itersgamma 0, iterspsi 8772"
       ]
      },
      {
       "output_type": "stream",
       "stream": "stdout",
       "text": [
        "\n",
        "4.09897350246\n",
        "psiPrev [-60.45888804]\n",
        "muiexsPrev [ 3.63877572  4.79812803  0.32777534 -6.15160479]\n",
        "itersgamma 0, iterspsi 3579"
       ]
      },
      {
       "output_type": "stream",
       "stream": "stdout",
       "text": [
        "\n",
        "4.0992569887\n",
        "[ 3.63963687  4.80041956  0.33076411 -6.15186539] [ 0.00183693  0.00449859  0.00606145  0.00052864]\n",
        "[-60.45675573] [ 0.00432578]\n",
        "cacl2 0.000719685673001\n",
        "conc_M [  1.00000000e-200   1.01439371e-001   1.00000000e-001   7.19685673e-004]\n",
        "mufilteri [ 3.63963687  4.80041956  0.33076411 -6.15186539]\n",
        "rhoFilteri [  2.13333333e+01   3.29010502e-05   3.14350866e-01   5.17618220e+00]\n",
        "donnanPotentiali [-60.45675573]\n",
        "6.73612999916  elapsed seconds \n",
        "psiPrev [-60.45675573]\n",
        "muiexsPrev [ 3.63963687  4.80041956  0.33076411 -6.15186539]\n",
        "itersgamma 0, iterspsi 9175"
       ]
      },
      {
       "output_type": "stream",
       "stream": "stdout",
       "text": [
        "\n",
        "4.10602444847\n",
        "psiPrev [-47.88721129]\n",
        "muiexsPrev [ 3.62703787  4.77536139  0.31820195 -6.17194447]\n",
        "itersgamma 0, iterspsi 8795"
       ]
      },
      {
       "output_type": "stream",
       "stream": "stdout",
       "text": [
        "\n",
        "4.10602543869\n",
        "psiPrev [-47.88717357]\n",
        "muiexsPrev [ 3.62702925  4.77540597  0.31828816 -6.17194907]\n",
        "itersgamma 0, iterspsi 9570"
       ]
      },
      {
       "output_type": "stream",
       "stream": "stdout",
       "text": [
        "\n",
        "4.10602400819\n",
        "psiPrev [-47.8872283]\n",
        "muiexsPrev [ 3.62698921  4.77535337  0.31816358 -6.17194241]\n",
        "itersgamma 0, iterspsi 9035"
       ]
      },
      {
       "output_type": "stream",
       "stream": "stdout",
       "text": [
        "\n",
        "4.10602479185\n",
        "psiPrev [-47.88719851]\n",
        "muiexsPrev [ 3.62702234  4.77533877  0.31823176 -6.17194604]\n",
        "itersgamma 0, iterspsi 9414"
       ]
      },
      {
       "output_type": "stream",
       "stream": "stdout",
       "text": [
        "\n",
        "4.10602477136\n",
        "[ 3.6270157   4.77536808  0.31822311 -6.17194559] [  1.82880384e-05   2.33219544e-05   4.08586566e-05   2.18144557e-06]\n",
        "[-47.88720211] [  1.79336319e-05]\n",
        "cacl2 0.00193069772888\n",
        "conc_M [  1.00000000e-200   1.03861395e-001   1.00000000e-001   1.93069773e-003]\n",
        "mufilteri [ 3.6270157   4.77536808  0.31822311 -6.17194559]\n",
        "rhoFilteri [  2.13333333e+01   5.67595380e-05   1.96633620e-01   5.23505123e+00]\n",
        "donnanPotentiali [-47.88720211]\n",
        "7.8018219471  elapsed seconds \n",
        "psiPrev [-47.88720211]\n",
        "muiexsPrev [ 3.6270157   4.77536808  0.31822311 -6.17194559]\n",
        "itersgamma 0, iterspsi 9467"
       ]
      },
      {
       "output_type": "stream",
       "stream": "stdout",
       "text": [
        "\n",
        "4.11033394413\n",
        "psiPrev [-35.63479817]\n",
        "muiexsPrev [ 3.61982457  4.76151877  0.31236027 -6.18437359]\n",
        "itersgamma 0, iterspsi 9562"
       ]
      },
      {
       "output_type": "stream",
       "stream": "stdout",
       "text": [
        "\n",
        "4.11033423223\n",
        "psiPrev [-35.63478723]\n",
        "muiexsPrev [ 3.61981903  4.76148144  0.31240111 -6.18437493]\n",
        "itersgamma 0, iterspsi 9519"
       ]
      },
      {
       "output_type": "stream",
       "stream": "stdout",
       "text": [
        "\n",
        "4.11033416327\n",
        "psiPrev [-35.6347901]\n",
        "muiexsPrev [ 3.61982732  4.7614552   0.31239118 -6.18437459]\n",
        "itersgamma 0, iterspsi 5258"
       ]
      },
      {
       "output_type": "stream",
       "stream": "stdout",
       "text": [
        "\n",
        "4.11035933241\n",
        "psiPrev [-35.63382592]\n",
        "muiexsPrev [ 3.61985274  4.76496487  0.31598115 -6.18449161]\n",
        "itersgamma 0, iterspsi 8299"
       ]
      },
      {
       "output_type": "stream",
       "stream": "stdout",
       "text": [
        "\n",
        "4.11033538714\n",
        "[ 3.61982672  4.76221753  0.31313985 -6.184399  ] [  1.43029823e-05   1.37563097e-03   1.42245052e-03   4.63630256e-05]\n",
        "[-35.63458891] [ 0.00038198]\n",
        "cacl2 0.00517947467923\n",
        "conc_M [  1.00000000e-200   1.10358949e-001   1.00000000e-001   5.17947468e-003]\n",
        "mufilteri [ 3.61982672  4.76221753  0.31313985 -6.184399  ]\n",
        "rhoFilteri [  2.13333333e+01   9.79021200e-05   1.21511454e-01   5.27263129e+00]\n",
        "donnanPotentiali [-35.63458891]\n",
        "7.10300707817  elapsed seconds \n",
        "psiPrev [-35.63458891]\n",
        "muiexsPrev [ 3.61982672  4.76221753  0.31313985 -6.184399  ]\n",
        "itersgamma 0, iterspsi 10077"
       ]
      },
      {
       "output_type": "stream",
       "stream": "stdout",
       "text": [
        "\n",
        "4.11294410477\n",
        "psiPrev [-24.11203791]\n",
        "muiexsPrev [ 3.61552354  4.75315331  0.30887551 -6.19188364]\n",
        "itersgamma 0, iterspsi 6809"
       ]
      },
      {
       "output_type": "stream",
       "stream": "stdout",
       "text": [
        "\n",
        "4.11294848921\n",
        "psiPrev [-24.11187034]\n",
        "muiexsPrev [ 3.61615149  4.75306822  0.30987562 -6.19190396]\n",
        "itersgamma 0, iterspsi 8168"
       ]
      },
      {
       "output_type": "stream",
       "stream": "stdout",
       "text": [
        "\n",
        "4.11294454556\n",
        "psiPrev [-24.11202109]\n",
        "muiexsPrev [ 3.61563234  4.75326143  0.30897657 -6.19188568]\n",
        "itersgamma 0, iterspsi 9904"
       ]
      },
      {
       "output_type": "stream",
       "stream": "stdout",
       "text": [
        "\n",
        "4.11294408566\n",
        "psiPrev [-24.11203882]\n",
        "muiexsPrev [ 3.6155568   4.75316281  0.30887108 -6.19188353]\n",
        "itersgamma 0, iterspsi 9439"
       ]
      },
      {
       "output_type": "stream",
       "stream": "stdout",
       "text": [
        "\n",
        "4.11294422\n",
        "[ 3.61568941  4.75315951  0.30910009 -6.19188819] [  2.33761683e-04   6.13672001e-05   3.89604845e-04   7.92025929e-06]\n",
        "[-24.11200037] [  6.53238897e-05]\n",
        "cacl2 0.0138949549437\n",
        "conc_M [  1.00000000e-200   1.27789910e-001   1.00000000e-001   1.38949549e-002]\n",
        "mufilteri [ 3.61568941  4.75315951  0.30910009 -6.19188819]\n",
        "rhoFilteri [  2.13333333e+01   1.75755229e-04   7.60970637e-02   5.29537588e+00]\n",
        "donnanPotentiali [-24.11200037]\n",
        "7.53637480736  elapsed seconds \n",
        "psiPrev [-24.11200037]\n",
        "muiexsPrev [ 3.61568941  4.75315951  0.30910009 -6.19188819]\n",
        "itersgamma 0, iterspsi 612"
       ]
      },
      {
       "output_type": "stream",
       "stream": "stdout",
       "text": [
        "\n",
        "4.11542992926\n",
        "psiPrev [-14.22862919]\n",
        "muiexsPrev [ 3.8003684   4.97852026  0.7111292  -6.20033382]\n",
        "itersgamma 0, iterspsi 5418"
       ]
      },
      {
       "output_type": "stream",
       "stream": "stdout",
       "text": [
        "\n",
        "4.11451158301\n",
        "psiPrev [-14.25996874]\n",
        "muiexsPrev [ 3.61544598  4.75281463  0.31060834 -6.19636426]\n",
        "itersgamma 0, iterspsi 10766"
       ]
      },
      {
       "output_type": "stream",
       "stream": "stdout",
       "text": [
        "\n",
        "4.11450106364\n",
        "psiPrev [-14.26038018]\n",
        "muiexsPrev [ 3.61306576  4.74830518  0.30680611 -6.19631458]\n",
        "itersgamma 0, iterspsi 10175"
       ]
      },
      {
       "output_type": "stream",
       "stream": "stdout",
       "text": [
        "\n",
        "4.11450116093\n",
        "psiPrev [-14.26037634]\n",
        "muiexsPrev [ 3.61308287  4.74830718  0.30684066 -6.19631504]\n",
        "itersgamma 0, iterspsi 10559"
       ]
      },
      {
       "output_type": "stream",
       "stream": "stdout",
       "text": [
        "\n",
        "4.11450109754\n",
        "[ 3.65100597  4.79525322  0.38844054 -6.19712849] [ 0.07468688  0.09165013  0.161351    0.00160278]\n",
        "[-14.25394665] [ 0.01265972]\n",
        "cacl2 0.0372759372031\n",
        "conc_M [  1.00000000e-200   1.74551874e-001   1.00000000e-001   3.72759372e-002]\n",
        "mufilteri [ 3.65100597  4.79525322  0.38844054 -6.19712849]\n",
        "rhoFilteri [  2.13333333e+01   3.37655646e-04   4.92498919e-02   5.30887911e+00]\n",
        "donnanPotentiali [-14.25394665]\n",
        "6.33510899544  elapsed seconds \n",
        "psiPrev [-14.25394665]\n",
        "muiexsPrev [ 3.65100597  4.79525322  0.38844054 -6.19712849]\n",
        "itersgamma 0, iterspsi 8718"
       ]
      },
      {
       "output_type": "stream",
       "stream": "stdout",
       "text": [
        "\n",
        "4.11540817142\n",
        "psiPrev [-7.83819836]\n",
        "muiexsPrev [ 3.61189077  4.7459822   0.30580715 -6.19878962]\n",
        "itersgamma 0, iterspsi 10763"
       ]
      },
      {
       "output_type": "stream",
       "stream": "stdout",
       "text": [
        "\n",
        "4.11540806102\n",
        "psiPrev [-7.83820308]\n",
        "muiexsPrev [ 3.61182077  4.74586558  0.30574516 -6.19878906]\n",
        "itersgamma 0, iterspsi 10550"
       ]
      },
      {
       "output_type": "stream",
       "stream": "stdout",
       "text": [
        "\n",
        "4.1154080736\n",
        "psiPrev [-7.83820258]\n",
        "muiexsPrev [ 3.61184339  4.74586142  0.30575142 -6.19878912]\n",
        "itersgamma 0, iterspsi 9067"
       ]
      },
      {
       "output_type": "stream",
       "stream": "stdout",
       "text": [
        "\n",
        "4.11540805001\n",
        "psiPrev [-7.8382036]\n",
        "muiexsPrev [ 3.61190185  4.745849    0.30573869 -6.198789  ]\n",
        "itersgamma 0, iterspsi 11120"
       ]
      },
      {
       "output_type": "stream",
       "stream": "stdout",
       "text": [
        "\n",
        "4.11540806098\n",
        "[ 3.6118561   4.74588254  0.30575741 -6.19878917] [  3.39232562e-05   5.01535156e-05   2.51912642e-05   2.27895516e-07]\n",
        "[-7.83820214] [  1.91779489e-06]\n",
        "cacl2 0.1\n",
        "conc_M [  1.00000000e-200   3.00000000e-001   1.00000000e-001   1.00000000e-001]\n",
        "mufilteri [ 3.6118561   4.74588254  0.30575741 -6.19878917]\n",
        "rhoFilteri [  2.13333333e+01   6.73244585e-04   3.41945358e-02   5.31657373e+00]\n",
        "donnanPotentiali [-7.83820214]\n",
        "8.63138508797  elapsed seconds \n"
       ]
      }
     ],
     "prompt_number": 3
    },
    {
     "cell_type": "code",
     "collapsed": false,
     "input": [
      "# change in to np.arrays\n",
      "for key, value in results.iteritems():\n",
      "  print key  \n",
      "  results[key] = np.array( results[key] )"
     ],
     "language": "python",
     "metadata": {},
     "outputs": [
      {
       "output_type": "stream",
       "stream": "stdout",
       "text": [
        "cacl2\n",
        "muBath\n",
        "muFilter\n",
        "rhoFilter\n",
        "mu_ES\n",
        "mu_HS\n",
        "muFilterStd\n",
        "deltaG\n",
        "donnanPotential\n",
        "donnanPotentialStd\n"
       ]
      }
     ],
     "prompt_number": 4
    },
    {
     "cell_type": "markdown",
     "metadata": {},
     "source": [
      "### Write results to pickle file (so we can manipulate later) "
     ]
    },
    {
     "cell_type": "code",
     "collapsed": false,
     "input": [
      "import cPickle as pickle\n",
      "pklFile = \"nonner.pkl\""
     ],
     "language": "python",
     "metadata": {},
     "outputs": [],
     "prompt_number": 5
    },
    {
     "cell_type": "code",
     "collapsed": false,
     "input": [
      "\n",
      "\n",
      "output = open(pklFile, 'wb')\n",
      "pickle.dump(results, output)\n",
      "output.close()\n"
     ],
     "language": "python",
     "metadata": {},
     "outputs": [],
     "prompt_number": 6
    },
    {
     "cell_type": "markdown",
     "metadata": {},
     "source": [
      "### Read pickle (unnecessary, but done for illustration)"
     ]
    },
    {
     "cell_type": "code",
     "collapsed": false,
     "input": [
      "pkl_file = open(pklFile, 'rb')\n",
      "results = pickle.load(pkl_file)\n",
      "pkl_file.close()\n",
      "\n"
     ],
     "language": "python",
     "metadata": {},
     "outputs": [],
     "prompt_number": 7
    },
    {
     "cell_type": "markdown",
     "metadata": {},
     "source": [
      "### Plotting \n",
      "Results should compare well with Fig 2 of [1]\tW. Nonner, L. Catacuzzeno, and B. Eisenberg, \u201cBinding and selectivity in L-type calcium channels: a mean spherical approximation.,\u201d Biophys J, vol. 79, no. 4, pp. 1976\u20131992, Oct. 2000.\n",
      "\n",
      "Results below are close, but not exact with Nonner paper. Namely, Na s.b. at 15 M in the pocket, but is only ten here. All else looks pretty reasonable \n"
     ]
    },
    {
     "cell_type": "code",
     "collapsed": false,
     "input": [
      "def doPlot(results,key,ylabel=\"\",legend=True):\n",
      "  keyed = results[key]\n",
      "  if key==\"donnanPotential\":  \n",
      "    plt.plot(results[\"cacl2\"],keyed,label=\"All ions\") \n",
      "    plt.errorbar(results[\"cacl2\"],keyed, yerr=results['donnanPotentialStd'])                \n",
      "    legend=False\n",
      "    \n",
      "  else:      \n",
      "    plt.plot(results[\"cacl2\"],keyed[:,msa.idxNa], 'r',label=\"Na\")\n",
      "    plt.plot(results[\"cacl2\"],keyed[:,msa.idxCa], 'g',label=\"Ca\")\n",
      "    plt.plot(results[\"cacl2\"],keyed[:,msa.idxCl], 'b',label=\"Cl\")\n",
      "    \n",
      "    if key==\"muFilter\":  \n",
      "      keyedStd = results['muFilterStd']  \n",
      "      plt.errorbar(results[\"cacl2\"],keyed[:,msa.idxNa], yerr = keyedStd[:,msa.idxNa],fmt='r')\n",
      "      plt.errorbar(results[\"cacl2\"],keyed[:,msa.idxCa], yerr = keyedStd[:,msa.idxCa],fmt='g')\n",
      "      plt.errorbar(results[\"cacl2\"],keyed[:,msa.idxCl], yerr = keyedStd[:,msa.idxCl],fmt='b')\n",
      "\n",
      "\n",
      "  plt.ylabel(ylabel)\n",
      "  plt.xlabel(\"log(CaCl2)\")  \n",
      "  plt.xscale('log')\n",
      "  if legend:\n",
      "        plt.legend(loc=0)"
     ],
     "language": "python",
     "metadata": {},
     "outputs": [],
     "prompt_number": 8
    },
    {
     "cell_type": "code",
     "collapsed": false,
     "input": [
      "import matplotlib.pylab as plt\n",
      "matplotlib.rcParams['figure.figsize'] = (9.0, 6.0)\n",
      "\n",
      "plt.subplot(2,2,1)\n",
      "doPlot(results,\"rhoFilter\",ylabel=\"Pore Conc [M]\")\n",
      "\n",
      "plt.subplot(2,2,2)\n",
      "doPlot(results,\"muFilter\",ylabel=\"Excess chemical potential\\n [kT]\",legend=False)\n",
      "\n",
      "plt.subplot(2,2,3)\n",
      "doPlot(results,\"deltaG\",ylabel=\"'Free energy'\",legend=False)\n",
      "\n",
      "plt.subplot(2,2,4)\n",
      "doPlot(results,\"donnanPotential\",ylabel=\"Donnan potential [mV]\")\n",
      "\n",
      "plt.tight_layout()\n",
      "plt.gcf().savefig(\"valid2.png\",dpi=300)"
     ],
     "language": "python",
     "metadata": {},
     "outputs": [
      {
       "metadata": {},
       "output_type": "display_data",
       "png": "[encoded data removed]",
       "text": [
        "<matplotlib.figure.Figure at 0x7f2f75d152d0>"
       ]
      }
     ],
     "prompt_number": 9
    },
    {
     "cell_type": "code",
     "collapsed": false,
     "input": [],
     "language": "python",
     "metadata": {},
     "outputs": [],
     "prompt_number": 9
    },
    {
     "cell_type": "code",
     "collapsed": false,
     "input": [],
     "language": "python",
     "metadata": {},
     "outputs": []
    }
   ],
   "metadata": {}
  }
 ]
}