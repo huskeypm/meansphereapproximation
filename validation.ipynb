{
 "metadata": {
  "name": "",
  "signature": "sha256:5938e3f9b9e6dfeda11ebb686827d2ab9242f72b588d1fcf91a5a75dbf3c2dad"
 },
 "nbformat": 3,
 "nbformat_minor": 0,
 "worksheets": [
  {
   "cells": [
    {
     "cell_type": "markdown",
     "metadata": {},
     "source": [
      "# Test to verify all is well in MSA land\n",
      "\n",
      "PKH Verified once more on 160830"
     ]
    },
    {
     "cell_type": "code",
     "collapsed": false,
     "input": [
      "%load_ext autoreload\n",
      "%autoreload 2"
     ],
     "language": "python",
     "metadata": {},
     "outputs": [],
     "prompt_number": 1
    },
    {
     "cell_type": "markdown",
     "metadata": {},
     "source": [
      "## Nonner parameters"
     ]
    },
    {
     "cell_type": "code",
     "collapsed": false,
     "input": [
      "import MSAtools as msa\n",
      "msa.idxOxy = 0\n",
      "msa.idxCl = 1\n",
      "msa.idxNa = 2\n",
      "msa.idxCa = 3\n",
      "msa.nOxy = 8.0\n",
      "msa.idxOxy = 0\n",
      "msa.cacl2 = 1e-10\n",
      "msa.indices=[\"O\",\"Cl\",\"Na\",\"Ca\"]  # ALWAYS put oxygen first\n",
      "msa.ref_conc_M = np.array([1e-200, (100.0e-3), 100.0e-3, 0])  # [M] order is  O, Cl, Na, Ca (bath) \n",
      "msa.nIons = np.shape(msa.ref_conc_M)[0]\n",
      "msa.zs = np.array([-0.5, -1.0, 1.0, 2.00]) #input charges here\n",
      "\n",
      "#FF RADII (Nonner)#\n",
      "msa.sigmas = np.array([0.278, 0.362, 0.204, 0.200])\n",
      "msa.V_i = 0.375 # nm^3\n",
      "msa.filter_dielectric= 63.5\n",
      "\n",
      "msa.Ns = np.array([msa.nOxy, 1., 1., 1.]) # Number of ions in filter (first number is fixed, others are determined by MSA)\n"
     ],
     "language": "python",
     "metadata": {},
     "outputs": [
      {
       "output_type": "stream",
       "stream": "stdout",
       "text": [
        "WARNING: oxy always must be first entry\n"
       ]
      }
     ],
     "prompt_number": 2
    },
    {
     "cell_type": "markdown",
     "metadata": {},
     "source": [
      "## PV Parameters (ANK)"
     ]
    },
    {
     "cell_type": "code",
     "collapsed": false,
     "input": [
      "import MSAtools as msa\n",
      "msa.idxOxy = 0\n",
      "msa.idxCl = 1\n",
      "msa.idxNa = 2\n",
      "msa.idxCa = 3\n",
      "msa.idxMg = 4\n",
      "msa.nOxy = 6.0\n",
      "msa.idxOxy = 0\n",
      "msa.cacl2 = 1e-10\n",
      "msa.indices=[\"O\",\"Cl\",\"K\",\"Ca\", \"Mg\"]  # ALWAYS put oxygen first\n",
      "msa.ref_conc_M = np.array([1e-200, (150.0e-3 + 1.0e-3), 150.0e-3, 1.0e-6, 1.0e-3])  # [M] order is  O, Cl, K, Ca, Mg (bath) \n",
      "msa.nIons = np.shape(msa.ref_conc_M)[0]\n",
      "#msa.zs = np.array([-0.5, -1.0, 1.0, 2.00, 2.00]) #input charges here\n",
      "msa.zs = np.array([-0.75, -1.0, 1.0, 1.77, 1.69]) #input charges here, polarizability oxys= 0.8*5 + 0.5\n",
      "#FF RADII (Li Merz)#\n",
      "msa.sigmas = np.array([0.354, 0.454, 0.353, 0.32, 0.28])\n",
      "#msa.V_i = 0.6 # nm^3\n",
      "msa.V_i = 0.6 #from 4PAL xtal struc\n",
      "msa.filter_dielectric= 25.0\n",
      "\n",
      "msa.Ns = np.array([msa.nOxy, 1., 1., 1., 1.]) # Number of ions in filter (first number is fixed, others are determined by MSA)"
     ],
     "language": "python",
     "metadata": {},
     "outputs": [
      {
       "output_type": "stream",
       "stream": "stdout",
       "text": [
        "WARNING: oxy always must be first entry\n"
       ]
      }
     ],
     "prompt_number": 2
    },
    {
     "cell_type": "markdown",
     "metadata": {},
     "source": [
      "### Run single iter"
     ]
    },
    {
     "cell_type": "code",
     "collapsed": false,
     "input": [
      "muiexsPrev = np.zeros(msa.nIons)\n",
      "psiPrev = 0.\n",
      "muiexsPrev = 0\n",
      "alpha = 0.0010\n",
      "\n",
      "\n",
      "from timeit import default_timer as timer\n",
      "msa.cacl2 = 1e-6\n",
      "start = timer()\n",
      "msa.conc_M = np.copy(msa.ref_conc_M)\n",
      "msa.conc_M[msa.idxCl] = msa.ref_conc_M[msa.idxCl] + 2 * msa.cacl2\n",
      "msa.conc_M[msa.idxCa] = msa.cacl2\n",
      "print msa.nOxy\n",
      "mufilteri,donnanPotentiali,mu_ESi,mu_HSi,rhoFilteri = msa.SolveMSAEquations(\n",
      "    msa.filter_dielectric,\n",
      "    msa.conc_M,\n",
      "    msa.zs,\n",
      "    msa.Ns,\n",
      "    msa.V_i,\n",
      "    msa.sigmas,                                                 \n",
      "    msa.nOxy,\n",
      "    psiPrev=psiPrev,\n",
      "    muiexsPrev=muiexsPrev,\n",
      "    alpha=alpha, \n",
      "    verbose=False)\n",
      "    #verbose=True)\n",
      "    \n",
      "print \"cacl2\", msa.cacl2    \n",
      "print \"conc_M\", msa.conc_M\n",
      "print \"mufilteri\",mufilteri\n",
      "print \"rhoFilteri\",rhoFilteri\n",
      "print \"donnanPotentiali\",donnanPotentiali    \n",
      "end = timer()\n",
      "print(end - start), \" elapsed seconds \"\n"
     ],
     "language": "python",
     "metadata": {},
     "outputs": [
      {
       "output_type": "stream",
       "stream": "stdout",
       "text": [
        "7.0\n",
        "itersgamma 0, iterspsi 10780"
       ]
      },
      {
       "output_type": "stream",
       "stream": "stdout",
       "text": [
        "\n",
        "cacl2 1e-06\n",
        "conc_M [  1.00000000e-200   1.51002000e-001   1.50000000e-001   1.00000000e-006\n",
        "   1.00000000e-003]\n",
        "mufilteri [  4.48721409   4.95640595   1.46382112 -11.41338422 -12.36065062]\n",
        "rhoFilteri [  1.16666667e+01   3.50497341e-08   1.14095377e-01   1.48922338e-02\n",
        "   2.84473793e+00]\n",
        "donnanPotentiali -154.38920694\n",
        "10.7935578823  elapsed seconds \n"
       ]
      }
     ],
     "prompt_number": 6
    },
    {
     "cell_type": "code",
     "collapsed": false,
     "input": [
      "muiexsPrev = np.zeros(msa.nIons)\n",
      "psiPrev = -10 * np.random.rand(1) # Can we come up with a better first-principles est? \n",
      "muiexsPrev = np.random.rand(msa.nIons)\n",
      "psiPrev = 0\n",
      "muiexsPrev = 0\n",
      "alpha = 0.0010\n",
      "\n",
      "results = {}\n",
      "results[\"muFilter\"]=[]\n",
      "results[\"donnanPotential\"]=[]\n",
      "results[\"muFilterStd\"]=[]\n",
      "results[\"donnanPotentialStd\"]=[]\n",
      "results[\"mu_ES\"]=[]\n",
      "results[\"mu_HS\"]=[]\n",
      "results[\"rhoFilter\"]=[]\n",
      "results[\"muBath\"] = []\n",
      "results[\"deltaG\"] = []\n",
      "\n",
      "from timeit import default_timer as timer\n",
      "\n",
      "#cacl2s = np.linspace(-10,-6,3) # Coarse\n",
      "cacl2s = np.linspace(-10,-1,10) # Fine\n",
      "\n",
      "cacl2s = 10**cacl2s\n",
      "results[\"cacl2\"] = cacl2s\n",
      "\n",
      "\n",
      "\n",
      "for i, cacl2i  in enumerate(cacl2s):\n",
      "    # start timer\n",
      "    start = timer()\n",
      "    \n",
      "    # update concs\n",
      "    msa.cacl2 = cacl2i\n",
      "    #msa.cacl2 = 1e-6\n",
      "    msa.conc_M = np.copy(msa.ref_conc_M)\n",
      "    msa.conc_M[msa.idxCl] = msa.ref_conc_M[msa.idxCl] + 2 * msa.cacl2\n",
      "    msa.conc_M[msa.idxCa] = msa.cacl2\n",
      "    \n",
      "    numDraws = 1\n",
      "    filterIters=[]\n",
      "    psiIters = []\n",
      "    for i in np.arange(numDraws):\n",
      "      psiPrevRand = psiPrev #+ np.random.rand(1)\n",
      "      muiexsPrevRand = muiexsPrev #+ np.random.rand(msa.nIons)\n",
      "      print \"psiPrev\", psiPrev\n",
      "      print \"muiexsPrev\", muiexsPrev\n",
      "    \n",
      "      # run MSA \n",
      "      mufilteri,donnanPotentiali,mu_ESi,mu_HSi,rhoFilteri = msa.SolveMSAEquations(\n",
      "        msa.filter_dielectric,\n",
      "        msa.conc_M,\n",
      "        msa.zs,\n",
      "        msa.Ns,\n",
      "        msa.V_i,\n",
      "        msa.sigmas,                                                 \n",
      "        psiPrev=psiPrevRand,\n",
      "        muiexsPrev=muiexsPrevRand,\n",
      "        alpha=alpha, \n",
      "        verbose=False) #np.array([0.00,122.7,142.0,419.2,513.3]))\n",
      "        #verbose=True)\n",
      "      filterIters.append(mufilteri)\n",
      "      psiIters.append(donnanPotentiali)\n",
      "        \n",
      "      psiPrev = donnanPotentiali        \n",
      "      muiexsPrev = mufilteri  \n",
      "    # end loop \n",
      "    \n",
      "    # mean/dev\n",
      "    filterIters = np.array(filterIters)    \n",
      "    psiIters = np.array(psiIters)    \n",
      "    mufilteri = np.mean(filterIters,axis=0)         \n",
      "    mufilteriStd = np.std(filterIters,axis=0)         \n",
      "    donnanPotentiali = np.mean(psiIters,axis=0)\n",
      "    donnanPotentialiStd = np.std(psiIters,axis=0)         \n",
      "    print mufilteri, mufilteriStd\n",
      "    print donnanPotentiali, donnanPotentialiStd\n",
      "        \n",
      "    ## store results     \n",
      "    # from msa \n",
      "    results[\"muBath\"].append( msa.results[\"muBath\"] )\n",
      "    results[\"deltaG\"].append( msa.results[\"deltaG\"] )\n",
      "    \n",
      "    # returned\n",
      "    results[\"muFilter\"].append(mufilteri)\n",
      "    results[\"muFilterStd\"].append(mufilteriStd)\n",
      "    results[\"donnanPotential\"].append(donnanPotentiali)\n",
      "    results[\"donnanPotentialStd\"].append(donnanPotentialiStd)\n",
      "    results[\"mu_ES\"].append(mu_ESi)\n",
      "    results[\"mu_HS\"].append(mu_HSi)\n",
      "    results[\"rhoFilter\"].append(rhoFilteri)\n",
      "    \n",
      "    # update previous psi/muiexs so code has better initial guess \n",
      "    psiPrev = donnanPotentiali\n",
      "    muiexsPrev = mufilteri\n",
      "    \n",
      "    # report information \n",
      "    print \"cacl2\", msa.cacl2    \n",
      "    print \"conc_M\", msa.conc_M\n",
      "    print \"mufilteri\",mufilteri\n",
      "    print \"rhoFilteri\",rhoFilteri\n",
      "    print \"donnanPotentiali\",donnanPotentiali    \n",
      "    end = timer()\n",
      "    print(end - start), \" elapsed seconds \"\n",
      "\n",
      "    "
     ],
     "language": "python",
     "metadata": {},
     "outputs": [
      {
       "output_type": "stream",
       "stream": "stdout",
       "text": [
        "psiPrev 0\n",
        "muiexsPrev 0\n",
        "itersgamma 0, iterspsi 10084"
       ]
      },
      {
       "output_type": "stream",
       "stream": "stdout",
       "text": [
        "\n",
        "[-0.08112296 -0.35407717 -0.36394257 -1.47959116] [ 0.  0.  0.  0.]\n",
        "-173.269321817 0.0\n",
        "cacl2 1e-10\n",
        "conc_M [  1.00000000e-200   1.00000000e-001   1.00000000e-001   1.00000000e-010]\n",
        "mufilteri [-0.08112296 -0.35407717 -0.36394257 -1.47959116]\n",
        "rhoFilteri [  2.13333333e+01   4.81770696e-08   1.06653108e+01   6.64096181e-04]\n",
        "donnanPotentiali -173.269321817\n",
        "5.35756611824  elapsed seconds \n",
        "psiPrev -173.269321817\n",
        "muiexsPrev [-0.08112296 -0.35407717 -0.36394257 -1.47959116]\n",
        "itersgamma 0, iterspsi 10207"
       ]
      },
      {
       "output_type": "stream",
       "stream": "stdout",
       "text": [
        "\n",
        "[-0.08112296 -0.35407717 -0.36394257 -1.47959117] [ 0.  0.  0.  0.]\n",
        "-173.210629819 0.0\n",
        "cacl2 1e-09\n",
        "conc_M [  1.00000000e-200   1.00000002e-001   1.00000000e-001   1.00000000e-009]\n",
        "mufilteri [-0.08112296 -0.35407717 -0.36394257 -1.47959117]\n",
        "rhoFilteri [  2.13333333e+01   4.84157110e-08   1.06533809e+01   6.62904886e-03]\n",
        "donnanPotentiali -173.210629819\n",
        "1.18002700806  elapsed seconds \n",
        "psiPrev -173.210629819\n",
        "muiexsPrev [-0.08112296 -0.35407717 -0.36394257 -1.47959117]\n",
        "itersgamma 0, iterspsi 9738"
       ]
      },
      {
       "output_type": "stream",
       "stream": "stdout",
       "text": [
        "\n",
        "[-0.08112296 -0.3540772  -0.36394259 -1.47959127] [ 0.  0.  0.  0.]\n",
        "-172.634429233 0.0\n",
        "cacl2 1e-08\n",
        "conc_M [  1.00000000e-200   1.00000020e-001   1.00000000e-001   1.00000000e-008]\n",
        "mufilteri [-0.08112296 -0.3540772  -0.36394259 -1.47959127]\n",
        "rhoFilteri [  2.13333333e+01   5.08491564e-08   1.05365088e+01   6.50650688e-02]\n",
        "donnanPotentiali -172.634429233\n",
        "1.19168996811  elapsed seconds \n",
        "psiPrev -172.634429233\n",
        "muiexsPrev [-0.08112296 -0.3540772  -0.36394259 -1.47959127]\n",
        "itersgamma 0, iterspsi 4011"
       ]
      },
      {
       "output_type": "stream",
       "stream": "stdout",
       "text": [
        "\n",
        "[-0.08112301 -0.35407742 -0.36394283 -1.47959226] [ 0.  0.  0.  0.]\n",
        "-168.019835142 0.0\n",
        "cacl2 1e-07\n",
        "conc_M [  1.00000000e-200   1.00000200e-001   1.00000000e-001   1.00000000e-007]\n",
        "mufilteri [-0.08112301 -0.35407742 -0.36394283 -1.47959226]\n",
        "rhoFilteri [  2.13333333e+01   8.07522330e-08   9.66409333e+00   5.01273679e-01]\n",
        "donnanPotentiali -168.019835142\n",
        "0.447111845016  elapsed seconds \n",
        "psiPrev -168.019835142\n",
        "muiexsPrev [-0.08112301 -0.35407742 -0.36394283 -1.47959226]\n",
        "itersgamma 0, iterspsi 12017"
       ]
      },
      {
       "output_type": "stream",
       "stream": "stdout",
       "text": [
        "\n",
        "[-0.08112345 -0.35407966 -0.36394522 -1.47960218] [ 0.  0.  0.  0.]\n",
        "-147.387800495 0.0\n",
        "cacl2 1e-06\n",
        "conc_M [  1.00000000e-200   1.00002000e-001   1.00000000e-001   1.00000000e-006]\n",
        "mufilteri [-0.08112345 -0.35407966 -0.36394522 -1.47960218]\n",
        "rhoFilteri [  2.13333333e+01   3.63535259e-07   5.98464065e+00   2.34102843e+00]\n",
        "donnanPotentiali -147.387800495\n",
        "1.281031847  elapsed seconds \n",
        "psiPrev -147.387800495\n",
        "muiexsPrev [-0.08112345 -0.35407966 -0.36394522 -1.47960218]\n",
        "itersgamma 0, iterspsi 11636"
       ]
      },
      {
       "output_type": "stream",
       "stream": "stdout",
       "text": [
        "\n",
        "[-0.08112792 -0.35410208 -0.36396909 -1.47970138] [ 0.  0.  0.  0.]\n",
        "-116.787336151 0.0\n",
        "cacl2 1e-05\n",
        "conc_M [  1.00000000e-200   1.00020000e-001   1.00000000e-001   1.00000000e-005]\n",
        "mufilteri [-0.08112792 -0.35410208 -0.36396909 -1.47970138]\n",
        "rhoFilteri [  2.13333333e+01   2.43542120e-06   2.44026294e+00   4.11321723e+00]\n",
        "donnanPotentiali -116.787336151\n",
        "1.31767296791  elapsed seconds \n",
        "psiPrev -116.787336151\n",
        "muiexsPrev [-0.08112792 -0.35410208 -0.36396909 -1.47970138]\n",
        "itersgamma 0, iterspsi 11287"
       ]
      },
      {
       "output_type": "stream",
       "stream": "stdout",
       "text": [
        "\n",
        "[-0.08117255 -0.35432619 -0.36420774 -1.48069293] [ 0.  0.  0.  0.]\n",
        "-86.083874125 0.0\n",
        "cacl2 0.0001\n",
        "conc_M [  1.00000000e-200   1.00200000e-001   1.00000000e-001   1.00000000e-004]\n",
        "mufilteri [-0.08117255 -0.35432619 -0.36420774 -1.48069293]\n",
        "rhoFilteri [  2.13333333e+01   1.09823862e-05   8.35777660e-01   4.91546111e+00]\n",
        "donnanPotentiali -86.083874125\n",
        "1.18360996246  elapsed seconds \n",
        "psiPrev -86.083874125\n",
        "muiexsPrev [-0.08117255 -0.35432619 -0.36420774 -1.48069293]\n",
        "itersgamma 0, iterspsi 11246"
       ]
      },
      {
       "output_type": "stream",
       "stream": "stdout",
       "text": [
        "\n",
        "[-0.08161651 -0.35655802 -0.36658499 -1.49057148] [ 0.  0.  0.  0.]\n",
        "-56.245362442 0.0\n",
        "cacl2 0.001\n",
        "conc_M [  1.00000000e-200   1.02000000e-001   1.00000000e-001   1.00000000e-003]\n",
        "mufilteri [-0.08161651 -0.35655802 -0.36658499 -1.49057148]\n",
        "rhoFilteri [  2.13333333e+01   3.97543853e-05   2.71652879e-01   5.19753419e+00]\n",
        "donnanPotentiali -56.245362442\n",
        "1.30998897552  elapsed seconds \n",
        "psiPrev -56.245362442\n",
        "muiexsPrev [-0.08161651 -0.35655802 -0.36658499 -1.49057148]\n",
        "itersgamma 0, iterspsi 11689"
       ]
      },
      {
       "output_type": "stream",
       "stream": "stdout",
       "text": [
        "\n",
        "[-0.08583996 -0.37801378 -0.38949605 -1.58591305] [ 0.  0.  0.  0.]\n",
        "-27.828362238 0.0\n",
        "cacl2 0.01\n",
        "conc_M [  1.00000000e-200   1.20000000e-001   1.00000000e-001   1.00000000e-002]\n",
        "mufilteri [-0.08583996 -0.37801378 -0.38949605 -1.58591305]\n",
        "rhoFilteri [  2.13333333e+01   1.43686280e-04   8.87432672e-02   5.28903724e+00]\n",
        "donnanPotentiali -27.828362238\n",
        "1.33524394035  elapsed seconds \n",
        "psiPrev -27.828362238\n",
        "muiexsPrev [-0.08583996 -0.37801378 -0.38949605 -1.58591305]\n",
        "itersgamma 0, iterspsi 12780"
       ]
      },
      {
       "output_type": "stream",
       "stream": "stdout",
       "text": [
        "\n",
        "[-0.11493183 -0.54022906 -0.56637381 -2.33056886] [ 0.  0.  0.  0.]\n",
        "-7.83820433708 0.0\n",
        "cacl2 0.1\n",
        "conc_M [  1.00000000e-200   3.00000000e-001   1.00000000e-001   1.00000000e-001]\n",
        "mufilteri [-0.11493183 -0.54022906 -0.56637381 -2.33056886]\n",
        "rhoFilteri [  2.13333333e+01   6.73258615e-04   3.41950920e-02   5.31657346e+00]\n",
        "donnanPotentiali -7.83820433708\n",
        "1.4842979908  elapsed seconds \n"
       ]
      }
     ],
     "prompt_number": 3
    },
    {
     "cell_type": "markdown",
     "metadata": {},
     "source": []
    },
    {
     "cell_type": "markdown",
     "metadata": {},
     "source": [
      "if 1:\n",
      " mufilteri,donnanPotentiali,mu_ESi,mu_HSi,rhoFilteri = msa.SolveMSAEquations(\n",
      "        msa.filter_dielectric,\n",
      "        msa.conc_M,\n",
      "        msa.zs,\n",
      "        msa.Ns,\n",
      "        msa.V_i,\n",
      "        msa.sigmas,                                                 \n",
      "        psiPrev=psiPrevRand,\n",
      "        muiexsPrev=muiexsPrevRand,\n",
      "        alpha=alpha, \n",
      "        verbose=False)"
     ]
    },
    {
     "cell_type": "code",
     "collapsed": false,
     "input": [
      "# change in to np.arrays\n",
      "for key, value in results.iteritems():\n",
      "  print key  \n",
      "  results[key] = np.array( results[key] )"
     ],
     "language": "python",
     "metadata": {},
     "outputs": [
      {
       "output_type": "stream",
       "stream": "stdout",
       "text": [
        "cacl2\n",
        "muBath\n",
        "muFilter\n",
        "rhoFilter\n",
        "mu_ES\n",
        "mu_HS\n",
        "muFilterStd\n",
        "deltaG\n",
        "donnanPotential\n",
        "donnanPotentialStd\n"
       ]
      }
     ],
     "prompt_number": 4
    },
    {
     "cell_type": "markdown",
     "metadata": {},
     "source": [
      "### Write results to pickle file (so we can manipulate later) "
     ]
    },
    {
     "cell_type": "code",
     "collapsed": false,
     "input": [
      "import cPickle as pickle\n",
      "pklFile = \"nonner.pkl\"\n",
      "#pklFile = \"PV_S55D_E59D.pkl\""
     ],
     "language": "python",
     "metadata": {},
     "outputs": [],
     "prompt_number": 5
    },
    {
     "cell_type": "code",
     "collapsed": false,
     "input": [
      "\n",
      "\n",
      "output = open(pklFile, 'wb')\n",
      "pickle.dump(results, output)\n",
      "output.close()\n"
     ],
     "language": "python",
     "metadata": {},
     "outputs": [],
     "prompt_number": 6
    },
    {
     "cell_type": "code",
     "collapsed": false,
     "input": [],
     "language": "python",
     "metadata": {},
     "outputs": [],
     "prompt_number": 6
    },
    {
     "cell_type": "markdown",
     "metadata": {},
     "source": [
      "### Read pickle (unnecessary, but done for illustration)"
     ]
    },
    {
     "cell_type": "code",
     "collapsed": false,
     "input": [
      "pkl_file = open(pklFile, 'rb')\n",
      "results = pickle.load(pkl_file)\n",
      "pkl_file.close()\n",
      "\n"
     ],
     "language": "python",
     "metadata": {},
     "outputs": [],
     "prompt_number": 7
    },
    {
     "cell_type": "markdown",
     "metadata": {},
     "source": [
      "### Plotting \n",
      "Results should compare well with Fig 2 of [1]\tW. Nonner, L. Catacuzzeno, and B. Eisenberg, \u201cBinding and selectivity in L-type calcium channels: a mean spherical approximation.,\u201d Biophys J, vol. 79, no. 4, pp. 1976\u20131992, Oct. 2000.\n",
      "\n",
      "Results below are close, but not exact with Nonner paper. Namely, Na s.b. at 15 M in the pocket, but is only ten here. All else looks pretty reasonable \n"
     ]
    },
    {
     "cell_type": "code",
     "collapsed": false,
     "input": [
      "def doPlot(results,key,ylabel=\"\",legend=True):\n",
      "  keyed = results[key]\n",
      "  if key==\"donnanPotential\":  \n",
      "    plt.plot(results[\"cacl2\"],keyed,label=\"All ions\") \n",
      "    plt.errorbar(results[\"cacl2\"],keyed, yerr=results['donnanPotentialStd'])                \n",
      "    legend=False\n",
      "    \n",
      "  else:      \n",
      "    plt.plot(results[\"cacl2\"],keyed[:,msa.idxNa], 'r',label=\"Na\")\n",
      "    plt.plot(results[\"cacl2\"],keyed[:,msa.idxCa], 'g',label=\"Ca\")\n",
      "    plt.plot(results[\"cacl2\"],keyed[:,msa.idxCl], 'b',label=\"Cl\")\n",
      "    \n",
      "    if key==\"muFilter\":  \n",
      "      keyedStd = results['muFilterStd']  \n",
      "      plt.errorbar(results[\"cacl2\"],keyed[:,msa.idxNa], yerr = keyedStd[:,msa.idxNa],fmt='r')\n",
      "      plt.errorbar(results[\"cacl2\"],keyed[:,msa.idxCa], yerr = keyedStd[:,msa.idxCa],fmt='g')\n",
      "      plt.errorbar(results[\"cacl2\"],keyed[:,msa.idxCl], yerr = keyedStd[:,msa.idxCl],fmt='b')\n",
      "\n",
      "\n",
      "  plt.ylabel(ylabel)\n",
      "  plt.xlabel(\"log(CaCl2)\")  \n",
      "  plt.xscale('log')\n",
      "  if legend:\n",
      "        plt.legend(loc=0)"
     ],
     "language": "python",
     "metadata": {},
     "outputs": [],
     "prompt_number": 8
    },
    {
     "cell_type": "code",
     "collapsed": false,
     "input": [
      "import matplotlib.pylab as plt\n",
      "matplotlib.rcParams['figure.figsize'] = (9.0, 6.0)\n",
      "\n",
      "plt.subplot(2,2,1)\n",
      "doPlot(results,\"rhoFilter\",ylabel=\"Pore Conc [M]\")\n",
      "\n",
      "plt.subplot(2,2,2)\n",
      "doPlot(results,\"muFilter\",ylabel=\"Excess chemical potential\\n [kT]\",legend=False)\n",
      "\n",
      "plt.subplot(2,2,3)\n",
      "doPlot(results,\"deltaG\",ylabel=\"'Free energy'\",legend=False)\n",
      "\n",
      "plt.subplot(2,2,4)\n",
      "doPlot(results,\"donnanPotential\",ylabel=\"Donnan potential [mV]\")\n",
      "\n",
      "plt.tight_layout()\n",
      "#plt.gcf().savefig(\"valid2.png\",dpi=300)"
     ],
     "language": "python",
     "metadata": {},
     "outputs": [
      {
       "metadata": {},
       "output_type": "display_data",
       "png": "[encoded data removed]",
       "text": [
        "<matplotlib.figure.Figure at 0x7fc90acaef50>"
       ]
      }
     ],
     "prompt_number": 9
    },
    {
     "cell_type": "markdown",
     "metadata": {},
     "source": [
      "## Plotting (PV, ANK)"
     ]
    },
    {
     "cell_type": "code",
     "collapsed": false,
     "input": [
      "def doPlot(results,key,ylabel=\"\",legend=True):\n",
      "  keyed = results[key]\n",
      "  if key==\"donnanPotential\":  \n",
      "    plt.plot(results[\"cacl2\"],keyed,label=\"All ions\") \n",
      "    plt.errorbar(results[\"cacl2\"],keyed, yerr=results['donnanPotentialStd'])                \n",
      "    legend=False\n",
      "    \n",
      "  else:      \n",
      "    plt.plot(results[\"cacl2\"],keyed[:,msa.idxNa], 'r',label=\"Na\")\n",
      "    plt.plot(results[\"cacl2\"],keyed[:,msa.idxCa], 'g',label=\"Ca\")\n",
      "    plt.plot(results[\"cacl2\"],keyed[:,msa.idxCl], 'b',label=\"Cl\")\n",
      "    plt.plot(results[\"cacl2\"],keyed[:,msa.idxMg], 'k',label=\"Mg\")\n",
      "    \n",
      "    if key==\"muFilter\":  \n",
      "      keyedStd = results['muFilterStd']  \n",
      "      plt.errorbar(results[\"cacl2\"],keyed[:,msa.idxNa], yerr = keyedStd[:,msa.idxNa],fmt='r')\n",
      "      plt.errorbar(results[\"cacl2\"],keyed[:,msa.idxCa], yerr = keyedStd[:,msa.idxCa],fmt='g')\n",
      "      plt.errorbar(results[\"cacl2\"],keyed[:,msa.idxCl], yerr = keyedStd[:,msa.idxCl],fmt='b')\n",
      "      plt.errorbar(results[\"cacl2\"],keyed[:,msa.idxMg], yerr = keyedStd[:,msa.idxMg],fmt='k')\n",
      "\n",
      "\n",
      "  plt.ylabel(ylabel)\n",
      "  plt.xlabel(\"log(CaCl2)\")  \n",
      "  plt.xscale('log')\n",
      "  if legend:\n",
      "        plt.legend(loc=0)"
     ],
     "language": "python",
     "metadata": {},
     "outputs": [],
     "prompt_number": 30
    },
    {
     "cell_type": "code",
     "collapsed": false,
     "input": [
      "import matplotlib.pylab as plt\n",
      "matplotlib.rcParams['figure.figsize'] = (9.0, 6.0)\n",
      "\n",
      "plt.subplot(2,2,1)\n",
      "doPlot(results,\"rhoFilter\",ylabel=\"Pore Conc [M]\")\n",
      "\n",
      "plt.subplot(2,2,2)\n",
      "doPlot(results,\"muFilter\",ylabel=\"Excess chemical potential\\n [kT]\",legend=False)\n",
      "\n",
      "plt.subplot(2,2,3)\n",
      "doPlot(results,\"deltaG\",ylabel=\"'Free energy'\",legend=False)\n",
      "\n",
      "plt.subplot(2,2,4)\n",
      "doPlot(results,\"donnanPotential\",ylabel=\"Donnan potential [mV]\")\n",
      "\n",
      "plt.tight_layout()\n",
      "#plt.gcf().savefig(\"PV_EF_withsolvs_withpolarizability_PAL.png\",dpi=300)"
     ],
     "language": "python",
     "metadata": {},
     "outputs": [
      {
       "metadata": {},
       "output_type": "display_data",
       "png": "[encoded data removed]",
       "text": [
        "<matplotlib.figure.Figure at 0x7efc8cdf3d90>"
       ]
      }
     ],
     "prompt_number": 31
    },
    {
     "cell_type": "code",
     "collapsed": false,
     "input": [],
     "language": "python",
     "metadata": {},
     "outputs": []
    }
   ],
   "metadata": {}
  }
 ]
}