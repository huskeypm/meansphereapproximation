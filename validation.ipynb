{
 "metadata": {
  "name": "",
  "signature": "sha256:dc55441a3e519a20d0a8aa8d0bbe3fab77176c1fd7349abf83f9e202ccdf78f7"
 },
 "nbformat": 3,
 "nbformat_minor": 0,
 "worksheets": [
  {
   "cells": [
    {
     "cell_type": "markdown",
     "metadata": {},
     "source": [
      "# Test to verify all is well in MSA land\n",
      "\n",
      "PKH Verified once more on 160830"
     ]
    },
    {
     "cell_type": "code",
     "collapsed": false,
     "input": [
      "%load_ext autoreload\n",
      "%autoreload 2"
     ],
     "language": "python",
     "metadata": {},
     "outputs": [
      {
       "output_type": "stream",
       "stream": "stdout",
       "text": [
        "WARNING: oxy always must be first entry\n",
        "The autoreload extension is already loaded. To reload it, use:\n",
        "  %reload_ext autoreload\n"
       ]
      }
     ],
     "prompt_number": 31
    },
    {
     "cell_type": "markdown",
     "metadata": {},
     "source": [
      "## Nonner parameters"
     ]
    },
    {
     "cell_type": "code",
     "collapsed": false,
     "input": [
      "import MSAtools as msa\n",
      "msa.idxOxy = 0\n",
      "msa.idxCl = 1\n",
      "msa.idxNa = 2\n",
      "msa.idxCa = 3\n",
      "msa.nOxy = 8.0\n",
      "msa.idxOxy = 0\n",
      "msa.cacl2 = 1e-10\n",
      "msa.indices=[\"O\",\"Cl\",\"Na\",\"Ca\"]  # ALWAYS put oxygen first\n",
      "msa.ref_conc_M = np.array([1e-200, (100.0e-3), 100.0e-3, 0])  # [M] order is  O, Cl, Na, Ca (bath) \n",
      "msa.nIons = np.shape(msa.ref_conc_M)[0]\n",
      "msa.zs = np.array([-0.5, -1.0, 1.0, 2.00]) #input charges here\n",
      "\n",
      "#FF RADII (Nonner)#\n",
      "msa.sigmas = np.array([0.278, 0.362, 0.204, 0.200])\n",
      "msa.V_i = 0.375 # nm^3\n",
      "msa.filter_dielectric= 63.5\n"
     ],
     "language": "python",
     "metadata": {},
     "outputs": [],
     "prompt_number": 43
    },
    {
     "cell_type": "markdown",
     "metadata": {},
     "source": [
      "### Run single iter"
     ]
    },
    {
     "cell_type": "code",
     "collapsed": false,
     "input": [
      "muiexsPrev = np.zeros(msa.nIons)\n",
      "psiPrev = 0.\n",
      "muiexsPrev = 0\n",
      "alpha = 0.0010\n",
      "msa.Ns = np.array([msa.nOxy, 1., 1., 1.]) # Number of ions in filter (first number is fixed, others are determined by MSA)\n",
      "\n",
      "\n",
      "from timeit import default_timer as timer\n",
      "msa.cacl2 = 1e-6\n",
      "start = timer()\n",
      "msa.conc_M = np.copy(msa.ref_conc_M)\n",
      "msa.conc_M[msa.idxCl] = msa.ref_conc_M[msa.idxCl] + 2 * msa.cacl2\n",
      "msa.conc_M[msa.idxCa] = msa.cacl2\n",
      "print msa.nOxy\n",
      "mufilteri,donnanPotentiali,mu_ESi,mu_HSi,rhoFilteri = msa.SolveMSAEquations(\n",
      "    msa.filter_dielectric,\n",
      "    msa.conc_M,\n",
      "    msa.zs,\n",
      "    msa.Ns,\n",
      "    msa.V_i,\n",
      "    msa.sigmas,                                                 \n",
      "    msa.nOxy,\n",
      "    psiPrev=psiPrev,\n",
      "    muiexsPrev=muiexsPrev,\n",
      "    alpha=alpha, \n",
      "    verbose=False)\n",
      "    #verbose=True)\n",
      "    \n",
      "print \"cacl2\", msa.cacl2    \n",
      "print \"conc_M\", msa.conc_M\n",
      "print \"mufilteri\",mufilteri\n",
      "print \"rhoFilteri\",rhoFilteri\n",
      "print \"donnanPotentiali\",donnanPotentiali    \n",
      "end = timer()\n",
      "print(end - start), \" elapsed seconds \"\n"
     ],
     "language": "python",
     "metadata": {},
     "outputs": [
      {
       "output_type": "stream",
       "stream": "stdout",
       "text": [
        "8.0\n",
        "itersgamma 0, iterspsi 1364"
       ]
      },
      {
       "output_type": "stream",
       "stream": "stdout",
       "text": [
        "\n",
        "3.5185957039\n",
        "cacl2 1e-06\n",
        "conc_M [  1.00000000e-200   1.00002000e-001   1.00000000e-001   1.00000000e-006]\n",
        "mufilteri [ 3.38333943  4.92737131  0.84966361 -3.14721638]\n",
        "rhoFilteri [  2.13333333e+01   6.07216963e-07   9.04025600e+00   8.13197384e-01]\n",
        "donnanPotentiali -159.355529964\n",
        "1.77459001541  elapsed seconds \n"
       ]
      }
     ],
     "prompt_number": 33
    },
    {
     "cell_type": "code",
     "collapsed": false,
     "input": [
      "muiexsPrev = np.zeros(msa.nIons)\n",
      "psiPrev = -10 * np.random.rand(1) # Can we come up with a better first-principles est? \n",
      "muiexsPrev = np.random.rand(msa.nIons)\n",
      "psiPrev = 0\n",
      "muiexsPrev = 0\n",
      "alpha = 0.0010\n",
      "\n",
      "results = {}\n",
      "results[\"muFilter\"]=[]\n",
      "results[\"donnanPotential\"]=[]\n",
      "results[\"muFilterStd\"]=[]\n",
      "results[\"donnanPotentialStd\"]=[]\n",
      "results[\"mu_ES\"]=[]\n",
      "results[\"mu_HS\"]=[]\n",
      "results[\"rhoFilter\"]=[]\n",
      "results[\"muBath\"] = []\n",
      "results[\"deltaG\"] = []\n",
      "\n",
      "from timeit import default_timer as timer\n",
      "\n",
      "#cacl2s = np.linspace(-10,-6,3) # Coarse\n",
      "cacl2s = np.linspace(-10,-1,22) # Fine\n",
      "\n",
      "cacl2s = 10**cacl2s\n",
      "results[\"cacl2\"] = cacl2s\n",
      "\n",
      "\n",
      "\n",
      "for i, cacl2i  in enumerate(cacl2s):\n",
      "    # start timer\n",
      "    start = timer()\n",
      "    \n",
      "    # update concs\n",
      "    msa.cacl2 = cacl2i\n",
      "    #msa.cacl2 = 1e-6\n",
      "    msa.conc_M = np.copy(msa.ref_conc_M)\n",
      "    msa.conc_M[msa.idxCl] = msa.ref_conc_M[msa.idxCl] + 2 * msa.cacl2\n",
      "    msa.conc_M[msa.idxCa] = msa.cacl2\n",
      "    \n",
      "    numDraws = 5\n",
      "    filterIters=[]\n",
      "    psiIters = []\n",
      "    for i in np.arange(numDraws):\n",
      "      psiPrevRand = psiPrev + np.random.rand(1)\n",
      "      muiexsPrevRand = muiexsPrev + np.random.rand(msa.nIons)\n",
      "      print \"psiPrev\", psiPrev\n",
      "      print \"muiexsPrev\", muiexsPrev\n",
      "    \n",
      "      # run MSA \n",
      "      mufilteri,donnanPotentiali,mu_ESi,mu_HSi,rhoFilteri = msa.SolveMSAEquations(\n",
      "        msa.filter_dielectric,\n",
      "        msa.conc_M,\n",
      "        msa.zs,\n",
      "        msa.Ns,\n",
      "        msa.V_i,\n",
      "        msa.sigmas,                                                 \n",
      "        psiPrev=psiPrevRand,\n",
      "        muiexsPrev=muiexsPrevRand,\n",
      "        alpha=alpha, \n",
      "        verbose=False)\n",
      "        #verbose=True)\n",
      "      filterIters.append(mufilteri)\n",
      "      psiIters.append(donnanPotentiali)\n",
      "        \n",
      "      psiPrev = donnanPotentiali        \n",
      "      muiexsPrev = mufilteri  \n",
      "    # end loop \n",
      "    \n",
      "    # mean/dev\n",
      "    filterIters = np.array(filterIters)    \n",
      "    psiIters = np.array(psiIters)    \n",
      "    mufilteri = np.mean(filterIters,axis=0)         \n",
      "    mufilteriStd = np.std(filterIters,axis=0)         \n",
      "    donnanPotentiali = np.mean(psiIters,axis=0)\n",
      "    donnanPotentialiStd = np.std(psiIters,axis=0)         \n",
      "    print mufilteri, mufilteriStd\n",
      "    print donnanPotentiali, donnanPotentialiStd\n",
      "        \n",
      "    ## store results     \n",
      "    # from msa \n",
      "    results[\"muBath\"].append( msa.results[\"muBath\"] )\n",
      "    results[\"deltaG\"].append( msa.results[\"deltaG\"] )\n",
      "    \n",
      "    # returned\n",
      "    results[\"muFilter\"].append(mufilteri)\n",
      "    results[\"muFilterStd\"].append(mufilteriStd)\n",
      "    results[\"donnanPotential\"].append(donnanPotentiali)\n",
      "    results[\"donnanPotentialStd\"].append(donnanPotentialiStd)\n",
      "    results[\"mu_ES\"].append(mu_ESi)\n",
      "    results[\"mu_HS\"].append(mu_HSi)\n",
      "    results[\"rhoFilter\"].append(rhoFilteri)\n",
      "    \n",
      "    # update previous psi/muiexs so code has better initial guess \n",
      "    psiPrev = donnanPotentiali\n",
      "    muiexsPrev = mufilteri\n",
      "    \n",
      "    # report information \n",
      "    print \"cacl2\", msa.cacl2    \n",
      "    print \"conc_M\", msa.conc_M\n",
      "    print \"mufilteri\",mufilteri\n",
      "    print \"rhoFilteri\",rhoFilteri\n",
      "    print \"donnanPotentiali\",donnanPotentiali    \n",
      "    end = timer()\n",
      "    print(end - start), \" elapsed seconds \"\n",
      "\n",
      "    "
     ],
     "language": "python",
     "metadata": {},
     "outputs": [
      {
       "output_type": "stream",
       "stream": "stdout",
       "text": [
        "psiPrev 0\n",
        "muiexsPrev 0\n",
        "itersgamma 0, iterspsi 9910"
       ]
      },
      {
       "output_type": "stream",
       "stream": "stdout",
       "text": [
        "\n",
        "3.38727007341\n",
        "psiPrev [-173.26932214]\n",
        "muiexsPrev [ 4.71293456  6.91620089  1.22764307 -4.15878121]\n",
        "itersgamma 0, iterspsi 9360"
       ]
      },
      {
       "output_type": "stream",
       "stream": "stdout",
       "text": [
        "\n",
        "3.38727497939\n",
        "psiPrev [-173.27287291]\n",
        "muiexsPrev [ 4.71323301  6.91673324  1.22777665 -4.15906733]\n",
        "itersgamma 0, iterspsi 8423"
       ]
      },
      {
       "output_type": "stream",
       "stream": "stdout",
       "text": [
        "\n",
        "3.38727496702\n",
        "psiPrev [-173.27287316]\n",
        "muiexsPrev [ 4.71335224  6.91666469  1.22777664 -4.15895796]\n",
        "itersgamma 0, iterspsi 9782"
       ]
      },
      {
       "output_type": "stream",
       "stream": "stdout",
       "text": [
        "\n",
        "3.38727497504\n",
        "psiPrev [-173.27287299]\n",
        "muiexsPrev [ 4.71323659  6.91670797  1.22777664 -4.15902902]\n",
        "itersgamma 0, iterspsi 9484"
       ]
      },
      {
       "output_type": "stream",
       "stream": "stdout",
       "text": [
        "\n",
        "3.3872749808\n",
        "[ 4.71319985  6.91660708  1.22774993 -4.15898228] [  1.39927711e-04   2.04536087e-04   5.34325810e-05   1.08811419e-04]\n",
        "[-173.27216288] [ 0.00142037]\n",
        "cacl2 1e-10\n",
        "conc_M [  1.00000000e-200   1.00000000e-001   1.00000000e-001   1.00000000e-010]\n",
        "mufilteri [ 4.71319985  6.91660708  1.22774993 -4.15898228]\n",
        "rhoFilteri [  2.13333333e+01   4.81459727e-08   1.06653656e+01   6.64425033e-04]\n",
        "donnanPotentiali [-173.27216288]\n",
        "22.2038428783  elapsed seconds \n",
        "psiPrev [-173.27216288]\n",
        "muiexsPrev [ 4.71319985  6.91660708  1.22774993 -4.15898228]\n",
        "itersgamma 0, iterspsi 9592"
       ]
      },
      {
       "output_type": "stream",
       "stream": "stdout",
       "text": [
        "\n",
        "3.3874623763\n",
        "psiPrev [-173.26188149]\n",
        "muiexsPrev [ 4.71299877  6.91616119  1.22755685 -4.15957836]\n",
        "itersgamma 0, iterspsi 8850"
       ]
      },
      {
       "output_type": "stream",
       "stream": "stdout",
       "text": [
        "\n",
        "3.38746236544\n",
        "psiPrev [-173.26188093]\n",
        "muiexsPrev [ 4.71300321  6.91617513  1.22755682 -4.15954602]\n",
        "itersgamma 0, iterspsi 9706"
       ]
      },
      {
       "output_type": "stream",
       "stream": "stdout",
       "text": [
        "\n",
        "3.38746237307\n",
        "psiPrev [-173.26188122]\n",
        "muiexsPrev [ 4.71298421  6.91618048  1.22755684 -4.1595692 ]\n",
        "itersgamma 0, iterspsi 9200"
       ]
      },
      {
       "output_type": "stream",
       "stream": "stdout",
       "text": [
        "\n",
        "3.38746235059\n",
        "psiPrev [-173.26188249]\n",
        "muiexsPrev [ 4.71300142  6.91624207  1.22755686 -4.15949146]\n",
        "itersgamma 0, iterspsi 8195"
       ]
      },
      {
       "output_type": "stream",
       "stream": "stdout",
       "text": [
        "\n",
        "3.38746229643\n",
        "[ 4.7130084   6.91621401  1.22755685 -4.15949936] [  2.39515132e-05   5.59514372e-05   1.44875416e-08   9.85450484e-05]\n",
        "[-173.26188199] [  1.06018182e-06]\n",
        "cacl2 2.68269579528e-10\n",
        "conc_M [  1.00000000e-200   1.00000001e-001   1.00000000e-001   2.68269580e-010]\n",
        "mufilteri [ 4.7130084   6.91621401  1.22755685 -4.15949936]\n",
        "rhoFilteri [  2.13333333e+01   4.81867522e-08   1.06631318e+01   1.78134020e-03]\n",
        "donnanPotentiali [-173.26188199]\n",
        "21.7044839859  elapsed seconds \n",
        "psiPrev [-173.26188199]\n",
        "muiexsPrev [ 4.7130084   6.91621401  1.22755685 -4.15949936]\n",
        "itersgamma 0, iterspsi 9643"
       ]
      },
      {
       "output_type": "stream",
       "stream": "stdout",
       "text": [
        "\n",
        "3.38796432061\n",
        "psiPrev [-173.23243055]\n",
        "muiexsPrev [ 4.7123122   6.91482848  1.22696806 -4.160892  ]\n",
        "itersgamma 0, iterspsi 9593"
       ]
      },
      {
       "output_type": "stream",
       "stream": "stdout",
       "text": [
        "\n",
        "3.38796431491\n",
        "psiPrev [-173.23243131]\n",
        "muiexsPrev [ 4.71236263  6.91486475  1.22696808 -4.16088389]\n",
        "itersgamma 0, iterspsi 9653"
       ]
      },
      {
       "output_type": "stream",
       "stream": "stdout",
       "text": [
        "\n",
        "3.38796435479\n",
        "psiPrev [-173.23243051]\n",
        "muiexsPrev [ 4.71233005  6.91481058  1.22696809 -4.16093298]\n",
        "itersgamma 0, iterspsi 8551"
       ]
      },
      {
       "output_type": "stream",
       "stream": "stdout",
       "text": [
        "\n",
        "3.3879643419\n",
        "psiPrev [-173.23242982]\n",
        "muiexsPrev [ 4.71235532  6.91484726  1.22696805 -4.16091872]\n",
        "itersgamma 0, iterspsi 9445"
       ]
      },
      {
       "output_type": "stream",
       "stream": "stdout",
       "text": [
        "\n",
        "3.38796435763\n",
        "[ 4.71234167  6.91483388  1.22696807 -4.1609129 ] [  1.82841964e-05   1.97312036e-05   1.47985656e-08   2.14136725e-05]\n",
        "[-173.23243048] [  4.90449299e-07]\n",
        "cacl2 7.19685673001e-10\n",
        "conc_M [  1.00000000e-200   1.00000001e-001   1.00000000e-001   7.19685673e-010]\n",
        "mufilteri [ 4.71234167  6.91483388  1.22696807 -4.1609129 ]\n",
        "rhoFilteri [  2.13333333e+01   4.83143045e-08   1.06571433e+01   4.77556625e-03]\n",
        "donnanPotentiali [-173.23243048]\n",
        "22.2274069786  elapsed seconds \n",
        "psiPrev [-173.23243048]\n",
        "muiexsPrev [ 4.71234167  6.91483388  1.22696807 -4.1609129 ]\n",
        "itersgamma 0, iterspsi 6938"
       ]
      },
      {
       "output_type": "stream",
       "stream": "stdout",
       "text": [
        "\n",
        "3.38930450528\n",
        "psiPrev [-173.15370223]\n",
        "muiexsPrev [ 4.71130417  6.91211565  1.2253946  -4.16402437]\n",
        "itersgamma 0, iterspsi 9648"
       ]
      },
      {
       "output_type": "stream",
       "stream": "stdout",
       "text": [
        "\n",
        "3.3893055984\n",
        "psiPrev [-173.15366869]\n",
        "muiexsPrev [ 4.71053937  6.91121271  1.22539452 -4.16453686]\n",
        "itersgamma 0, iterspsi 8844"
       ]
      },
      {
       "output_type": "stream",
       "stream": "stdout",
       "text": [
        "\n",
        "3.38930563865\n",
        "psiPrev [-173.15366701]\n",
        "muiexsPrev [ 4.71051729  6.91118997  1.2253945  -4.16455604]\n",
        "itersgamma 0, iterspsi 8793"
       ]
      },
      {
       "output_type": "stream",
       "stream": "stdout",
       "text": [
        "\n",
        "3.38930558323\n",
        "psiPrev [-173.15366744]\n",
        "muiexsPrev [ 4.71050586  6.9113199   1.22539446 -4.16453093]\n",
        "itersgamma 0, iterspsi 9273"
       ]
      },
      {
       "output_type": "stream",
       "stream": "stdout",
       "text": [
        "\n",
        "3.38930562652\n",
        "[ 4.7106786   6.91140245  1.22539451 -4.16443983] [  3.12978898e-04   3.60219164e-04   5.22314896e-08   2.07927644e-04]\n",
        "[-173.15367438] [  1.39435135e-05]\n",
        "cacl2 1.93069772888e-09\n",
        "conc_M [  1.00000000e-200   1.00000004e-001   1.00000000e-001   1.93069773e-009]\n",
        "mufilteri [ 4.7106786   6.91140245  1.22539451 -4.16443983]\n",
        "rhoFilteri [  2.13333333e+01   4.86401196e-08   1.06411366e+01   1.27788991e-02]\n",
        "donnanPotentiali [-173.15367438]\n",
        "19.6573569775  elapsed seconds \n",
        "psiPrev [-173.15367438]\n",
        "muiexsPrev [ 4.7106786   6.91140245  1.22539451 -4.16443983]\n",
        "itersgamma 0, iterspsi 9096"
       ]
      },
      {
       "output_type": "stream",
       "stream": "stdout",
       "text": [
        "\n",
        "3.39286574453\n",
        "psiPrev [-172.944122]\n",
        "muiexsPrev [ 4.70574803  6.9015909   1.22121531 -4.17417764]\n",
        "itersgamma 0, iterspsi 8748"
       ]
      },
      {
       "output_type": "stream",
       "stream": "stdout",
       "text": [
        "\n",
        "3.39286537703\n",
        "psiPrev [-172.9441338]\n",
        "muiexsPrev [ 4.70574986  6.90161204  1.22121536 -4.17411216]\n",
        "itersgamma 0, iterspsi 7922"
       ]
      },
      {
       "output_type": "stream",
       "stream": "stdout",
       "text": [
        "\n",
        "3.39286389067\n",
        "psiPrev [-172.94418012]\n",
        "muiexsPrev [ 4.70596107  6.90177986  1.22121549 -4.17384771]\n",
        "itersgamma 0, iterspsi 9675"
       ]
      },
      {
       "output_type": "stream",
       "stream": "stdout",
       "text": [
        "\n",
        "3.39286591193\n",
        "psiPrev [-172.94411726]\n",
        "muiexsPrev [ 4.70574426  6.9015627   1.22121531 -4.17420727]\n",
        "itersgamma 0, iterspsi 9540"
       ]
      },
      {
       "output_type": "stream",
       "stream": "stdout",
       "text": [
        "\n",
        "3.39286608887\n",
        "[ 4.70578183  6.90162674  1.22121535 -4.17411678] [  9.10641612e-05   7.81472278e-05   8.05261536e-08   1.40914235e-04]\n",
        "[-172.94413273] [  2.48900857e-05]\n",
        "cacl2 5.17947467923e-09\n",
        "conc_M [  1.00000000e-200   1.00000010e-001   1.00000000e-001   5.17947468e-009]\n",
        "mufilteri [ 4.70578183  6.90162674  1.22121535 -4.17411678]\n",
        "rhoFilteri [  2.13333333e+01   4.95122614e-08   1.05985874e+01   3.40535441e-02]\n",
        "donnanPotentiali [-172.94413273]\n",
        "20.0565299988  elapsed seconds \n",
        "psiPrev [-172.94413273]\n",
        "muiexsPrev [ 4.70578183  6.90162674  1.22121535 -4.17411678]\n",
        "itersgamma 0, iterspsi 9413"
       ]
      },
      {
       "output_type": "stream",
       "stream": "stdout",
       "text": [
        "\n",
        "3.40215245578\n",
        "psiPrev [-172.39418828]\n",
        "muiexsPrev [ 4.69316242  6.87639761  1.21029842 -4.19940051]\n",
        "itersgamma 0, iterspsi 8819"
       ]
      },
      {
       "output_type": "stream",
       "stream": "stdout",
       "text": [
        "\n",
        "3.40215361331\n",
        "psiPrev [-172.39415126]\n",
        "muiexsPrev [ 4.69316912  6.87635928  1.2102983  -4.19948093]\n",
        "itersgamma 0, iterspsi 8789"
       ]
      },
      {
       "output_type": "stream",
       "stream": "stdout",
       "text": [
        "\n",
        "3.40215288416\n",
        "psiPrev [-172.39417473]\n",
        "muiexsPrev [ 4.69317934  6.8763561   1.21029838 -4.19943025]\n",
        "itersgamma 0, iterspsi 9169"
       ]
      },
      {
       "output_type": "stream",
       "stream": "stdout",
       "text": [
        "\n",
        "3.40215244773\n",
        "psiPrev [-172.39418893]\n",
        "muiexsPrev [ 4.69312984  6.87643053  1.21029843 -4.19939989]\n",
        "itersgamma 0, iterspsi 8237"
       ]
      },
      {
       "output_type": "stream",
       "stream": "stdout",
       "text": [
        "\n",
        "3.40215307116\n",
        "[ 4.6931719   6.87642341  1.21029837 -4.199431  ] [  2.86963190e-05   7.98809220e-05   5.23032095e-08   3.01514760e-05]\n",
        "[-172.39417417] [  1.40331835e-05]\n",
        "cacl2 1.38949549437e-08\n",
        "conc_M [  1.00000000e-200   1.00000028e-001   1.00000000e-001   1.38949549e-008]\n",
        "mufilteri [ 4.6931719   6.87642341  1.21029837 -4.199431  ]\n",
        "rhoFilteri [  2.13333333e+01   5.18687817e-08   1.04872003e+01   8.97471437e-02]\n",
        "donnanPotentiali [-172.39417417]\n",
        "19.9680800438  elapsed seconds \n",
        "psiPrev [-172.39417417]\n",
        "muiexsPrev [ 4.6931719   6.87642341  1.21029837 -4.199431  ]\n",
        "itersgamma 0, iterspsi 8554"
       ]
      },
      {
       "output_type": "stream",
       "stream": "stdout",
       "text": [
        "\n",
        "3.42532495484\n",
        "psiPrev [-171.00043293]\n",
        "muiexsPrev [ 4.66170522  6.81316458  1.18296401 -4.26252104]\n",
        "itersgamma 0, iterspsi 8658"
       ]
      },
      {
       "output_type": "stream",
       "stream": "stdout",
       "text": [
        "\n",
        "3.42531551789\n",
        "psiPrev [-171.00073357]\n",
        "muiexsPrev [ 4.66161388  6.813352    1.1829645  -4.2622478 ]\n",
        "itersgamma 0, iterspsi 8614"
       ]
      },
      {
       "output_type": "stream",
       "stream": "stdout",
       "text": [
        "\n",
        "3.42532467673\n",
        "psiPrev [-171.00044227]\n",
        "muiexsPrev [ 4.66160382  6.81329177  1.18296404 -4.26251293]\n",
        "itersgamma 0, iterspsi 8473"
       ]
      },
      {
       "output_type": "stream",
       "stream": "stdout",
       "text": [
        "\n",
        "3.42532635882\n",
        "psiPrev [-171.00038893]\n",
        "muiexsPrev [ 4.66164092  6.8132811   1.18296396 -4.2625616 ]\n",
        "itersgamma 0, iterspsi 9004"
       ]
      },
      {
       "output_type": "stream",
       "stream": "stdout",
       "text": [
        "\n",
        "3.4253210889\n",
        "[ 4.66162809  6.81326168  1.18296414 -4.26245051] [  4.37106151e-05   6.43314848e-05   1.94368667e-07   1.13144881e-04]\n",
        "[-171.00051061] [ 0.00012428]\n",
        "cacl2 3.72759372031e-08\n",
        "conc_M [  1.00000000e-200   1.00000075e-001   1.00000000e-001   3.72759372e-008]\n",
        "mufilteri [ 4.66162809  6.81326168  1.18296414 -4.26245051]\n",
        "rhoFilteri [  2.13333333e+01   5.83529747e-08   1.02067737e+01   2.29960587e-01]\n",
        "donnanPotentiali [-171.00051061]\n",
        "19.264195919  elapsed seconds \n",
        "psiPrev [-171.00051061]\n",
        "muiexsPrev [ 4.66162809  6.81326168  1.18296414 -4.26245051]\n",
        "itersgamma 0, iterspsi 7384"
       ]
      },
      {
       "output_type": "stream",
       "stream": "stdout",
       "text": [
        "\n",
        "3.47739249625\n",
        "psiPrev [-167.74838449]\n",
        "muiexsPrev [ 4.58953765  6.6696882   1.12106922 -4.4049674 ]\n",
        "itersgamma 0, iterspsi 5654"
       ]
      },
      {
       "output_type": "stream",
       "stream": "stdout",
       "text": [
        "\n",
        "3.47781387118\n",
        "psiPrev [-167.7346604]\n",
        "muiexsPrev [ 4.58785826  6.66530887  1.12108552 -4.41081297]\n",
        "itersgamma 0, iterspsi 7327"
       ]
      },
      {
       "output_type": "stream",
       "stream": "stdout",
       "text": [
        "\n",
        "3.47734980536\n",
        "psiPrev [-167.74977772]\n",
        "muiexsPrev [ 4.5897581   6.66980123  1.12106771 -4.40437375]\n",
        "itersgamma 0, iterspsi 6900"
       ]
      },
      {
       "output_type": "stream",
       "stream": "stdout",
       "text": [
        "\n",
        "3.47739144643\n",
        "psiPrev [-167.74841759]\n",
        "muiexsPrev [ 4.58979345  6.66949133  1.12106914 -4.40495292]\n",
        "itersgamma 0, iterspsi 7356"
       ]
      },
      {
       "output_type": "stream",
       "stream": "stdout",
       "text": [
        "\n",
        "3.47735728304\n",
        "[ 4.58940987  6.66884514  1.12107192 -4.40591695] [  7.96374750e-04   1.77413464e-03   6.82694443e-06   2.45987566e-03]\n",
        "[-167.74615487] [ 0.00577509]\n",
        "cacl2 1e-07\n",
        "conc_M [  1.00000000e-200   1.00000200e-001   1.00000000e-001   1.00000000e-007]\n",
        "mufilteri [ 4.58940987  6.66884514  1.12107192 -4.40591695]\n",
        "rhoFilteri [  2.13333333e+01   7.64614991e-08   9.56350769e+00   5.51593874e-01]\n",
        "donnanPotentiali [-167.74615487]\n",
        "15.9135699272  elapsed seconds \n",
        "psiPrev [-167.74615487]\n",
        "muiexsPrev [ 4.58940987  6.66884514  1.12107192 -4.40591695]\n",
        "itersgamma 0, iterspsi 4038"
       ]
      },
      {
       "output_type": "stream",
       "stream": "stdout",
       "text": [
        "\n",
        "3.57611508423\n",
        "psiPrev [-161.18791741]\n",
        "muiexsPrev [ 4.44262179  6.3814387   1.00758922 -4.69754598]\n",
        "itersgamma 0, iterspsi 7398"
       ]
      },
      {
       "output_type": "stream",
       "stream": "stdout",
       "text": [
        "\n",
        "3.57213905779\n",
        "psiPrev [-161.32139078]\n",
        "muiexsPrev [ 4.45601507  6.40303871  1.00648472 -4.66475693]\n",
        "itersgamma 0, iterspsi 5047"
       ]
      },
      {
       "output_type": "stream",
       "stream": "stdout",
       "text": [
        "\n",
        "3.57264441389\n",
        "psiPrev [-161.30426848]\n",
        "muiexsPrev [ 4.45905538  6.40035943  1.00661598 -4.66896197]\n",
        "itersgamma 0, iterspsi 3284"
       ]
      },
      {
       "output_type": "stream",
       "stream": "stdout",
       "text": [
        "\n",
        "3.5751022564\n",
        "psiPrev [-161.22175054]\n",
        "muiexsPrev [ 4.46619322  6.37883241  1.00729583 -4.68924853]\n",
        "itersgamma 0, iterspsi 4882"
       ]
      },
      {
       "output_type": "stream",
       "stream": "stdout",
       "text": [
        "\n",
        "3.5726957054\n",
        "[ 4.45672155  6.39296766  1.00692305 -4.67798029] [ 0.00779059  0.01054561  0.00043712  0.01295997]\n",
        "[-161.26757237] [ 0.05274455]\n",
        "cacl2 2.68269579528e-07\n",
        "conc_M [  1.00000000e-200   1.00000537e-001   1.00000000e-001   2.68269580e-007]\n",
        "mufilteri [ 4.45672155  6.39296766  1.00692305 -4.67798029]\n",
        "rhoFilteri [  2.13333333e+01   1.28688371e-07   8.33576950e+00   1.16546325e+00]\n",
        "donnanPotentiali [-161.26757237]\n",
        "11.3174610138  elapsed seconds \n",
        "psiPrev [-161.26757237]\n",
        "muiexsPrev [ 4.45672155  6.39296766  1.00692305 -4.67798029]\n",
        "itersgamma 0, iterspsi 8832"
       ]
      },
      {
       "output_type": "stream",
       "stream": "stdout",
       "text": [
        "\n",
        "3.69902698027\n",
        "psiPrev [-151.32773439]\n",
        "muiexsPrev [ 4.27014861  6.03547882  0.84931209 -5.016531  ]\n",
        "itersgamma 0, iterspsi 7142"
       ]
      },
      {
       "output_type": "stream",
       "stream": "stdout",
       "text": [
        "\n",
        "3.69902845843\n",
        "psiPrev [-151.32768205]\n",
        "muiexsPrev [ 4.2704463   6.03532936  0.84931321 -5.01654024]\n",
        "itersgamma 0, iterspsi 2369"
       ]
      },
      {
       "output_type": "stream",
       "stream": "stdout",
       "text": [
        "\n",
        "3.71320844589\n",
        "psiPrev [-150.83997015]\n",
        "muiexsPrev [ 4.29156021  6.00083245  0.86118355 -5.1030166 ]\n",
        "itersgamma 0, iterspsi 9404"
       ]
      },
      {
       "output_type": "stream",
       "stream": "stdout",
       "text": [
        "\n",
        "3.69902157554\n",
        "psiPrev [-151.32792466]\n",
        "muiexsPrev [ 4.2701435   6.03542718  0.84930797 -5.01649732]\n",
        "itersgamma 0, iterspsi 5001"
       ]
      },
      {
       "output_type": "stream",
       "stream": "stdout",
       "text": [
        "\n",
        "3.69956669937\n",
        "[ 4.27390229  6.02811539  0.85176811 -5.0344963 ] [ 0.00890745  0.01366144  0.00471043  0.03428506]\n",
        "[-151.22640118] [ 0.19335688]\n",
        "cacl2 7.19685673001e-07\n",
        "conc_M [  1.00000000e-200   1.00001439e-001   1.00000000e-001   7.19685673e-007]\n",
        "mufilteri [ 4.27390229  6.02811539  0.85176811 -5.0344963 ]\n",
        "rhoFilteri [  2.13333333e+01   2.74635719e-07   6.60004094e+00   2.03332815e+00]\n",
        "donnanPotentiali [-151.22640118]\n",
        "15.3649389744  elapsed seconds \n",
        "psiPrev [-151.22640118]\n",
        "muiexsPrev [ 4.27390229  6.02811539  0.85176811 -5.0344963 ]\n",
        "itersgamma 0, iterspsi 4626"
       ]
      },
      {
       "output_type": "stream",
       "stream": "stdout",
       "text": [
        "\n",
        "3.82565075615\n",
        "psiPrev [-138.90951566]\n",
        "muiexsPrev [ 4.07960241  5.65165259  0.69325093 -5.3758812 ]\n",
        "itersgamma 0, iterspsi 5123"
       ]
      },
      {
       "output_type": "stream",
       "stream": "stdout",
       "text": [
        "\n",
        "3.82462926888\n",
        "psiPrev [-138.94662557]\n",
        "muiexsPrev [ 4.08015236  5.65657568  0.69146083 -5.3703688 ]\n",
        "itersgamma 0, iterspsi 2634"
       ]
      },
      {
       "output_type": "stream",
       "stream": "stdout",
       "text": [
        "\n",
        "3.830446365\n",
        "psiPrev [-138.73741064]\n",
        "muiexsPrev [ 4.07120548  5.68058161  0.70190074 -5.40152212]\n",
        "itersgamma 0, iterspsi 4961"
       ]
      },
      {
       "output_type": "stream",
       "stream": "stdout",
       "text": [
        "\n",
        "3.82422604131\n",
        "psiPrev [-138.96130557]\n",
        "muiexsPrev [ 4.08253867  5.66246428  0.69075883 -5.36818891]\n",
        "itersgamma 0, iterspsi 9429"
       ]
      },
      {
       "output_type": "stream",
       "stream": "stdout",
       "text": [
        "\n",
        "3.82405527712\n",
        "[ 4.07870034  5.66241307  0.69356672 -5.37664524] [ 0.00388649  0.00982438  0.00427813  0.01279321]\n",
        "[-138.9044768] [ 0.08592764]\n",
        "cacl2 1.93069772888e-06\n",
        "conc_M [  1.00000000e-200   1.00003861e-001   1.00000000e-001   1.93069773e-006]\n",
        "mufilteri [ 4.07870034  5.66241307  0.69356672 -5.37664524]\n",
        "rhoFilteri [  2.13333333e+01   6.45652416e-07   4.77912881e+00   2.94378445e+00]\n",
        "donnanPotentiali [-138.9044768]\n",
        "12.3491141796  elapsed seconds \n",
        "psiPrev [-138.9044768]\n",
        "muiexsPrev [ 4.07870034  5.66241307  0.69356672 -5.37664524]\n",
        "itersgamma 0, iterspsi 4896"
       ]
      },
      {
       "output_type": "stream",
       "stream": "stdout",
       "text": [
        "\n",
        "3.92419193752\n",
        "psiPrev [-125.67945715]\n",
        "muiexsPrev [ 3.92550343  5.34982145  0.5643045  -5.65268744]\n",
        "itersgamma 0, iterspsi 5002"
       ]
      },
      {
       "output_type": "stream",
       "stream": "stdout",
       "text": [
        "\n",
        "3.92384787425\n",
        "psiPrev [-125.69223199]\n",
        "muiexsPrev [ 3.92391392  5.35560735  0.56310981 -5.6509542 ]\n",
        "itersgamma 0, iterspsi 8999"
       ]
      },
      {
       "output_type": "stream",
       "stream": "stdout",
       "text": [
        "\n",
        "3.92338035262\n",
        "psiPrev [-125.70959464]\n",
        "muiexsPrev [ 3.92413105  5.35503734  0.56149203 -5.64859814]\n",
        "itersgamma 0, iterspsi 1898"
       ]
      },
      {
       "output_type": "stream",
       "stream": "stdout",
       "text": [
        "\n",
        "3.92633474092\n",
        "psiPrev [-125.6004992]\n",
        "muiexsPrev [ 3.96793687  5.40889306  0.5718382  -5.66342519]\n",
        "itersgamma 0, iterspsi 8378"
       ]
      },
      {
       "output_type": "stream",
       "stream": "stdout",
       "text": [
        "\n",
        "3.92338859974\n",
        "[ 3.93311288  5.36486447  0.56445301 -5.65286095] [ 0.01742135  0.02211385  0.00384017  0.00550016]\n",
        "[-125.67821407] [ 0.04046712]\n",
        "cacl2 5.17947467923e-06\n",
        "conc_M [  1.00000000e-200   1.00010359e-001   1.00000000e-001   5.17947468e-006]\n",
        "mufilteri [ 3.93311288  5.36486447  0.56445301 -5.65286095]\n",
        "rhoFilteri [  2.13333333e+01   1.47151278e-06   3.23908685e+00   3.71380535e+00]\n",
        "donnanPotentiali [-125.67821407]\n",
        "13.0154938698  elapsed seconds \n",
        "psiPrev [-125.67821407]\n",
        "muiexsPrev [ 3.93311288  5.36486447  0.56445301 -5.65286095]\n",
        "itersgamma 0, iterspsi 8405"
       ]
      },
      {
       "output_type": "stream",
       "stream": "stdout",
       "text": [
        "\n",
        "3.99331155431\n",
        "psiPrev [-112.34191979]\n",
        "muiexsPrev [ 3.81205963  5.13567394  0.46930158 -5.84808526]\n",
        "itersgamma 0, iterspsi 9000"
       ]
      },
      {
       "output_type": "stream",
       "stream": "stdout",
       "text": [
        "\n",
        "3.99330675907\n",
        "psiPrev [-112.34210026]\n",
        "muiexsPrev [ 3.81199525  5.13565827  0.46927117 -5.84806194]\n",
        "itersgamma 0, iterspsi 7368"
       ]
      },
      {
       "output_type": "stream",
       "stream": "stdout",
       "text": [
        "\n",
        "3.9933204953\n",
        "psiPrev [-112.34158394]\n",
        "muiexsPrev [ 3.81208494  5.13556946  0.4693583  -5.84812869]\n",
        "itersgamma 0, iterspsi 5646"
       ]
      },
      {
       "output_type": "stream",
       "stream": "stdout",
       "text": [
        "\n",
        "3.99351708147\n",
        "psiPrev [-112.33419486]\n",
        "muiexsPrev [ 3.81228118  5.13299315  0.47060676 -5.84908393]\n",
        "itersgamma 0, iterspsi 7771"
       ]
      },
      {
       "output_type": "stream",
       "stream": "stdout",
       "text": [
        "\n",
        "3.99330495829\n",
        "[ 3.8120857   5.1351651   0.46955951 -5.84828259] [ 0.00010314  0.00109262  0.00052474  0.00040152]\n",
        "[-112.34039342] [ 0.00310589]\n",
        "cacl2 1.38949549437e-05\n",
        "conc_M [  1.00000000e-200   1.00027790e-001   1.00000000e-001   1.38949549e-005]\n",
        "mufilteri [ 3.8120857   5.1351651   0.46955951 -5.84828259]\n",
        "rhoFilteri [  2.13333333e+01   3.08832504e-06   2.10723367e+00   4.27973184e+00]\n",
        "donnanPotentiali [-112.34039342]\n",
        "17.9668540955  elapsed seconds \n",
        "psiPrev [-112.34039342]\n",
        "muiexsPrev [ 3.8120857   5.1351651   0.46955951 -5.84828259]\n",
        "itersgamma 0, iterspsi 3066"
       ]
      },
      {
       "output_type": "stream",
       "stream": "stdout",
       "text": [
        "\n",
        "4.04235989713\n",
        "psiPrev [-99.01536059]\n",
        "muiexsPrev [ 3.76449288  5.01361808  0.44016361 -5.9939465 ]\n",
        "itersgamma 0, iterspsi 4235"
       ]
      },
      {
       "output_type": "stream",
       "stream": "stdout",
       "text": [
        "\n",
        "4.04029916524\n",
        "psiPrev [-99.09220174]\n",
        "muiexsPrev [ 3.74043275  4.98689378  0.41655959 -5.98423085]\n",
        "itersgamma 0, iterspsi 4552"
       ]
      },
      {
       "output_type": "stream",
       "stream": "stdout",
       "text": [
        "\n",
        "4.03960372844\n",
        "psiPrev [-99.11844704]\n",
        "muiexsPrev [ 3.74123309  4.98867594  0.40877057 -5.98092543]\n",
        "itersgamma 0, iterspsi 7880"
       ]
      },
      {
       "output_type": "stream",
       "stream": "stdout",
       "text": [
        "\n",
        "4.03950745475\n",
        "psiPrev [-99.1220953]\n",
        "muiexsPrev [ 3.73677137  4.98904028  0.40769915 -5.98046658]\n",
        "itersgamma 0, iterspsi 3846"
       ]
      },
      {
       "output_type": "stream",
       "stream": "stdout",
       "text": [
        "\n",
        "4.04071596864\n",
        "[ 3.74545662  4.99399328  0.41889259 -5.9851548 ] [ 0.00981945  0.00993405  0.0117584   0.00488092]\n",
        "[-99.08493256] [ 0.03864588]\n",
        "cacl2 3.72759372031e-05\n",
        "conc_M [  1.00000000e-200   1.00074552e-001   1.00000000e-001   3.72759372e-005]\n",
        "mufilteri [ 3.74545662  4.99399328  0.41889259 -5.9851548 ]\n",
        "rhoFilteri [  2.13333333e+01   5.99191996e-06   1.31666314e+00   4.67501719e+00]\n",
        "donnanPotentiali [-99.08493256]\n",
        "10.8923900127  elapsed seconds \n",
        "psiPrev [-99.08493256]\n",
        "muiexsPrev [ 3.74545662  4.99399328  0.41889259 -5.9851548 ]\n",
        "itersgamma 0, iterspsi 8655"
       ]
      },
      {
       "output_type": "stream",
       "stream": "stdout",
       "text": [
        "\n",
        "4.06901596145\n",
        "psiPrev [-86.08381652]\n",
        "muiexsPrev [ 3.68826252  4.89451727  0.36811426 -6.065289  ]\n",
        "itersgamma 0, iterspsi 7141"
       ]
      },
      {
       "output_type": "stream",
       "stream": "stdout",
       "text": [
        "\n",
        "4.06902375197\n",
        "psiPrev [-86.08352042]\n",
        "muiexsPrev [ 3.68885921  4.89458812  0.36826207 -6.06532568]\n",
        "itersgamma 0, iterspsi 8819"
       ]
      },
      {
       "output_type": "stream",
       "stream": "stdout",
       "text": [
        "\n",
        "4.0690159415\n",
        "psiPrev [-86.08381723]\n",
        "muiexsPrev [ 3.6882006   4.89458996  0.36811389 -6.06528891]\n",
        "itersgamma 0, iterspsi 8145"
       ]
      },
      {
       "output_type": "stream",
       "stream": "stdout",
       "text": [
        "\n",
        "4.06901951686\n",
        "psiPrev [-86.08368119]\n",
        "muiexsPrev [ 3.68828981  4.89457108  0.36818172 -6.06530575]\n",
        "itersgamma 0, iterspsi 1979"
       ]
      },
      {
       "output_type": "stream",
       "stream": "stdout",
       "text": [
        "\n",
        "4.07445339645\n",
        "[ 3.70281163  4.91284493  0.3902244  -6.07029132] [ 0.02881816  0.03655665  0.04411287  0.00997797]\n",
        "[-86.04396436] [ 0.07948903]\n",
        "cacl2 0.0001\n",
        "conc_M [  1.00000000e-200   1.00200000e-001   1.00000000e-001   1.00000000e-004]\n",
        "mufilteri [ 3.70281163  4.91284493  0.3902244  -6.07029132]\n",
        "rhoFilteri [  2.13333333e+01   1.00994618e-05   7.42565676e-01   4.96206584e+00]\n",
        "donnanPotentiali [-86.04396436]\n",
        "14.7855648994  elapsed seconds \n",
        "psiPrev [-86.04396436]\n",
        "muiexsPrev [ 3.70281163  4.91284493  0.3902244  -6.07029132]\n",
        "itersgamma 0, iterspsi 5760"
       ]
      },
      {
       "output_type": "stream",
       "stream": "stdout",
       "text": [
        "\n",
        "4.08754715731\n",
        "psiPrev [-73.20045386]\n",
        "muiexsPrev [ 3.65808082  4.83567023  0.34438285 -6.11872463]\n",
        "itersgamma 0, iterspsi 9100"
       ]
      },
      {
       "output_type": "stream",
       "stream": "stdout",
       "text": [
        "\n",
        "4.0875095208\n",
        "psiPrev [-73.20189082]\n",
        "muiexsPrev [ 3.65767708  4.83507319  0.34318381 -6.11854838]\n",
        "itersgamma 0, iterspsi 8126"
       ]
      },
      {
       "output_type": "stream",
       "stream": "stdout",
       "text": [
        "\n",
        "4.08751579718\n",
        "psiPrev [-73.20165111]\n",
        "muiexsPrev [ 3.65773721  4.83492767  0.34338363 -6.11857778]\n",
        "itersgamma 0, iterspsi 8196"
       ]
      },
      {
       "output_type": "stream",
       "stream": "stdout",
       "text": [
        "\n",
        "4.08751263644\n",
        "psiPrev [-73.2017714]\n",
        "muiexsPrev [ 3.65763972  4.83511864  0.34328303 -6.11856301]\n",
        "itersgamma 0, iterspsi 117"
       ]
      },
      {
       "output_type": "stream",
       "stream": "stdout",
       "text": [
        "\n",
        "4.10181164651\n",
        "[ 3.77364622  4.85540055  0.49390747 -6.08297419] [ 0.23172507  0.04040703  0.30069858  0.07125856]\n",
        "[-73.719792] [ 1.03670054]\n",
        "cacl2 0.000268269579528\n",
        "conc_M [  1.00000000e-200   1.00536539e-001   1.00000000e-001   2.68269580e-004]\n",
        "mufilteri [ 3.77364622  4.85540055  0.49390747 -6.08297419]\n",
        "rhoFilteri [  2.13333333e+01   1.57893259e-05   2.69871837e-01   5.19840623e+00]\n",
        "donnanPotentiali [-73.719792]\n",
        "14.0497350693  elapsed seconds \n",
        "psiPrev [-73.719792]\n",
        "muiexsPrev [ 3.77364622  4.85540055  0.49390747 -6.08297419]\n",
        "itersgamma 0, iterspsi 8324"
       ]
      },
      {
       "output_type": "stream",
       "stream": "stdout",
       "text": [
        "\n",
        "4.09897256633\n",
        "psiPrev [-60.45892393]\n",
        "muiexsPrev [ 3.63877487  4.79821352  0.32772586 -6.15160042]\n",
        "itersgamma 0, iterspsi 8945"
       ]
      },
      {
       "output_type": "stream",
       "stream": "stdout",
       "text": [
        "\n",
        "4.09897209737\n",
        "psiPrev [-60.4589418]\n",
        "muiexsPrev [ 3.63869793  4.79819581  0.32770108 -6.15159824]\n",
        "itersgamma 0, iterspsi 9140"
       ]
      },
      {
       "output_type": "stream",
       "stream": "stdout",
       "text": [
        "\n",
        "4.09897257141\n",
        "psiPrev [-60.45892371]\n",
        "muiexsPrev [ 3.63871485  4.79810395  0.32772611 -6.15160044]\n",
        "itersgamma 0, iterspsi 7833"
       ]
      },
      {
       "output_type": "stream",
       "stream": "stdout",
       "text": [
        "\n",
        "4.09897476789\n",
        "psiPrev [-60.45883976]\n",
        "muiexsPrev [ 3.63892363  4.7984003   0.32784229 -6.15161069]\n",
        "itersgamma 0, iterspsi 8213"
       ]
      },
      {
       "output_type": "stream",
       "stream": "stdout",
       "text": [
        "\n",
        "4.09897251924\n",
        "[ 3.63876772  4.79821809  0.32774373 -6.15160199] [  8.20447678e-05   9.84318773e-05   5.01567514e-05   4.42485069e-06]\n",
        "[-60.45891106] [  3.62749460e-05]\n",
        "cacl2 0.000719685673001\n",
        "conc_M [  1.00000000e-200   1.01439371e-001   1.00000000e-001   7.19685673e-004]\n",
        "mufilteri [ 3.63876772  4.79821809  0.32774373 -6.15160199]\n",
        "rhoFilteri [  2.13333333e+01   3.32592334e-05   3.19293781e-01   5.17371104e+00]\n",
        "donnanPotentiali [-60.45891106]\n",
        "18.4791581631  elapsed seconds \n",
        "psiPrev [-60.45891106]\n",
        "muiexsPrev [ 3.63876772  4.79821809  0.32774373 -6.15160199]\n",
        "itersgamma 0, iterspsi 8431"
       ]
      },
      {
       "output_type": "stream",
       "stream": "stdout",
       "text": [
        "\n",
        "4.10602478828\n",
        "psiPrev [-47.88719847]\n",
        "muiexsPrev [ 3.62697658  4.77538008  0.31823151 -6.17194604]\n",
        "itersgamma 0, iterspsi 5553"
       ]
      },
      {
       "output_type": "stream",
       "stream": "stdout",
       "text": [
        "\n",
        "4.10605559526\n",
        "psiPrev [-47.88602014]\n",
        "muiexsPrev [ 3.62963263  4.7764528   0.32091848 -6.17208934]\n",
        "itersgamma 0, iterspsi 9426"
       ]
      },
      {
       "output_type": "stream",
       "stream": "stdout",
       "text": [
        "\n",
        "4.10602461087\n",
        "psiPrev [-47.88720505]\n",
        "muiexsPrev [ 3.62696873  4.77533703  0.31821608 -6.17194523]\n",
        "itersgamma 0, iterspsi 9477"
       ]
      },
      {
       "output_type": "stream",
       "stream": "stdout",
       "text": [
        "\n",
        "4.10602462603\n",
        "psiPrev [-47.88720481]\n",
        "muiexsPrev [ 3.62695299  4.77534779  0.31821733 -6.17194527]\n",
        "itersgamma 0, iterspsi 9280"
       ]
      },
      {
       "output_type": "stream",
       "stream": "stdout",
       "text": [
        "\n",
        "4.1060247893\n",
        "[ 3.62749719  4.77556883  0.31876298 -6.17197438] [  1.06775228e-03   4.42351740e-04   1.07776796e-03   5.74800084e-05]\n",
        "[-47.88696542] [ 0.00047265]\n",
        "cacl2 0.00193069772888\n",
        "conc_M [  1.00000000e-200   1.03861395e-001   1.00000000e-001   1.93069773e-003]\n",
        "mufilteri [ 3.62749719  4.77556883  0.31876298 -6.17197438]\n",
        "rhoFilteri [  2.13333333e+01   5.67626316e-05   1.96633336e-01   5.23505138e+00]\n",
        "donnanPotentiali [-47.88696542]\n",
        "17.9947099686  elapsed seconds \n",
        "psiPrev [-47.88696542]\n",
        "muiexsPrev [ 3.62749719  4.77556883  0.31876298 -6.17197438]\n",
        "itersgamma 0, iterspsi 9558"
       ]
      },
      {
       "output_type": "stream",
       "stream": "stdout",
       "text": [
        "\n",
        "4.11033411005\n",
        "psiPrev [-35.63479199]\n",
        "muiexsPrev [ 3.61982589  4.76149557  0.31238374 -6.18437435]\n",
        "itersgamma 0, iterspsi 9503"
       ]
      },
      {
       "output_type": "stream",
       "stream": "stdout",
       "text": [
        "\n",
        "4.11033395649\n",
        "psiPrev [-35.63479777]\n",
        "muiexsPrev [ 3.61984197  4.76150198  0.31236197 -6.18437365]\n",
        "itersgamma 0, iterspsi 7505"
       ]
      },
      {
       "output_type": "stream",
       "stream": "stdout",
       "text": [
        "\n",
        "4.11033496694\n",
        "psiPrev [-35.63475897]\n",
        "muiexsPrev [ 3.62009981  4.76188761  0.31250628 -6.18437835]\n",
        "itersgamma 0, iterspsi 9316"
       ]
      },
      {
       "output_type": "stream",
       "stream": "stdout",
       "text": [
        "\n",
        "4.11033413189\n",
        "psiPrev [-35.63479126]\n",
        "muiexsPrev [ 3.61981376  4.7615323   0.31238687 -6.18437444]\n",
        "itersgamma 0, iterspsi 3475"
       ]
      },
      {
       "output_type": "stream",
       "stream": "stdout",
       "text": [
        "\n",
        "4.11047346368\n",
        "[ 3.62009704  4.76259789  0.31640783 -6.18450399] [ 0.00041705  0.00199246  0.00799638  0.00025759]\n",
        "[-35.63372614] [ 0.00211777]\n",
        "cacl2 0.00517947467923\n",
        "conc_M [  1.00000000e-200   1.10358949e-001   1.00000000e-001   5.17947468e-003]\n",
        "mufilteri [ 3.62009704  4.76259789  0.31640783 -6.18450399]\n",
        "rhoFilteri [  2.13333333e+01   9.74425945e-05   1.19098227e-01   5.27383764e+00]\n",
        "donnanPotentiali [-35.63372614]\n",
        "17.63834095  elapsed seconds \n",
        "psiPrev [-35.63372614]\n",
        "muiexsPrev [ 3.62009704  4.76259789  0.31640783 -6.18450399]\n",
        "itersgamma 0, iterspsi 5488"
       ]
      },
      {
       "output_type": "stream",
       "stream": "stdout",
       "text": [
        "\n",
        "4.11295825012\n",
        "psiPrev [-24.11149633]\n",
        "muiexsPrev [ 3.61804931  4.75416652  0.31211309 -6.19194931]\n",
        "itersgamma 0, iterspsi 9856"
       ]
      },
      {
       "output_type": "stream",
       "stream": "stdout",
       "text": [
        "\n",
        "4.1129441241\n",
        "psiPrev [-24.11203713]\n",
        "muiexsPrev [ 3.61552881  4.7531308   0.30887983 -6.19188373]\n",
        "itersgamma 0, iterspsi 9712"
       ]
      },
      {
       "output_type": "stream",
       "stream": "stdout",
       "text": [
        "\n",
        "4.11294402655\n",
        "psiPrev [-24.11204095]\n",
        "muiexsPrev [ 3.61554046  4.75314698  0.3088576  -6.19188327]\n",
        "itersgamma 0, iterspsi 9271"
       ]
      },
      {
       "output_type": "stream",
       "stream": "stdout",
       "text": [
        "\n",
        "4.11294425743\n",
        "psiPrev [-24.11203214]\n",
        "muiexsPrev [ 3.61559961  4.75319718  0.3089105  -6.19188434]\n",
        "itersgamma 0, iterspsi 6584"
       ]
      },
      {
       "output_type": "stream",
       "stream": "stdout",
       "text": [
        "\n",
        "4.11294911824\n",
        "[ 3.61627224  4.75351987  0.30975707 -6.19190152] [  9.83473192e-04   4.48234707e-04   1.25837386e-03   2.55269067e-05]\n",
        "[-24.11189037] [ 0.00021053]\n",
        "cacl2 0.0138949549437\n",
        "conc_M [  1.00000000e-200   1.27789910e-001   1.00000000e-001   1.38949549e-002]\n",
        "mufilteri [ 3.61627224  4.75351987  0.30975707 -6.19190152]\n",
        "rhoFilteri [  2.13333333e+01   1.75614759e-04   7.60110358e-02   5.29541883e+00]\n",
        "donnanPotentiali [-24.11189037]\n",
        "18.7147688866  elapsed seconds \n",
        "psiPrev [-24.11189037]\n",
        "muiexsPrev [ 3.61627224  4.75351987  0.30975707 -6.19190152]\n",
        "itersgamma 0, iterspsi 10227"
       ]
      },
      {
       "output_type": "stream",
       "stream": "stdout",
       "text": [
        "\n",
        "4.11450114796\n",
        "psiPrev [-14.26037691]\n",
        "muiexsPrev [ 3.6130874   4.74832007  0.30683619 -6.19631498]\n",
        "itersgamma 0, iterspsi 9879"
       ]
      },
      {
       "output_type": "stream",
       "stream": "stdout",
       "text": [
        "\n",
        "4.11450115353\n",
        "psiPrev [-14.26037664]\n",
        "muiexsPrev [ 3.61305959  4.74834145  0.30683853 -6.19631501]\n",
        "itersgamma 0, iterspsi 10465"
       ]
      },
      {
       "output_type": "stream",
       "stream": "stdout",
       "text": [
        "\n",
        "4.11450113267\n",
        "psiPrev [-14.26037749]\n",
        "muiexsPrev [ 3.61306143  4.7483085   0.30683062 -6.1963149 ]\n",
        "itersgamma 0, iterspsi 9644"
       ]
      },
      {
       "output_type": "stream",
       "stream": "stdout",
       "text": [
        "\n",
        "4.1145012294\n",
        "psiPrev [-14.26037373]\n",
        "muiexsPrev [ 3.61308104  4.74833498  0.30686527 -6.19631536]\n",
        "itersgamma 0, iterspsi 10756"
       ]
      },
      {
       "output_type": "stream",
       "stream": "stdout",
       "text": [
        "\n",
        "4.11450106923\n",
        "[ 3.61307235  4.74832263  0.30683576 -6.19631497] [  1.08071480e-05   1.35822185e-05   1.82476272e-05   2.39034765e-07]\n",
        "[-14.26037693] [  1.97564426e-06]\n",
        "cacl2 0.0372759372031\n",
        "conc_M [  1.00000000e-200   1.74551874e-001   1.00000000e-001   3.72759372e-002]\n",
        "mufilteri [ 3.61307235  4.74832263  0.30683576 -6.19631497]\n",
        "rhoFilteri [  2.13333333e+01   3.37659235e-04   4.92503965e-02   5.30887886e+00]\n",
        "donnanPotentiali [-14.26037693]\n",
        "21.9315850735  elapsed seconds \n",
        "psiPrev [-14.26037693]\n",
        "muiexsPrev [ 3.61307235  4.74832263  0.30683576 -6.19631497]\n",
        "itersgamma 0, iterspsi 10203"
       ]
      },
      {
       "output_type": "stream",
       "stream": "stdout",
       "text": [
        "\n",
        "4.11540804081\n",
        "psiPrev [-7.83820382]\n",
        "muiexsPrev [ 3.61183268  4.74587999  0.3057355  -6.19878897]\n",
        "itersgamma 0, iterspsi 10524"
       ]
      },
      {
       "output_type": "stream",
       "stream": "stdout",
       "text": [
        "\n",
        "4.11540803766\n",
        "psiPrev [-7.83820392]\n",
        "muiexsPrev [ 3.6118347   4.74587168  0.30573358 -6.19878896]\n",
        "itersgamma 0, iterspsi 10993"
       ]
      },
      {
       "output_type": "stream",
       "stream": "stdout",
       "text": [
        "\n",
        "4.11540803487\n",
        "psiPrev [-7.83820412]\n",
        "muiexsPrev [ 3.61183173  4.74585146  0.30573117 -6.19878893]\n",
        "itersgamma 0, iterspsi 11134"
       ]
      },
      {
       "output_type": "stream",
       "stream": "stdout",
       "text": [
        "\n",
        "4.11540803882\n",
        "psiPrev [-7.83820399]\n",
        "muiexsPrev [ 3.61183515  4.74584765  0.30573299 -6.19878895]\n",
        "itersgamma 0, iterspsi 10805"
       ]
      },
      {
       "output_type": "stream",
       "stream": "stdout",
       "text": [
        "\n",
        "4.1154080426\n",
        "[ 3.61183393  4.74586013  0.30573366 -6.19878895] [  1.45600353e-06   1.31459638e-05   1.54817470e-06   1.33154482e-08]\n",
        "[-7.83820393] [  1.11626927e-07]\n",
        "cacl2 0.1\n",
        "conc_M [  1.00000000e-200   3.00000000e-001   1.00000000e-001   1.00000000e-001]\n",
        "mufilteri [ 3.61183393  4.74586013  0.30573366 -6.19878895]\n",
        "rhoFilteri [  2.13333333e+01   6.73247699e-04   3.41948655e-02   5.31657357e+00]\n",
        "donnanPotentiali [-7.83820393]\n",
        "23.561822176  elapsed seconds \n"
       ]
      }
     ],
     "prompt_number": 34
    },
    {
     "cell_type": "code",
     "collapsed": false,
     "input": [
      "# change in to np.arrays\n",
      "for key, value in results.iteritems():\n",
      "  print key  \n",
      "  results[key] = np.array( results[key] )"
     ],
     "language": "python",
     "metadata": {},
     "outputs": [
      {
       "output_type": "stream",
       "stream": "stdout",
       "text": [
        "WARNING: oxy always must be first entry\n",
        "cacl2"
       ]
      },
      {
       "output_type": "stream",
       "stream": "stdout",
       "text": [
        "\n",
        "muBath\n",
        "muFilter\n",
        "rhoFilter\n",
        "mu_ES\n",
        "mu_HS\n",
        "muFilterStd\n",
        "deltaG\n",
        "donnanPotential\n",
        "donnanPotentialStd\n"
       ]
      }
     ],
     "prompt_number": 35
    },
    {
     "cell_type": "markdown",
     "metadata": {},
     "source": [
      "### Write results to pickle file (so we can manipulate later) "
     ]
    },
    {
     "cell_type": "code",
     "collapsed": false,
     "input": [
      "import cPickle as pickle\n",
      "pklFile = \"nonner.pkl\""
     ],
     "language": "python",
     "metadata": {},
     "outputs": [
      {
       "output_type": "stream",
       "stream": "stdout",
       "text": [
        "WARNING: oxy always must be first entry\n"
       ]
      }
     ],
     "prompt_number": 38
    },
    {
     "cell_type": "code",
     "collapsed": false,
     "input": [
      "\n",
      "\n",
      "output = open(pklFile, 'wb')\n",
      "pickle.dump(results, output)\n",
      "output.close()\n"
     ],
     "language": "python",
     "metadata": {},
     "outputs": [],
     "prompt_number": 39
    },
    {
     "cell_type": "markdown",
     "metadata": {},
     "source": [
      "### Read pickle (unnecessary, but done for illustration)"
     ]
    },
    {
     "cell_type": "code",
     "collapsed": false,
     "input": [
      "pkl_file = open(pklFile, 'rb')\n",
      "results = pickle.load(pkl_file)\n",
      "pkl_file.close()\n",
      "\n"
     ],
     "language": "python",
     "metadata": {},
     "outputs": [],
     "prompt_number": 40
    },
    {
     "cell_type": "markdown",
     "metadata": {},
     "source": [
      "### Plotting \n",
      "Results should compare well with Fig 2 of [1]\tW. Nonner, L. Catacuzzeno, and B. Eisenberg, \u201cBinding and selectivity in L-type calcium channels: a mean spherical approximation.,\u201d Biophys J, vol. 79, no. 4, pp. 1976\u20131992, Oct. 2000.\n",
      "\n",
      "Results below are close, but not exact with Nonner paper. Namely, Na s.b. at 15 M in the pocket, but is only ten here. All else looks pretty reasonable \n"
     ]
    },
    {
     "cell_type": "code",
     "collapsed": false,
     "input": [
      "def doPlot(results,key,ylabel=\"\",legend=True):\n",
      "  keyed = results[key]\n",
      "  if key==\"donnanPotential\":  \n",
      "    plt.plot(results[\"cacl2\"],keyed,label=\"All ions\") \n",
      "    plt.errorbar(results[\"cacl2\"],keyed, yerr=results['donnanPotentialStd'])                \n",
      "    legend=False\n",
      "    \n",
      "  else:      \n",
      "    plt.plot(results[\"cacl2\"],keyed[:,msa.idxNa], 'r',label=\"Na\")\n",
      "    plt.plot(results[\"cacl2\"],keyed[:,msa.idxCa], 'g',label=\"Ca\")\n",
      "    plt.plot(results[\"cacl2\"],keyed[:,msa.idxCl], 'b',label=\"Cl\")\n",
      "    \n",
      "    if key==\"muFilter\":  \n",
      "      keyedStd = results['muFilterStd']  \n",
      "      plt.errorbar(results[\"cacl2\"],keyed[:,msa.idxNa], yerr = keyedStd[:,msa.idxNa],fmt='r')\n",
      "      plt.errorbar(results[\"cacl2\"],keyed[:,msa.idxCa], yerr = keyedStd[:,msa.idxCa],fmt='g')\n",
      "      plt.errorbar(results[\"cacl2\"],keyed[:,msa.idxCl], yerr = keyedStd[:,msa.idxCl],fmt='b')\n",
      "\n",
      "\n",
      "  plt.ylabel(ylabel)\n",
      "  plt.xlabel(\"log(CaCl2)\")  \n",
      "  plt.xscale('log')\n",
      "  if legend:\n",
      "        plt.legend(loc=0)"
     ],
     "language": "python",
     "metadata": {},
     "outputs": [],
     "prompt_number": 41
    },
    {
     "cell_type": "code",
     "collapsed": false,
     "input": [
      "import matplotlib.pylab as plt\n",
      "matplotlib.rcParams['figure.figsize'] = (9.0, 6.0)\n",
      "\n",
      "plt.subplot(2,2,1)\n",
      "doPlot(results,\"rhoFilter\",ylabel=\"Pore Conc [M]\")\n",
      "\n",
      "plt.subplot(2,2,2)\n",
      "doPlot(results,\"muFilter\",ylabel=\"Excess chemical potential\\n [kT]\",legend=False)\n",
      "\n",
      "plt.subplot(2,2,3)\n",
      "doPlot(results,\"deltaG\",ylabel=\"'Free energy'\",legend=False)\n",
      "\n",
      "plt.subplot(2,2,4)\n",
      "doPlot(results,\"donnanPotential\",ylabel=\"Donnan potential [mV]\")\n",
      "\n",
      "plt.tight_layout()\n",
      "plt.gcf().savefig(\"valid2.png\",dpi=300)"
     ],
     "language": "python",
     "metadata": {},
     "outputs": [
      {
       "metadata": {},
       "output_type": "display_data",
       "png": "[encoded data removed]",
       "text": [
        "<matplotlib.figure.Figure at 0x7f181356e0d0>"
       ]
      }
     ],
     "prompt_number": 44
    },
    {
     "cell_type": "code",
     "collapsed": false,
     "input": [],
     "language": "python",
     "metadata": {},
     "outputs": [
      {
       "output_type": "stream",
       "stream": "stdout",
       "text": [
        "[6.0, 4.0]\n"
       ]
      }
     ],
     "prompt_number": 12
    },
    {
     "cell_type": "code",
     "collapsed": false,
     "input": [],
     "language": "python",
     "metadata": {},
     "outputs": []
    }
   ],
   "metadata": {}
  }
 ]
}