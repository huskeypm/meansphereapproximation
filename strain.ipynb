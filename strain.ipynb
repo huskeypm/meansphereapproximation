{
 "metadata": {
  "name": "",
  "signature": "sha256:8b88626e7e361cc13d9ea8933bc7b2e154e769d98400a5aaad908016f2d1a64f"
 },
 "nbformat": 3,
 "nbformat_minor": 0,
 "worksheets": [
  {
   "cells": [
    {
     "cell_type": "code",
     "collapsed": false,
     "input": [
      "%load_ext autoreload\n",
      "%autoreload 2"
     ],
     "language": "python",
     "metadata": {},
     "outputs": [],
     "prompt_number": 1
    },
    {
     "cell_type": "markdown",
     "metadata": {},
     "source": [
      "## Testing strain idea"
     ]
    },
    {
     "cell_type": "code",
     "collapsed": false,
     "input": [
      "import MSAtools as msa"
     ],
     "language": "python",
     "metadata": {},
     "outputs": [
      {
       "output_type": "stream",
       "stream": "stdout",
       "text": [
        "WARNING: oxy always must be first entry\n"
       ]
      }
     ],
     "prompt_number": 4
    },
    {
     "cell_type": "code",
     "collapsed": false,
     "input": [
      "ref_conc_M = np.array([1e-200, (100.0e-3), 100.0e-3, 0.0, 0])  # [M] order is  Oxy, Cl, Na, Ca (bath) \n",
      "zs = np.array([-0.5, -1.0, 1.0, 2.0,2.0])\n",
      "Ns = np.array([8., 0, 0, 1.,0.]) # Filter\n",
      "V_i = 0.375 #3.4 angtstrom radius from VMD\n",
      "sigmas = np.array([0.278, 0.454, 0.35275, 0.32, 0.28])\n",
      "epsilonFilter = 33.5\n",
      "idxCl = 1\n",
      "idxNa = 2\n",
      "idxCa = 3\n",
      "idxMg = 4 \n",
      "\n",
      "# test at mid Ca  \n",
      "cacl2 = 1e-6\n",
      "conc_M = np.copy(ref_conc_M)\n",
      "conc_M[idxCl] = ref_conc_M[idxCl]+2 * cacl2\n",
      "conc_M[idxCa] = cacl2\n",
      "\n",
      "# mg \n",
      "mgcl2 = 2e-3\n",
      "conc_M[idxCl] += 2 * mgcl2\n",
      "conc_M[idxMg] = mgcl2\n",
      "\n",
      "chemPotential,donnanPotential,muES,muHS,rhoFilter = msa.SolveMSAEquations(epsilonFilter,conc_M,zs,Ns,V_i,sigmas)\n"
     ],
     "language": "python",
     "metadata": {},
     "outputs": [
      {
       "output_type": "stream",
       "stream": "stdout",
       "text": [
        "itersgamma 0, iterspsi 15613\n"
       ]
      }
     ],
     "prompt_number": 14
    },
    {
     "cell_type": "code",
     "collapsed": false,
     "input": [
      "print chemPotential"
     ],
     "language": "python",
     "metadata": {},
     "outputs": [
      {
       "output_type": "stream",
       "stream": "stdout",
       "text": [
        "[ 4.06910224  9.7465876   4.19955315 -8.351814   -9.81375477]\n"
       ]
      }
     ],
     "prompt_number": 15
    },
    {
     "cell_type": "markdown",
     "metadata": {},
     "source": [
      "#### Test with strain "
     ]
    },
    {
     "cell_type": "code",
     "collapsed": false,
     "input": [
      "# O, Cl, Na, Ca,Mg \n",
      "mu_Strain = [0,0,0,-1,3.0]\n",
      "chemPotentialStrain,donnanPotentialStrain,muESStrain,muHSStrain,rhoFilterStrain = msa.SolveMSAEquations(\n",
      "  epsilonFilter,conc_M,zs,Ns,V_i,sigmas,mu_Strain=mu_Strain)\n"
     ],
     "language": "python",
     "metadata": {},
     "outputs": [
      {
       "output_type": "stream",
       "stream": "stdout",
       "text": [
        "itersgamma 0, iterspsi 11525\n"
       ]
      }
     ],
     "prompt_number": 64
    },
    {
     "cell_type": "markdown",
     "metadata": {},
     "source": [
      "### Iterate"
     ]
    },
    {
     "cell_type": "code",
     "collapsed": false,
     "input": [
      "class empty:pass"
     ],
     "language": "python",
     "metadata": {},
     "outputs": [],
     "prompt_number": 65
    },
    {
     "cell_type": "code",
     "collapsed": false,
     "input": [
      "cacl2s = 10**np.linspace(-9,0,40)\n",
      "\n",
      "\n",
      "\n",
      "psiPrev = 0\n",
      "muiexsPrev = 0\n",
      "psiPrevStrain = 0\n",
      "muiexsPrevStrain = 0\n",
      "\n",
      "default = empty()\n",
      "default.chemPotentials = []\n",
      "default.rhoFilter = []\n",
      "\n",
      "strain = empty()\n",
      "strain.chemPotentials = []\n",
      "strain.rhoFilter = []\n",
      "for i,cacl2 in enumerate(cacl2s):\n",
      "    print \"CaCl2\", cacl2\n",
      "    ## Set concs\n",
      "    # ca  \n",
      "    #cacl2 = 1e-6\n",
      "    conc_M = np.copy(ref_conc_M)\n",
      "    conc_M[idxCl] = ref_conc_M[idxCl]+2 * cacl2\n",
      "    conc_M[idxCa] = cacl2\n",
      "\n",
      "    # mg \n",
      "    mgcl2 = 2e-3\n",
      "    conc_M[idxCl] += 2 * mgcl2\n",
      "    conc_M[idxMg] = mgcl2\n",
      "    \n",
      "    ## Calc Potents\n",
      "    # no strain \n",
      "    chemPotential,donnanPotential,muES,muHS,rhoFilter = msa.SolveMSAEquations(\n",
      "      epsilonFilter,conc_M,zs,Ns,V_i,sigmas, psiPrev = psiPrev, muiexsPrev = muiexsPrev)\n",
      "    psiPrev = donnanPotential\n",
      "    muiexsPrev = chemPotential\n",
      "    default.chemPotentials.append( chemPotential )\n",
      "    default.rhoFilter.append( rhoFilter )\n",
      "    \n",
      "    # w strain \n",
      "    chemPotentialStrain,donnanPotentialStrain,muESStrain,muHSStrain,rhoFilterStrain = msa.SolveMSAEquations(\n",
      "      epsilonFilter,conc_M,zs,Ns,V_i,sigmas,mu_Strain=mu_Strain,psiPrev = psiPrevStrain, muiexsPrev = muiexsPrevStrain)\n",
      "    psiPrevStrain = donnanPotentialStrain\n",
      "    muiexsPrevStrain = chemPotentialStrain\n",
      "    strain.chemPotentials.append( chemPotentialStrain )\n",
      "    strain.rhoFilter.append( rhoFilterStrain )\n",
      "\n",
      "\n",
      "###\n",
      "default.chemPotentials = np.array( default.chemPotentials )\n",
      "default.rhoFilter = np.array( default.rhoFilter )\n",
      "strain.chemPotentials = np.array( strain.chemPotentials )\n",
      "strain.rhoFilter = np.array( strain.rhoFilter )"
     ],
     "language": "python",
     "metadata": {},
     "outputs": [
      {
       "output_type": "stream",
       "stream": "stdout",
       "text": [
        "CaCl2 1e-09\n",
        "itersgamma 0, iterspsi 15613"
       ]
      },
      {
       "output_type": "stream",
       "stream": "stdout",
       "text": [
        "\n",
        "itersgamma 0, iterspsi 11794"
       ]
      },
      {
       "output_type": "stream",
       "stream": "stdout",
       "text": [
        "\n",
        "CaCl2 1.70125427985e-09\n",
        "itersgamma 0, iterspsi 92\n",
        "itersgamma 0, iterspsi 97\n",
        "CaCl2 2.89426612472e-09\n",
        "itersgamma 0, iterspsi 83"
       ]
      },
      {
       "output_type": "stream",
       "stream": "stdout",
       "text": [
        "\n",
        "itersgamma 0, iterspsi 87\n",
        "CaCl2 4.92388263171e-09\n",
        "itersgamma 0, iterspsi 81\n",
        "itersgamma 0, iterspsi 85"
       ]
      },
      {
       "output_type": "stream",
       "stream": "stdout",
       "text": [
        "\n",
        "CaCl2 8.37677640068e-09\n",
        "itersgamma 0, iterspsi 80\n",
        "itersgamma 0, iterspsi 84\n",
        "CaCl2 1.4251026703e-08\n",
        "itersgamma 0, iterspsi 81"
       ]
      },
      {
       "output_type": "stream",
       "stream": "stdout",
       "text": [
        "\n",
        "itersgamma 0, iterspsi 85\n",
        "CaCl2 2.42446201708e-08\n",
        "itersgamma 0, iterspsi 82\n",
        "itersgamma 0, iterspsi 85"
       ]
      },
      {
       "output_type": "stream",
       "stream": "stdout",
       "text": [
        "\n",
        "CaCl2 4.1246263829e-08\n",
        "itersgamma 0, iterspsi 82\n",
        "itersgamma 0, iterspsi 86\n",
        "CaCl2 7.0170382867e-08\n",
        "itersgamma 0, iterspsi 83"
       ]
      },
      {
       "output_type": "stream",
       "stream": "stdout",
       "text": [
        "\n",
        "itersgamma 0, iterspsi 86\n",
        "CaCl2 1.19377664171e-07\n",
        "itersgamma 0, iterspsi 83\n",
        "itersgamma 0, iterspsi 86"
       ]
      },
      {
       "output_type": "stream",
       "stream": "stdout",
       "text": [
        "\n",
        "CaCl2 2.0309176209e-07\n",
        "itersgamma 0, iterspsi 84\n",
        "itersgamma 0, iterspsi 87\n",
        "CaCl2 3.45510729459e-07\n",
        "itersgamma 0, iterspsi 84"
       ]
      },
      {
       "output_type": "stream",
       "stream": "stdout",
       "text": [
        "\n",
        "itersgamma 0, iterspsi 87\n",
        "CaCl2 5.87801607227e-07\n",
        "itersgamma 0, iterspsi 4470"
       ]
      },
      {
       "output_type": "stream",
       "stream": "stdout",
       "text": [
        "\n",
        "itersgamma 0, iterspsi 4666"
       ]
      },
      {
       "output_type": "stream",
       "stream": "stdout",
       "text": [
        "\n",
        "CaCl2 1e-06\n",
        "itersgamma 0, iterspsi 108\n",
        "itersgamma 0, iterspsi 4449"
       ]
      },
      {
       "output_type": "stream",
       "stream": "stdout",
       "text": [
        "\n",
        "CaCl2 1.70125427985e-06\n",
        "itersgamma 0, iterspsi 5144"
       ]
      },
      {
       "output_type": "stream",
       "stream": "stdout",
       "text": [
        "\n",
        "itersgamma 0, iterspsi 4932"
       ]
      },
      {
       "output_type": "stream",
       "stream": "stdout",
       "text": [
        "\n",
        "CaCl2 2.89426612472e-06\n",
        "itersgamma 0, iterspsi 5246"
       ]
      },
      {
       "output_type": "stream",
       "stream": "stdout",
       "text": [
        "\n",
        "itersgamma 0, iterspsi 112\n",
        "CaCl2 4.92388263171e-06\n",
        "itersgamma 0, iterspsi 5741"
       ]
      },
      {
       "output_type": "stream",
       "stream": "stdout",
       "text": [
        "\n",
        "itersgamma 0, iterspsi 6264"
       ]
      },
      {
       "output_type": "stream",
       "stream": "stdout",
       "text": [
        "\n",
        "CaCl2 8.37677640068e-06\n",
        "itersgamma 0, iterspsi 6235"
       ]
      },
      {
       "output_type": "stream",
       "stream": "stdout",
       "text": [
        "\n",
        "itersgamma 0, iterspsi 6308"
       ]
      },
      {
       "output_type": "stream",
       "stream": "stdout",
       "text": [
        "\n",
        "CaCl2 1.4251026703e-05\n",
        "itersgamma 0, iterspsi 6727"
       ]
      },
      {
       "output_type": "stream",
       "stream": "stdout",
       "text": [
        "\n",
        "itersgamma 0, iterspsi 6710"
       ]
      },
      {
       "output_type": "stream",
       "stream": "stdout",
       "text": [
        "\n",
        "CaCl2 2.42446201708e-05\n",
        "itersgamma 0, iterspsi 7217"
       ]
      },
      {
       "output_type": "stream",
       "stream": "stdout",
       "text": [
        "\n",
        "itersgamma 0, iterspsi 7059"
       ]
      },
      {
       "output_type": "stream",
       "stream": "stdout",
       "text": [
        "\n",
        "CaCl2 4.1246263829e-05\n",
        "itersgamma 0, iterspsi 7701"
       ]
      },
      {
       "output_type": "stream",
       "stream": "stdout",
       "text": [
        "\n",
        "itersgamma 0, iterspsi 7344"
       ]
      },
      {
       "output_type": "stream",
       "stream": "stdout",
       "text": [
        "\n",
        "CaCl2 7.0170382867e-05\n",
        "itersgamma 0, iterspsi 8175"
       ]
      },
      {
       "output_type": "stream",
       "stream": "stdout",
       "text": [
        "\n",
        "itersgamma 0, iterspsi 7570"
       ]
      },
      {
       "output_type": "stream",
       "stream": "stdout",
       "text": [
        "\n",
        "CaCl2 0.000119377664171\n",
        "itersgamma 0, iterspsi 8632"
       ]
      },
      {
       "output_type": "stream",
       "stream": "stdout",
       "text": [
        "\n",
        "itersgamma 0, iterspsi 7762"
       ]
      },
      {
       "output_type": "stream",
       "stream": "stdout",
       "text": [
        "\n",
        "CaCl2 0.00020309176209\n",
        "itersgamma 0, iterspsi 9062"
       ]
      },
      {
       "output_type": "stream",
       "stream": "stdout",
       "text": [
        "\n",
        "itersgamma 0, iterspsi 7951"
       ]
      },
      {
       "output_type": "stream",
       "stream": "stdout",
       "text": [
        "\n",
        "CaCl2 0.000345510729459\n",
        "itersgamma 0, iterspsi 9448"
       ]
      },
      {
       "output_type": "stream",
       "stream": "stdout",
       "text": [
        "\n",
        "itersgamma 0, iterspsi 8136"
       ]
      },
      {
       "output_type": "stream",
       "stream": "stdout",
       "text": [
        "\n",
        "CaCl2 0.000587801607227\n",
        "itersgamma 0, iterspsi 9771"
       ]
      },
      {
       "output_type": "stream",
       "stream": "stdout",
       "text": [
        "\n",
        "itersgamma 0, iterspsi 8280"
       ]
      },
      {
       "output_type": "stream",
       "stream": "stdout",
       "text": [
        "\n",
        "CaCl2 0.001\n",
        "itersgamma 0, iterspsi 10010"
       ]
      },
      {
       "output_type": "stream",
       "stream": "stdout",
       "text": [
        "\n",
        "itersgamma 0, iterspsi 8334"
       ]
      },
      {
       "output_type": "stream",
       "stream": "stdout",
       "text": [
        "\n",
        "CaCl2 0.00170125427985\n",
        "itersgamma 0, iterspsi 10157"
       ]
      },
      {
       "output_type": "stream",
       "stream": "stdout",
       "text": [
        "\n",
        "itersgamma 0, iterspsi 8268"
       ]
      },
      {
       "output_type": "stream",
       "stream": "stdout",
       "text": [
        "\n",
        "CaCl2 0.00289426612472\n",
        "itersgamma 0, iterspsi 10241"
       ]
      },
      {
       "output_type": "stream",
       "stream": "stdout",
       "text": [
        "\n",
        "itersgamma 0, iterspsi 8068"
       ]
      },
      {
       "output_type": "stream",
       "stream": "stdout",
       "text": [
        "\n",
        "CaCl2 0.00492388263171\n",
        "itersgamma 0, iterspsi 10349"
       ]
      },
      {
       "output_type": "stream",
       "stream": "stdout",
       "text": [
        "\n",
        "itersgamma 0, iterspsi 7687"
       ]
      },
      {
       "output_type": "stream",
       "stream": "stdout",
       "text": [
        "\n",
        "CaCl2 0.00837677640068\n",
        "itersgamma 0, iterspsi 10651"
       ]
      },
      {
       "output_type": "stream",
       "stream": "stdout",
       "text": [
        "\n",
        "itersgamma 0, iterspsi 357"
       ]
      },
      {
       "output_type": "stream",
       "stream": "stdout",
       "text": [
        "\n",
        "CaCl2 0.014251026703\n",
        "itersgamma 0, iterspsi 11635"
       ]
      },
      {
       "output_type": "stream",
       "stream": "stdout",
       "text": [
        "\n",
        "itersgamma 0, iterspsi 7953"
       ]
      },
      {
       "output_type": "stream",
       "stream": "stdout",
       "text": [
        "\n",
        "CaCl2 0.0242446201708\n",
        "itersgamma 0, iterspsi 11392"
       ]
      },
      {
       "output_type": "stream",
       "stream": "stdout",
       "text": [
        "\n",
        "itersgamma 0, iterspsi 8233"
       ]
      },
      {
       "output_type": "stream",
       "stream": "stdout",
       "text": [
        "\n",
        "CaCl2 0.041246263829\n",
        "itersgamma 0, iterspsi 10640"
       ]
      },
      {
       "output_type": "stream",
       "stream": "stdout",
       "text": [
        "\n",
        "itersgamma 0, iterspsi 7444"
       ]
      },
      {
       "output_type": "stream",
       "stream": "stdout",
       "text": [
        "\n",
        "CaCl2 0.070170382867\n",
        "itersgamma 0, iterspsi 10155"
       ]
      },
      {
       "output_type": "stream",
       "stream": "stdout",
       "text": [
        "\n",
        "itersgamma 0, iterspsi 6787"
       ]
      },
      {
       "output_type": "stream",
       "stream": "stdout",
       "text": [
        "\n",
        "CaCl2 0.119377664171\n",
        "itersgamma 0, iterspsi 9755"
       ]
      },
      {
       "output_type": "stream",
       "stream": "stdout",
       "text": [
        "\n",
        "itersgamma 0, iterspsi 5900"
       ]
      },
      {
       "output_type": "stream",
       "stream": "stdout",
       "text": [
        "\n",
        "CaCl2 0.20309176209\n",
        "itersgamma 0, iterspsi 9509"
       ]
      },
      {
       "output_type": "stream",
       "stream": "stdout",
       "text": [
        "\n",
        "itersgamma 0, iterspsi 2667"
       ]
      },
      {
       "output_type": "stream",
       "stream": "stdout",
       "text": [
        "\n",
        "CaCl2 0.345510729459\n",
        "itersgamma 0, iterspsi 9769"
       ]
      },
      {
       "output_type": "stream",
       "stream": "stdout",
       "text": [
        "\n",
        "itersgamma 0, iterspsi 5294"
       ]
      },
      {
       "output_type": "stream",
       "stream": "stdout",
       "text": [
        "\n",
        "CaCl2 0.587801607227\n",
        "itersgamma 0, iterspsi 9316"
       ]
      },
      {
       "output_type": "stream",
       "stream": "stdout",
       "text": [
        "\n",
        "itersgamma 0, iterspsi 5469"
       ]
      },
      {
       "output_type": "stream",
       "stream": "stdout",
       "text": [
        "\n",
        "CaCl2 1.0\n",
        "itersgamma 0, iterspsi 7036"
       ]
      },
      {
       "output_type": "stream",
       "stream": "stdout",
       "text": [
        "\n",
        "itersgamma 0, iterspsi 6707"
       ]
      },
      {
       "output_type": "stream",
       "stream": "stdout",
       "text": [
        "\n"
       ]
      }
     ],
     "prompt_number": 70
    },
    {
     "cell_type": "code",
     "collapsed": false,
     "input": [
      "plt.figure()\n",
      "\n",
      "plt.subplot(1,2,2)\n",
      "plt.plot( cacl2s, default.rhoFilter[:,idxCa],'b-' ,label=\"Default, Ca\")\n",
      "plt.plot( cacl2s, default.rhoFilter[:,idxMg],'r-' ,label=\"Default, Mg\")\n",
      "\n",
      "plt.plot( cacl2s, strain.rhoFilter[:,idxCa],'b--' ,label=\"Strain, Ca\")\n",
      "plt.plot( cacl2s, strain.rhoFilter[:,idxMg],'r--' ,label=\"Strain, Mg\")\n",
      "plt.xscale('log')\n",
      "plt.xlabel('Ca [M]')\n",
      "plt.ylabel('p [N/nm3]')\n",
      "\n",
      "\n",
      "plt.subplot(1,2,1)\n",
      "plt.title(\"Mean sphere approximation\")\n",
      "plt.plot( cacl2s, default.chemPotentials[:,idxCa],'b-' ,label=\"Default, Ca\")\n",
      "plt.plot( cacl2s, default.chemPotentials[:,idxMg],'r-' ,label=\"Default, Mg\")\n",
      "\n",
      "plt.plot( cacl2s, strain.chemPotentials[:,idxCa],'b--' ,label=\"Strain, Ca\")\n",
      "plt.plot( cacl2s, strain.chemPotentials[:,idxMg],'r--' ,label=\"Strain, Mg\")\n",
      "plt.legend(ncol=2,loc=0)\n",
      "plt.ylim([-12,-5])\n",
      "plt.xscale('log')\n",
      "plt.xlabel('Ca [M]')\n",
      "plt.ylabel('$\\mu$ [kT]')\n",
      "\n",
      "plt.gcf().savefig(\"msa_strain.png\",dpi=300)"
     ],
     "language": "python",
     "metadata": {},
     "outputs": [
      {
       "metadata": {},
       "output_type": "display_data",
       "png": "[encoded data removed]",
       "text": [
        "<matplotlib.figure.Figure at 0x7fe12bd936d0>"
       ]
      }
     ],
     "prompt_number": 78
    },
    {
     "cell_type": "code",
     "collapsed": false,
     "input": [],
     "language": "python",
     "metadata": {},
     "outputs": []
    }
   ],
   "metadata": {}
  }
 ]
}