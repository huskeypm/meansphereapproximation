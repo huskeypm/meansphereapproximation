{
 "metadata": {
  "name": "",
  "signature": "sha256:d613c383960cb302111ba8e07333d13859a9c32a027759c8e763b97f2cf3efe8"
 },
 "nbformat": 3,
 "nbformat_minor": 0,
 "worksheets": [
  {
   "cells": [
    {
     "cell_type": "code",
     "collapsed": false,
     "input": [
      "%load_ext autoreload\n",
      "%autoreload 2"
     ],
     "language": "python",
     "metadata": {},
     "outputs": [],
     "prompt_number": 1
    },
    {
     "cell_type": "markdown",
     "metadata": {},
     "source": [
      "## Testing strain idea"
     ]
    },
    {
     "cell_type": "code",
     "collapsed": false,
     "input": [
      "import MSAtools as msa"
     ],
     "language": "python",
     "metadata": {},
     "outputs": [
      {
       "output_type": "stream",
       "stream": "stdout",
       "text": [
        "WARNING: oxy always must be first entry\n"
       ]
      }
     ],
     "prompt_number": 4
    },
    {
     "cell_type": "code",
     "collapsed": false,
     "input": [
      "ref_conc_M = np.array([1e-200, (100.0e-3), 100.0e-3, 0.0, 0])  # [M] order is  Oxy, Cl, Na, Ca (bath) \n",
      "zs = np.array([-0.5, -1.0, 1.0, 2.0,2.0])\n",
      "Ns = np.array([8., 0, 0, 1.,0.]) # Filter\n",
      "V_i = 0.375 #3.4 angtstrom radius from VMD\n",
      "sigmas = np.array([0.278, 0.454, 0.35275, 0.32, 0.28])\n",
      "epsilonFilter = 33.5\n",
      "idxCl = 1\n",
      "idxNa = 2\n",
      "idxCa = 3\n",
      "idxMg = 4 \n",
      "\n",
      "# test at mid Ca  \n",
      "cacl2 = 1e-6\n",
      "conc_M = np.copy(ref_conc_M)\n",
      "conc_M[idxCl] = ref_conc_M[idxCl]+2 * cacl2\n",
      "conc_M[idxCa] = cacl2\n",
      "\n",
      "# mg \n",
      "mgcl2 = 2e-3\n",
      "conc_M[idxCl] += 2 * mgcl2\n",
      "conc_M[idxMg] = mgcl2\n",
      "\n",
      "chemPotential,donnanPotential,muES,muHS,rhoFilter = msa.SolveMSAEquations(epsilonFilter,conc_M,zs,Ns,V_i,sigmas)\n"
     ],
     "language": "python",
     "metadata": {},
     "outputs": [
      {
       "output_type": "stream",
       "stream": "stdout",
       "text": [
        "itersgamma 0, iterspsi 15613\n"
       ]
      }
     ],
     "prompt_number": 14
    },
    {
     "cell_type": "code",
     "collapsed": false,
     "input": [
      "print chemPotential"
     ],
     "language": "python",
     "metadata": {},
     "outputs": [
      {
       "output_type": "stream",
       "stream": "stdout",
       "text": [
        "[ 4.06910224  9.7465876   4.19955315 -8.351814   -9.81375477]\n"
       ]
      }
     ],
     "prompt_number": 15
    },
    {
     "cell_type": "markdown",
     "metadata": {},
     "source": [
      "#### Test with strain "
     ]
    },
    {
     "cell_type": "code",
     "collapsed": false,
     "input": [
      "# O, Cl, Na, Ca,Mg \n",
      "mu_Strain = [0,0,0,-1,3.0]\n",
      "chemPotentialStrain,donnanPotentialStrain,muESStrain,muHSStrain,rhoFilterStrain = msa.SolveMSAEquations(\n",
      "  epsilonFilter,conc_M,zs,Ns,V_i,sigmas,mu_Strain=mu_Strain)\n"
     ],
     "language": "python",
     "metadata": {},
     "outputs": [
      {
       "output_type": "stream",
       "stream": "stdout",
       "text": [
        "itersgamma 0, iterspsi 11525\n"
       ]
      }
     ],
     "prompt_number": 64
    },
    {
     "cell_type": "markdown",
     "metadata": {},
     "source": [
      "### Iterate"
     ]
    },
    {
     "cell_type": "code",
     "collapsed": false,
     "input": [
      "class empty:pass"
     ],
     "language": "python",
     "metadata": {},
     "outputs": [],
     "prompt_number": 65
    },
    {
     "cell_type": "code",
     "collapsed": false,
     "input": [
      "cacl2s = 10**np.linspace(-9,0,40)\n",
      "\n",
      "\n",
      "\n",
      "psiPrev = 0\n",
      "muiexsPrev = 0\n",
      "psiPrevStrain = 0\n",
      "muiexsPrevStrain = 0\n",
      "\n",
      "default = empty()\n",
      "default.chemPotentials = []\n",
      "default.rhoFilter = []\n",
      "\n",
      "strain = empty()\n",
      "strain.chemPotentials = []\n",
      "strain.rhoFilter = []\n",
      "for i,cacl2 in enumerate(cacl2s):\n",
      "    print \"CaCl2\", cacl2\n",
      "    ## Set concs\n",
      "    # ca  \n",
      "    #cacl2 = 1e-6\n",
      "    conc_M = np.copy(ref_conc_M)\n",
      "    conc_M[idxCl] = ref_conc_M[idxCl]+2 * cacl2\n",
      "    conc_M[idxCa] = cacl2\n",
      "\n",
      "    # mg \n",
      "    mgcl2 = 2e-3\n",
      "    conc_M[idxCl] += 2 * mgcl2\n",
      "    conc_M[idxMg] = mgcl2\n",
      "    \n",
      "    ## Calc Potents\n",
      "    # no strain \n",
      "    chemPotential,donnanPotential,muES,muHS,rhoFilter = msa.SolveMSAEquations(\n",
      "      epsilonFilter,conc_M,zs,Ns,V_i,sigmas, psiPrev = psiPrev, muiexsPrev = muiexsPrev)\n",
      "    psiPrev = donnanPotential\n",
      "    muiexsPrev = chemPotential\n",
      "    default.chemPotentials.append( chemPotential )\n",
      "    default.rhoFilter.append( rhoFilter )\n",
      "    \n",
      "    # w strain \n",
      "    chemPotentialStrain,donnanPotentialStrain,muESStrain,muHSStrain,rhoFilterStrain = msa.SolveMSAEquations(\n",
      "      epsilonFilter,conc_M,zs,Ns,V_i,sigmas,mu_Strain=mu_Strain,psiPrev = psiPrevStrain, muiexsPrev = muiexsPrevStrain)\n",
      "    psiPrevStrain = donnanPotentialStrain\n",
      "    muiexsPrevStrain = chemPotentialStrain\n",
      "    strain.chemPotentials.append( chemPotentialStrain )\n",
      "    strain.rhoFilter.append( rhoFilterStrain )\n",
      "\n",
      "\n",
      "###\n",
      "default.chemPotentials = np.array( default.chemPotentials )\n",
      "default.rhoFilter = np.array( default.rhoFilter )\n",
      "strain.chemPotentials = np.array( strain.chemPotentials )\n",
      "strain.rhoFilter = np.array( strain.rhoFilter )"
     ],
     "language": "python",
     "metadata": {},
     "outputs": [
      {
       "output_type": "stream",
       "stream": "stdout",
       "text": [
        "CaCl2 1e-09\n",
        "itersgamma 0, iterspsi 15613"
       ]
      },
      {
       "output_type": "stream",
       "stream": "stdout",
       "text": [
        "\n",
        "itersgamma 0, iterspsi 11794"
       ]
      },
      {
       "output_type": "stream",
       "stream": "stdout",
       "text": [
        "\n",
        "CaCl2 1.61026202756e-09\n",
        "itersgamma 0, iterspsi 90\n",
        "itersgamma 0, iterspsi 95\n",
        "CaCl2 2.5929437974e-09\n",
        "itersgamma 0, iterspsi 80\n",
        "itersgamma 0, iterspsi 85"
       ]
      },
      {
       "output_type": "stream",
       "stream": "stdout",
       "text": [
        "\n",
        "CaCl2 4.17531893656e-09\n",
        "itersgamma 0, iterspsi 78\n",
        "itersgamma 0, iterspsi 82\n",
        "CaCl2 6.7233575365e-09\n",
        "itersgamma 0, iterspsi 78\n",
        "itersgamma 0, iterspsi 82"
       ]
      },
      {
       "output_type": "stream",
       "stream": "stdout",
       "text": [
        "\n",
        "CaCl2 1.08263673387e-08\n",
        "itersgamma 0, iterspsi 78\n",
        "itersgamma 0, iterspsi 82\n",
        "CaCl2 1.7433288222e-08\n",
        "itersgamma 0, iterspsi 79\n",
        "itersgamma 0, iterspsi 82"
       ]
      },
      {
       "output_type": "stream",
       "stream": "stdout",
       "text": [
        "\n",
        "CaCl2 2.80721620394e-08\n",
        "itersgamma 0, iterspsi 80\n",
        "itersgamma 0, iterspsi 83"
       ]
      },
      {
       "output_type": "stream",
       "stream": "stdout",
       "text": [
        "\n",
        "CaCl2 4.52035365636e-08\n",
        "itersgamma 0, iterspsi 80\n",
        "itersgamma 0, iterspsi 83\n",
        "CaCl2 7.27895384398e-08\n",
        "itersgamma 0, iterspsi 81"
       ]
      },
      {
       "output_type": "stream",
       "stream": "stdout",
       "text": [
        "\n",
        "itersgamma 0, iterspsi 84\n",
        "CaCl2 1.17210229753e-07\n",
        "itersgamma 0, iterspsi 81\n",
        "itersgamma 0, iterspsi 84"
       ]
      },
      {
       "output_type": "stream",
       "stream": "stdout",
       "text": [
        "\n",
        "CaCl2 1.88739182214e-07\n",
        "itersgamma 0, iterspsi 81\n",
        "itersgamma 0, iterspsi 84\n",
        "CaCl2 3.03919538231e-07\n",
        "itersgamma 0, iterspsi 81"
       ]
      },
      {
       "output_type": "stream",
       "stream": "stdout",
       "text": [
        "\n",
        "itersgamma 0, iterspsi 84\n",
        "CaCl2 4.89390091848e-07\n",
        "itersgamma 0, iterspsi 4287"
       ]
      },
      {
       "output_type": "stream",
       "stream": "stdout",
       "text": [
        "\n",
        "itersgamma 0, iterspsi 4484"
       ]
      },
      {
       "output_type": "stream",
       "stream": "stdout",
       "text": [
        "\n",
        "CaCl2 7.88046281567e-07\n",
        "itersgamma 0, iterspsi 108\n",
        "itersgamma 0, iterspsi 111\n",
        "CaCl2 1.26896100317e-06\n",
        "itersgamma 0, iterspsi 94"
       ]
      },
      {
       "output_type": "stream",
       "stream": "stdout",
       "text": [
        "\n",
        "itersgamma 0, iterspsi 97\n",
        "CaCl2 2.04335971786e-06\n",
        "itersgamma 0, iterspsi 88\n",
        "itersgamma 0, iterspsi 5603"
       ]
      },
      {
       "output_type": "stream",
       "stream": "stdout",
       "text": [
        "\n",
        "CaCl2 3.29034456231e-06\n",
        "itersgamma 0, iterspsi 5961"
       ]
      },
      {
       "output_type": "stream",
       "stream": "stdout",
       "text": [
        "\n",
        "itersgamma 0, iterspsi 112\n",
        "CaCl2 5.29831690628e-06\n",
        "itersgamma 0, iterspsi 5730"
       ]
      },
      {
       "output_type": "stream",
       "stream": "stdout",
       "text": [
        "\n",
        "itersgamma 0, iterspsi 6265"
       ]
      },
      {
       "output_type": "stream",
       "stream": "stdout",
       "text": [
        "\n",
        "CaCl2 8.53167852417e-06\n",
        "itersgamma 0, iterspsi 6173"
       ]
      },
      {
       "output_type": "stream",
       "stream": "stdout",
       "text": [
        "\n",
        "itersgamma 0, iterspsi 6244"
       ]
      },
      {
       "output_type": "stream",
       "stream": "stdout",
       "text": [
        "\n",
        "CaCl2 1.37382379588e-05\n",
        "itersgamma 0, iterspsi 6615"
       ]
      },
      {
       "output_type": "stream",
       "stream": "stdout",
       "text": [
        "\n",
        "itersgamma 0, iterspsi 6605"
       ]
      },
      {
       "output_type": "stream",
       "stream": "stdout",
       "text": [
        "\n",
        "CaCl2 2.21221629107e-05\n",
        "itersgamma 0, iterspsi 7054"
       ]
      },
      {
       "output_type": "stream",
       "stream": "stdout",
       "text": [
        "\n",
        "itersgamma 0, iterspsi 6924"
       ]
      },
      {
       "output_type": "stream",
       "stream": "stdout",
       "text": [
        "\n",
        "CaCl2 3.56224789026e-05\n",
        "itersgamma 0, iterspsi 7489"
       ]
      },
      {
       "output_type": "stream",
       "stream": "stdout",
       "text": [
        "\n",
        "itersgamma 0, iterspsi 7192"
       ]
      },
      {
       "output_type": "stream",
       "stream": "stdout",
       "text": [
        "\n",
        "CaCl2 5.73615251045e-05\n",
        "itersgamma 0, iterspsi 7918"
       ]
      },
      {
       "output_type": "stream",
       "stream": "stdout",
       "text": [
        "\n",
        "itersgamma 0, iterspsi 7409"
       ]
      },
      {
       "output_type": "stream",
       "stream": "stdout",
       "text": [
        "\n",
        "CaCl2 9.23670857187e-05\n",
        "itersgamma 0, iterspsi 8335"
       ]
      },
      {
       "output_type": "stream",
       "stream": "stdout",
       "text": [
        "\n",
        "itersgamma 0, iterspsi 7589"
       ]
      },
      {
       "output_type": "stream",
       "stream": "stdout",
       "text": [
        "\n",
        "CaCl2 0.000148735210729\n",
        "itersgamma 0, iterspsi 8735"
       ]
      },
      {
       "output_type": "stream",
       "stream": "stdout",
       "text": [
        "\n",
        "itersgamma 0, iterspsi 7754"
       ]
      },
      {
       "output_type": "stream",
       "stream": "stdout",
       "text": [
        "\n",
        "CaCl2 0.000239502661999\n",
        "itersgamma 0, iterspsi 9109"
       ]
      },
      {
       "output_type": "stream",
       "stream": "stdout",
       "text": [
        "\n",
        "itersgamma 0, iterspsi 7919"
       ]
      },
      {
       "output_type": "stream",
       "stream": "stdout",
       "text": [
        "\n",
        "CaCl2 0.000385662042116\n",
        "itersgamma 0, iterspsi 9443"
       ]
      },
      {
       "output_type": "stream",
       "stream": "stdout",
       "text": [
        "\n",
        "itersgamma 0, iterspsi 8073"
       ]
      },
      {
       "output_type": "stream",
       "stream": "stdout",
       "text": [
        "\n",
        "CaCl2 0.000621016941892\n",
        "itersgamma 0, iterspsi 9722"
       ]
      },
      {
       "output_type": "stream",
       "stream": "stdout",
       "text": [
        "\n",
        "itersgamma 0, iterspsi 8186"
       ]
      },
      {
       "output_type": "stream",
       "stream": "stdout",
       "text": [
        "\n",
        "CaCl2 0.001\n",
        "itersgamma 0, iterspsi 9932"
       ]
      },
      {
       "output_type": "stream",
       "stream": "stdout",
       "text": [
        "\n",
        "itersgamma 0, iterspsi 8224"
       ]
      },
      {
       "output_type": "stream",
       "stream": "stdout",
       "text": [
        "\n"
       ]
      }
     ],
     "prompt_number": 66
    },
    {
     "cell_type": "code",
     "collapsed": false,
     "input": [
      "plt.subplot(1,2,1)\n",
      "plt.plot( cacl2s, default.chemPotentials[:,idxCa],'b-' ,label=\"Default, Ca\")\n",
      "plt.plot( cacl2s, default.chemPotentials[:,idxMg],'r-' ,label=\"Default, Mg\")\n",
      "\n",
      "plt.plot( cacl2s, strain.chemPotentials[:,idxCa],'b--' ,label=\"Strain, Ca\")\n",
      "plt.plot( cacl2s, strain.chemPotentials[:,idxMg],'r--' ,label=\"Strain, Mg\")\n",
      "plt.xscale('log')\n",
      "plt.xlabel('Ca [M]')\n",
      "plt.ylabel('$\\mu$ [kT]')\n",
      "\n",
      "plt.subplot(1,2,2)\n",
      "plt.plot( cacl2s, default.rhoFilter[:,idxCa],'b-' ,label=\"Default, Ca\")\n",
      "plt.plot( cacl2s, default.rhoFilter[:,idxMg],'r-' ,label=\"Default, Mg\")\n",
      "\n",
      "plt.plot( cacl2s, strain.rhoFilter[:,idxCa],'b--' ,label=\"Strain, Ca\")\n",
      "plt.plot( cacl2s, strain.rhoFilter[:,idxMg],'r--' ,label=\"Strain, Mg\")\n",
      "plt.xscale('log')\n",
      "plt.xlabel('Ca [M]')\n",
      "plt.ylabel('p [N/nm3]')\n",
      "plt.gcf().savefig(\"msa_strain.png\")"
     ],
     "language": "python",
     "metadata": {},
     "outputs": [
      {
       "metadata": {},
       "output_type": "pyout",
       "prompt_number": 67,
       "text": [
        "<matplotlib.text.Text at 0x7fe12c6cf3d0>"
       ]
      },
      {
       "metadata": {},
       "output_type": "display_data",
       "png": "[encoded data removed]",
       "text": [
        "<matplotlib.figure.Figure at 0x7fe12c6a7c50>"
       ]
      }
     ],
     "prompt_number": 67
    },
    {
     "cell_type": "code",
     "collapsed": false,
     "input": [],
     "language": "python",
     "metadata": {},
     "outputs": []
    }
   ],
   "metadata": {}
  }
 ]
}