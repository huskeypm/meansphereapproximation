{
 "metadata": {
  "name": "",
  "signature": "sha256:ce9d6769ee05bcd59faf0f2399424aa9f8c5f07b941fdbe99ebc4b5424f3e042"
 },
 "nbformat": 3,
 "nbformat_minor": 0,
 "worksheets": [
  {
   "cells": [
    {
     "cell_type": "markdown",
     "metadata": {},
     "source": [
      "# Iterate over two var "
     ]
    },
    {
     "cell_type": "code",
     "collapsed": false,
     "input": [
      "%load_ext autoreload\n",
      "%autoreload 2"
     ],
     "language": "python",
     "metadata": {},
     "outputs": [
      {
       "output_type": "stream",
       "stream": "stdout",
       "text": [
        "The autoreload extension is already loaded. To reload it, use:\n",
        "  %reload_ext autoreload\n"
       ]
      }
     ],
     "prompt_number": 44
    },
    {
     "cell_type": "markdown",
     "metadata": {},
     "source": [
      "## Create list of names/jobs"
     ]
    },
    {
     "cell_type": "code",
     "collapsed": false,
     "input": [
      "import runner "
     ],
     "language": "python",
     "metadata": {},
     "outputs": [],
     "prompt_number": 45
    },
    {
     "cell_type": "markdown",
     "metadata": {},
     "source": [
      "### Decide on granualirity of runs "
     ]
    },
    {
     "cell_type": "code",
     "collapsed": false,
     "input": [
      "volumes = np.linspace(0.04,0.4,18)\n",
      "dielectrics = np.linspace(10.,50.,8)\n",
      "\n",
      "# test\n",
      "#volumes = np.linspace(0.3,0.4,3)\n",
      "#dielectrics = np.linspace(40.,50.,2)\n"
     ],
     "language": "python",
     "metadata": {},
     "outputs": [],
     "prompt_number": 46
    },
    {
     "cell_type": "markdown",
     "metadata": {},
     "source": [
      "### Generate lines (cut and paste these into terminal)\n",
      "\n",
      "(remember that kafka has 32 cores, holly 64 etc) so you might need to run in batches"
     ]
    },
    {
     "cell_type": "code",
     "collapsed": false,
     "input": [
      "volumes = np.linspace(0.04,0.4,5)\n",
      "dielectrics = np.linspace(10.,50.,6)\n",
      "volumes = np.linspace(0.3,0.4,3)\n",
      "dielectrics = np.linspace(40.,50.,2)\n",
      "\n",
      "for i,vol in enumerate(volumes):\n",
      "   for j,dielectric in enumerate(dielectrics):\n",
      "        print \"python runner.py %f %f &\"%(vol,dielectric)\n"
     ],
     "language": "python",
     "metadata": {},
     "outputs": [
      {
       "output_type": "stream",
       "stream": "stdout",
       "text": [
        "python runner.py 0.040000 10.000000 &\n",
        "python runner.py 0.040000 15.714286 &\n",
        "python runner.py 0.040000 21.428571 &\n",
        "python runner.py 0.040000 27.142857 &\n",
        "python runner.py 0.040000 32.857143 &\n",
        "python runner.py 0.040000 38.571429 &\n",
        "python runner.py 0.040000 44.285714 &\n",
        "python runner.py 0.040000 50.000000 &\n",
        "python runner.py 0.061176 10.000000 &\n",
        "python runner.py 0.061176 15.714286 &\n",
        "python runner.py 0.061176 21.428571 &\n",
        "python runner.py 0.061176 27.142857 &\n",
        "python runner.py 0.061176 32.857143 &\n",
        "python runner.py 0.061176 38.571429 &\n",
        "python runner.py 0.061176 44.285714 &\n",
        "python runner.py 0.061176 50.000000 &\n",
        "python runner.py 0.082353 10.000000 &\n",
        "python runner.py 0.082353 15.714286 &\n",
        "python runner.py 0.082353 21.428571 &\n",
        "python runner.py 0.082353 27.142857 &\n",
        "python runner.py 0.082353 32.857143 &\n",
        "python runner.py 0.082353 38.571429 &\n",
        "python runner.py 0.082353 44.285714 &\n",
        "python runner.py 0.082353 50.000000 &\n",
        "python runner.py 0.103529 10.000000 &\n",
        "python runner.py 0.103529 15.714286 &\n",
        "python runner.py 0.103529 21.428571 &\n",
        "python runner.py 0.103529 27.142857 &\n",
        "python runner.py 0.103529 32.857143 &\n",
        "python runner.py 0.103529 38.571429 &\n",
        "python runner.py 0.103529 44.285714 &\n",
        "python runner.py 0.103529 50.000000 &\n",
        "python runner.py 0.124706 10.000000 &\n",
        "python runner.py 0.124706 15.714286 &\n",
        "python runner.py 0.124706 21.428571 &\n",
        "python runner.py 0.124706 27.142857 &\n",
        "python runner.py 0.124706 32.857143 &\n",
        "python runner.py 0.124706 38.571429 &\n",
        "python runner.py 0.124706 44.285714 &\n",
        "python runner.py 0.124706 50.000000 &\n",
        "python runner.py 0.145882 10.000000 &\n",
        "python runner.py 0.145882 15.714286 &\n",
        "python runner.py 0.145882 21.428571 &\n",
        "python runner.py 0.145882 27.142857 &\n",
        "python runner.py 0.145882 32.857143 &\n",
        "python runner.py 0.145882 38.571429 &\n",
        "python runner.py 0.145882 44.285714 &\n",
        "python runner.py 0.145882 50.000000 &\n",
        "python runner.py 0.167059 10.000000 &\n",
        "python runner.py 0.167059 15.714286 &\n",
        "python runner.py 0.167059 21.428571 &\n",
        "python runner.py 0.167059 27.142857 &\n",
        "python runner.py 0.167059 32.857143 &\n",
        "python runner.py 0.167059 38.571429 &\n",
        "python runner.py 0.167059 44.285714 &\n",
        "python runner.py 0.167059 50.000000 &\n",
        "python runner.py 0.188235 10.000000 &\n",
        "python runner.py 0.188235 15.714286 &\n",
        "python runner.py 0.188235 21.428571 &\n",
        "python runner.py 0.188235 27.142857 &\n",
        "python runner.py 0.188235 32.857143 &\n",
        "python runner.py 0.188235 38.571429 &\n",
        "python runner.py 0.188235 44.285714 &\n",
        "python runner.py 0.188235 50.000000 &\n",
        "python runner.py 0.209412 10.000000 &\n",
        "python runner.py 0.209412 15.714286 &\n",
        "python runner.py 0.209412 21.428571 &\n",
        "python runner.py 0.209412 27.142857 &\n",
        "python runner.py 0.209412 32.857143 &\n",
        "python runner.py 0.209412 38.571429 &\n",
        "python runner.py 0.209412 44.285714 &\n",
        "python runner.py 0.209412 50.000000 &\n",
        "python runner.py 0.230588 10.000000 &\n",
        "python runner.py 0.230588 15.714286 &\n",
        "python runner.py 0.230588 21.428571 &\n",
        "python runner.py 0.230588 27.142857 &\n",
        "python runner.py 0.230588 32.857143 &\n",
        "python runner.py 0.230588 38.571429 &\n",
        "python runner.py 0.230588 44.285714 &\n",
        "python runner.py 0.230588 50.000000 &\n",
        "python runner.py 0.251765 10.000000 &\n",
        "python runner.py 0.251765 15.714286 &\n",
        "python runner.py 0.251765 21.428571 &\n",
        "python runner.py 0.251765 27.142857 &\n",
        "python runner.py 0.251765 32.857143 &\n",
        "python runner.py 0.251765 38.571429 &\n",
        "python runner.py 0.251765 44.285714 &\n",
        "python runner.py 0.251765 50.000000 &\n",
        "python runner.py 0.272941 10.000000 &\n",
        "python runner.py 0.272941 15.714286 &\n",
        "python runner.py 0.272941 21.428571 &\n",
        "python runner.py 0.272941 27.142857 &\n",
        "python runner.py 0.272941 32.857143 &\n",
        "python runner.py 0.272941 38.571429 &\n",
        "python runner.py 0.272941 44.285714 &\n",
        "python runner.py 0.272941 50.000000 &\n",
        "python runner.py 0.294118 10.000000 &\n",
        "python runner.py 0.294118 15.714286 &\n",
        "python runner.py 0.294118 21.428571 &\n",
        "python runner.py 0.294118 27.142857 &\n",
        "python runner.py 0.294118 32.857143 &\n",
        "python runner.py 0.294118 38.571429 &\n",
        "python runner.py 0.294118 44.285714 &\n",
        "python runner.py 0.294118 50.000000 &\n",
        "python runner.py 0.315294 10.000000 &\n",
        "python runner.py 0.315294 15.714286 &\n",
        "python runner.py 0.315294 21.428571 &\n",
        "python runner.py 0.315294 27.142857 &\n",
        "python runner.py 0.315294 32.857143 &\n",
        "python runner.py 0.315294 38.571429 &\n",
        "python runner.py 0.315294 44.285714 &\n",
        "python runner.py 0.315294 50.000000 &\n",
        "python runner.py 0.336471 10.000000 &\n",
        "python runner.py 0.336471 15.714286 &\n",
        "python runner.py 0.336471 21.428571 &\n",
        "python runner.py 0.336471 27.142857 &\n",
        "python runner.py 0.336471 32.857143 &\n",
        "python runner.py 0.336471 38.571429 &\n",
        "python runner.py 0.336471 44.285714 &\n",
        "python runner.py 0.336471 50.000000 &\n",
        "python runner.py 0.357647 10.000000 &\n",
        "python runner.py 0.357647 15.714286 &\n",
        "python runner.py 0.357647 21.428571 &\n",
        "python runner.py 0.357647 27.142857 &\n",
        "python runner.py 0.357647 32.857143 &\n",
        "python runner.py 0.357647 38.571429 &\n",
        "python runner.py 0.357647 44.285714 &\n",
        "python runner.py 0.357647 50.000000 &\n",
        "python runner.py 0.378824 10.000000 &\n",
        "python runner.py 0.378824 15.714286 &\n",
        "python runner.py 0.378824 21.428571 &\n",
        "python runner.py 0.378824 27.142857 &\n",
        "python runner.py 0.378824 32.857143 &\n",
        "python runner.py 0.378824 38.571429 &\n",
        "python runner.py 0.378824 44.285714 &\n",
        "python runner.py 0.378824 50.000000 &\n",
        "python runner.py 0.400000 10.000000 &\n",
        "python runner.py 0.400000 15.714286 &\n",
        "python runner.py 0.400000 21.428571 &\n",
        "python runner.py 0.400000 27.142857 &\n",
        "python runner.py 0.400000 32.857143 &\n",
        "python runner.py 0.400000 38.571429 &\n",
        "python runner.py 0.400000 44.285714 &\n",
        "python runner.py 0.400000 50.000000 &\n"
       ]
      }
     ],
     "prompt_number": 23
    },
    {
     "cell_type": "markdown",
     "metadata": {},
     "source": [
      "### After jobs have finished, load them via this section"
     ]
    },
    {
     "cell_type": "code",
     "collapsed": false,
     "input": [
      "m = np.shape(volumes)[0]\n",
      "n = np.shape(dielectrics)[0]\n",
      "mVolDielect = np.zeros([m,n])\n",
      "import cPickle as pickle\n",
      "\n",
      "for i,vol in enumerate(volumes):\n",
      "   for j,dielectric in enumerate(dielectrics):\n",
      "     daFile = runner.daIter(vol,dielectric,noRun=True)\n",
      "\n",
      "     pkl_file = open(daFile, 'rb')\n",
      "     results = pickle.load(pkl_file)\n",
      "     output.close()\n",
      "        \n",
      "     mus = results[\"muFilter\"]   \n",
      "   \n",
      "     mVolDielect[i,j] = mus[ runner.msa.idxCa ]   \n",
      "        \n",
      "     print daFile, mVolDielect[i,j]   "
     ],
     "language": "python",
     "metadata": {},
     "outputs": [
      {
       "output_type": "stream",
       "stream": "stdout",
       "text": [
        "data_0.040_10.0.pkl nan\n",
        "data_0.040_15.7.pkl nan\n",
        "data_0.040_21.4.pkl nan\n",
        "data_0.040_27.1.pkl nan\n",
        "data_0.040_32.9.pkl nan\n",
        "data_0.040_38.6.pkl nan\n",
        "data_0.040_44.3.pkl nan\n",
        "data_0.040_50.0.pkl nan\n",
        "data_0.061_10.0.pkl nan\n",
        "data_0.061_15.7.pkl nan\n",
        "data_0.061_21.4.pkl nan\n",
        "data_0.061_27.1.pkl nan\n",
        "data_0.061_32.9.pkl nan\n",
        "data_0.061_38.6.pkl nan\n",
        "data_0.061_44.3.pkl nan\n",
        "data_0.061_50.0.pkl nan\n",
        "data_0.082_10.0.pkl nan\n",
        "data_0.082_15.7.pkl nan\n",
        "data_0.082_21.4.pkl nan\n",
        "data_0.082_27.1.pkl nan\n",
        "data_0.082_32.9.pkl nan\n",
        "data_0.082_38.6.pkl nan\n",
        "data_0.082_44.3.pkl nan\n",
        "data_0.082_50.0.pkl nan\n",
        "data_0.104_10.0.pkl 2053.90435346\n",
        "data_0.104_15.7.pkl 2075.80120028\n",
        "data_0.104_21.4.pkl 2079.29437459\n",
        "data_0.104_27.1.pkl 2084.05458425\n",
        "data_0.104_32.9.pkl 2088.22480175\n",
        "data_0.104_38.6.pkl 2091.9999723\n",
        "data_0.104_44.3.pkl 2094.52104353\n",
        "data_0.104_50.0.pkl 2096.56141922\n",
        "data_0.125_10.0.pkl 55.5149270502\n",
        "data_0.125_15.7.pkl 84.0757280611\n",
        "data_0.125_21.4.pkl 97.4040519494\n",
        "data_0.125_27.1.pkl 105.120437775\n",
        "data_0.125_32.9.pkl 110.152856313\n",
        "data_0.125_38.6.pkl 113.69418614\n",
        "data_0.125_44.3.pkl 116.321622872\n",
        "data_0.125_50.0.pkl 118.348501412\n",
        "data_0.146_10.0.pkl -37.6375342661\n",
        "data_0.146_15.7.pkl -10.4849864126\n",
        "data_0.146_21.4.pkl 2.18586107579\n",
        "data_0.146_27.1.pkl 9.52171967599\n",
        "data_0.146_32.9.pkl 14.3059700622\n",
        "data_0.146_38.6.pkl"
       ]
      },
      {
       "output_type": "stream",
       "stream": "stdout",
       "text": [
        " 17.6726620096\n",
        "data_0.146_44.3.pkl 20.1705287229\n",
        "data_0.146_50.0.pkl 22.0974540021\n",
        "data_0.167_10.0.pkl -53.0817788119\n",
        "data_0.167_15.7.pkl -27.0999718984\n",
        "data_0.167_21.4.pkl -14.9751100338\n",
        "data_0.167_27.1.pkl -7.95534645811\n",
        "data_0.167_32.9.pkl -3.37721569516\n",
        "data_0.167_38.6.pkl -0.155538916151\n",
        "data_0.167_44.3.pkl 2.23432509104\n",
        "data_0.167_50.0.pkl 4.0782621655\n",
        "data_0.188_10.0.pkl -57.1423963557\n",
        "data_0.188_15.7.pkl -32.1559062917\n",
        "data_0.188_21.4.pkl -20.4954698287\n",
        "data_0.188_27.1.pkl -13.744293797\n",
        "data_0.188_32.9.pkl -9.34071530078\n",
        "data_0.188_38.6.pkl -6.24110496228\n",
        "data_0.188_44.3.pkl -3.94053140158\n",
        "data_0.188_50.0.pkl -2.16495680884\n",
        "data_0.209_10.0.pkl -57.9725142259\n",
        "data_0.209_15.7.pkl -33.9600452459\n",
        "data_0.209_21.4.pkl -22.7012634155\n",
        "data_0.209_27.1.pkl -16.1810476226\n",
        "data_0.209_32.9.pkl -11.9253846326\n",
        "data_0.209_38.6.pkl -8.92665033882\n",
        "data_0.209_44.3.pkl -6.69769011767\n",
        "data_0.209_50.0.pkl -4.97440867579\n",
        "data_0.231_10.0.pkl -58.2195015518\n",
        "data_0.231_15.7.pkl -34.5401536662\n",
        "data_0.231_21.4.pkl -23.6334436463\n",
        "data_0.231_27.1.pkl -17.3132585206\n",
        "data_0.231_32.9.pkl -13.1824264172\n",
        "data_0.231_38.6.pkl -10.2654010206\n",
        "data_0.231_44.3.pkl -8.09141764165\n",
        "data_0.231_50.0.pkl -6.40585095293\n",
        "data_0.252_10.0.pkl -58.4080608997\n",
        "data_0.252_15.7.pkl -34.6117604856\n",
        "data_0.252_21.4.pkl -23.9861664677\n",
        "data_0.252_27.1.pkl -17.8403487704\n",
        "data_0.252_32.9.pkl -13.8149317121\n",
        "data_0.252_38.6.pkl -10.9637874504\n",
        "data_0.252_44.3.pkl -2.60233536384\n",
        "data_0.252_50.0.pkl -7.17348804355\n",
        "data_0.273_10.0.pkl"
       ]
      },
      {
       "output_type": "stream",
       "stream": "stdout",
       "text": [
        " -58.5627287627\n",
        "data_0.273_15.7.pkl -34.621659938\n",
        "data_0.273_21.4.pkl -24.0466078551\n",
        "data_0.273_27.1.pkl -18.0534815873\n",
        "data_0.273_32.9.pkl -14.1174108727\n",
        "data_0.273_38.6.pkl -3.30869326984\n",
        "data_0.273_44.3.pkl -9.22008308368\n",
        "data_0.273_50.0.pkl -7.58245317287\n",
        "data_0.294_10.0.pkl -58.6929362677\n",
        "data_0.294_15.7.pkl -34.6793682378\n",
        "data_0.294_21.4.pkl -23.9520472041\n",
        "data_0.294_27.1.pkl -18.0911491375\n",
        "data_0.294_32.9.pkl -3.5196224008\n",
        "data_0.294_38.6.pkl -11.4768527254\n",
        "data_0.294_44.3.pkl -9.40308670746\n",
        "data_0.294_50.0.pkl -7.78224859505\n",
        "data_0.315_10.0.pkl -58.8043437776\n",
        "data_0.315_15.7.pkl -34.7554845503\n",
        "data_0.315_21.4.pkl -23.77930832\n",
        "data_0.315_27.1.pkl -18.0257015921\n",
        "data_0.315_32.9.pkl -14.2305691796\n",
        "data_0.315_38.6.pkl -11.5120937422\n",
        "data_0.315_44.3.pkl -9.45945834277\n",
        "data_0.315_50.0.pkl -7.85358490206\n",
        "data_0.336_10.0.pkl -58.9008679803\n",
        "data_0.336_15.7.pkl -34.8349753196\n",
        "data_0.336_21.4.pkl -23.5771719271\n",
        "data_0.336_27.1.pkl -17.8977421285\n",
        "data_0.336_32.9.pkl -14.1579618972\n",
        "data_0.336_38.6.pkl -11.4692203633\n",
        "data_0.336_44.3.pkl -3.49305715859\n",
        "data_0.336_50.0.pkl -7.84362008521\n",
        "data_0.358_10.0.pkl -58.9853456847\n",
        "data_0.358_15.7.pkl -34.9120508476\n",
        "data_0.358_21.4.pkl -23.3749034268\n",
        "data_0.358_27.1.pkl -17.7313491022\n",
        "data_0.358_32.9.pkl -14.0385904283\n",
        "data_0.358_38.6.pkl -11.3748773898\n",
        "data_0.358_44.3.pkl -9.35698359928\n",
        "data_0.358_50.0.pkl -7.78178837762\n",
        "data_0.379_10.0.pkl -59.0599311897\n",
        "data_0.379_15.7.pkl -34.9845815434\n",
        "data_0.379_21.4.pkl -23.1864512012\n",
        "data_0.379_27.1.pkl -17.5413356534\n",
        "data_0.379_32.9.pkl -13.888268389\n",
        "data_0.379_38.6.pkl"
       ]
      },
      {
       "output_type": "stream",
       "stream": "stdout",
       "text": [
        " -11.2460539819\n",
        "data_0.379_44.3.pkl -3.26636245086\n",
        "data_0.379_50.0.pkl -7.68755497081\n",
        "data_0.400_10.0.pkl -59.1262734463\n",
        "data_0.400_15.7.pkl -35.051925487\n",
        "data_0.400_21.4.pkl -23.0163806717\n",
        "data_0.400_27.1.pkl -17.3370772944\n",
        "data_0.400_32.9.pkl -13.7172837194\n",
        "data_0.400_38.6.pkl -11.094102035\n",
        "data_0.400_44.3.pkl -9.10969078052\n",
        "data_0.400_50.0.pkl -7.57442082115\n"
       ]
      }
     ],
     "prompt_number": 24
    },
    {
     "cell_type": "markdown",
     "metadata": {},
     "source": [
      "### Plot the results"
     ]
    },
    {
     "cell_type": "code",
     "collapsed": false,
     "input": [
      "#plt.pcolormesh(volumes,dielectrics,mVolDielect.T)\n",
      "\n",
      "import numpy.ma as ma\n",
      "Zm = ma.masked_invalid(mVolDielect)\n",
      "plt.pcolormesh(volumes,dielectrics,Zm.T,shading='gouraud')\n",
      "plt.ylabel(\"Dielectric\")\n",
      "plt.xlabel(\"Volumes\")\n",
      "\n",
      "\n",
      "plt.colorbar()\n",
      "plt.clim([np.min(Zm),0])\n",
      "plt.gcf().savefig(\"muCa_dielec_vol.png\",dpi=300)"
     ],
     "language": "python",
     "metadata": {},
     "outputs": [
      {
       "metadata": {},
       "output_type": "display_data",
       "png": "[encoded data removed]",
       "text": [
        "<matplotlib.figure.Figure at 0x7fae33567090>"
       ]
      }
     ],
     "prompt_number": 43
    },
    {
     "cell_type": "code",
     "collapsed": false,
     "input": [
      "plt.plot(volumes,mVolDielect[:,0])\n",
      "plt.xlabel(\"vols\")\n",
      "plt.ylabel(\"mu\")"
     ],
     "language": "python",
     "metadata": {},
     "outputs": [
      {
       "metadata": {},
       "output_type": "pyout",
       "prompt_number": 30,
       "text": [
        "<matplotlib.text.Text at 0x7fae33db81d0>"
       ]
      },
      {
       "metadata": {},
       "output_type": "display_data",
       "png": "[encoded data removed]",
       "text": [
        "<matplotlib.figure.Figure at 0x7fae33d72e90>"
       ]
      }
     ],
     "prompt_number": 30
    },
    {
     "cell_type": "code",
     "collapsed": false,
     "input": [
      "plt.plot(dielectrics,mVolDielect[10,:])\n",
      "plt.xlabel(\"dielectrics\")\n",
      "plt.ylabel(\"mu\")"
     ],
     "language": "python",
     "metadata": {},
     "outputs": [
      {
       "metadata": {},
       "output_type": "pyout",
       "prompt_number": 33,
       "text": [
        "<matplotlib.text.Text at 0x7fae33b0d990>"
       ]
      },
      {
       "metadata": {},
       "output_type": "display_data",
       "png": "[encoded data removed]",
       "text": [
        "<matplotlib.figure.Figure at 0x7fae33bd2690>"
       ]
      }
     ],
     "prompt_number": 33
    },
    {
     "cell_type": "code",
     "collapsed": false,
     "input": [],
     "language": "python",
     "metadata": {},
     "outputs": []
    }
   ],
   "metadata": {}
  }
 ]
}